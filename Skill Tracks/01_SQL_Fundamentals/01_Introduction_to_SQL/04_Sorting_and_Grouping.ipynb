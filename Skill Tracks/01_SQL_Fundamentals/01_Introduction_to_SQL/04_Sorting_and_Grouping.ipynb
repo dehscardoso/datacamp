{
 "cells": [
  {
   "cell_type": "markdown",
   "id": "781f9df6",
   "metadata": {},
   "source": [
    "<img src = \"https://images2.imgbox.com/60/09/VFwl5LOq_o.jpg\" width=\"400\">"
   ]
  },
  {
   "cell_type": "markdown",
   "id": "b68f55a9",
   "metadata": {},
   "source": [
    "# 4. Sorting and Grouping\n",
    "---"
   ]
  },
  {
   "cell_type": "markdown",
   "id": "2de6cbeb",
   "metadata": {},
   "source": [
    "This chapter provides a brief introduction to sorting and grouping your results."
   ]
  },
  {
   "cell_type": "code",
   "execution_count": 1,
   "id": "26cadf07",
   "metadata": {},
   "outputs": [],
   "source": [
    "# %pip install ipython-sql"
   ]
  },
  {
   "cell_type": "code",
   "execution_count": 2,
   "id": "49beaf7b",
   "metadata": {},
   "outputs": [],
   "source": [
    "%load_ext sql"
   ]
  },
  {
   "cell_type": "code",
   "execution_count": 3,
   "id": "8f1f4354",
   "metadata": {},
   "outputs": [
    {
     "data": {
      "text/plain": [
       "'Connected: @data/database.db'"
      ]
     },
     "execution_count": 3,
     "metadata": {},
     "output_type": "execute_result"
    }
   ],
   "source": [
    "%sql sqlite:///data/database.db"
   ]
  },
  {
   "cell_type": "markdown",
   "id": "a04e8541",
   "metadata": {},
   "source": [
    "## ORDER BY\n",
    "---\n",
    "\n",
    "Congratulations on making it this far! You now know how to select and filter your results.\n",
    "\n",
    "In this chapter you'll learn how to sort and group your results to gain further insight. Let's go!\n",
    "\n",
    "In SQL, the `ORDER BY` keyword is used to sort results in ascending or descending order according to the values of one or more columns.\n",
    "\n",
    "By default `ORDER BY` will sort in ascending order. If you want to sort the results in descending order, you can use the `DESC` keyword. For example,\n",
    "\n",
    "`SELECT title\n",
    " FROM films\n",
    " ORDER BY release_year DESC`\n",
    "\n",
    "gives you the titles of films sorted by release year, from newest to oldest.\n",
    "\n",
    "\n",
    "## Sorting single columns\n",
    "---\n",
    "\n",
    "Now that you understand how `ORDER BY` works, give these exercises a go!"
   ]
  },
  {
   "cell_type": "markdown",
   "id": "529007fa",
   "metadata": {},
   "source": [
    "### Instructions\n",
    "Get the names of people from the `people` table, sorted alphabetically."
   ]
  },
  {
   "cell_type": "code",
   "execution_count": 4,
   "id": "aa070f16",
   "metadata": {},
   "outputs": [
    {
     "name": "stdout",
     "output_type": "stream",
     "text": [
      " * sqlite:///data/database.db\n",
      "Done.\n"
     ]
    },
    {
     "data": {
      "text/html": [
       "<table>\n",
       "    <thead>\n",
       "        <tr>\n",
       "            <th>name</th>\n",
       "        </tr>\n",
       "    </thead>\n",
       "    <tbody>\n",
       "        <tr>\n",
       "            <td>50 Cent</td>\n",
       "        </tr>\n",
       "        <tr>\n",
       "            <td>A. Michael Baldwin</td>\n",
       "        </tr>\n",
       "        <tr>\n",
       "            <td>A. Raven Cruz</td>\n",
       "        </tr>\n",
       "        <tr>\n",
       "            <td>A.J. Buckley</td>\n",
       "        </tr>\n",
       "        <tr>\n",
       "            <td>A.J. DeLucia</td>\n",
       "        </tr>\n",
       "        <tr>\n",
       "            <td>A.J. Langer</td>\n",
       "        </tr>\n",
       "        <tr>\n",
       "            <td>AJ Michalka</td>\n",
       "        </tr>\n",
       "        <tr>\n",
       "            <td>Aaliyah</td>\n",
       "        </tr>\n",
       "        <tr>\n",
       "            <td>Aaron Ashmore</td>\n",
       "        </tr>\n",
       "        <tr>\n",
       "            <td>Aaron Hann</td>\n",
       "        </tr>\n",
       "    </tbody>\n",
       "</table>"
      ],
      "text/plain": [
       "[('50 Cent',),\n",
       " ('A. Michael Baldwin',),\n",
       " ('A. Raven Cruz',),\n",
       " ('A.J. Buckley',),\n",
       " ('A.J. DeLucia',),\n",
       " ('A.J. Langer',),\n",
       " ('AJ Michalka',),\n",
       " ('Aaliyah',),\n",
       " ('Aaron Ashmore',),\n",
       " ('Aaron Hann',)]"
      ]
     },
     "execution_count": 4,
     "metadata": {},
     "output_type": "execute_result"
    }
   ],
   "source": [
    "%%sql\n",
    "\n",
    "SELECT name\n",
    "FROM people\n",
    "ORDER BY name\n",
    "LIMIT 10"
   ]
  },
  {
   "cell_type": "markdown",
   "id": "711e9d3e",
   "metadata": {},
   "source": [
    "Get the names of people, sorted by birth date."
   ]
  },
  {
   "cell_type": "code",
   "execution_count": 5,
   "id": "dacee150",
   "metadata": {},
   "outputs": [
    {
     "name": "stdout",
     "output_type": "stream",
     "text": [
      " * sqlite:///data/database.db\n",
      "Done.\n"
     ]
    },
    {
     "data": {
      "text/html": [
       "<table>\n",
       "    <thead>\n",
       "        <tr>\n",
       "            <th>name</th>\n",
       "        </tr>\n",
       "    </thead>\n",
       "    <tbody>\n",
       "        <tr>\n",
       "            <td>A. Raven Cruz</td>\n",
       "        </tr>\n",
       "        <tr>\n",
       "            <td>A.J. DeLucia</td>\n",
       "        </tr>\n",
       "        <tr>\n",
       "            <td>Aaron Hann</td>\n",
       "        </tr>\n",
       "        <tr>\n",
       "            <td>Aaron Hughes</td>\n",
       "        </tr>\n",
       "        <tr>\n",
       "            <td>Aaron Schneider</td>\n",
       "        </tr>\n",
       "        <tr>\n",
       "            <td>Aaron Staton</td>\n",
       "        </tr>\n",
       "        <tr>\n",
       "            <td>Aasheekaa Bathija</td>\n",
       "        </tr>\n",
       "        <tr>\n",
       "            <td>Abby Mukiibi Nkaaga</td>\n",
       "        </tr>\n",
       "        <tr>\n",
       "            <td>Abigail Evans</td>\n",
       "        </tr>\n",
       "        <tr>\n",
       "            <td>Adam Boyer</td>\n",
       "        </tr>\n",
       "    </tbody>\n",
       "</table>"
      ],
      "text/plain": [
       "[('A. Raven Cruz',),\n",
       " ('A.J. DeLucia',),\n",
       " ('Aaron Hann',),\n",
       " ('Aaron Hughes',),\n",
       " ('Aaron Schneider',),\n",
       " ('Aaron Staton',),\n",
       " ('Aasheekaa Bathija',),\n",
       " ('Abby Mukiibi Nkaaga',),\n",
       " ('Abigail Evans',),\n",
       " ('Adam Boyer',)]"
      ]
     },
     "execution_count": 5,
     "metadata": {},
     "output_type": "execute_result"
    }
   ],
   "source": [
    "%%sql\n",
    "\n",
    "SELECT name\n",
    "FROM   people\n",
    "ORDER  BY birthdate\n",
    "LIMIT  10 "
   ]
  },
  {
   "cell_type": "markdown",
   "id": "cbc58971",
   "metadata": {},
   "source": [
    "Get the birth date and name for every person, in order of when they were born."
   ]
  },
  {
   "cell_type": "code",
   "execution_count": 6,
   "id": "1acb81d4",
   "metadata": {},
   "outputs": [
    {
     "name": "stdout",
     "output_type": "stream",
     "text": [
      " * sqlite:///data/database.db\n",
      "Done.\n"
     ]
    },
    {
     "data": {
      "text/html": [
       "<table>\n",
       "    <thead>\n",
       "        <tr>\n",
       "            <th>birthdate</th>\n",
       "            <th>name</th>\n",
       "        </tr>\n",
       "    </thead>\n",
       "    <tbody>\n",
       "        <tr>\n",
       "            <td>None</td>\n",
       "            <td>A. Raven Cruz</td>\n",
       "        </tr>\n",
       "        <tr>\n",
       "            <td>None</td>\n",
       "            <td>A.J. DeLucia</td>\n",
       "        </tr>\n",
       "        <tr>\n",
       "            <td>None</td>\n",
       "            <td>Aaron Hann</td>\n",
       "        </tr>\n",
       "        <tr>\n",
       "            <td>None</td>\n",
       "            <td>Aaron Hughes</td>\n",
       "        </tr>\n",
       "        <tr>\n",
       "            <td>None</td>\n",
       "            <td>Aaron Schneider</td>\n",
       "        </tr>\n",
       "        <tr>\n",
       "            <td>None</td>\n",
       "            <td>Aaron Staton</td>\n",
       "        </tr>\n",
       "        <tr>\n",
       "            <td>None</td>\n",
       "            <td>Aasheekaa Bathija</td>\n",
       "        </tr>\n",
       "        <tr>\n",
       "            <td>None</td>\n",
       "            <td>Abby Mukiibi Nkaaga</td>\n",
       "        </tr>\n",
       "        <tr>\n",
       "            <td>None</td>\n",
       "            <td>Abigail Evans</td>\n",
       "        </tr>\n",
       "        <tr>\n",
       "            <td>None</td>\n",
       "            <td>Adam Boyer</td>\n",
       "        </tr>\n",
       "    </tbody>\n",
       "</table>"
      ],
      "text/plain": [
       "[(None, 'A. Raven Cruz'),\n",
       " (None, 'A.J. DeLucia'),\n",
       " (None, 'Aaron Hann'),\n",
       " (None, 'Aaron Hughes'),\n",
       " (None, 'Aaron Schneider'),\n",
       " (None, 'Aaron Staton'),\n",
       " (None, 'Aasheekaa Bathija'),\n",
       " (None, 'Abby Mukiibi Nkaaga'),\n",
       " (None, 'Abigail Evans'),\n",
       " (None, 'Adam Boyer')]"
      ]
     },
     "execution_count": 6,
     "metadata": {},
     "output_type": "execute_result"
    }
   ],
   "source": [
    "%%sql\n",
    "\n",
    "SELECT birthdate,\n",
    "       name\n",
    "FROM   people\n",
    "ORDER  BY birthdate\n",
    "LIMIT  10 "
   ]
  },
  {
   "cell_type": "markdown",
   "id": "ffeb7eb5",
   "metadata": {},
   "source": [
    "## Sorting single columns (2)\n",
    "---\n",
    "\n",
    "Let's get some more practice with `ORDER BY`!"
   ]
  },
  {
   "cell_type": "markdown",
   "id": "84cee5ef",
   "metadata": {},
   "source": [
    "### Instructions\n",
    "Get the title of films released in 2000 or 2012, in the order they were released."
   ]
  },
  {
   "cell_type": "code",
   "execution_count": 7,
   "id": "7bcd840a",
   "metadata": {},
   "outputs": [
    {
     "name": "stdout",
     "output_type": "stream",
     "text": [
      " * sqlite:///data/database.db\n",
      "Done.\n"
     ]
    },
    {
     "data": {
      "text/html": [
       "<table>\n",
       "    <thead>\n",
       "        <tr>\n",
       "            <th>title</th>\n",
       "        </tr>\n",
       "    </thead>\n",
       "    <tbody>\n",
       "        <tr>\n",
       "            <td>102 Dalmatians</td>\n",
       "        </tr>\n",
       "        <tr>\n",
       "            <td>28 Days</td>\n",
       "        </tr>\n",
       "        <tr>\n",
       "            <td>3 Strikes</td>\n",
       "        </tr>\n",
       "        <tr>\n",
       "            <td>Aberdeen</td>\n",
       "        </tr>\n",
       "        <tr>\n",
       "            <td>All the Pretty Horses</td>\n",
       "        </tr>\n",
       "        <tr>\n",
       "            <td>Almost Famous</td>\n",
       "        </tr>\n",
       "        <tr>\n",
       "            <td>American Psycho</td>\n",
       "        </tr>\n",
       "        <tr>\n",
       "            <td>Amores Perros</td>\n",
       "        </tr>\n",
       "        <tr>\n",
       "            <td>An Everlasting Piece</td>\n",
       "        </tr>\n",
       "        <tr>\n",
       "            <td>Anatomy</td>\n",
       "        </tr>\n",
       "    </tbody>\n",
       "</table>"
      ],
      "text/plain": [
       "[('102 Dalmatians',),\n",
       " ('28 Days',),\n",
       " ('3 Strikes',),\n",
       " ('Aberdeen',),\n",
       " ('All the Pretty Horses',),\n",
       " ('Almost Famous',),\n",
       " ('American Psycho',),\n",
       " ('Amores Perros',),\n",
       " ('An Everlasting Piece',),\n",
       " ('Anatomy',)]"
      ]
     },
     "execution_count": 7,
     "metadata": {},
     "output_type": "execute_result"
    }
   ],
   "source": [
    "%%sql\n",
    "\n",
    "SELECT title\n",
    "FROM   films\n",
    "WHERE  release_year IN ( 2000, 2012 )\n",
    "ORDER  BY release_year\n",
    "LIMIT  10 "
   ]
  },
  {
   "cell_type": "markdown",
   "id": "d9d5d706",
   "metadata": {},
   "source": [
    "Get all details for all films except those released in 2015 and order them by duration."
   ]
  },
  {
   "cell_type": "code",
   "execution_count": 8,
   "id": "29fbe006",
   "metadata": {},
   "outputs": [
    {
     "name": "stdout",
     "output_type": "stream",
     "text": [
      " * sqlite:///data/database.db\n",
      "Done.\n"
     ]
    },
    {
     "data": {
      "text/html": [
       "<table>\n",
       "    <thead>\n",
       "        <tr>\n",
       "            <th>id</th>\n",
       "            <th>title</th>\n",
       "            <th>release_year</th>\n",
       "            <th>country</th>\n",
       "            <th>duration</th>\n",
       "            <th>language</th>\n",
       "            <th>certification</th>\n",
       "            <th>gross</th>\n",
       "            <th>budget</th>\n",
       "        </tr>\n",
       "    </thead>\n",
       "    <tbody>\n",
       "        <tr>\n",
       "            <td>1398</td>\n",
       "            <td>Hum To Mohabbat Karega</td>\n",
       "            <td>2000</td>\n",
       "            <td>India</td>\n",
       "            <td>None</td>\n",
       "            <td>Hindi</td>\n",
       "            <td>None</td>\n",
       "            <td>None</td>\n",
       "            <td>None</td>\n",
       "        </tr>\n",
       "        <tr>\n",
       "            <td>2326</td>\n",
       "            <td>Dil Jo Bhi Kahey...</td>\n",
       "            <td>2005</td>\n",
       "            <td>India</td>\n",
       "            <td>None</td>\n",
       "            <td>English</td>\n",
       "            <td>None</td>\n",
       "            <td>129319</td>\n",
       "            <td>70000000</td>\n",
       "        </tr>\n",
       "        <tr>\n",
       "            <td>2712</td>\n",
       "            <td>The Naked Ape</td>\n",
       "            <td>2006</td>\n",
       "            <td>USA</td>\n",
       "            <td>None</td>\n",
       "            <td>English</td>\n",
       "            <td>None</td>\n",
       "            <td>None</td>\n",
       "            <td>None</td>\n",
       "        </tr>\n",
       "        <tr>\n",
       "            <td>3208</td>\n",
       "            <td>Black Water Transit</td>\n",
       "            <td>2009</td>\n",
       "            <td>USA</td>\n",
       "            <td>None</td>\n",
       "            <td>English</td>\n",
       "            <td>None</td>\n",
       "            <td>None</td>\n",
       "            <td>23000000</td>\n",
       "        </tr>\n",
       "        <tr>\n",
       "            <td>3504</td>\n",
       "            <td>Harry Potter and the Deathly Hallows: Part I</td>\n",
       "            <td>2010</td>\n",
       "            <td>UK</td>\n",
       "            <td>None</td>\n",
       "            <td>English</td>\n",
       "            <td>None</td>\n",
       "            <td>None</td>\n",
       "            <td>None</td>\n",
       "        </tr>\n",
       "        <tr>\n",
       "            <td>3552</td>\n",
       "            <td>N-Secure</td>\n",
       "            <td>2010</td>\n",
       "            <td>USA</td>\n",
       "            <td>None</td>\n",
       "            <td>English</td>\n",
       "            <td>R</td>\n",
       "            <td>2592808</td>\n",
       "            <td>None</td>\n",
       "        </tr>\n",
       "        <tr>\n",
       "            <td>3728</td>\n",
       "            <td>Harry Potter and the Deathly Hallows: Part II</td>\n",
       "            <td>2011</td>\n",
       "            <td>UK</td>\n",
       "            <td>None</td>\n",
       "            <td>English</td>\n",
       "            <td>None</td>\n",
       "            <td>None</td>\n",
       "            <td>None</td>\n",
       "        </tr>\n",
       "        <tr>\n",
       "            <td>4018</td>\n",
       "            <td>Should&#x27;ve Been Romeo</td>\n",
       "            <td>2012</td>\n",
       "            <td>USA</td>\n",
       "            <td>None</td>\n",
       "            <td>English</td>\n",
       "            <td>None</td>\n",
       "            <td>None</td>\n",
       "            <td>5000000</td>\n",
       "        </tr>\n",
       "        <tr>\n",
       "            <td>4138</td>\n",
       "            <td>Barfi</td>\n",
       "            <td>2013</td>\n",
       "            <td>India</td>\n",
       "            <td>None</td>\n",
       "            <td>Kannada</td>\n",
       "            <td>None</td>\n",
       "            <td>None</td>\n",
       "            <td>None</td>\n",
       "        </tr>\n",
       "        <tr>\n",
       "            <td>4396</td>\n",
       "            <td>Destiny</td>\n",
       "            <td>2014</td>\n",
       "            <td>USA</td>\n",
       "            <td>None</td>\n",
       "            <td>English</td>\n",
       "            <td>None</td>\n",
       "            <td>None</td>\n",
       "            <td>None</td>\n",
       "        </tr>\n",
       "    </tbody>\n",
       "</table>"
      ],
      "text/plain": [
       "[(1398, 'Hum To Mohabbat Karega', 2000, 'India', None, 'Hindi', None, None, None),\n",
       " (2326, 'Dil Jo Bhi Kahey...', 2005, 'India', None, 'English', None, 129319, 70000000),\n",
       " (2712, 'The Naked Ape', 2006, 'USA', None, 'English', None, None, None),\n",
       " (3208, 'Black Water Transit', 2009, 'USA', None, 'English', None, None, 23000000),\n",
       " (3504, 'Harry Potter and the Deathly Hallows: Part I', 2010, 'UK', None, 'English', None, None, None),\n",
       " (3552, 'N-Secure', 2010, 'USA', None, 'English', 'R', 2592808, None),\n",
       " (3728, 'Harry Potter and the Deathly Hallows: Part II', 2011, 'UK', None, 'English', None, None, None),\n",
       " (4018, \"Should've Been Romeo\", 2012, 'USA', None, 'English', None, None, 5000000),\n",
       " (4138, 'Barfi', 2013, 'India', None, 'Kannada', None, None, None),\n",
       " (4396, 'Destiny', 2014, 'USA', None, 'English', None, None, None)]"
      ]
     },
     "execution_count": 8,
     "metadata": {},
     "output_type": "execute_result"
    }
   ],
   "source": [
    "%%sql\n",
    "\n",
    "SELECT *\n",
    "FROM   films\n",
    "WHERE  release_year <> 2015\n",
    "ORDER  BY duration\n",
    "LIMIT  10 "
   ]
  },
  {
   "cell_type": "markdown",
   "id": "487fd09f",
   "metadata": {},
   "source": [
    "Get the title and gross earnings for movies which begin with the letter 'M' and order the results alphabetically."
   ]
  },
  {
   "cell_type": "code",
   "execution_count": 9,
   "id": "95e190ab",
   "metadata": {},
   "outputs": [
    {
     "name": "stdout",
     "output_type": "stream",
     "text": [
      " * sqlite:///data/database.db\n",
      "Done.\n"
     ]
    },
    {
     "data": {
      "text/html": [
       "<table>\n",
       "    <thead>\n",
       "        <tr>\n",
       "            <th>title</th>\n",
       "            <th>gross</th>\n",
       "        </tr>\n",
       "    </thead>\n",
       "    <tbody>\n",
       "        <tr>\n",
       "            <td>MacGruber</td>\n",
       "            <td>8460995</td>\n",
       "        </tr>\n",
       "        <tr>\n",
       "            <td>Machete</td>\n",
       "            <td>26589953</td>\n",
       "        </tr>\n",
       "        <tr>\n",
       "            <td>Machete Kills</td>\n",
       "            <td>7268659</td>\n",
       "        </tr>\n",
       "        <tr>\n",
       "            <td>Machine Gun McCain</td>\n",
       "            <td>None</td>\n",
       "        </tr>\n",
       "        <tr>\n",
       "            <td>Machine Gun Preacher</td>\n",
       "            <td>537580</td>\n",
       "        </tr>\n",
       "        <tr>\n",
       "            <td>Mad City</td>\n",
       "            <td>10556196</td>\n",
       "        </tr>\n",
       "        <tr>\n",
       "            <td>Mad Hot Ballroom</td>\n",
       "            <td>8044906</td>\n",
       "        </tr>\n",
       "        <tr>\n",
       "            <td>Mad Max</td>\n",
       "            <td>None</td>\n",
       "        </tr>\n",
       "        <tr>\n",
       "            <td>Mad Max 2: The Road Warrior</td>\n",
       "            <td>9003011</td>\n",
       "        </tr>\n",
       "        <tr>\n",
       "            <td>Mad Max Beyond Thunderdome</td>\n",
       "            <td>36200000</td>\n",
       "        </tr>\n",
       "    </tbody>\n",
       "</table>"
      ],
      "text/plain": [
       "[('MacGruber', 8460995),\n",
       " ('Machete', 26589953),\n",
       " ('Machete Kills', 7268659),\n",
       " ('Machine Gun McCain', None),\n",
       " ('Machine Gun Preacher', 537580),\n",
       " ('Mad City', 10556196),\n",
       " ('Mad Hot Ballroom', 8044906),\n",
       " ('Mad Max', None),\n",
       " ('Mad Max 2: The Road Warrior', 9003011),\n",
       " ('Mad Max Beyond Thunderdome', 36200000)]"
      ]
     },
     "execution_count": 9,
     "metadata": {},
     "output_type": "execute_result"
    }
   ],
   "source": [
    "%%sql\n",
    "\n",
    "SELECT title,\n",
    "       gross\n",
    "FROM   films\n",
    "WHERE  title LIKE 'M%'\n",
    "ORDER  BY title\n",
    "LIMIT  10 "
   ]
  },
  {
   "cell_type": "markdown",
   "id": "3f145362",
   "metadata": {},
   "source": [
    "## Sorting single columns (DESC)\n",
    "---\n",
    "\n",
    "To order results in descending order, you can put the keyword `DESC` after your `ORDER BY`. For example, to get all the names in the people table, in reverse alphabetical order:\n",
    "\n",
    "`SELECT name\n",
    " FROM people\n",
    " ORDER BY name DESC`\n",
    "\n",
    "Now practice using `ORDER BY` with `DESC` to sort single columns in descending order!"
   ]
  },
  {
   "cell_type": "markdown",
   "id": "fce929f2",
   "metadata": {},
   "source": [
    "### Instructions\n",
    "Get the IMDB score and film ID for every film from the reviews table, sorted from highest to lowest score."
   ]
  },
  {
   "cell_type": "code",
   "execution_count": 10,
   "id": "fbbc6897",
   "metadata": {},
   "outputs": [
    {
     "name": "stdout",
     "output_type": "stream",
     "text": [
      " * sqlite:///data/database.db\n",
      "Done.\n"
     ]
    },
    {
     "data": {
      "text/html": [
       "<table>\n",
       "    <thead>\n",
       "        <tr>\n",
       "            <th>imdb_score</th>\n",
       "            <th>film_id</th>\n",
       "        </tr>\n",
       "    </thead>\n",
       "    <tbody>\n",
       "        <tr>\n",
       "            <td>9.5</td>\n",
       "            <td>4960</td>\n",
       "        </tr>\n",
       "        <tr>\n",
       "            <td>9.3</td>\n",
       "            <td>742</td>\n",
       "        </tr>\n",
       "        <tr>\n",
       "            <td>9.2</td>\n",
       "            <td>178</td>\n",
       "        </tr>\n",
       "        <tr>\n",
       "            <td>9.1</td>\n",
       "            <td>4866</td>\n",
       "        </tr>\n",
       "        <tr>\n",
       "            <td>9</td>\n",
       "            <td>3110</td>\n",
       "        </tr>\n",
       "        <tr>\n",
       "            <td>9</td>\n",
       "            <td>192</td>\n",
       "        </tr>\n",
       "        <tr>\n",
       "            <td>8.9</td>\n",
       "            <td>120</td>\n",
       "        </tr>\n",
       "        <tr>\n",
       "            <td>8.9</td>\n",
       "            <td>676</td>\n",
       "        </tr>\n",
       "        <tr>\n",
       "            <td>8.9</td>\n",
       "            <td>2045</td>\n",
       "        </tr>\n",
       "        <tr>\n",
       "            <td>8.9</td>\n",
       "            <td>723</td>\n",
       "        </tr>\n",
       "    </tbody>\n",
       "</table>"
      ],
      "text/plain": [
       "[(9.5, 4960),\n",
       " (9.3, 742),\n",
       " (9.2, 178),\n",
       " (9.1, 4866),\n",
       " (9, 3110),\n",
       " (9, 192),\n",
       " (8.9, 120),\n",
       " (8.9, 676),\n",
       " (8.9, 2045),\n",
       " (8.9, 723)]"
      ]
     },
     "execution_count": 10,
     "metadata": {},
     "output_type": "execute_result"
    }
   ],
   "source": [
    "%%sql\n",
    "\n",
    "SELECT imdb_score,\n",
    "       film_id\n",
    "FROM   reviews\n",
    "ORDER  BY imdb_score DESC\n",
    "LIMIT  10 "
   ]
  },
  {
   "cell_type": "markdown",
   "id": "3b7ddf48",
   "metadata": {},
   "source": [
    "Get the title for every film, in reverse order."
   ]
  },
  {
   "cell_type": "code",
   "execution_count": 11,
   "id": "dee765b4",
   "metadata": {},
   "outputs": [
    {
     "name": "stdout",
     "output_type": "stream",
     "text": [
      " * sqlite:///data/database.db\n",
      "Done.\n"
     ]
    },
    {
     "data": {
      "text/html": [
       "<table>\n",
       "    <thead>\n",
       "        <tr>\n",
       "            <th>title</th>\n",
       "        </tr>\n",
       "    </thead>\n",
       "    <tbody>\n",
       "        <tr>\n",
       "            <td>Æon Flux</td>\n",
       "        </tr>\n",
       "        <tr>\n",
       "            <td>xXx: State of the Union</td>\n",
       "        </tr>\n",
       "        <tr>\n",
       "            <td>xXx</td>\n",
       "        </tr>\n",
       "        <tr>\n",
       "            <td>eXistenZ</td>\n",
       "        </tr>\n",
       "        <tr>\n",
       "            <td>[Rec] 2</td>\n",
       "        </tr>\n",
       "        <tr>\n",
       "            <td>[Rec]</td>\n",
       "        </tr>\n",
       "        <tr>\n",
       "            <td>Zulu</td>\n",
       "        </tr>\n",
       "        <tr>\n",
       "            <td>Zoom</td>\n",
       "        </tr>\n",
       "        <tr>\n",
       "            <td>Zoolander 2</td>\n",
       "        </tr>\n",
       "        <tr>\n",
       "            <td>Zoolander</td>\n",
       "        </tr>\n",
       "    </tbody>\n",
       "</table>"
      ],
      "text/plain": [
       "[('Æon Flux',),\n",
       " ('xXx: State of the Union',),\n",
       " ('xXx',),\n",
       " ('eXistenZ',),\n",
       " ('[Rec] 2',),\n",
       " ('[Rec]',),\n",
       " ('Zulu',),\n",
       " ('Zoom',),\n",
       " ('Zoolander 2',),\n",
       " ('Zoolander',)]"
      ]
     },
     "execution_count": 11,
     "metadata": {},
     "output_type": "execute_result"
    }
   ],
   "source": [
    "%%sql\n",
    "\n",
    "SELECT title\n",
    "FROM   films\n",
    "ORDER  BY title DESC\n",
    "LIMIT  10 "
   ]
  },
  {
   "cell_type": "markdown",
   "id": "f2ba1399",
   "metadata": {},
   "source": [
    "Get the title and duration for every film, in order of longest duration to shortest."
   ]
  },
  {
   "cell_type": "code",
   "execution_count": 12,
   "id": "9fc19c1d",
   "metadata": {},
   "outputs": [
    {
     "name": "stdout",
     "output_type": "stream",
     "text": [
      " * sqlite:///data/database.db\n",
      "Done.\n"
     ]
    },
    {
     "data": {
      "text/html": [
       "<table>\n",
       "    <thead>\n",
       "        <tr>\n",
       "            <th>title</th>\n",
       "            <th>duration</th>\n",
       "        </tr>\n",
       "    </thead>\n",
       "    <tbody>\n",
       "        <tr>\n",
       "            <td>Carlos</td>\n",
       "            <td>334</td>\n",
       "        </tr>\n",
       "        <tr>\n",
       "            <td>Blood In, Blood Out</td>\n",
       "            <td>330</td>\n",
       "        </tr>\n",
       "        <tr>\n",
       "            <td>Heaven&#x27;s Gate</td>\n",
       "            <td>325</td>\n",
       "        </tr>\n",
       "        <tr>\n",
       "            <td>The Legend of Suriyothai</td>\n",
       "            <td>300</td>\n",
       "        </tr>\n",
       "        <tr>\n",
       "            <td>Das Boot</td>\n",
       "            <td>293</td>\n",
       "        </tr>\n",
       "        <tr>\n",
       "            <td>Apocalypse Now</td>\n",
       "            <td>289</td>\n",
       "        </tr>\n",
       "        <tr>\n",
       "            <td>The Company</td>\n",
       "            <td>286</td>\n",
       "        </tr>\n",
       "        <tr>\n",
       "            <td>Gods and Generals</td>\n",
       "            <td>280</td>\n",
       "        </tr>\n",
       "        <tr>\n",
       "            <td>Gettysburg</td>\n",
       "            <td>271</td>\n",
       "        </tr>\n",
       "        <tr>\n",
       "            <td>Arn: The Knight Templar</td>\n",
       "            <td>270</td>\n",
       "        </tr>\n",
       "    </tbody>\n",
       "</table>"
      ],
      "text/plain": [
       "[('Carlos', 334),\n",
       " ('Blood In, Blood Out', 330),\n",
       " (\"Heaven's Gate\", 325),\n",
       " ('The Legend of Suriyothai', 300),\n",
       " ('Das Boot', 293),\n",
       " ('Apocalypse Now', 289),\n",
       " ('The Company', 286),\n",
       " ('Gods and Generals', 280),\n",
       " ('Gettysburg', 271),\n",
       " ('Arn: The Knight Templar', 270)]"
      ]
     },
     "execution_count": 12,
     "metadata": {},
     "output_type": "execute_result"
    }
   ],
   "source": [
    "%%sql\n",
    "\n",
    "SELECT title,\n",
    "       duration\n",
    "FROM   films\n",
    "ORDER  BY duration DESC\n",
    "LIMIT  10 "
   ]
  },
  {
   "cell_type": "markdown",
   "id": "d8b8f7b5",
   "metadata": {},
   "source": [
    "## Sorting multiple columns\n",
    "---\n",
    "\n",
    "`ORDER BY` can also be used to sort on multiple columns. It will sort by the first column specified, then sort by the next, then the next, and so on. For example,\n",
    "\n",
    "`SELECT birthdate, name\n",
    " FROM people\n",
    " ORDER BY birthdate, name`\n",
    "\n",
    "sorts on birth dates first (oldest to newest) and then sorts on the names in alphabetical order. **The order of columns is important!**\n",
    "\n",
    "Try using `ORDER BY` to sort multiple columns! Remember, to specify multiple columns you separate the column names with a comma."
   ]
  },
  {
   "cell_type": "markdown",
   "id": "b3f1b0ba",
   "metadata": {},
   "source": [
    "### Instructions\n",
    "Get the birth date and name of people in the `people` table, in order of when they were born and alphabetically by name."
   ]
  },
  {
   "cell_type": "code",
   "execution_count": 13,
   "id": "bb854cd6",
   "metadata": {},
   "outputs": [
    {
     "name": "stdout",
     "output_type": "stream",
     "text": [
      " * sqlite:///data/database.db\n",
      "Done.\n"
     ]
    },
    {
     "data": {
      "text/html": [
       "<table>\n",
       "    <thead>\n",
       "        <tr>\n",
       "            <th>birthdate</th>\n",
       "            <th>name</th>\n",
       "        </tr>\n",
       "    </thead>\n",
       "    <tbody>\n",
       "        <tr>\n",
       "            <td>None</td>\n",
       "            <td>A. Raven Cruz</td>\n",
       "        </tr>\n",
       "        <tr>\n",
       "            <td>None</td>\n",
       "            <td>A.J. DeLucia</td>\n",
       "        </tr>\n",
       "        <tr>\n",
       "            <td>None</td>\n",
       "            <td>Aaron Hann</td>\n",
       "        </tr>\n",
       "        <tr>\n",
       "            <td>None</td>\n",
       "            <td>Aaron Hughes</td>\n",
       "        </tr>\n",
       "        <tr>\n",
       "            <td>None</td>\n",
       "            <td>Aaron Schneider</td>\n",
       "        </tr>\n",
       "        <tr>\n",
       "            <td>None</td>\n",
       "            <td>Aaron Staton</td>\n",
       "        </tr>\n",
       "        <tr>\n",
       "            <td>None</td>\n",
       "            <td>Aasheekaa Bathija</td>\n",
       "        </tr>\n",
       "        <tr>\n",
       "            <td>None</td>\n",
       "            <td>Abby Mukiibi Nkaaga</td>\n",
       "        </tr>\n",
       "        <tr>\n",
       "            <td>None</td>\n",
       "            <td>Abigail Evans</td>\n",
       "        </tr>\n",
       "        <tr>\n",
       "            <td>None</td>\n",
       "            <td>Adam Boyer</td>\n",
       "        </tr>\n",
       "    </tbody>\n",
       "</table>"
      ],
      "text/plain": [
       "[(None, 'A. Raven Cruz'),\n",
       " (None, 'A.J. DeLucia'),\n",
       " (None, 'Aaron Hann'),\n",
       " (None, 'Aaron Hughes'),\n",
       " (None, 'Aaron Schneider'),\n",
       " (None, 'Aaron Staton'),\n",
       " (None, 'Aasheekaa Bathija'),\n",
       " (None, 'Abby Mukiibi Nkaaga'),\n",
       " (None, 'Abigail Evans'),\n",
       " (None, 'Adam Boyer')]"
      ]
     },
     "execution_count": 13,
     "metadata": {},
     "output_type": "execute_result"
    }
   ],
   "source": [
    "%%sql\n",
    "\n",
    "SELECT birthdate,\n",
    "       name\n",
    "FROM   people\n",
    "ORDER  BY birthdate,\n",
    "          name\n",
    "LIMIT  10 "
   ]
  },
  {
   "cell_type": "markdown",
   "id": "9158b72d",
   "metadata": {},
   "source": [
    "Get the release year, duration, and title of films ordered by their release year and duration."
   ]
  },
  {
   "cell_type": "code",
   "execution_count": 14,
   "id": "2b797a6f",
   "metadata": {},
   "outputs": [
    {
     "name": "stdout",
     "output_type": "stream",
     "text": [
      " * sqlite:///data/database.db\n",
      "Done.\n"
     ]
    },
    {
     "data": {
      "text/html": [
       "<table>\n",
       "    <thead>\n",
       "        <tr>\n",
       "            <th>release_year</th>\n",
       "            <th>duration</th>\n",
       "            <th>title</th>\n",
       "        </tr>\n",
       "    </thead>\n",
       "    <tbody>\n",
       "        <tr>\n",
       "            <td>None</td>\n",
       "            <td>None</td>\n",
       "            <td>Wolf Creek</td>\n",
       "        </tr>\n",
       "        <tr>\n",
       "            <td>None</td>\n",
       "            <td>22</td>\n",
       "            <td>10,000 B.C.</td>\n",
       "        </tr>\n",
       "        <tr>\n",
       "            <td>None</td>\n",
       "            <td>22</td>\n",
       "            <td>Anger Management</td>\n",
       "        </tr>\n",
       "        <tr>\n",
       "            <td>None</td>\n",
       "            <td>24</td>\n",
       "            <td>Lovesick</td>\n",
       "        </tr>\n",
       "        <tr>\n",
       "            <td>None</td>\n",
       "            <td>24</td>\n",
       "            <td>Yu-Gi-Oh! Duel Monsters</td>\n",
       "        </tr>\n",
       "        <tr>\n",
       "            <td>None</td>\n",
       "            <td>30</td>\n",
       "            <td>Fired Up</td>\n",
       "        </tr>\n",
       "        <tr>\n",
       "            <td>None</td>\n",
       "            <td>30</td>\n",
       "            <td>Jesse</td>\n",
       "        </tr>\n",
       "        <tr>\n",
       "            <td>None</td>\n",
       "            <td>30</td>\n",
       "            <td>Meet the Browns</td>\n",
       "        </tr>\n",
       "        <tr>\n",
       "            <td>None</td>\n",
       "            <td>30</td>\n",
       "            <td>The Doombolt Chase</td>\n",
       "        </tr>\n",
       "        <tr>\n",
       "            <td>None</td>\n",
       "            <td>30</td>\n",
       "            <td>The Honeymooners</td>\n",
       "        </tr>\n",
       "    </tbody>\n",
       "</table>"
      ],
      "text/plain": [
       "[(None, None, 'Wolf Creek'),\n",
       " (None, 22, '10,000 B.C.'),\n",
       " (None, 22, 'Anger Management'),\n",
       " (None, 24, 'Lovesick'),\n",
       " (None, 24, 'Yu-Gi-Oh! Duel Monsters'),\n",
       " (None, 30, 'Fired Up'),\n",
       " (None, 30, 'Jesse'),\n",
       " (None, 30, 'Meet the Browns'),\n",
       " (None, 30, 'The Doombolt Chase'),\n",
       " (None, 30, 'The Honeymooners')]"
      ]
     },
     "execution_count": 14,
     "metadata": {},
     "output_type": "execute_result"
    }
   ],
   "source": [
    "%%sql\n",
    "\n",
    "SELECT release_year,\n",
    "       duration,\n",
    "       title\n",
    "FROM   films\n",
    "ORDER  BY release_year,\n",
    "          duration\n",
    "LIMIT  10 "
   ]
  },
  {
   "cell_type": "markdown",
   "id": "051c597a",
   "metadata": {},
   "source": [
    "Get certifications, release years, and titles of films ordered by certification (alphabetically) and release year."
   ]
  },
  {
   "cell_type": "code",
   "execution_count": 15,
   "id": "bc697287",
   "metadata": {},
   "outputs": [
    {
     "name": "stdout",
     "output_type": "stream",
     "text": [
      " * sqlite:///data/database.db\n",
      "Done.\n"
     ]
    },
    {
     "data": {
      "text/html": [
       "<table>\n",
       "    <thead>\n",
       "        <tr>\n",
       "            <th>certification</th>\n",
       "            <th>release_year</th>\n",
       "            <th>title</th>\n",
       "        </tr>\n",
       "    </thead>\n",
       "    <tbody>\n",
       "        <tr>\n",
       "            <td>None</td>\n",
       "            <td>None</td>\n",
       "            <td>10,000 B.C.</td>\n",
       "        </tr>\n",
       "        <tr>\n",
       "            <td>None</td>\n",
       "            <td>None</td>\n",
       "            <td>A Touch of Frost</td>\n",
       "        </tr>\n",
       "        <tr>\n",
       "            <td>None</td>\n",
       "            <td>None</td>\n",
       "            <td>Anger Management</td>\n",
       "        </tr>\n",
       "        <tr>\n",
       "            <td>None</td>\n",
       "            <td>None</td>\n",
       "            <td>Animal Kingdom</td>\n",
       "        </tr>\n",
       "        <tr>\n",
       "            <td>None</td>\n",
       "            <td>None</td>\n",
       "            <td>BrainDead</td>\n",
       "        </tr>\n",
       "        <tr>\n",
       "            <td>None</td>\n",
       "            <td>None</td>\n",
       "            <td>Creature</td>\n",
       "        </tr>\n",
       "        <tr>\n",
       "            <td>None</td>\n",
       "            <td>None</td>\n",
       "            <td>Deadline Gallipoli</td>\n",
       "        </tr>\n",
       "        <tr>\n",
       "            <td>None</td>\n",
       "            <td>None</td>\n",
       "            <td>Del 1 - Män som hatar kvinnor</td>\n",
       "        </tr>\n",
       "        <tr>\n",
       "            <td>None</td>\n",
       "            <td>None</td>\n",
       "            <td>Emma</td>\n",
       "        </tr>\n",
       "        <tr>\n",
       "            <td>None</td>\n",
       "            <td>None</td>\n",
       "            <td>Fired Up</td>\n",
       "        </tr>\n",
       "    </tbody>\n",
       "</table>"
      ],
      "text/plain": [
       "[(None, None, '10,000 B.C.'),\n",
       " (None, None, 'A Touch of Frost'),\n",
       " (None, None, 'Anger Management'),\n",
       " (None, None, 'Animal Kingdom'),\n",
       " (None, None, 'BrainDead'),\n",
       " (None, None, 'Creature'),\n",
       " (None, None, 'Deadline Gallipoli'),\n",
       " (None, None, 'Del 1 - Män som hatar kvinnor'),\n",
       " (None, None, 'Emma'),\n",
       " (None, None, 'Fired Up')]"
      ]
     },
     "execution_count": 15,
     "metadata": {},
     "output_type": "execute_result"
    }
   ],
   "source": [
    "%%sql\n",
    "\n",
    "SELECT certification,\n",
    "       release_year,\n",
    "       title\n",
    "FROM   films\n",
    "ORDER  BY certification,\n",
    "          release_year\n",
    "LIMIT  10 "
   ]
  },
  {
   "cell_type": "markdown",
   "id": "bf200b46",
   "metadata": {},
   "source": [
    "Get the names and birthdates of people ordered by name and birth date."
   ]
  },
  {
   "cell_type": "code",
   "execution_count": 16,
   "id": "8468a9e5",
   "metadata": {},
   "outputs": [
    {
     "name": "stdout",
     "output_type": "stream",
     "text": [
      " * sqlite:///data/database.db\n",
      "Done.\n"
     ]
    },
    {
     "data": {
      "text/html": [
       "<table>\n",
       "    <thead>\n",
       "        <tr>\n",
       "            <th>name</th>\n",
       "            <th>birthdate</th>\n",
       "        </tr>\n",
       "    </thead>\n",
       "    <tbody>\n",
       "        <tr>\n",
       "            <td>50 Cent</td>\n",
       "            <td>1975-07-06</td>\n",
       "        </tr>\n",
       "        <tr>\n",
       "            <td>A. Michael Baldwin</td>\n",
       "            <td>1963-04-04</td>\n",
       "        </tr>\n",
       "        <tr>\n",
       "            <td>A. Raven Cruz</td>\n",
       "            <td>None</td>\n",
       "        </tr>\n",
       "        <tr>\n",
       "            <td>A.J. Buckley</td>\n",
       "            <td>1978-02-09</td>\n",
       "        </tr>\n",
       "        <tr>\n",
       "            <td>A.J. DeLucia</td>\n",
       "            <td>None</td>\n",
       "        </tr>\n",
       "        <tr>\n",
       "            <td>A.J. Langer</td>\n",
       "            <td>1974-05-22</td>\n",
       "        </tr>\n",
       "        <tr>\n",
       "            <td>AJ Michalka</td>\n",
       "            <td>1991-04-10</td>\n",
       "        </tr>\n",
       "        <tr>\n",
       "            <td>Aaliyah</td>\n",
       "            <td>1979-01-16</td>\n",
       "        </tr>\n",
       "        <tr>\n",
       "            <td>Aaron Ashmore</td>\n",
       "            <td>1979-10-07</td>\n",
       "        </tr>\n",
       "        <tr>\n",
       "            <td>Aaron Hann</td>\n",
       "            <td>None</td>\n",
       "        </tr>\n",
       "    </tbody>\n",
       "</table>"
      ],
      "text/plain": [
       "[('50 Cent', '1975-07-06'),\n",
       " ('A. Michael Baldwin', '1963-04-04'),\n",
       " ('A. Raven Cruz', None),\n",
       " ('A.J. Buckley', '1978-02-09'),\n",
       " ('A.J. DeLucia', None),\n",
       " ('A.J. Langer', '1974-05-22'),\n",
       " ('AJ Michalka', '1991-04-10'),\n",
       " ('Aaliyah', '1979-01-16'),\n",
       " ('Aaron Ashmore', '1979-10-07'),\n",
       " ('Aaron Hann', None)]"
      ]
     },
     "execution_count": 16,
     "metadata": {},
     "output_type": "execute_result"
    }
   ],
   "source": [
    "%%sql\n",
    "\n",
    "SELECT name,\n",
    "       birthdate\n",
    "FROM   people\n",
    "ORDER  BY name,\n",
    "          birthdate\n",
    "LIMIT  10 "
   ]
  },
  {
   "cell_type": "markdown",
   "id": "7a6836bb",
   "metadata": {},
   "source": [
    "## GROUP BY \n",
    "---\n",
    "\n",
    "Now you know how to sort results! Often you'll need to aggregate results. For example, you might want to count the number of male and female employees in your company. Here, what you want is to group all the males together and count them, and group all the females together and count them. In SQL, `GROUP BY` allows you to group a result by one or more columns, like so:\n",
    "\n",
    "`SELECT sex, COUNT(*)\n",
    " FROM employees\n",
    " GROUP BY sex`\n",
    "\n",
    "Commonly, `GROUP BY` is used with aggregate functions like `COUNT()` or `MAX()`. Note that `GROUP BY` always goes after the FROM clause!"
   ]
  },
  {
   "cell_type": "markdown",
   "id": "00cfb3d0",
   "metadata": {},
   "source": [
    "## GROUP BY practice\n",
    "---\n",
    "\n",
    "As you've just seen, combining aggregate functions with `GROUP BY` can yield some powerful results!\n",
    "\n",
    "A word of warning: SQL will return an error if you try to `SELECT` a field that is not in your `GROUP BY` clause without using it to calculate some kind of value about the entire group.\n",
    "\n",
    "Note that you can combine `GROUP BY` with `ORDER BY` to group your results, calculate something about them, and then order your results. For example,\n",
    "\n",
    "`SELECT sex, COUNT(*)\n",
    " FROM employees\n",
    " GROUP BY sex\n",
    " ORDER BY count DESC`"
   ]
  },
  {
   "cell_type": "markdown",
   "id": "0e2995c7",
   "metadata": {},
   "source": [
    "### Instructions\n",
    "Get the release year and count of films released in each year."
   ]
  },
  {
   "cell_type": "code",
   "execution_count": 17,
   "id": "1cc2a63b",
   "metadata": {},
   "outputs": [
    {
     "name": "stdout",
     "output_type": "stream",
     "text": [
      " * sqlite:///data/database.db\n",
      "Done.\n"
     ]
    },
    {
     "data": {
      "text/html": [
       "<table>\n",
       "    <thead>\n",
       "        <tr>\n",
       "            <th>release_year</th>\n",
       "            <th>COUNT(*)</th>\n",
       "        </tr>\n",
       "    </thead>\n",
       "    <tbody>\n",
       "        <tr>\n",
       "            <td>None</td>\n",
       "            <td>42</td>\n",
       "        </tr>\n",
       "        <tr>\n",
       "            <td>1916</td>\n",
       "            <td>1</td>\n",
       "        </tr>\n",
       "        <tr>\n",
       "            <td>1920</td>\n",
       "            <td>1</td>\n",
       "        </tr>\n",
       "        <tr>\n",
       "            <td>1925</td>\n",
       "            <td>1</td>\n",
       "        </tr>\n",
       "        <tr>\n",
       "            <td>1927</td>\n",
       "            <td>1</td>\n",
       "        </tr>\n",
       "        <tr>\n",
       "            <td>1929</td>\n",
       "            <td>2</td>\n",
       "        </tr>\n",
       "        <tr>\n",
       "            <td>1930</td>\n",
       "            <td>1</td>\n",
       "        </tr>\n",
       "        <tr>\n",
       "            <td>1932</td>\n",
       "            <td>1</td>\n",
       "        </tr>\n",
       "        <tr>\n",
       "            <td>1933</td>\n",
       "            <td>2</td>\n",
       "        </tr>\n",
       "        <tr>\n",
       "            <td>1934</td>\n",
       "            <td>1</td>\n",
       "        </tr>\n",
       "    </tbody>\n",
       "</table>"
      ],
      "text/plain": [
       "[(None, 42),\n",
       " (1916, 1),\n",
       " (1920, 1),\n",
       " (1925, 1),\n",
       " (1927, 1),\n",
       " (1929, 2),\n",
       " (1930, 1),\n",
       " (1932, 1),\n",
       " (1933, 2),\n",
       " (1934, 1)]"
      ]
     },
     "execution_count": 17,
     "metadata": {},
     "output_type": "execute_result"
    }
   ],
   "source": [
    "%%sql\n",
    "\n",
    "SELECT release_year,\n",
    "       COUNT(*)\n",
    "FROM   films\n",
    "GROUP  BY release_year\n",
    "LIMIT  10 "
   ]
  },
  {
   "cell_type": "markdown",
   "id": "9c4efaec",
   "metadata": {},
   "source": [
    "Get the release year and average duration of all films, grouped by release year."
   ]
  },
  {
   "cell_type": "code",
   "execution_count": 18,
   "id": "25ad1a41",
   "metadata": {},
   "outputs": [
    {
     "name": "stdout",
     "output_type": "stream",
     "text": [
      " * sqlite:///data/database.db\n",
      "Done.\n"
     ]
    },
    {
     "data": {
      "text/html": [
       "<table>\n",
       "    <thead>\n",
       "        <tr>\n",
       "            <th>release_year</th>\n",
       "            <th>AVG( duration )</th>\n",
       "        </tr>\n",
       "    </thead>\n",
       "    <tbody>\n",
       "        <tr>\n",
       "            <td>None</td>\n",
       "            <td>77.4390243902439</td>\n",
       "        </tr>\n",
       "        <tr>\n",
       "            <td>1916</td>\n",
       "            <td>123.0</td>\n",
       "        </tr>\n",
       "        <tr>\n",
       "            <td>1920</td>\n",
       "            <td>110.0</td>\n",
       "        </tr>\n",
       "        <tr>\n",
       "            <td>1925</td>\n",
       "            <td>151.0</td>\n",
       "        </tr>\n",
       "        <tr>\n",
       "            <td>1927</td>\n",
       "            <td>145.0</td>\n",
       "        </tr>\n",
       "        <tr>\n",
       "            <td>1929</td>\n",
       "            <td>105.0</td>\n",
       "        </tr>\n",
       "        <tr>\n",
       "            <td>1930</td>\n",
       "            <td>96.0</td>\n",
       "        </tr>\n",
       "        <tr>\n",
       "            <td>1932</td>\n",
       "            <td>79.0</td>\n",
       "        </tr>\n",
       "        <tr>\n",
       "            <td>1933</td>\n",
       "            <td>77.5</td>\n",
       "        </tr>\n",
       "        <tr>\n",
       "            <td>1934</td>\n",
       "            <td>65.0</td>\n",
       "        </tr>\n",
       "    </tbody>\n",
       "</table>"
      ],
      "text/plain": [
       "[(None, 77.4390243902439),\n",
       " (1916, 123.0),\n",
       " (1920, 110.0),\n",
       " (1925, 151.0),\n",
       " (1927, 145.0),\n",
       " (1929, 105.0),\n",
       " (1930, 96.0),\n",
       " (1932, 79.0),\n",
       " (1933, 77.5),\n",
       " (1934, 65.0)]"
      ]
     },
     "execution_count": 18,
     "metadata": {},
     "output_type": "execute_result"
    }
   ],
   "source": [
    "%%sql\n",
    "\n",
    "SELECT release_year,\n",
    "       AVG( duration )\n",
    "FROM   films\n",
    "GROUP  BY release_year\n",
    "LIMIT  10 "
   ]
  },
  {
   "cell_type": "markdown",
   "id": "5f7c3e2a",
   "metadata": {},
   "source": [
    "Get the release year and largest budget for all films, grouped by release year."
   ]
  },
  {
   "cell_type": "code",
   "execution_count": 19,
   "id": "2ba15bf8",
   "metadata": {},
   "outputs": [
    {
     "name": "stdout",
     "output_type": "stream",
     "text": [
      " * sqlite:///data/database.db\n",
      "Done.\n"
     ]
    },
    {
     "data": {
      "text/html": [
       "<table>\n",
       "    <thead>\n",
       "        <tr>\n",
       "            <th>release_year</th>\n",
       "            <th>MAX( budget )</th>\n",
       "        </tr>\n",
       "    </thead>\n",
       "    <tbody>\n",
       "        <tr>\n",
       "            <td>None</td>\n",
       "            <td>15000000</td>\n",
       "        </tr>\n",
       "        <tr>\n",
       "            <td>1916</td>\n",
       "            <td>385907</td>\n",
       "        </tr>\n",
       "        <tr>\n",
       "            <td>1920</td>\n",
       "            <td>100000</td>\n",
       "        </tr>\n",
       "        <tr>\n",
       "            <td>1925</td>\n",
       "            <td>245000</td>\n",
       "        </tr>\n",
       "        <tr>\n",
       "            <td>1927</td>\n",
       "            <td>6000000</td>\n",
       "        </tr>\n",
       "        <tr>\n",
       "            <td>1929</td>\n",
       "            <td>379000</td>\n",
       "        </tr>\n",
       "        <tr>\n",
       "            <td>1930</td>\n",
       "            <td>3950000</td>\n",
       "        </tr>\n",
       "        <tr>\n",
       "            <td>1932</td>\n",
       "            <td>800000</td>\n",
       "        </tr>\n",
       "        <tr>\n",
       "            <td>1933</td>\n",
       "            <td>439000</td>\n",
       "        </tr>\n",
       "        <tr>\n",
       "            <td>1934</td>\n",
       "            <td>325000</td>\n",
       "        </tr>\n",
       "    </tbody>\n",
       "</table>"
      ],
      "text/plain": [
       "[(None, 15000000),\n",
       " (1916, 385907),\n",
       " (1920, 100000),\n",
       " (1925, 245000),\n",
       " (1927, 6000000),\n",
       " (1929, 379000),\n",
       " (1930, 3950000),\n",
       " (1932, 800000),\n",
       " (1933, 439000),\n",
       " (1934, 325000)]"
      ]
     },
     "execution_count": 19,
     "metadata": {},
     "output_type": "execute_result"
    }
   ],
   "source": [
    "%%sql\n",
    "\n",
    "SELECT release_year,\n",
    "       MAX( budget )\n",
    "FROM   films\n",
    "GROUP  BY release_year\n",
    "LIMIT  10 "
   ]
  },
  {
   "cell_type": "markdown",
   "id": "e12e7917",
   "metadata": {},
   "source": [
    "Get the IMDB score and count of film reviews grouped by IMDB score in the `reviews` table."
   ]
  },
  {
   "cell_type": "code",
   "execution_count": 20,
   "id": "6bd2fd23",
   "metadata": {},
   "outputs": [
    {
     "name": "stdout",
     "output_type": "stream",
     "text": [
      " * sqlite:///data/database.db\n",
      "Done.\n"
     ]
    },
    {
     "data": {
      "text/html": [
       "<table>\n",
       "    <thead>\n",
       "        <tr>\n",
       "            <th>imdb_score</th>\n",
       "            <th>COUNT(*)</th>\n",
       "        </tr>\n",
       "    </thead>\n",
       "    <tbody>\n",
       "        <tr>\n",
       "            <td>1.6</td>\n",
       "            <td>1</td>\n",
       "        </tr>\n",
       "        <tr>\n",
       "            <td>1.7</td>\n",
       "            <td>1</td>\n",
       "        </tr>\n",
       "        <tr>\n",
       "            <td>1.9</td>\n",
       "            <td>3</td>\n",
       "        </tr>\n",
       "        <tr>\n",
       "            <td>2</td>\n",
       "            <td>2</td>\n",
       "        </tr>\n",
       "        <tr>\n",
       "            <td>2.1</td>\n",
       "            <td>3</td>\n",
       "        </tr>\n",
       "        <tr>\n",
       "            <td>2.2</td>\n",
       "            <td>3</td>\n",
       "        </tr>\n",
       "        <tr>\n",
       "            <td>2.3</td>\n",
       "            <td>3</td>\n",
       "        </tr>\n",
       "        <tr>\n",
       "            <td>2.4</td>\n",
       "            <td>2</td>\n",
       "        </tr>\n",
       "        <tr>\n",
       "            <td>2.5</td>\n",
       "            <td>2</td>\n",
       "        </tr>\n",
       "        <tr>\n",
       "            <td>2.6</td>\n",
       "            <td>2</td>\n",
       "        </tr>\n",
       "    </tbody>\n",
       "</table>"
      ],
      "text/plain": [
       "[(1.6, 1),\n",
       " (1.7, 1),\n",
       " (1.9, 3),\n",
       " (2, 2),\n",
       " (2.1, 3),\n",
       " (2.2, 3),\n",
       " (2.3, 3),\n",
       " (2.4, 2),\n",
       " (2.5, 2),\n",
       " (2.6, 2)]"
      ]
     },
     "execution_count": 20,
     "metadata": {},
     "output_type": "execute_result"
    }
   ],
   "source": [
    "%%sql\n",
    "\n",
    "SELECT imdb_score,\n",
    "       COUNT(*)\n",
    "FROM   reviews\n",
    "GROUP  BY imdb_score\n",
    "LIMIT  10 "
   ]
  },
  {
   "cell_type": "markdown",
   "id": "e9f58039",
   "metadata": {},
   "source": [
    "## GROUP BY practice (2)\n",
    "---\n",
    "\n",
    "Now practice your new skills by combining `GROUP BY` and `ORDER BY` with some more aggregate functions!\n",
    "\n",
    "Make sure to always put the `ORDER BY` clause at the end of your query. You can't sort values that you haven't calculated yet!"
   ]
  },
  {
   "cell_type": "markdown",
   "id": "157ebc1c",
   "metadata": {},
   "source": [
    "### Instructions\n",
    "Get the release year and lowest gross earnings per release year."
   ]
  },
  {
   "cell_type": "code",
   "execution_count": 21,
   "id": "d30ab2df",
   "metadata": {},
   "outputs": [
    {
     "name": "stdout",
     "output_type": "stream",
     "text": [
      " * sqlite:///data/database.db\n",
      "Done.\n"
     ]
    },
    {
     "data": {
      "text/html": [
       "<table>\n",
       "    <thead>\n",
       "        <tr>\n",
       "            <th>release_year</th>\n",
       "            <th>MIN( gross )</th>\n",
       "        </tr>\n",
       "    </thead>\n",
       "    <tbody>\n",
       "        <tr>\n",
       "            <td>None</td>\n",
       "            <td>145118</td>\n",
       "        </tr>\n",
       "        <tr>\n",
       "            <td>1916</td>\n",
       "            <td>None</td>\n",
       "        </tr>\n",
       "        <tr>\n",
       "            <td>1920</td>\n",
       "            <td>3000000</td>\n",
       "        </tr>\n",
       "        <tr>\n",
       "            <td>1925</td>\n",
       "            <td>None</td>\n",
       "        </tr>\n",
       "        <tr>\n",
       "            <td>1927</td>\n",
       "            <td>26435</td>\n",
       "        </tr>\n",
       "        <tr>\n",
       "            <td>1929</td>\n",
       "            <td>9950</td>\n",
       "        </tr>\n",
       "        <tr>\n",
       "            <td>1930</td>\n",
       "            <td>None</td>\n",
       "        </tr>\n",
       "        <tr>\n",
       "            <td>1932</td>\n",
       "            <td>None</td>\n",
       "        </tr>\n",
       "        <tr>\n",
       "            <td>1933</td>\n",
       "            <td>2300000</td>\n",
       "        </tr>\n",
       "        <tr>\n",
       "            <td>1934</td>\n",
       "            <td>None</td>\n",
       "        </tr>\n",
       "    </tbody>\n",
       "</table>"
      ],
      "text/plain": [
       "[(None, 145118),\n",
       " (1916, None),\n",
       " (1920, 3000000),\n",
       " (1925, None),\n",
       " (1927, 26435),\n",
       " (1929, 9950),\n",
       " (1930, None),\n",
       " (1932, None),\n",
       " (1933, 2300000),\n",
       " (1934, None)]"
      ]
     },
     "execution_count": 21,
     "metadata": {},
     "output_type": "execute_result"
    }
   ],
   "source": [
    "%%sql\n",
    "\n",
    "SELECT release_year,\n",
    "       MIN( gross )\n",
    "FROM   films\n",
    "GROUP  BY release_year\n",
    "LIMIT  10 "
   ]
  },
  {
   "cell_type": "markdown",
   "id": "dc339a1a",
   "metadata": {},
   "source": [
    "Get the language and total gross amount films in each language made."
   ]
  },
  {
   "cell_type": "code",
   "execution_count": 22,
   "id": "04d51648",
   "metadata": {},
   "outputs": [
    {
     "name": "stdout",
     "output_type": "stream",
     "text": [
      " * sqlite:///data/database.db\n",
      "Done.\n"
     ]
    },
    {
     "data": {
      "text/html": [
       "<table>\n",
       "    <thead>\n",
       "        <tr>\n",
       "            <th>language</th>\n",
       "            <th>SUM( gross )</th>\n",
       "        </tr>\n",
       "    </thead>\n",
       "    <tbody>\n",
       "        <tr>\n",
       "            <td>None</td>\n",
       "            <td>4319281</td>\n",
       "        </tr>\n",
       "        <tr>\n",
       "            <td>Aboriginal</td>\n",
       "            <td>78680789</td>\n",
       "        </tr>\n",
       "        <tr>\n",
       "            <td>Arabic</td>\n",
       "            <td>1681831</td>\n",
       "        </tr>\n",
       "        <tr>\n",
       "            <td>Aramaic</td>\n",
       "            <td>499263</td>\n",
       "        </tr>\n",
       "        <tr>\n",
       "            <td>Bosnian</td>\n",
       "            <td>301305</td>\n",
       "        </tr>\n",
       "        <tr>\n",
       "            <td>Cantonese</td>\n",
       "            <td>64294253</td>\n",
       "        </tr>\n",
       "        <tr>\n",
       "            <td>Chinese</td>\n",
       "            <td>50000</td>\n",
       "        </tr>\n",
       "        <tr>\n",
       "            <td>Czech</td>\n",
       "            <td>617228</td>\n",
       "        </tr>\n",
       "        <tr>\n",
       "            <td>Danish</td>\n",
       "            <td>2403857</td>\n",
       "        </tr>\n",
       "        <tr>\n",
       "            <td>Dari</td>\n",
       "            <td>16925238</td>\n",
       "        </tr>\n",
       "    </tbody>\n",
       "</table>"
      ],
      "text/plain": [
       "[(None, 4319281),\n",
       " ('Aboriginal', 78680789),\n",
       " ('Arabic', 1681831),\n",
       " ('Aramaic', 499263),\n",
       " ('Bosnian', 301305),\n",
       " ('Cantonese', 64294253),\n",
       " ('Chinese', 50000),\n",
       " ('Czech', 617228),\n",
       " ('Danish', 2403857),\n",
       " ('Dari', 16925238)]"
      ]
     },
     "execution_count": 22,
     "metadata": {},
     "output_type": "execute_result"
    }
   ],
   "source": [
    "%%sql\n",
    "\n",
    "SELECT language,\n",
    "       SUM( gross )\n",
    "FROM   films\n",
    "GROUP  BY language\n",
    "LIMIT  10 "
   ]
  },
  {
   "cell_type": "markdown",
   "id": "df67bd8b",
   "metadata": {},
   "source": [
    "Get the country and total budget spent making movies in each country."
   ]
  },
  {
   "cell_type": "code",
   "execution_count": 23,
   "id": "76af63fe",
   "metadata": {},
   "outputs": [
    {
     "name": "stdout",
     "output_type": "stream",
     "text": [
      " * sqlite:///data/database.db\n",
      "Done.\n"
     ]
    },
    {
     "data": {
      "text/html": [
       "<table>\n",
       "    <thead>\n",
       "        <tr>\n",
       "            <th>country</th>\n",
       "            <th>SUM( budget )</th>\n",
       "        </tr>\n",
       "    </thead>\n",
       "    <tbody>\n",
       "        <tr>\n",
       "            <td>None</td>\n",
       "            <td>3500000</td>\n",
       "        </tr>\n",
       "        <tr>\n",
       "            <td>Afghanistan</td>\n",
       "            <td>46000</td>\n",
       "        </tr>\n",
       "        <tr>\n",
       "            <td>Argentina</td>\n",
       "            <td>5700000</td>\n",
       "        </tr>\n",
       "        <tr>\n",
       "            <td>Aruba</td>\n",
       "            <td>35000000</td>\n",
       "        </tr>\n",
       "        <tr>\n",
       "            <td>Australia</td>\n",
       "            <td>1558605523</td>\n",
       "        </tr>\n",
       "        <tr>\n",
       "            <td>Bahamas</td>\n",
       "            <td>5000000</td>\n",
       "        </tr>\n",
       "        <tr>\n",
       "            <td>Belgium</td>\n",
       "            <td>49000000</td>\n",
       "        </tr>\n",
       "        <tr>\n",
       "            <td>Brazil</td>\n",
       "            <td>29200000</td>\n",
       "        </tr>\n",
       "        <tr>\n",
       "            <td>Bulgaria</td>\n",
       "            <td>7000000</td>\n",
       "        </tr>\n",
       "        <tr>\n",
       "            <td>Cambodia</td>\n",
       "            <td>None</td>\n",
       "        </tr>\n",
       "    </tbody>\n",
       "</table>"
      ],
      "text/plain": [
       "[(None, 3500000),\n",
       " ('Afghanistan', 46000),\n",
       " ('Argentina', 5700000),\n",
       " ('Aruba', 35000000),\n",
       " ('Australia', 1558605523),\n",
       " ('Bahamas', 5000000),\n",
       " ('Belgium', 49000000),\n",
       " ('Brazil', 29200000),\n",
       " ('Bulgaria', 7000000),\n",
       " ('Cambodia', None)]"
      ]
     },
     "execution_count": 23,
     "metadata": {},
     "output_type": "execute_result"
    }
   ],
   "source": [
    "%%sql\n",
    "\n",
    "SELECT country,\n",
    "       SUM( budget )\n",
    "FROM   films\n",
    "GROUP  BY country\n",
    "LIMIT  10 "
   ]
  },
  {
   "cell_type": "markdown",
   "id": "eaf4b504",
   "metadata": {},
   "source": [
    "Get the release year, country, and highest budget spent making a film for each year, for each country. Sort your results by release year and country."
   ]
  },
  {
   "cell_type": "code",
   "execution_count": 24,
   "id": "03dfd127",
   "metadata": {},
   "outputs": [
    {
     "name": "stdout",
     "output_type": "stream",
     "text": [
      " * sqlite:///data/database.db\n",
      "Done.\n"
     ]
    },
    {
     "data": {
      "text/html": [
       "<table>\n",
       "    <thead>\n",
       "        <tr>\n",
       "            <th>release_year</th>\n",
       "            <th>country</th>\n",
       "            <th>MAX( budget )</th>\n",
       "        </tr>\n",
       "    </thead>\n",
       "    <tbody>\n",
       "        <tr>\n",
       "            <td>None</td>\n",
       "            <td>None</td>\n",
       "            <td>None</td>\n",
       "        </tr>\n",
       "        <tr>\n",
       "            <td>None</td>\n",
       "            <td>Australia</td>\n",
       "            <td>15000000</td>\n",
       "        </tr>\n",
       "        <tr>\n",
       "            <td>None</td>\n",
       "            <td>Canada</td>\n",
       "            <td>None</td>\n",
       "        </tr>\n",
       "        <tr>\n",
       "            <td>None</td>\n",
       "            <td>France</td>\n",
       "            <td>None</td>\n",
       "        </tr>\n",
       "        <tr>\n",
       "            <td>None</td>\n",
       "            <td>Iceland</td>\n",
       "            <td>None</td>\n",
       "        </tr>\n",
       "        <tr>\n",
       "            <td>None</td>\n",
       "            <td>Japan</td>\n",
       "            <td>None</td>\n",
       "        </tr>\n",
       "        <tr>\n",
       "            <td>None</td>\n",
       "            <td>Poland</td>\n",
       "            <td>None</td>\n",
       "        </tr>\n",
       "        <tr>\n",
       "            <td>None</td>\n",
       "            <td>Sweden</td>\n",
       "            <td>None</td>\n",
       "        </tr>\n",
       "        <tr>\n",
       "            <td>None</td>\n",
       "            <td>UK</td>\n",
       "            <td>None</td>\n",
       "        </tr>\n",
       "        <tr>\n",
       "            <td>None</td>\n",
       "            <td>USA</td>\n",
       "            <td>5000000</td>\n",
       "        </tr>\n",
       "    </tbody>\n",
       "</table>"
      ],
      "text/plain": [
       "[(None, None, None),\n",
       " (None, 'Australia', 15000000),\n",
       " (None, 'Canada', None),\n",
       " (None, 'France', None),\n",
       " (None, 'Iceland', None),\n",
       " (None, 'Japan', None),\n",
       " (None, 'Poland', None),\n",
       " (None, 'Sweden', None),\n",
       " (None, 'UK', None),\n",
       " (None, 'USA', 5000000)]"
      ]
     },
     "execution_count": 24,
     "metadata": {},
     "output_type": "execute_result"
    }
   ],
   "source": [
    "%%sql\n",
    "\n",
    "SELECT release_year,\n",
    "       country,\n",
    "       MAX( budget )\n",
    "FROM   films\n",
    "GROUP  BY release_year,\n",
    "          country\n",
    "ORDER  BY release_year,\n",
    "          country\n",
    "LIMIT  10 "
   ]
  },
  {
   "cell_type": "markdown",
   "id": "a084fd6c",
   "metadata": {},
   "source": [
    "Get the country, release year, and lowest amount grossed per release year per country. Order your results by country and release year."
   ]
  },
  {
   "cell_type": "code",
   "execution_count": 25,
   "id": "fe09374a",
   "metadata": {},
   "outputs": [
    {
     "name": "stdout",
     "output_type": "stream",
     "text": [
      " * sqlite:///data/database.db\n",
      "Done.\n"
     ]
    },
    {
     "data": {
      "text/html": [
       "<table>\n",
       "    <thead>\n",
       "        <tr>\n",
       "            <th>country</th>\n",
       "            <th>release_year</th>\n",
       "            <th>MIN( gross )</th>\n",
       "        </tr>\n",
       "    </thead>\n",
       "    <tbody>\n",
       "        <tr>\n",
       "            <td>None</td>\n",
       "            <td>None</td>\n",
       "            <td>None</td>\n",
       "        </tr>\n",
       "        <tr>\n",
       "            <td>None</td>\n",
       "            <td>2014</td>\n",
       "            <td>None</td>\n",
       "        </tr>\n",
       "        <tr>\n",
       "            <td>Afghanistan</td>\n",
       "            <td>2003</td>\n",
       "            <td>1127331</td>\n",
       "        </tr>\n",
       "        <tr>\n",
       "            <td>Argentina</td>\n",
       "            <td>2000</td>\n",
       "            <td>1221261</td>\n",
       "        </tr>\n",
       "        <tr>\n",
       "            <td>Argentina</td>\n",
       "            <td>2004</td>\n",
       "            <td>304124</td>\n",
       "        </tr>\n",
       "        <tr>\n",
       "            <td>Argentina</td>\n",
       "            <td>2009</td>\n",
       "            <td>20167424</td>\n",
       "        </tr>\n",
       "        <tr>\n",
       "            <td>Aruba</td>\n",
       "            <td>1998</td>\n",
       "            <td>10076136</td>\n",
       "        </tr>\n",
       "        <tr>\n",
       "            <td>Australia</td>\n",
       "            <td>None</td>\n",
       "            <td>None</td>\n",
       "        </tr>\n",
       "        <tr>\n",
       "            <td>Australia</td>\n",
       "            <td>1979</td>\n",
       "            <td>None</td>\n",
       "        </tr>\n",
       "        <tr>\n",
       "            <td>Australia</td>\n",
       "            <td>1981</td>\n",
       "            <td>9003011</td>\n",
       "        </tr>\n",
       "    </tbody>\n",
       "</table>"
      ],
      "text/plain": [
       "[(None, None, None),\n",
       " (None, 2014, None),\n",
       " ('Afghanistan', 2003, 1127331),\n",
       " ('Argentina', 2000, 1221261),\n",
       " ('Argentina', 2004, 304124),\n",
       " ('Argentina', 2009, 20167424),\n",
       " ('Aruba', 1998, 10076136),\n",
       " ('Australia', None, None),\n",
       " ('Australia', 1979, None),\n",
       " ('Australia', 1981, 9003011)]"
      ]
     },
     "execution_count": 25,
     "metadata": {},
     "output_type": "execute_result"
    }
   ],
   "source": [
    "%%sql\n",
    "\n",
    "SELECT country,\n",
    "       release_year,\n",
    "       MIN( gross )\n",
    "FROM   films\n",
    "GROUP  BY release_year,\n",
    "          country\n",
    "ORDER  BY country,\n",
    "          release_year\n",
    "LIMIT  10 "
   ]
  },
  {
   "cell_type": "markdown",
   "id": "ab1ca7e3",
   "metadata": {},
   "source": [
    "## HAVING a great time\n",
    "---\n",
    "\n",
    "In SQL, aggregate functions can't be used in `WHERE` clauses. For example, the following query is invalid:\n",
    "\n",
    "`SELECT release_year\n",
    " FROM films\n",
    " GROUP BY release_year\n",
    " WHERE COUNT( title ) > 10`\n",
    "\n",
    "This means that if you want to filter based on the result of an aggregate function, you need another way! That's where the `HAVING` clause comes in. For example,\n",
    "\n",
    "`SELECT release_year\n",
    " FROM films\n",
    " GROUP BY release_year\n",
    " HAVING COUNT( title ) > 10`\n",
    "\n",
    "shows only those years in which more than 10 films were released.\n",
    "\n",
    "In how many different years were more than 200 movies released?"
   ]
  },
  {
   "cell_type": "code",
   "execution_count": 26,
   "id": "a199f4b0",
   "metadata": {},
   "outputs": [
    {
     "name": "stdout",
     "output_type": "stream",
     "text": [
      " * sqlite:///data/database.db\n",
      "Done.\n"
     ]
    },
    {
     "data": {
      "text/html": [
       "<table>\n",
       "    <thead>\n",
       "        <tr>\n",
       "            <th>release_year</th>\n",
       "        </tr>\n",
       "    </thead>\n",
       "    <tbody>\n",
       "        <tr>\n",
       "            <td>2002</td>\n",
       "        </tr>\n",
       "        <tr>\n",
       "            <td>2004</td>\n",
       "        </tr>\n",
       "        <tr>\n",
       "            <td>2005</td>\n",
       "        </tr>\n",
       "        <tr>\n",
       "            <td>2006</td>\n",
       "        </tr>\n",
       "        <tr>\n",
       "            <td>2007</td>\n",
       "        </tr>\n",
       "        <tr>\n",
       "            <td>2008</td>\n",
       "        </tr>\n",
       "        <tr>\n",
       "            <td>2009</td>\n",
       "        </tr>\n",
       "        <tr>\n",
       "            <td>2010</td>\n",
       "        </tr>\n",
       "        <tr>\n",
       "            <td>2011</td>\n",
       "        </tr>\n",
       "        <tr>\n",
       "            <td>2012</td>\n",
       "        </tr>\n",
       "        <tr>\n",
       "            <td>2013</td>\n",
       "        </tr>\n",
       "        <tr>\n",
       "            <td>2014</td>\n",
       "        </tr>\n",
       "        <tr>\n",
       "            <td>2015</td>\n",
       "        </tr>\n",
       "    </tbody>\n",
       "</table>"
      ],
      "text/plain": [
       "[(2002,),\n",
       " (2004,),\n",
       " (2005,),\n",
       " (2006,),\n",
       " (2007,),\n",
       " (2008,),\n",
       " (2009,),\n",
       " (2010,),\n",
       " (2011,),\n",
       " (2012,),\n",
       " (2013,),\n",
       " (2014,),\n",
       " (2015,)]"
      ]
     },
     "execution_count": 26,
     "metadata": {},
     "output_type": "execute_result"
    }
   ],
   "source": [
    "%%sql\n",
    "\n",
    "SELECT release_year\n",
    "FROM   films\n",
    "GROUP  BY release_year\n",
    "HAVING COUNT( title ) > 200 "
   ]
  },
  {
   "cell_type": "markdown",
   "id": "ab482f67",
   "metadata": {},
   "source": [
    "## All together now\n",
    "---\n",
    "\n",
    "Time to practice using `ORDER BY`, `GROUP BY` and `HAVING` together.\n",
    "\n",
    "Now you're going to write a query that returns the average budget and average gross earnings for films in each year after 1990, if the average budget is greater than $60 million.\n",
    "\n",
    "This is going to be a big query, but you can handle it!"
   ]
  },
  {
   "cell_type": "markdown",
   "id": "444bd833",
   "metadata": {},
   "source": [
    "### Instructions\n",
    "Get the release year, budget and gross earnings for each film in the `films` table."
   ]
  },
  {
   "cell_type": "code",
   "execution_count": 27,
   "id": "47191029",
   "metadata": {},
   "outputs": [
    {
     "name": "stdout",
     "output_type": "stream",
     "text": [
      " * sqlite:///data/database.db\n",
      "Done.\n"
     ]
    },
    {
     "data": {
      "text/html": [
       "<table>\n",
       "    <thead>\n",
       "        <tr>\n",
       "            <th>release_year</th>\n",
       "            <th>budget</th>\n",
       "            <th>gross</th>\n",
       "        </tr>\n",
       "    </thead>\n",
       "    <tbody>\n",
       "        <tr>\n",
       "            <td>1916</td>\n",
       "            <td>385907</td>\n",
       "            <td>None</td>\n",
       "        </tr>\n",
       "        <tr>\n",
       "            <td>1920</td>\n",
       "            <td>100000</td>\n",
       "            <td>3000000</td>\n",
       "        </tr>\n",
       "        <tr>\n",
       "            <td>1925</td>\n",
       "            <td>245000</td>\n",
       "            <td>None</td>\n",
       "        </tr>\n",
       "        <tr>\n",
       "            <td>1927</td>\n",
       "            <td>6000000</td>\n",
       "            <td>26435</td>\n",
       "        </tr>\n",
       "        <tr>\n",
       "            <td>1929</td>\n",
       "            <td>None</td>\n",
       "            <td>9950</td>\n",
       "        </tr>\n",
       "        <tr>\n",
       "            <td>1929</td>\n",
       "            <td>379000</td>\n",
       "            <td>2808000</td>\n",
       "        </tr>\n",
       "        <tr>\n",
       "            <td>1930</td>\n",
       "            <td>3950000</td>\n",
       "            <td>None</td>\n",
       "        </tr>\n",
       "        <tr>\n",
       "            <td>1932</td>\n",
       "            <td>800000</td>\n",
       "            <td>None</td>\n",
       "        </tr>\n",
       "        <tr>\n",
       "            <td>1933</td>\n",
       "            <td>439000</td>\n",
       "            <td>2300000</td>\n",
       "        </tr>\n",
       "        <tr>\n",
       "            <td>1933</td>\n",
       "            <td>200000</td>\n",
       "            <td>None</td>\n",
       "        </tr>\n",
       "    </tbody>\n",
       "</table>"
      ],
      "text/plain": [
       "[(1916, 385907, None),\n",
       " (1920, 100000, 3000000),\n",
       " (1925, 245000, None),\n",
       " (1927, 6000000, 26435),\n",
       " (1929, None, 9950),\n",
       " (1929, 379000, 2808000),\n",
       " (1930, 3950000, None),\n",
       " (1932, 800000, None),\n",
       " (1933, 439000, 2300000),\n",
       " (1933, 200000, None)]"
      ]
     },
     "execution_count": 27,
     "metadata": {},
     "output_type": "execute_result"
    }
   ],
   "source": [
    "%%sql\n",
    "\n",
    "SELECT release_year,\n",
    "       budget,\n",
    "       gross\n",
    "FROM   films\n",
    "LIMIT  10 "
   ]
  },
  {
   "cell_type": "markdown",
   "id": "9e4f42ce",
   "metadata": {},
   "source": [
    "Modify your query so that only records with a `release_year` after 1990 are included."
   ]
  },
  {
   "cell_type": "code",
   "execution_count": 28,
   "id": "99b6a855",
   "metadata": {},
   "outputs": [
    {
     "name": "stdout",
     "output_type": "stream",
     "text": [
      " * sqlite:///data/database.db\n",
      "Done.\n"
     ]
    },
    {
     "data": {
      "text/html": [
       "<table>\n",
       "    <thead>\n",
       "        <tr>\n",
       "            <th>release_year</th>\n",
       "            <th>budget</th>\n",
       "            <th>gross</th>\n",
       "        </tr>\n",
       "    </thead>\n",
       "    <tbody>\n",
       "        <tr>\n",
       "            <td>1991</td>\n",
       "            <td>6000000</td>\n",
       "            <td>869325</td>\n",
       "        </tr>\n",
       "        <tr>\n",
       "            <td>1991</td>\n",
       "            <td>20000000</td>\n",
       "            <td>38037513</td>\n",
       "        </tr>\n",
       "        <tr>\n",
       "            <td>1991</td>\n",
       "            <td>6000000</td>\n",
       "            <td>57504069</td>\n",
       "        </tr>\n",
       "        <tr>\n",
       "            <td>1991</td>\n",
       "            <td>35000000</td>\n",
       "            <td>79100000</td>\n",
       "        </tr>\n",
       "        <tr>\n",
       "            <td>1991</td>\n",
       "            <td>15000000</td>\n",
       "            <td>30102717</td>\n",
       "        </tr>\n",
       "        <tr>\n",
       "            <td>1991</td>\n",
       "            <td>35000000</td>\n",
       "            <td>14587732</td>\n",
       "        </tr>\n",
       "        <tr>\n",
       "            <td>1991</td>\n",
       "            <td>8500000</td>\n",
       "            <td>34872293</td>\n",
       "        </tr>\n",
       "        <tr>\n",
       "            <td>1991</td>\n",
       "            <td>23000000</td>\n",
       "            <td>7434726</td>\n",
       "        </tr>\n",
       "        <tr>\n",
       "            <td>1991</td>\n",
       "            <td>70000000</td>\n",
       "            <td>119654900</td>\n",
       "        </tr>\n",
       "        <tr>\n",
       "            <td>1991</td>\n",
       "            <td>5000000</td>\n",
       "            <td>19281235</td>\n",
       "        </tr>\n",
       "    </tbody>\n",
       "</table>"
      ],
      "text/plain": [
       "[(1991, 6000000, 869325),\n",
       " (1991, 20000000, 38037513),\n",
       " (1991, 6000000, 57504069),\n",
       " (1991, 35000000, 79100000),\n",
       " (1991, 15000000, 30102717),\n",
       " (1991, 35000000, 14587732),\n",
       " (1991, 8500000, 34872293),\n",
       " (1991, 23000000, 7434726),\n",
       " (1991, 70000000, 119654900),\n",
       " (1991, 5000000, 19281235)]"
      ]
     },
     "execution_count": 28,
     "metadata": {},
     "output_type": "execute_result"
    }
   ],
   "source": [
    "%%sql\n",
    "\n",
    "SELECT release_year,\n",
    "       budget,\n",
    "       gross\n",
    "FROM   films\n",
    "WHERE  release_year > 1990\n",
    "LIMIT  10 "
   ]
  },
  {
   "cell_type": "markdown",
   "id": "da19c1be",
   "metadata": {},
   "source": [
    "Remove the budget and gross columns, and group your results by release year."
   ]
  },
  {
   "cell_type": "code",
   "execution_count": 29,
   "id": "c1437c2f",
   "metadata": {},
   "outputs": [
    {
     "name": "stdout",
     "output_type": "stream",
     "text": [
      " * sqlite:///data/database.db\n",
      "Done.\n"
     ]
    },
    {
     "data": {
      "text/html": [
       "<table>\n",
       "    <thead>\n",
       "        <tr>\n",
       "            <th>release_year</th>\n",
       "        </tr>\n",
       "    </thead>\n",
       "    <tbody>\n",
       "        <tr>\n",
       "            <td>1991</td>\n",
       "        </tr>\n",
       "        <tr>\n",
       "            <td>1992</td>\n",
       "        </tr>\n",
       "        <tr>\n",
       "            <td>1993</td>\n",
       "        </tr>\n",
       "        <tr>\n",
       "            <td>1994</td>\n",
       "        </tr>\n",
       "        <tr>\n",
       "            <td>1995</td>\n",
       "        </tr>\n",
       "        <tr>\n",
       "            <td>1996</td>\n",
       "        </tr>\n",
       "        <tr>\n",
       "            <td>1997</td>\n",
       "        </tr>\n",
       "        <tr>\n",
       "            <td>1998</td>\n",
       "        </tr>\n",
       "        <tr>\n",
       "            <td>1999</td>\n",
       "        </tr>\n",
       "        <tr>\n",
       "            <td>2000</td>\n",
       "        </tr>\n",
       "        <tr>\n",
       "            <td>2001</td>\n",
       "        </tr>\n",
       "        <tr>\n",
       "            <td>2002</td>\n",
       "        </tr>\n",
       "        <tr>\n",
       "            <td>2003</td>\n",
       "        </tr>\n",
       "        <tr>\n",
       "            <td>2004</td>\n",
       "        </tr>\n",
       "        <tr>\n",
       "            <td>2005</td>\n",
       "        </tr>\n",
       "        <tr>\n",
       "            <td>2006</td>\n",
       "        </tr>\n",
       "        <tr>\n",
       "            <td>2007</td>\n",
       "        </tr>\n",
       "        <tr>\n",
       "            <td>2008</td>\n",
       "        </tr>\n",
       "        <tr>\n",
       "            <td>2009</td>\n",
       "        </tr>\n",
       "        <tr>\n",
       "            <td>2010</td>\n",
       "        </tr>\n",
       "        <tr>\n",
       "            <td>2011</td>\n",
       "        </tr>\n",
       "        <tr>\n",
       "            <td>2012</td>\n",
       "        </tr>\n",
       "        <tr>\n",
       "            <td>2013</td>\n",
       "        </tr>\n",
       "        <tr>\n",
       "            <td>2014</td>\n",
       "        </tr>\n",
       "        <tr>\n",
       "            <td>2015</td>\n",
       "        </tr>\n",
       "        <tr>\n",
       "            <td>2016</td>\n",
       "        </tr>\n",
       "    </tbody>\n",
       "</table>"
      ],
      "text/plain": [
       "[(1991,),\n",
       " (1992,),\n",
       " (1993,),\n",
       " (1994,),\n",
       " (1995,),\n",
       " (1996,),\n",
       " (1997,),\n",
       " (1998,),\n",
       " (1999,),\n",
       " (2000,),\n",
       " (2001,),\n",
       " (2002,),\n",
       " (2003,),\n",
       " (2004,),\n",
       " (2005,),\n",
       " (2006,),\n",
       " (2007,),\n",
       " (2008,),\n",
       " (2009,),\n",
       " (2010,),\n",
       " (2011,),\n",
       " (2012,),\n",
       " (2013,),\n",
       " (2014,),\n",
       " (2015,),\n",
       " (2016,)]"
      ]
     },
     "execution_count": 29,
     "metadata": {},
     "output_type": "execute_result"
    }
   ],
   "source": [
    "%%sql\n",
    "\n",
    "SELECT release_year\n",
    "FROM   films\n",
    "GROUP  BY release_year\n",
    "HAVING release_year > 1990 "
   ]
  },
  {
   "cell_type": "markdown",
   "id": "713ad0dc",
   "metadata": {},
   "source": [
    "Modify your query to include the average budget and average gross earnings for the results you have so far. Alias the average budget as `avg_budget`; alias the average gross earnings as `avg_gross`."
   ]
  },
  {
   "cell_type": "code",
   "execution_count": 30,
   "id": "a29ab82d",
   "metadata": {},
   "outputs": [
    {
     "name": "stdout",
     "output_type": "stream",
     "text": [
      " * sqlite:///data/database.db\n",
      "Done.\n"
     ]
    },
    {
     "data": {
      "text/html": [
       "<table>\n",
       "    <thead>\n",
       "        <tr>\n",
       "            <th>release_year</th>\n",
       "            <th>avg_budget</th>\n",
       "            <th>avg_gross</th>\n",
       "        </tr>\n",
       "    </thead>\n",
       "    <tbody>\n",
       "        <tr>\n",
       "            <td>1991</td>\n",
       "            <td>25176548.387096774</td>\n",
       "            <td>53844501.666666664</td>\n",
       "        </tr>\n",
       "        <tr>\n",
       "            <td>1992</td>\n",
       "            <td>25982030.303030305</td>\n",
       "            <td>63665195.14705882</td>\n",
       "        </tr>\n",
       "        <tr>\n",
       "            <td>1993</td>\n",
       "            <td>20729787.23404255</td>\n",
       "            <td>45302091.41304348</td>\n",
       "        </tr>\n",
       "        <tr>\n",
       "            <td>1994</td>\n",
       "            <td>29013773.58490566</td>\n",
       "            <td>59395666.16981132</td>\n",
       "        </tr>\n",
       "        <tr>\n",
       "            <td>1995</td>\n",
       "            <td>32775000.0</td>\n",
       "            <td>44909519.98550725</td>\n",
       "        </tr>\n",
       "        <tr>\n",
       "            <td>1996</td>\n",
       "            <td>31620612.244897958</td>\n",
       "            <td>42044174.25263158</td>\n",
       "        </tr>\n",
       "        <tr>\n",
       "            <td>1997</td>\n",
       "            <td>59424490.74074074</td>\n",
       "            <td>44793772.43103448</td>\n",
       "        </tr>\n",
       "        <tr>\n",
       "            <td>1998</td>\n",
       "            <td>40460000.0</td>\n",
       "            <td>38377007.96124031</td>\n",
       "        </tr>\n",
       "        <tr>\n",
       "            <td>1999</td>\n",
       "            <td>38981780.487804875</td>\n",
       "            <td>38072176.27710843</td>\n",
       "        </tr>\n",
       "        <tr>\n",
       "            <td>2000</td>\n",
       "            <td>34931375.75757576</td>\n",
       "            <td>42172627.58083832</td>\n",
       "        </tr>\n",
       "        <tr>\n",
       "            <td>2001</td>\n",
       "            <td>37687307.692307696</td>\n",
       "            <td>43255716.92553192</td>\n",
       "        </tr>\n",
       "        <tr>\n",
       "            <td>2002</td>\n",
       "            <td>32598510.68811881</td>\n",
       "            <td>43511151.485</td>\n",
       "        </tr>\n",
       "        <tr>\n",
       "            <td>2003</td>\n",
       "            <td>37208648.833333336</td>\n",
       "            <td>48727746.72327044</td>\n",
       "        </tr>\n",
       "        <tr>\n",
       "            <td>2004</td>\n",
       "            <td>46865344.62436548</td>\n",
       "            <td>40726529.11</td>\n",
       "        </tr>\n",
       "        <tr>\n",
       "            <td>2005</td>\n",
       "            <td>70323938.23152709</td>\n",
       "            <td>41159143.29064039</td>\n",
       "        </tr>\n",
       "        <tr>\n",
       "            <td>2006</td>\n",
       "            <td>93968929.57746479</td>\n",
       "            <td>39237855.9537037</td>\n",
       "        </tr>\n",
       "        <tr>\n",
       "            <td>2007</td>\n",
       "            <td>35271131.14754099</td>\n",
       "            <td>46267501.02234637</td>\n",
       "        </tr>\n",
       "        <tr>\n",
       "            <td>2008</td>\n",
       "            <td>41804885.5721393</td>\n",
       "            <td>44573509.378109455</td>\n",
       "        </tr>\n",
       "        <tr>\n",
       "            <td>2009</td>\n",
       "            <td>37073287.03703704</td>\n",
       "            <td>46207440.2</td>\n",
       "        </tr>\n",
       "        <tr>\n",
       "            <td>2010</td>\n",
       "            <td>46094664.948453605</td>\n",
       "            <td>49908326.01005025</td>\n",
       "        </tr>\n",
       "        <tr>\n",
       "            <td>2011</td>\n",
       "            <td>37775251.71568628</td>\n",
       "            <td>45785836.64397906</td>\n",
       "        </tr>\n",
       "        <tr>\n",
       "            <td>2012</td>\n",
       "            <td>41331819.162436545</td>\n",
       "            <td>62873527.67955801</td>\n",
       "        </tr>\n",
       "        <tr>\n",
       "            <td>2013</td>\n",
       "            <td>40519044.91549296</td>\n",
       "            <td>56158357.77540107</td>\n",
       "        </tr>\n",
       "        <tr>\n",
       "            <td>2014</td>\n",
       "            <td>35325799.126637556</td>\n",
       "            <td>62412136.94610778</td>\n",
       "        </tr>\n",
       "        <tr>\n",
       "            <td>2015</td>\n",
       "            <td>39298329.217391305</td>\n",
       "            <td>72573302.93055555</td>\n",
       "        </tr>\n",
       "        <tr>\n",
       "            <td>2016</td>\n",
       "            <td>56642741.93548387</td>\n",
       "            <td>76924035.8918919</td>\n",
       "        </tr>\n",
       "    </tbody>\n",
       "</table>"
      ],
      "text/plain": [
       "[(1991, 25176548.387096774, 53844501.666666664),\n",
       " (1992, 25982030.303030305, 63665195.14705882),\n",
       " (1993, 20729787.23404255, 45302091.41304348),\n",
       " (1994, 29013773.58490566, 59395666.16981132),\n",
       " (1995, 32775000.0, 44909519.98550725),\n",
       " (1996, 31620612.244897958, 42044174.25263158),\n",
       " (1997, 59424490.74074074, 44793772.43103448),\n",
       " (1998, 40460000.0, 38377007.96124031),\n",
       " (1999, 38981780.487804875, 38072176.27710843),\n",
       " (2000, 34931375.75757576, 42172627.58083832),\n",
       " (2001, 37687307.692307696, 43255716.92553192),\n",
       " (2002, 32598510.68811881, 43511151.485),\n",
       " (2003, 37208648.833333336, 48727746.72327044),\n",
       " (2004, 46865344.62436548, 40726529.11),\n",
       " (2005, 70323938.23152709, 41159143.29064039),\n",
       " (2006, 93968929.57746479, 39237855.9537037),\n",
       " (2007, 35271131.14754099, 46267501.02234637),\n",
       " (2008, 41804885.5721393, 44573509.378109455),\n",
       " (2009, 37073287.03703704, 46207440.2),\n",
       " (2010, 46094664.948453605, 49908326.01005025),\n",
       " (2011, 37775251.71568628, 45785836.64397906),\n",
       " (2012, 41331819.162436545, 62873527.67955801),\n",
       " (2013, 40519044.91549296, 56158357.77540107),\n",
       " (2014, 35325799.126637556, 62412136.94610778),\n",
       " (2015, 39298329.217391305, 72573302.93055555),\n",
       " (2016, 56642741.93548387, 76924035.8918919)]"
      ]
     },
     "execution_count": 30,
     "metadata": {},
     "output_type": "execute_result"
    }
   ],
   "source": [
    "%%sql\n",
    "\n",
    "SELECT release_year,\n",
    "       AVG( budget ) AS avg_budget,\n",
    "       AVG( gross )  AS avg_gross\n",
    "FROM   films\n",
    "WHERE  release_year > 1990\n",
    "GROUP  BY release_year"
   ]
  },
  {
   "cell_type": "markdown",
   "id": "17ae7093",
   "metadata": {},
   "source": [
    "Modify your query so that only years with an average budget of greater than $60 million are included."
   ]
  },
  {
   "cell_type": "code",
   "execution_count": 31,
   "id": "27b1adad",
   "metadata": {},
   "outputs": [
    {
     "name": "stdout",
     "output_type": "stream",
     "text": [
      " * sqlite:///data/database.db\n",
      "Done.\n"
     ]
    },
    {
     "data": {
      "text/html": [
       "<table>\n",
       "    <thead>\n",
       "        <tr>\n",
       "            <th>release_year</th>\n",
       "            <th>avg_budget</th>\n",
       "            <th>avg_gross</th>\n",
       "        </tr>\n",
       "    </thead>\n",
       "    <tbody>\n",
       "        <tr>\n",
       "            <td>2005</td>\n",
       "            <td>70323938.23152709</td>\n",
       "            <td>41159143.29064039</td>\n",
       "        </tr>\n",
       "        <tr>\n",
       "            <td>2006</td>\n",
       "            <td>93968929.57746479</td>\n",
       "            <td>39237855.9537037</td>\n",
       "        </tr>\n",
       "    </tbody>\n",
       "</table>"
      ],
      "text/plain": [
       "[(2005, 70323938.23152709, 41159143.29064039),\n",
       " (2006, 93968929.57746479, 39237855.9537037)]"
      ]
     },
     "execution_count": 31,
     "metadata": {},
     "output_type": "execute_result"
    }
   ],
   "source": [
    "%%sql\n",
    "\n",
    "SELECT release_year,\n",
    "       AVG( budget ) AS avg_budget,\n",
    "       AVG( gross )  AS avg_gross\n",
    "FROM   films\n",
    "WHERE  release_year > 1990\n",
    "GROUP  BY release_year\n",
    "HAVING AVG( budget ) > 60000000 "
   ]
  },
  {
   "cell_type": "markdown",
   "id": "fa4edd02",
   "metadata": {},
   "source": [
    "Finally, modify your query to order the results from highest average gross earnings to lowest."
   ]
  },
  {
   "cell_type": "code",
   "execution_count": 32,
   "id": "6617532c",
   "metadata": {},
   "outputs": [
    {
     "name": "stdout",
     "output_type": "stream",
     "text": [
      " * sqlite:///data/database.db\n",
      "Done.\n"
     ]
    },
    {
     "data": {
      "text/html": [
       "<table>\n",
       "    <thead>\n",
       "        <tr>\n",
       "            <th>release_year</th>\n",
       "            <th>avg_budget</th>\n",
       "            <th>avg_gross</th>\n",
       "        </tr>\n",
       "    </thead>\n",
       "    <tbody>\n",
       "        <tr>\n",
       "            <td>2005</td>\n",
       "            <td>70323938.23152709</td>\n",
       "            <td>41159143.29064039</td>\n",
       "        </tr>\n",
       "        <tr>\n",
       "            <td>2006</td>\n",
       "            <td>93968929.57746479</td>\n",
       "            <td>39237855.9537037</td>\n",
       "        </tr>\n",
       "    </tbody>\n",
       "</table>"
      ],
      "text/plain": [
       "[(2005, 70323938.23152709, 41159143.29064039),\n",
       " (2006, 93968929.57746479, 39237855.9537037)]"
      ]
     },
     "execution_count": 32,
     "metadata": {},
     "output_type": "execute_result"
    }
   ],
   "source": [
    "%%sql\n",
    "\n",
    "SELECT release_year,\n",
    "       AVG( budget ) AS avg_budget,\n",
    "       AVG( gross )  AS avg_gross\n",
    "FROM   films\n",
    "WHERE  release_year > 1990\n",
    "GROUP  BY release_year\n",
    "HAVING AVG( budget ) > 60000000\n",
    "ORDER  BY AVG( gross ) DESC "
   ]
  },
  {
   "cell_type": "markdown",
   "id": "c6b6e161",
   "metadata": {},
   "source": [
    "## All together now (2)\n",
    "---\n",
    "\n",
    "Great work! Now try another large query. This time, all in one go!\n",
    "\n",
    "Remember, if you only want to return a certain number of results, you can use the `LIMIT` keyword to limit the number of rows returned."
   ]
  },
  {
   "cell_type": "markdown",
   "id": "3d03c35c",
   "metadata": {},
   "source": [
    "### Instructions\n",
    "Get the country, average budget, and average gross take of countries that have made more than 10 films. Order the result by country name, and limit the number of results displayed to 5. You should alias the averages as `avg_budget` and `avg_gross` respectively."
   ]
  },
  {
   "cell_type": "code",
   "execution_count": 33,
   "id": "7909eef4",
   "metadata": {},
   "outputs": [
    {
     "name": "stdout",
     "output_type": "stream",
     "text": [
      " * sqlite:///data/database.db\n",
      "Done.\n"
     ]
    },
    {
     "data": {
      "text/html": [
       "<table>\n",
       "    <thead>\n",
       "        <tr>\n",
       "            <th>country</th>\n",
       "            <th>avg_budget</th>\n",
       "            <th>avg_gross</th>\n",
       "        </tr>\n",
       "    </thead>\n",
       "    <tbody>\n",
       "        <tr>\n",
       "            <td>Australia</td>\n",
       "            <td>31172110.46</td>\n",
       "            <td>40205909.571428575</td>\n",
       "        </tr>\n",
       "        <tr>\n",
       "            <td>Canada</td>\n",
       "            <td>14798458.71559633</td>\n",
       "            <td>22432066.680555556</td>\n",
       "        </tr>\n",
       "        <tr>\n",
       "            <td>China</td>\n",
       "            <td>62219000.0</td>\n",
       "            <td>14143040.736842105</td>\n",
       "        </tr>\n",
       "        <tr>\n",
       "            <td>Denmark</td>\n",
       "            <td>13922222.222222222</td>\n",
       "            <td>1418469.111111111</td>\n",
       "        </tr>\n",
       "        <tr>\n",
       "            <td>France</td>\n",
       "            <td>30672034.615384616</td>\n",
       "            <td>16350593.578512397</td>\n",
       "        </tr>\n",
       "    </tbody>\n",
       "</table>"
      ],
      "text/plain": [
       "[('Australia', 31172110.46, 40205909.571428575),\n",
       " ('Canada', 14798458.71559633, 22432066.680555556),\n",
       " ('China', 62219000.0, 14143040.736842105),\n",
       " ('Denmark', 13922222.222222222, 1418469.111111111),\n",
       " ('France', 30672034.615384616, 16350593.578512397)]"
      ]
     },
     "execution_count": 33,
     "metadata": {},
     "output_type": "execute_result"
    }
   ],
   "source": [
    "%%sql\n",
    "\n",
    "SELECT country,\n",
    "       AVG( budget ) AS avg_budget,\n",
    "       AVG( gross )  AS avg_gross\n",
    "FROM   films\n",
    "GROUP  BY country\n",
    "HAVING COUNT( title ) > 10\n",
    "ORDER  BY country\n",
    "LIMIT  5 "
   ]
  },
  {
   "cell_type": "markdown",
   "id": "fee42bcb",
   "metadata": {},
   "source": [
    "## A taste of things to come\n",
    "---\n",
    "\n",
    "Congrats on making it to the end of the course! By now you should have a good understanding of the basics of SQL.\n",
    "\n",
    "There's one more concept we're going to introduce. You may have noticed that all your results so far have been from just one table, e.g., **films** or **people**.\n",
    "\n",
    "In the real world however, you will often want to query multiple tables. For example, what if you want to see the IMDB score for a particular movie?\n",
    "\n",
    "In this case, you'd want to get the ID of the movie from the **films** table and then use it to get IMDB information from the **reviews** table. In SQL, this concept is known as a join, and a basic join is shown in the editor to the right.\n",
    "\n",
    "The query in the editor gets the IMDB score for the film To Kill a Mockingbird! Cool right?\n",
    "\n",
    "As you can see, joins are incredibly useful and important to understand for anyone using SQL."
   ]
  },
  {
   "cell_type": "code",
   "execution_count": 34,
   "id": "582638d3",
   "metadata": {},
   "outputs": [
    {
     "name": "stdout",
     "output_type": "stream",
     "text": [
      " * sqlite:///data/database.db\n",
      "Done.\n"
     ]
    },
    {
     "data": {
      "text/html": [
       "<table>\n",
       "    <thead>\n",
       "        <tr>\n",
       "            <th>title</th>\n",
       "            <th>imdb_score</th>\n",
       "        </tr>\n",
       "    </thead>\n",
       "    <tbody>\n",
       "        <tr>\n",
       "            <td>To Kill a Mockingbird</td>\n",
       "            <td>8.4</td>\n",
       "        </tr>\n",
       "    </tbody>\n",
       "</table>"
      ],
      "text/plain": [
       "[('To Kill a Mockingbird', 8.4)]"
      ]
     },
     "execution_count": 34,
     "metadata": {},
     "output_type": "execute_result"
    }
   ],
   "source": [
    "%%sql\n",
    "\n",
    "SELECT title,\n",
    "       imdb_score\n",
    "FROM   films\n",
    "       JOIN reviews\n",
    "         ON films.id = reviews.film_id\n",
    "WHERE  title = 'To Kill a Mockingbird' "
   ]
  }
 ],
 "metadata": {
  "kernelspec": {
   "display_name": "Python 3",
   "language": "python",
   "name": "python3"
  },
  "language_info": {
   "codemirror_mode": {
    "name": "ipython",
    "version": 3
   },
   "file_extension": ".py",
   "mimetype": "text/x-python",
   "name": "python",
   "nbconvert_exporter": "python",
   "pygments_lexer": "ipython3",
   "version": "3.8.8"
  }
 },
 "nbformat": 4,
 "nbformat_minor": 5
}
