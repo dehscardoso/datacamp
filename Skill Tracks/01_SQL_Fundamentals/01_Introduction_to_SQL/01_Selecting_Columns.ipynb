{
 "cells": [
  {
   "cell_type": "markdown",
   "id": "6c9171a6",
   "metadata": {},
   "source": [
    "<img src = \"https://images2.imgbox.com/60/09/VFwl5LOq_o.jpg\" width=\"400\">"
   ]
  },
  {
   "cell_type": "markdown",
   "id": "a71bd404",
   "metadata": {},
   "source": [
    "# 1. Selecting Columns\n",
    "---"
   ]
  },
  {
   "cell_type": "markdown",
   "id": "1553bcb6",
   "metadata": {},
   "source": [
    "This chapter provides a brief introduction to working with relational databases. You'll learn about their structure, how to talk about them using database lingo, and how to begin an analysis using simple SQL commands to select and summarize columns from database tables."
   ]
  },
  {
   "cell_type": "code",
   "execution_count": 1,
   "id": "3b650bcf",
   "metadata": {},
   "outputs": [],
   "source": [
    "# %pip install ipython-sql"
   ]
  },
  {
   "cell_type": "code",
   "execution_count": 2,
   "id": "e564619d",
   "metadata": {},
   "outputs": [],
   "source": [
    "%load_ext sql"
   ]
  },
  {
   "cell_type": "code",
   "execution_count": 3,
   "id": "af4fceb5",
   "metadata": {},
   "outputs": [
    {
     "data": {
      "text/plain": [
       "'Connected: @data/database.db'"
      ]
     },
     "execution_count": 3,
     "metadata": {},
     "output_type": "execute_result"
    }
   ],
   "source": [
    "%sql sqlite:///data/database.db"
   ]
  },
  {
   "cell_type": "markdown",
   "id": "bd2d2e14",
   "metadata": {},
   "source": [
    "## Onboarding | Tables\n",
    "---\n",
    "\n",
    "For this course, you'll be using a database containing information on almost 5000 films. \n",
    "\n",
    "Who is the first person listed in the people table?"
   ]
  },
  {
   "cell_type": "code",
   "execution_count": 4,
   "id": "386ca3dc",
   "metadata": {},
   "outputs": [
    {
     "name": "stdout",
     "output_type": "stream",
     "text": [
      " * sqlite:///data/database.db\n",
      "Done.\n"
     ]
    },
    {
     "data": {
      "text/html": [
       "<table>\n",
       "    <thead>\n",
       "        <tr>\n",
       "            <th>id</th>\n",
       "            <th>name</th>\n",
       "            <th>birthdate</th>\n",
       "            <th>deathdate</th>\n",
       "        </tr>\n",
       "    </thead>\n",
       "    <tbody>\n",
       "        <tr>\n",
       "            <td>1</td>\n",
       "            <td>50 Cent</td>\n",
       "            <td>1975-07-06</td>\n",
       "            <td>None</td>\n",
       "        </tr>\n",
       "        <tr>\n",
       "            <td>2</td>\n",
       "            <td>A. Michael Baldwin</td>\n",
       "            <td>1963-04-04</td>\n",
       "            <td>None</td>\n",
       "        </tr>\n",
       "        <tr>\n",
       "            <td>3</td>\n",
       "            <td>A. Raven Cruz</td>\n",
       "            <td>None</td>\n",
       "            <td>None</td>\n",
       "        </tr>\n",
       "        <tr>\n",
       "            <td>4</td>\n",
       "            <td>A.J. Buckley</td>\n",
       "            <td>1978-02-09</td>\n",
       "            <td>None</td>\n",
       "        </tr>\n",
       "        <tr>\n",
       "            <td>5</td>\n",
       "            <td>A.J. DeLucia</td>\n",
       "            <td>None</td>\n",
       "            <td>None</td>\n",
       "        </tr>\n",
       "        <tr>\n",
       "            <td>6</td>\n",
       "            <td>A.J. Langer</td>\n",
       "            <td>1974-05-22</td>\n",
       "            <td>None</td>\n",
       "        </tr>\n",
       "        <tr>\n",
       "            <td>7</td>\n",
       "            <td>Aaliyah</td>\n",
       "            <td>1979-01-16</td>\n",
       "            <td>2001-08-25</td>\n",
       "        </tr>\n",
       "        <tr>\n",
       "            <td>8</td>\n",
       "            <td>Aaron Ashmore</td>\n",
       "            <td>1979-10-07</td>\n",
       "            <td>None</td>\n",
       "        </tr>\n",
       "        <tr>\n",
       "            <td>9</td>\n",
       "            <td>Aaron Hann</td>\n",
       "            <td>None</td>\n",
       "            <td>None</td>\n",
       "        </tr>\n",
       "        <tr>\n",
       "            <td>10</td>\n",
       "            <td>Aaron Hill</td>\n",
       "            <td>1983-04-23</td>\n",
       "            <td>None</td>\n",
       "        </tr>\n",
       "    </tbody>\n",
       "</table>"
      ],
      "text/plain": [
       "[(1, '50 Cent', '1975-07-06', None),\n",
       " (2, 'A. Michael Baldwin', '1963-04-04', None),\n",
       " (3, 'A. Raven Cruz', None, None),\n",
       " (4, 'A.J. Buckley', '1978-02-09', None),\n",
       " (5, 'A.J. DeLucia', None, None),\n",
       " (6, 'A.J. Langer', '1974-05-22', None),\n",
       " (7, 'Aaliyah', '1979-01-16', '2001-08-25'),\n",
       " (8, 'Aaron Ashmore', '1979-10-07', None),\n",
       " (9, 'Aaron Hann', None, None),\n",
       " (10, 'Aaron Hill', '1983-04-23', None)]"
      ]
     },
     "execution_count": 4,
     "metadata": {},
     "output_type": "execute_result"
    }
   ],
   "source": [
    "%%sql \n",
    "\n",
    "SELECT *\n",
    "FROM   people\n",
    "LIMIT  10 "
   ]
  },
  {
   "cell_type": "markdown",
   "id": "5b9020dd",
   "metadata": {},
   "source": [
    "## Onboarding | Query Result\n",
    "---\n",
    "\n",
    "Run this query in the editor and check out the resulting table in the query result tab!\n",
    "\n",
    "`SELECT name FROM people`\n",
    "\n",
    "Who is the second person listed in the query result?"
   ]
  },
  {
   "cell_type": "code",
   "execution_count": 5,
   "id": "767803cf",
   "metadata": {},
   "outputs": [
    {
     "name": "stdout",
     "output_type": "stream",
     "text": [
      " * sqlite:///data/database.db\n",
      "Done.\n"
     ]
    },
    {
     "data": {
      "text/html": [
       "<table>\n",
       "    <thead>\n",
       "        <tr>\n",
       "            <th>name</th>\n",
       "        </tr>\n",
       "    </thead>\n",
       "    <tbody>\n",
       "        <tr>\n",
       "            <td>50 Cent</td>\n",
       "        </tr>\n",
       "        <tr>\n",
       "            <td>A. Michael Baldwin</td>\n",
       "        </tr>\n",
       "        <tr>\n",
       "            <td>A. Raven Cruz</td>\n",
       "        </tr>\n",
       "        <tr>\n",
       "            <td>A.J. Buckley</td>\n",
       "        </tr>\n",
       "        <tr>\n",
       "            <td>A.J. DeLucia</td>\n",
       "        </tr>\n",
       "        <tr>\n",
       "            <td>A.J. Langer</td>\n",
       "        </tr>\n",
       "        <tr>\n",
       "            <td>Aaliyah</td>\n",
       "        </tr>\n",
       "        <tr>\n",
       "            <td>Aaron Ashmore</td>\n",
       "        </tr>\n",
       "        <tr>\n",
       "            <td>Aaron Hann</td>\n",
       "        </tr>\n",
       "        <tr>\n",
       "            <td>Aaron Hill</td>\n",
       "        </tr>\n",
       "    </tbody>\n",
       "</table>"
      ],
      "text/plain": [
       "[('50 Cent',),\n",
       " ('A. Michael Baldwin',),\n",
       " ('A. Raven Cruz',),\n",
       " ('A.J. Buckley',),\n",
       " ('A.J. DeLucia',),\n",
       " ('A.J. Langer',),\n",
       " ('Aaliyah',),\n",
       " ('Aaron Ashmore',),\n",
       " ('Aaron Hann',),\n",
       " ('Aaron Hill',)]"
      ]
     },
     "execution_count": 5,
     "metadata": {},
     "output_type": "execute_result"
    }
   ],
   "source": [
    "%%sql \n",
    "\n",
    "SELECT name\n",
    "FROM   people\n",
    "LIMIT  10 "
   ]
  },
  {
   "cell_type": "markdown",
   "id": "764c98fe",
   "metadata": {},
   "source": [
    "## Beginning your SQL journey\n",
    "---\n",
    "\n",
    "SQL, which stands for Structured Query Language, is a language for interacting with data stored in something called a relational database.\n",
    "\n",
    "You can think of a relational database as a collection of tables. A table is just a set of rows and columns, like a spreadsheet, which represents exactly one type of entity. For example, a table might represent employees in a company or purchases made, but not both.\n",
    "\n",
    "Each row, or record, of a table contains information about a single entity. For example, in a table representing employees, each row represents a single person. Each column, or field, of a table contains a single attribute for all rows in the table. For example, in a table representing employees, we might have a column containing first and last names for all employees."
   ]
  },
  {
   "cell_type": "code",
   "execution_count": 6,
   "id": "5f5e5d6e",
   "metadata": {},
   "outputs": [
    {
     "name": "stdout",
     "output_type": "stream",
     "text": [
      " * sqlite:///data/database.db\n",
      "Done.\n"
     ]
    },
    {
     "data": {
      "text/html": [
       "<table>\n",
       "    <thead>\n",
       "        <tr>\n",
       "            <th>id</th>\n",
       "            <th>name</th>\n",
       "            <th>age</th>\n",
       "            <th>nationality</th>\n",
       "        </tr>\n",
       "    </thead>\n",
       "    <tbody>\n",
       "        <tr>\n",
       "            <td>1</td>\n",
       "            <td>Jessica</td>\n",
       "            <td>22</td>\n",
       "            <td>Ireland</td>\n",
       "        </tr>\n",
       "        <tr>\n",
       "            <td>2</td>\n",
       "            <td>Gabriel</td>\n",
       "            <td>48</td>\n",
       "            <td>France</td>\n",
       "        </tr>\n",
       "        <tr>\n",
       "            <td>3</td>\n",
       "            <td>Laura</td>\n",
       "            <td>36</td>\n",
       "            <td>USA</td>\n",
       "        </tr>\n",
       "    </tbody>\n",
       "</table>"
      ],
      "text/plain": [
       "[(1, 'Jessica', 22, 'Ireland'),\n",
       " (2, 'Gabriel', 48, 'France'),\n",
       " (3, 'Laura', 36, 'USA')]"
      ]
     },
     "execution_count": 6,
     "metadata": {},
     "output_type": "execute_result"
    }
   ],
   "source": [
    "%%sql \n",
    "\n",
    "SELECT *\n",
    "FROM   employees  "
   ]
  },
  {
   "cell_type": "markdown",
   "id": "c7216663",
   "metadata": {},
   "source": [
    "## SELECTing single columns\n",
    "---\n",
    "\n",
    "While SQL can be used to create and modify databases, the focus of this course will be querying databases. A query is a request for data from a database table (or combination of tables). Querying is an essential skill for a data scientist, since the data you need for your analyses will often live in databases.\n",
    "\n",
    "In SQL, you can select data from a table using a `SELECT` statement. For example, the following query selects the `name` column from the `people` table:\n",
    "\n",
    "`SELECT name FROM people`\n",
    "\n",
    "In this query, `SELECT` and `FROM` are called keywords. In SQL, keywords are not case-sensitive, which means you can write the same query as:\n",
    "\n",
    "`select name from people`\n",
    "\n",
    "That said, it's good practice to make SQL keywords uppercase to distinguish them from other parts of your query, like column and table names."
   ]
  },
  {
   "cell_type": "markdown",
   "id": "7ae81302",
   "metadata": {},
   "source": [
    "### Instructions\n",
    "\n",
    "Select the `title` column from the `films` table."
   ]
  },
  {
   "cell_type": "code",
   "execution_count": 7,
   "id": "817898a6",
   "metadata": {},
   "outputs": [
    {
     "name": "stdout",
     "output_type": "stream",
     "text": [
      " * sqlite:///data/database.db\n",
      "Done.\n"
     ]
    },
    {
     "data": {
      "text/html": [
       "<table>\n",
       "    <thead>\n",
       "        <tr>\n",
       "            <th>title</th>\n",
       "        </tr>\n",
       "    </thead>\n",
       "    <tbody>\n",
       "        <tr>\n",
       "            <td>Intolerance: Love&#x27;s Struggle Throughout the Ages</td>\n",
       "        </tr>\n",
       "        <tr>\n",
       "            <td>Over the Hill to the Poorhouse</td>\n",
       "        </tr>\n",
       "        <tr>\n",
       "            <td>The Big Parade</td>\n",
       "        </tr>\n",
       "        <tr>\n",
       "            <td>Metropolis</td>\n",
       "        </tr>\n",
       "        <tr>\n",
       "            <td>Pandora&#x27;s Box</td>\n",
       "        </tr>\n",
       "        <tr>\n",
       "            <td>The Broadway Melody</td>\n",
       "        </tr>\n",
       "        <tr>\n",
       "            <td>Hell&#x27;s Angels</td>\n",
       "        </tr>\n",
       "        <tr>\n",
       "            <td>A Farewell to Arms</td>\n",
       "        </tr>\n",
       "        <tr>\n",
       "            <td>42nd Street</td>\n",
       "        </tr>\n",
       "        <tr>\n",
       "            <td>She Done Him Wrong</td>\n",
       "        </tr>\n",
       "    </tbody>\n",
       "</table>"
      ],
      "text/plain": [
       "[(\"Intolerance: Love's Struggle Throughout the Ages\",),\n",
       " ('Over the Hill to the Poorhouse',),\n",
       " ('The Big Parade',),\n",
       " ('Metropolis',),\n",
       " (\"Pandora's Box\",),\n",
       " ('The Broadway Melody',),\n",
       " (\"Hell's Angels\",),\n",
       " ('A Farewell to Arms',),\n",
       " ('42nd Street',),\n",
       " ('She Done Him Wrong',)]"
      ]
     },
     "execution_count": 7,
     "metadata": {},
     "output_type": "execute_result"
    }
   ],
   "source": [
    "%%sql \n",
    "\n",
    "SELECT title\n",
    "FROM   films\n",
    "LIMIT  10"
   ]
  },
  {
   "cell_type": "markdown",
   "id": "4337b5af",
   "metadata": {},
   "source": [
    "Select the `release_year` column from the `films` table."
   ]
  },
  {
   "cell_type": "code",
   "execution_count": 8,
   "id": "bdfa645e",
   "metadata": {},
   "outputs": [
    {
     "name": "stdout",
     "output_type": "stream",
     "text": [
      " * sqlite:///data/database.db\n",
      "Done.\n"
     ]
    },
    {
     "data": {
      "text/html": [
       "<table>\n",
       "    <thead>\n",
       "        <tr>\n",
       "            <th>release_year</th>\n",
       "        </tr>\n",
       "    </thead>\n",
       "    <tbody>\n",
       "        <tr>\n",
       "            <td>1916</td>\n",
       "        </tr>\n",
       "        <tr>\n",
       "            <td>1920</td>\n",
       "        </tr>\n",
       "        <tr>\n",
       "            <td>1925</td>\n",
       "        </tr>\n",
       "        <tr>\n",
       "            <td>1927</td>\n",
       "        </tr>\n",
       "        <tr>\n",
       "            <td>1929</td>\n",
       "        </tr>\n",
       "        <tr>\n",
       "            <td>1929</td>\n",
       "        </tr>\n",
       "        <tr>\n",
       "            <td>1930</td>\n",
       "        </tr>\n",
       "        <tr>\n",
       "            <td>1932</td>\n",
       "        </tr>\n",
       "        <tr>\n",
       "            <td>1933</td>\n",
       "        </tr>\n",
       "        <tr>\n",
       "            <td>1933</td>\n",
       "        </tr>\n",
       "    </tbody>\n",
       "</table>"
      ],
      "text/plain": [
       "[(1916,),\n",
       " (1920,),\n",
       " (1925,),\n",
       " (1927,),\n",
       " (1929,),\n",
       " (1929,),\n",
       " (1930,),\n",
       " (1932,),\n",
       " (1933,),\n",
       " (1933,)]"
      ]
     },
     "execution_count": 8,
     "metadata": {},
     "output_type": "execute_result"
    }
   ],
   "source": [
    "%%sql\n",
    "\n",
    "SELECT release_year\n",
    "FROM   films\n",
    "LIMIT  10 "
   ]
  },
  {
   "cell_type": "markdown",
   "id": "68a2f5cb",
   "metadata": {},
   "source": [
    "Select the `name` of each person in the `people` table."
   ]
  },
  {
   "cell_type": "code",
   "execution_count": 9,
   "id": "ed522ed6",
   "metadata": {},
   "outputs": [
    {
     "name": "stdout",
     "output_type": "stream",
     "text": [
      " * sqlite:///data/database.db\n",
      "Done.\n"
     ]
    },
    {
     "data": {
      "text/html": [
       "<table>\n",
       "    <thead>\n",
       "        <tr>\n",
       "            <th>name</th>\n",
       "        </tr>\n",
       "    </thead>\n",
       "    <tbody>\n",
       "        <tr>\n",
       "            <td>50 Cent</td>\n",
       "        </tr>\n",
       "        <tr>\n",
       "            <td>A. Michael Baldwin</td>\n",
       "        </tr>\n",
       "        <tr>\n",
       "            <td>A. Raven Cruz</td>\n",
       "        </tr>\n",
       "        <tr>\n",
       "            <td>A.J. Buckley</td>\n",
       "        </tr>\n",
       "        <tr>\n",
       "            <td>A.J. DeLucia</td>\n",
       "        </tr>\n",
       "        <tr>\n",
       "            <td>A.J. Langer</td>\n",
       "        </tr>\n",
       "        <tr>\n",
       "            <td>Aaliyah</td>\n",
       "        </tr>\n",
       "        <tr>\n",
       "            <td>Aaron Ashmore</td>\n",
       "        </tr>\n",
       "        <tr>\n",
       "            <td>Aaron Hann</td>\n",
       "        </tr>\n",
       "        <tr>\n",
       "            <td>Aaron Hill</td>\n",
       "        </tr>\n",
       "    </tbody>\n",
       "</table>"
      ],
      "text/plain": [
       "[('50 Cent',),\n",
       " ('A. Michael Baldwin',),\n",
       " ('A. Raven Cruz',),\n",
       " ('A.J. Buckley',),\n",
       " ('A.J. DeLucia',),\n",
       " ('A.J. Langer',),\n",
       " ('Aaliyah',),\n",
       " ('Aaron Ashmore',),\n",
       " ('Aaron Hann',),\n",
       " ('Aaron Hill',)]"
      ]
     },
     "execution_count": 9,
     "metadata": {},
     "output_type": "execute_result"
    }
   ],
   "source": [
    "%%sql\n",
    "\n",
    "SELECT name\n",
    "FROM   people\n",
    "LIMIT  10 "
   ]
  },
  {
   "cell_type": "markdown",
   "id": "03720f76",
   "metadata": {},
   "source": [
    "## SELECTing multiple columns\n",
    "---\n",
    "\n",
    "In the real world, you will often want to select multiple columns. Luckily, SQL makes this really easy. To select multiple columns from a table, simply separate the column names with commas!\n",
    "\n",
    "For example, this query selects two columns, `name` and `birthdate`, from the `people` table:\n",
    "\n",
    "`SELECT name, birthdate FROM people`\n",
    "\n",
    "Sometimes, you may want to select all columns from a table. Typing out every column name would be a pain, so there's a handy shortcut:\n",
    "\n",
    "`SELECT * FROM people`\n",
    "\n",
    "If you only want to return a certain number of results, you can use the `LIMIT` keyword to limit the number of rows returned:\n",
    "\n",
    "`SELECT * FROM people LIMIT 10`"
   ]
  },
  {
   "cell_type": "markdown",
   "id": "f2dcffde",
   "metadata": {},
   "source": [
    "### Instructions\n",
    "\n",
    "Get the title of every film from the `films` table."
   ]
  },
  {
   "cell_type": "code",
   "execution_count": 10,
   "id": "c31918fd",
   "metadata": {},
   "outputs": [
    {
     "name": "stdout",
     "output_type": "stream",
     "text": [
      " * sqlite:///data/database.db\n",
      "Done.\n"
     ]
    },
    {
     "data": {
      "text/html": [
       "<table>\n",
       "    <thead>\n",
       "        <tr>\n",
       "            <th>title</th>\n",
       "        </tr>\n",
       "    </thead>\n",
       "    <tbody>\n",
       "        <tr>\n",
       "            <td>Intolerance: Love&#x27;s Struggle Throughout the Ages</td>\n",
       "        </tr>\n",
       "        <tr>\n",
       "            <td>Over the Hill to the Poorhouse</td>\n",
       "        </tr>\n",
       "        <tr>\n",
       "            <td>The Big Parade</td>\n",
       "        </tr>\n",
       "        <tr>\n",
       "            <td>Metropolis</td>\n",
       "        </tr>\n",
       "        <tr>\n",
       "            <td>Pandora&#x27;s Box</td>\n",
       "        </tr>\n",
       "        <tr>\n",
       "            <td>The Broadway Melody</td>\n",
       "        </tr>\n",
       "        <tr>\n",
       "            <td>Hell&#x27;s Angels</td>\n",
       "        </tr>\n",
       "        <tr>\n",
       "            <td>A Farewell to Arms</td>\n",
       "        </tr>\n",
       "        <tr>\n",
       "            <td>42nd Street</td>\n",
       "        </tr>\n",
       "        <tr>\n",
       "            <td>She Done Him Wrong</td>\n",
       "        </tr>\n",
       "    </tbody>\n",
       "</table>"
      ],
      "text/plain": [
       "[(\"Intolerance: Love's Struggle Throughout the Ages\",),\n",
       " ('Over the Hill to the Poorhouse',),\n",
       " ('The Big Parade',),\n",
       " ('Metropolis',),\n",
       " (\"Pandora's Box\",),\n",
       " ('The Broadway Melody',),\n",
       " (\"Hell's Angels\",),\n",
       " ('A Farewell to Arms',),\n",
       " ('42nd Street',),\n",
       " ('She Done Him Wrong',)]"
      ]
     },
     "execution_count": 10,
     "metadata": {},
     "output_type": "execute_result"
    }
   ],
   "source": [
    "%%sql\n",
    "\n",
    "SELECT title\n",
    "FROM   films\n",
    "LIMIT  10 "
   ]
  },
  {
   "cell_type": "markdown",
   "id": "4c98d6d3",
   "metadata": {},
   "source": [
    "Get the title and release year for every film."
   ]
  },
  {
   "cell_type": "code",
   "execution_count": 11,
   "id": "95915e45",
   "metadata": {},
   "outputs": [
    {
     "name": "stdout",
     "output_type": "stream",
     "text": [
      " * sqlite:///data/database.db\n",
      "Done.\n"
     ]
    },
    {
     "data": {
      "text/html": [
       "<table>\n",
       "    <thead>\n",
       "        <tr>\n",
       "            <th>title</th>\n",
       "            <th>release_year</th>\n",
       "        </tr>\n",
       "    </thead>\n",
       "    <tbody>\n",
       "        <tr>\n",
       "            <td>Intolerance: Love&#x27;s Struggle Throughout the Ages</td>\n",
       "            <td>1916</td>\n",
       "        </tr>\n",
       "        <tr>\n",
       "            <td>Over the Hill to the Poorhouse</td>\n",
       "            <td>1920</td>\n",
       "        </tr>\n",
       "        <tr>\n",
       "            <td>The Big Parade</td>\n",
       "            <td>1925</td>\n",
       "        </tr>\n",
       "        <tr>\n",
       "            <td>Metropolis</td>\n",
       "            <td>1927</td>\n",
       "        </tr>\n",
       "        <tr>\n",
       "            <td>Pandora&#x27;s Box</td>\n",
       "            <td>1929</td>\n",
       "        </tr>\n",
       "        <tr>\n",
       "            <td>The Broadway Melody</td>\n",
       "            <td>1929</td>\n",
       "        </tr>\n",
       "        <tr>\n",
       "            <td>Hell&#x27;s Angels</td>\n",
       "            <td>1930</td>\n",
       "        </tr>\n",
       "        <tr>\n",
       "            <td>A Farewell to Arms</td>\n",
       "            <td>1932</td>\n",
       "        </tr>\n",
       "        <tr>\n",
       "            <td>42nd Street</td>\n",
       "            <td>1933</td>\n",
       "        </tr>\n",
       "        <tr>\n",
       "            <td>She Done Him Wrong</td>\n",
       "            <td>1933</td>\n",
       "        </tr>\n",
       "    </tbody>\n",
       "</table>"
      ],
      "text/plain": [
       "[(\"Intolerance: Love's Struggle Throughout the Ages\", 1916),\n",
       " ('Over the Hill to the Poorhouse', 1920),\n",
       " ('The Big Parade', 1925),\n",
       " ('Metropolis', 1927),\n",
       " (\"Pandora's Box\", 1929),\n",
       " ('The Broadway Melody', 1929),\n",
       " (\"Hell's Angels\", 1930),\n",
       " ('A Farewell to Arms', 1932),\n",
       " ('42nd Street', 1933),\n",
       " ('She Done Him Wrong', 1933)]"
      ]
     },
     "execution_count": 11,
     "metadata": {},
     "output_type": "execute_result"
    }
   ],
   "source": [
    "%%sql\n",
    "\n",
    "SELECT title,\n",
    "       release_year\n",
    "FROM   films\n",
    "LIMIT  10"
   ]
  },
  {
   "cell_type": "markdown",
   "id": "ef7b129e",
   "metadata": {},
   "source": [
    "Get the title, release year and country for every film."
   ]
  },
  {
   "cell_type": "code",
   "execution_count": 12,
   "id": "30c30bea",
   "metadata": {},
   "outputs": [
    {
     "name": "stdout",
     "output_type": "stream",
     "text": [
      " * sqlite:///data/database.db\n",
      "Done.\n"
     ]
    },
    {
     "data": {
      "text/html": [
       "<table>\n",
       "    <thead>\n",
       "        <tr>\n",
       "            <th>title</th>\n",
       "            <th>release_year</th>\n",
       "            <th>country</th>\n",
       "        </tr>\n",
       "    </thead>\n",
       "    <tbody>\n",
       "        <tr>\n",
       "            <td>Intolerance: Love&#x27;s Struggle Throughout the Ages</td>\n",
       "            <td>1916</td>\n",
       "            <td>USA</td>\n",
       "        </tr>\n",
       "        <tr>\n",
       "            <td>Over the Hill to the Poorhouse</td>\n",
       "            <td>1920</td>\n",
       "            <td>USA</td>\n",
       "        </tr>\n",
       "        <tr>\n",
       "            <td>The Big Parade</td>\n",
       "            <td>1925</td>\n",
       "            <td>USA</td>\n",
       "        </tr>\n",
       "        <tr>\n",
       "            <td>Metropolis</td>\n",
       "            <td>1927</td>\n",
       "            <td>Germany</td>\n",
       "        </tr>\n",
       "        <tr>\n",
       "            <td>Pandora&#x27;s Box</td>\n",
       "            <td>1929</td>\n",
       "            <td>Germany</td>\n",
       "        </tr>\n",
       "        <tr>\n",
       "            <td>The Broadway Melody</td>\n",
       "            <td>1929</td>\n",
       "            <td>USA</td>\n",
       "        </tr>\n",
       "        <tr>\n",
       "            <td>Hell&#x27;s Angels</td>\n",
       "            <td>1930</td>\n",
       "            <td>USA</td>\n",
       "        </tr>\n",
       "        <tr>\n",
       "            <td>A Farewell to Arms</td>\n",
       "            <td>1932</td>\n",
       "            <td>USA</td>\n",
       "        </tr>\n",
       "        <tr>\n",
       "            <td>42nd Street</td>\n",
       "            <td>1933</td>\n",
       "            <td>USA</td>\n",
       "        </tr>\n",
       "        <tr>\n",
       "            <td>She Done Him Wrong</td>\n",
       "            <td>1933</td>\n",
       "            <td>USA</td>\n",
       "        </tr>\n",
       "    </tbody>\n",
       "</table>"
      ],
      "text/plain": [
       "[(\"Intolerance: Love's Struggle Throughout the Ages\", 1916, 'USA'),\n",
       " ('Over the Hill to the Poorhouse', 1920, 'USA'),\n",
       " ('The Big Parade', 1925, 'USA'),\n",
       " ('Metropolis', 1927, 'Germany'),\n",
       " (\"Pandora's Box\", 1929, 'Germany'),\n",
       " ('The Broadway Melody', 1929, 'USA'),\n",
       " (\"Hell's Angels\", 1930, 'USA'),\n",
       " ('A Farewell to Arms', 1932, 'USA'),\n",
       " ('42nd Street', 1933, 'USA'),\n",
       " ('She Done Him Wrong', 1933, 'USA')]"
      ]
     },
     "execution_count": 12,
     "metadata": {},
     "output_type": "execute_result"
    }
   ],
   "source": [
    "%%sql\n",
    "\n",
    "SELECT title,\n",
    "       release_year,\n",
    "       country\n",
    "FROM   films\n",
    "LIMIT  10 "
   ]
  },
  {
   "cell_type": "markdown",
   "id": "e301d143",
   "metadata": {},
   "source": [
    "Get all columns from the `films` table."
   ]
  },
  {
   "cell_type": "code",
   "execution_count": 13,
   "id": "38bcf3b6",
   "metadata": {},
   "outputs": [
    {
     "name": "stdout",
     "output_type": "stream",
     "text": [
      " * sqlite:///data/database.db\n",
      "Done.\n"
     ]
    },
    {
     "data": {
      "text/html": [
       "<table>\n",
       "    <thead>\n",
       "        <tr>\n",
       "            <th>id</th>\n",
       "            <th>title</th>\n",
       "            <th>release_year</th>\n",
       "            <th>country</th>\n",
       "            <th>duration</th>\n",
       "            <th>language</th>\n",
       "            <th>certification</th>\n",
       "            <th>gross</th>\n",
       "            <th>budget</th>\n",
       "        </tr>\n",
       "    </thead>\n",
       "    <tbody>\n",
       "        <tr>\n",
       "            <td>1</td>\n",
       "            <td>Intolerance: Love&#x27;s Struggle Throughout the Ages</td>\n",
       "            <td>1916</td>\n",
       "            <td>USA</td>\n",
       "            <td>123</td>\n",
       "            <td>None</td>\n",
       "            <td>Not Rated</td>\n",
       "            <td>None</td>\n",
       "            <td>385907</td>\n",
       "        </tr>\n",
       "        <tr>\n",
       "            <td>2</td>\n",
       "            <td>Over the Hill to the Poorhouse</td>\n",
       "            <td>1920</td>\n",
       "            <td>USA</td>\n",
       "            <td>110</td>\n",
       "            <td>None</td>\n",
       "            <td>None</td>\n",
       "            <td>3000000</td>\n",
       "            <td>100000</td>\n",
       "        </tr>\n",
       "        <tr>\n",
       "            <td>3</td>\n",
       "            <td>The Big Parade</td>\n",
       "            <td>1925</td>\n",
       "            <td>USA</td>\n",
       "            <td>151</td>\n",
       "            <td>None</td>\n",
       "            <td>Not Rated</td>\n",
       "            <td>None</td>\n",
       "            <td>245000</td>\n",
       "        </tr>\n",
       "        <tr>\n",
       "            <td>4</td>\n",
       "            <td>Metropolis</td>\n",
       "            <td>1927</td>\n",
       "            <td>Germany</td>\n",
       "            <td>145</td>\n",
       "            <td>German</td>\n",
       "            <td>Not Rated</td>\n",
       "            <td>26435</td>\n",
       "            <td>6000000</td>\n",
       "        </tr>\n",
       "        <tr>\n",
       "            <td>5</td>\n",
       "            <td>Pandora&#x27;s Box</td>\n",
       "            <td>1929</td>\n",
       "            <td>Germany</td>\n",
       "            <td>110</td>\n",
       "            <td>German</td>\n",
       "            <td>Not Rated</td>\n",
       "            <td>9950</td>\n",
       "            <td>None</td>\n",
       "        </tr>\n",
       "        <tr>\n",
       "            <td>6</td>\n",
       "            <td>The Broadway Melody</td>\n",
       "            <td>1929</td>\n",
       "            <td>USA</td>\n",
       "            <td>100</td>\n",
       "            <td>English</td>\n",
       "            <td>Passed</td>\n",
       "            <td>2808000</td>\n",
       "            <td>379000</td>\n",
       "        </tr>\n",
       "        <tr>\n",
       "            <td>7</td>\n",
       "            <td>Hell&#x27;s Angels</td>\n",
       "            <td>1930</td>\n",
       "            <td>USA</td>\n",
       "            <td>96</td>\n",
       "            <td>English</td>\n",
       "            <td>Passed</td>\n",
       "            <td>None</td>\n",
       "            <td>3950000</td>\n",
       "        </tr>\n",
       "        <tr>\n",
       "            <td>8</td>\n",
       "            <td>A Farewell to Arms</td>\n",
       "            <td>1932</td>\n",
       "            <td>USA</td>\n",
       "            <td>79</td>\n",
       "            <td>English</td>\n",
       "            <td>Unrated</td>\n",
       "            <td>None</td>\n",
       "            <td>800000</td>\n",
       "        </tr>\n",
       "        <tr>\n",
       "            <td>9</td>\n",
       "            <td>42nd Street</td>\n",
       "            <td>1933</td>\n",
       "            <td>USA</td>\n",
       "            <td>89</td>\n",
       "            <td>English</td>\n",
       "            <td>Unrated</td>\n",
       "            <td>2300000</td>\n",
       "            <td>439000</td>\n",
       "        </tr>\n",
       "        <tr>\n",
       "            <td>10</td>\n",
       "            <td>She Done Him Wrong</td>\n",
       "            <td>1933</td>\n",
       "            <td>USA</td>\n",
       "            <td>66</td>\n",
       "            <td>English</td>\n",
       "            <td>Approved</td>\n",
       "            <td>None</td>\n",
       "            <td>200000</td>\n",
       "        </tr>\n",
       "    </tbody>\n",
       "</table>"
      ],
      "text/plain": [
       "[(1, \"Intolerance: Love's Struggle Throughout the Ages\", 1916, 'USA', 123, None, 'Not Rated', None, 385907),\n",
       " (2, 'Over the Hill to the Poorhouse', 1920, 'USA', 110, None, None, 3000000, 100000),\n",
       " (3, 'The Big Parade', 1925, 'USA', 151, None, 'Not Rated', None, 245000),\n",
       " (4, 'Metropolis', 1927, 'Germany', 145, 'German', 'Not Rated', 26435, 6000000),\n",
       " (5, \"Pandora's Box\", 1929, 'Germany', 110, 'German', 'Not Rated', 9950, None),\n",
       " (6, 'The Broadway Melody', 1929, 'USA', 100, 'English', 'Passed', 2808000, 379000),\n",
       " (7, \"Hell's Angels\", 1930, 'USA', 96, 'English', 'Passed', None, 3950000),\n",
       " (8, 'A Farewell to Arms', 1932, 'USA', 79, 'English', 'Unrated', None, 800000),\n",
       " (9, '42nd Street', 1933, 'USA', 89, 'English', 'Unrated', 2300000, 439000),\n",
       " (10, 'She Done Him Wrong', 1933, 'USA', 66, 'English', 'Approved', None, 200000)]"
      ]
     },
     "execution_count": 13,
     "metadata": {},
     "output_type": "execute_result"
    }
   ],
   "source": [
    "%%sql\n",
    "\n",
    "SELECT *\n",
    "FROM   films\n",
    "LIMIT  10 "
   ]
  },
  {
   "cell_type": "markdown",
   "id": "fe1e5b3e",
   "metadata": {},
   "source": [
    "## SELECT DISTINCT\n",
    "---\n",
    "\n",
    "Often your results will include many duplicate values. If you want to select all the unique values from a column, you can use the `DISTINCT` keyword.\n",
    "\n",
    "This might be useful if, for example, you're interested in knowing which languages are represented in the `films` table:\n",
    "\n",
    "`SELECT DISTINCT language FROM films`"
   ]
  },
  {
   "cell_type": "markdown",
   "id": "c31c7348",
   "metadata": {},
   "source": [
    "### Instructions\n",
    "Get all the unique countries represented in the `films` table."
   ]
  },
  {
   "cell_type": "code",
   "execution_count": 14,
   "id": "d84ff0d4",
   "metadata": {},
   "outputs": [
    {
     "name": "stdout",
     "output_type": "stream",
     "text": [
      " * sqlite:///data/database.db\n",
      "Done.\n"
     ]
    },
    {
     "data": {
      "text/html": [
       "<table>\n",
       "    <thead>\n",
       "        <tr>\n",
       "            <th>country</th>\n",
       "        </tr>\n",
       "    </thead>\n",
       "    <tbody>\n",
       "        <tr>\n",
       "            <td>USA</td>\n",
       "        </tr>\n",
       "        <tr>\n",
       "            <td>Germany</td>\n",
       "        </tr>\n",
       "        <tr>\n",
       "            <td>Japan</td>\n",
       "        </tr>\n",
       "        <tr>\n",
       "            <td>Denmark</td>\n",
       "        </tr>\n",
       "        <tr>\n",
       "            <td>UK</td>\n",
       "        </tr>\n",
       "        <tr>\n",
       "            <td>Italy</td>\n",
       "        </tr>\n",
       "        <tr>\n",
       "            <td>France</td>\n",
       "        </tr>\n",
       "        <tr>\n",
       "            <td>West Germany</td>\n",
       "        </tr>\n",
       "        <tr>\n",
       "            <td>Sweden</td>\n",
       "        </tr>\n",
       "        <tr>\n",
       "            <td>Soviet Union</td>\n",
       "        </tr>\n",
       "        <tr>\n",
       "            <td>Iran</td>\n",
       "        </tr>\n",
       "        <tr>\n",
       "            <td>Australia</td>\n",
       "        </tr>\n",
       "        <tr>\n",
       "            <td>Libya</td>\n",
       "        </tr>\n",
       "        <tr>\n",
       "            <td>Canada</td>\n",
       "        </tr>\n",
       "        <tr>\n",
       "            <td>South Korea</td>\n",
       "        </tr>\n",
       "        <tr>\n",
       "            <td>Brazil</td>\n",
       "        </tr>\n",
       "        <tr>\n",
       "            <td>Netherlands</td>\n",
       "        </tr>\n",
       "        <tr>\n",
       "            <td>China</td>\n",
       "        </tr>\n",
       "        <tr>\n",
       "            <td>Norway</td>\n",
       "        </tr>\n",
       "        <tr>\n",
       "            <td>Switzerland</td>\n",
       "        </tr>\n",
       "        <tr>\n",
       "            <td>New Zealand</td>\n",
       "        </tr>\n",
       "        <tr>\n",
       "            <td>Hong Kong</td>\n",
       "        </tr>\n",
       "        <tr>\n",
       "            <td>Peru</td>\n",
       "        </tr>\n",
       "        <tr>\n",
       "            <td>India</td>\n",
       "        </tr>\n",
       "        <tr>\n",
       "            <td>Spain</td>\n",
       "        </tr>\n",
       "        <tr>\n",
       "            <td>Aruba</td>\n",
       "        </tr>\n",
       "        <tr>\n",
       "            <td>Mexico</td>\n",
       "        </tr>\n",
       "        <tr>\n",
       "            <td>Czech Republic</td>\n",
       "        </tr>\n",
       "        <tr>\n",
       "            <td>Taiwan</td>\n",
       "        </tr>\n",
       "        <tr>\n",
       "            <td>Argentina</td>\n",
       "        </tr>\n",
       "        <tr>\n",
       "            <td>Thailand</td>\n",
       "        </tr>\n",
       "        <tr>\n",
       "            <td>New Line</td>\n",
       "        </tr>\n",
       "        <tr>\n",
       "            <td>Afghanistan</td>\n",
       "        </tr>\n",
       "        <tr>\n",
       "            <td>Russia</td>\n",
       "        </tr>\n",
       "        <tr>\n",
       "            <td>Ireland</td>\n",
       "        </tr>\n",
       "        <tr>\n",
       "            <td>Colombia</td>\n",
       "        </tr>\n",
       "        <tr>\n",
       "            <td>Romania</td>\n",
       "        </tr>\n",
       "        <tr>\n",
       "            <td>Philippines</td>\n",
       "        </tr>\n",
       "        <tr>\n",
       "            <td>Hungary</td>\n",
       "        </tr>\n",
       "        <tr>\n",
       "            <td>Cameroon</td>\n",
       "        </tr>\n",
       "        <tr>\n",
       "            <td>South Africa</td>\n",
       "        </tr>\n",
       "        <tr>\n",
       "            <td>Israel</td>\n",
       "        </tr>\n",
       "        <tr>\n",
       "            <td>Poland</td>\n",
       "        </tr>\n",
       "        <tr>\n",
       "            <td>Turkey</td>\n",
       "        </tr>\n",
       "        <tr>\n",
       "            <td>Slovakia</td>\n",
       "        </tr>\n",
       "        <tr>\n",
       "            <td>Greece</td>\n",
       "        </tr>\n",
       "        <tr>\n",
       "            <td>Iceland</td>\n",
       "        </tr>\n",
       "        <tr>\n",
       "            <td>Georgia</td>\n",
       "        </tr>\n",
       "        <tr>\n",
       "            <td>Finland</td>\n",
       "        </tr>\n",
       "        <tr>\n",
       "            <td>Belgium</td>\n",
       "        </tr>\n",
       "        <tr>\n",
       "            <td>Indonesia</td>\n",
       "        </tr>\n",
       "        <tr>\n",
       "            <td>Nigeria</td>\n",
       "        </tr>\n",
       "        <tr>\n",
       "            <td>Dominican Republic</td>\n",
       "        </tr>\n",
       "        <tr>\n",
       "            <td>United Arab Emirates</td>\n",
       "        </tr>\n",
       "        <tr>\n",
       "            <td>Egypt</td>\n",
       "        </tr>\n",
       "        <tr>\n",
       "            <td>Bulgaria</td>\n",
       "        </tr>\n",
       "        <tr>\n",
       "            <td>None</td>\n",
       "        </tr>\n",
       "        <tr>\n",
       "            <td>Bahamas</td>\n",
       "        </tr>\n",
       "        <tr>\n",
       "            <td>Cambodia</td>\n",
       "        </tr>\n",
       "        <tr>\n",
       "            <td>Kyrgyzstan</td>\n",
       "        </tr>\n",
       "        <tr>\n",
       "            <td>Kenya</td>\n",
       "        </tr>\n",
       "        <tr>\n",
       "            <td>Slovenia</td>\n",
       "        </tr>\n",
       "        <tr>\n",
       "            <td>Pakistan</td>\n",
       "        </tr>\n",
       "        <tr>\n",
       "            <td>Chile</td>\n",
       "        </tr>\n",
       "        <tr>\n",
       "            <td>Panama</td>\n",
       "        </tr>\n",
       "    </tbody>\n",
       "</table>"
      ],
      "text/plain": [
       "[('USA',),\n",
       " ('Germany',),\n",
       " ('Japan',),\n",
       " ('Denmark',),\n",
       " ('UK',),\n",
       " ('Italy',),\n",
       " ('France',),\n",
       " ('West Germany',),\n",
       " ('Sweden',),\n",
       " ('Soviet Union',),\n",
       " ('Iran',),\n",
       " ('Australia',),\n",
       " ('Libya',),\n",
       " ('Canada',),\n",
       " ('South Korea',),\n",
       " ('Brazil',),\n",
       " ('Netherlands',),\n",
       " ('China',),\n",
       " ('Norway',),\n",
       " ('Switzerland',),\n",
       " ('New Zealand',),\n",
       " ('Hong Kong',),\n",
       " ('Peru',),\n",
       " ('India',),\n",
       " ('Spain',),\n",
       " ('Aruba',),\n",
       " ('Mexico',),\n",
       " ('Czech Republic',),\n",
       " ('Taiwan',),\n",
       " ('Argentina',),\n",
       " ('Thailand',),\n",
       " ('New Line',),\n",
       " ('Afghanistan',),\n",
       " ('Russia',),\n",
       " ('Ireland',),\n",
       " ('Colombia',),\n",
       " ('Romania',),\n",
       " ('Philippines',),\n",
       " ('Hungary',),\n",
       " ('Cameroon',),\n",
       " ('South Africa',),\n",
       " ('Israel',),\n",
       " ('Poland',),\n",
       " ('Turkey',),\n",
       " ('Slovakia',),\n",
       " ('Greece',),\n",
       " ('Iceland',),\n",
       " ('Georgia',),\n",
       " ('Finland',),\n",
       " ('Belgium',),\n",
       " ('Indonesia',),\n",
       " ('Nigeria',),\n",
       " ('Dominican Republic',),\n",
       " ('United Arab Emirates',),\n",
       " ('Egypt',),\n",
       " ('Bulgaria',),\n",
       " (None,),\n",
       " ('Bahamas',),\n",
       " ('Cambodia',),\n",
       " ('Kyrgyzstan',),\n",
       " ('Kenya',),\n",
       " ('Slovenia',),\n",
       " ('Pakistan',),\n",
       " ('Chile',),\n",
       " ('Panama',)]"
      ]
     },
     "execution_count": 14,
     "metadata": {},
     "output_type": "execute_result"
    }
   ],
   "source": [
    "%%sql\n",
    "\n",
    "SELECT DISTINCT( country )\n",
    "FROM   films"
   ]
  },
  {
   "cell_type": "markdown",
   "id": "e4e7a092",
   "metadata": {},
   "source": [
    "Get all the different film certifications from the `films` table."
   ]
  },
  {
   "cell_type": "code",
   "execution_count": 15,
   "id": "c6192186",
   "metadata": {},
   "outputs": [
    {
     "name": "stdout",
     "output_type": "stream",
     "text": [
      " * sqlite:///data/database.db\n",
      "Done.\n"
     ]
    },
    {
     "data": {
      "text/html": [
       "<table>\n",
       "    <thead>\n",
       "        <tr>\n",
       "            <th>certification</th>\n",
       "        </tr>\n",
       "    </thead>\n",
       "    <tbody>\n",
       "        <tr>\n",
       "            <td>Not Rated</td>\n",
       "        </tr>\n",
       "        <tr>\n",
       "            <td>None</td>\n",
       "        </tr>\n",
       "        <tr>\n",
       "            <td>Passed</td>\n",
       "        </tr>\n",
       "        <tr>\n",
       "            <td>Unrated</td>\n",
       "        </tr>\n",
       "        <tr>\n",
       "            <td>Approved</td>\n",
       "        </tr>\n",
       "        <tr>\n",
       "            <td>G</td>\n",
       "        </tr>\n",
       "        <tr>\n",
       "            <td>PG</td>\n",
       "        </tr>\n",
       "        <tr>\n",
       "            <td>R</td>\n",
       "        </tr>\n",
       "        <tr>\n",
       "            <td>PG-13</td>\n",
       "        </tr>\n",
       "        <tr>\n",
       "            <td>M</td>\n",
       "        </tr>\n",
       "        <tr>\n",
       "            <td>GP</td>\n",
       "        </tr>\n",
       "        <tr>\n",
       "            <td>X</td>\n",
       "        </tr>\n",
       "        <tr>\n",
       "            <td>NC-17</td>\n",
       "        </tr>\n",
       "    </tbody>\n",
       "</table>"
      ],
      "text/plain": [
       "[('Not Rated',),\n",
       " (None,),\n",
       " ('Passed',),\n",
       " ('Unrated',),\n",
       " ('Approved',),\n",
       " ('G',),\n",
       " ('PG',),\n",
       " ('R',),\n",
       " ('PG-13',),\n",
       " ('M',),\n",
       " ('GP',),\n",
       " ('X',),\n",
       " ('NC-17',)]"
      ]
     },
     "execution_count": 15,
     "metadata": {},
     "output_type": "execute_result"
    }
   ],
   "source": [
    "%%sql\n",
    "\n",
    "SELECT DISTINCT( certification )\n",
    "FROM   films "
   ]
  },
  {
   "cell_type": "markdown",
   "id": "8f97f02a",
   "metadata": {},
   "source": [
    "Get the different types of film roles from the `roles` table."
   ]
  },
  {
   "cell_type": "code",
   "execution_count": 16,
   "id": "f3182626",
   "metadata": {},
   "outputs": [
    {
     "name": "stdout",
     "output_type": "stream",
     "text": [
      " * sqlite:///data/database.db\n",
      "Done.\n"
     ]
    },
    {
     "data": {
      "text/html": [
       "<table>\n",
       "    <thead>\n",
       "        <tr>\n",
       "            <th>role</th>\n",
       "        </tr>\n",
       "    </thead>\n",
       "    <tbody>\n",
       "        <tr>\n",
       "            <td>director</td>\n",
       "        </tr>\n",
       "        <tr>\n",
       "            <td>actor</td>\n",
       "        </tr>\n",
       "    </tbody>\n",
       "</table>"
      ],
      "text/plain": [
       "[('director',), ('actor',)]"
      ]
     },
     "execution_count": 16,
     "metadata": {},
     "output_type": "execute_result"
    }
   ],
   "source": [
    "%%sql\n",
    "\n",
    "SELECT DISTINCT( role )\n",
    "FROM   roles "
   ]
  },
  {
   "cell_type": "markdown",
   "id": "9fdd5b88",
   "metadata": {},
   "source": [
    "## Learning to COUNT\n",
    "---\n",
    "\n",
    "What if you want to count the number of employees in your employees table? The `COUNT()` function lets you do this by returning the number of rows in one or more columns.\n",
    "\n",
    "For example, this code gives the number of rows in the `people` table:\n",
    "\n",
    "`SELECT COUNT(*) FROM people`\n",
    "\n",
    "How many records are contained in the `reviews` table?"
   ]
  },
  {
   "cell_type": "code",
   "execution_count": 17,
   "id": "f6f20f9f",
   "metadata": {},
   "outputs": [
    {
     "name": "stdout",
     "output_type": "stream",
     "text": [
      " * sqlite:///data/database.db\n",
      "Done.\n"
     ]
    },
    {
     "data": {
      "text/html": [
       "<table>\n",
       "    <thead>\n",
       "        <tr>\n",
       "            <th>COUNT(*)</th>\n",
       "        </tr>\n",
       "    </thead>\n",
       "    <tbody>\n",
       "        <tr>\n",
       "            <td>4968</td>\n",
       "        </tr>\n",
       "    </tbody>\n",
       "</table>"
      ],
      "text/plain": [
       "[(4968,)]"
      ]
     },
     "execution_count": 17,
     "metadata": {},
     "output_type": "execute_result"
    }
   ],
   "source": [
    "%%sql\n",
    "\n",
    "SELECT COUNT(*)\n",
    "FROM   reviews "
   ]
  },
  {
   "cell_type": "markdown",
   "id": "0afdee0d",
   "metadata": {},
   "source": [
    "## Practice with COUNT\n",
    "---\n",
    "\n",
    "As you've seen, `COUNT(*)` tells you how many rows are in a table. However, if you want to count the number of non-missing values in a particular column, you can call `COUNT()` on just that column.\n",
    "\n",
    "For example, to count the number of birth dates present in the `people` table:\n",
    "\n",
    "`SELECT COUNT(birthdate) FROM people`\n",
    "\n",
    "It's also common to combine `COUNT()` with `DISTINCT` to count the number of distinct values in a column.\n",
    "\n",
    "For example, this query counts the number of distinct birth dates contained in the `people` table:\n",
    "\n",
    "`SELECT COUNT(DISTINCT birthdate) FROM people`"
   ]
  },
  {
   "cell_type": "markdown",
   "id": "0b35f39b",
   "metadata": {},
   "source": [
    "### Instructions\n",
    "Count the number of rows in the `people` table."
   ]
  },
  {
   "cell_type": "code",
   "execution_count": 18,
   "id": "a5adc744",
   "metadata": {},
   "outputs": [
    {
     "name": "stdout",
     "output_type": "stream",
     "text": [
      " * sqlite:///data/database.db\n",
      "Done.\n"
     ]
    },
    {
     "data": {
      "text/html": [
       "<table>\n",
       "    <thead>\n",
       "        <tr>\n",
       "            <th>Count(*)</th>\n",
       "        </tr>\n",
       "    </thead>\n",
       "    <tbody>\n",
       "        <tr>\n",
       "            <td>8397</td>\n",
       "        </tr>\n",
       "    </tbody>\n",
       "</table>"
      ],
      "text/plain": [
       "[(8397,)]"
      ]
     },
     "execution_count": 18,
     "metadata": {},
     "output_type": "execute_result"
    }
   ],
   "source": [
    "%%sql\n",
    "\n",
    "SELECT COUNT(*)\n",
    "FROM   people "
   ]
  },
  {
   "cell_type": "markdown",
   "id": "6c46c4b2",
   "metadata": {},
   "source": [
    "Count the number of (non-missing) birth dates in the `people` table."
   ]
  },
  {
   "cell_type": "code",
   "execution_count": 19,
   "id": "e95b3917",
   "metadata": {},
   "outputs": [
    {
     "name": "stdout",
     "output_type": "stream",
     "text": [
      " * sqlite:///data/database.db\n",
      "Done.\n"
     ]
    },
    {
     "data": {
      "text/html": [
       "<table>\n",
       "    <thead>\n",
       "        <tr>\n",
       "            <th>Count(birthdate)</th>\n",
       "        </tr>\n",
       "    </thead>\n",
       "    <tbody>\n",
       "        <tr>\n",
       "            <td>6152</td>\n",
       "        </tr>\n",
       "    </tbody>\n",
       "</table>"
      ],
      "text/plain": [
       "[(6152,)]"
      ]
     },
     "execution_count": 19,
     "metadata": {},
     "output_type": "execute_result"
    }
   ],
   "source": [
    "%%sql\n",
    "\n",
    "SELECT COUNT( birthdate )\n",
    "FROM   people "
   ]
  },
  {
   "cell_type": "markdown",
   "id": "27dd6ba5",
   "metadata": {},
   "source": [
    "Count the number of unique birth dates in the `people` table."
   ]
  },
  {
   "cell_type": "code",
   "execution_count": 20,
   "id": "15173684",
   "metadata": {},
   "outputs": [
    {
     "name": "stdout",
     "output_type": "stream",
     "text": [
      " * sqlite:///data/database.db\n",
      "Done.\n"
     ]
    },
    {
     "data": {
      "text/html": [
       "<table>\n",
       "    <thead>\n",
       "        <tr>\n",
       "            <th>Count(DISTINCT birthdate)</th>\n",
       "        </tr>\n",
       "    </thead>\n",
       "    <tbody>\n",
       "        <tr>\n",
       "            <td>5398</td>\n",
       "        </tr>\n",
       "    </tbody>\n",
       "</table>"
      ],
      "text/plain": [
       "[(5398,)]"
      ]
     },
     "execution_count": 20,
     "metadata": {},
     "output_type": "execute_result"
    }
   ],
   "source": [
    "%%sql\n",
    "\n",
    "SELECT COUNT( DISTINCT birthdate )\n",
    "FROM   people "
   ]
  },
  {
   "cell_type": "markdown",
   "id": "ab59c630",
   "metadata": {},
   "source": [
    "Count the number of unique languages in the `films` table."
   ]
  },
  {
   "cell_type": "code",
   "execution_count": 21,
   "id": "028053c8",
   "metadata": {},
   "outputs": [
    {
     "name": "stdout",
     "output_type": "stream",
     "text": [
      " * sqlite:///data/database.db\n",
      "Done.\n"
     ]
    },
    {
     "data": {
      "text/html": [
       "<table>\n",
       "    <thead>\n",
       "        <tr>\n",
       "            <th>Count(DISTINCT language)</th>\n",
       "        </tr>\n",
       "    </thead>\n",
       "    <tbody>\n",
       "        <tr>\n",
       "            <td>47</td>\n",
       "        </tr>\n",
       "    </tbody>\n",
       "</table>"
      ],
      "text/plain": [
       "[(47,)]"
      ]
     },
     "execution_count": 21,
     "metadata": {},
     "output_type": "execute_result"
    }
   ],
   "source": [
    "%%sql\n",
    "\n",
    "SELECT COUNT( DISTINCT language )\n",
    "FROM   films "
   ]
  },
  {
   "cell_type": "markdown",
   "id": "fa77a84f",
   "metadata": {},
   "source": [
    "Count the number of unique countries in the `films` table."
   ]
  },
  {
   "cell_type": "code",
   "execution_count": 22,
   "id": "f3dc6061",
   "metadata": {},
   "outputs": [
    {
     "name": "stdout",
     "output_type": "stream",
     "text": [
      " * sqlite:///data/database.db\n",
      "Done.\n"
     ]
    },
    {
     "data": {
      "text/html": [
       "<table>\n",
       "    <thead>\n",
       "        <tr>\n",
       "            <th>Count(DISTINCT country)</th>\n",
       "        </tr>\n",
       "    </thead>\n",
       "    <tbody>\n",
       "        <tr>\n",
       "            <td>64</td>\n",
       "        </tr>\n",
       "    </tbody>\n",
       "</table>"
      ],
      "text/plain": [
       "[(64,)]"
      ]
     },
     "execution_count": 22,
     "metadata": {},
     "output_type": "execute_result"
    }
   ],
   "source": [
    "%%sql\n",
    "\n",
    "SELECT COUNT( DISTINCT country )\n",
    "FROM   films "
   ]
  }
 ],
 "metadata": {
  "kernelspec": {
   "display_name": "Python 3",
   "language": "python",
   "name": "python3"
  },
  "language_info": {
   "codemirror_mode": {
    "name": "ipython",
    "version": 3
   },
   "file_extension": ".py",
   "mimetype": "text/x-python",
   "name": "python",
   "nbconvert_exporter": "python",
   "pygments_lexer": "ipython3",
   "version": "3.8.8"
  }
 },
 "nbformat": 4,
 "nbformat_minor": 5
}
