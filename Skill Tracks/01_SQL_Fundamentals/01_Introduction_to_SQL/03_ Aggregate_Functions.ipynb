{
 "cells": [
  {
   "cell_type": "markdown",
   "id": "3c387abd",
   "metadata": {},
   "source": [
    "<img src = \"https://images2.imgbox.com/60/09/VFwl5LOq_o.jpg\" width=\"400\">"
   ]
  },
  {
   "cell_type": "markdown",
   "id": "ba6bb9c8",
   "metadata": {},
   "source": [
    "# 3. Aggregate Functions\n",
    "---"
   ]
  },
  {
   "cell_type": "markdown",
   "id": "7d8815d9",
   "metadata": {},
   "source": [
    "This chapter teaches you how to use aggregate functions to summarize data and gain useful insights. You'll also learn about arithmetic in SQL and how to use aliases to make your results more readable."
   ]
  },
  {
   "cell_type": "code",
   "execution_count": 1,
   "id": "d47d9163",
   "metadata": {},
   "outputs": [],
   "source": [
    "# %pip install ipython-sql"
   ]
  },
  {
   "cell_type": "code",
   "execution_count": 2,
   "id": "45be4530",
   "metadata": {},
   "outputs": [],
   "source": [
    "%load_ext sql"
   ]
  },
  {
   "cell_type": "code",
   "execution_count": 3,
   "id": "412bf247",
   "metadata": {},
   "outputs": [
    {
     "data": {
      "text/plain": [
       "'Connected: @data/database.db'"
      ]
     },
     "execution_count": 3,
     "metadata": {},
     "output_type": "execute_result"
    }
   ],
   "source": [
    "%sql sqlite:///data/database.db"
   ]
  },
  {
   "cell_type": "markdown",
   "id": "1ca3c87a",
   "metadata": {},
   "source": [
    "## Aggregate functions\n",
    "---\n",
    "\n",
    "Often, you will want to perform some calculation on the data in a database. SQL provides a few functions, called aggregate functions, to help you out with this.\n",
    "\n",
    "For example,\n",
    "\n",
    "`SELECT AVG(budget)\n",
    " FROM films`\n",
    "\n",
    "gives you the average value from the **budget** column of the **films** table. Similarly, the `MAX()` function returns the highest budget:\n",
    "\n",
    "`SELECT MAX(budget)\n",
    " FROM films`\n",
    "\n",
    "The `SUM()` function returns the result of adding up the numeric values in a column:\n",
    "\n",
    "`SELECT SUM(budget)\n",
    " FROM films`\n",
    "\n",
    "You can probably guess what the `MIN()` function does! Now it's your turn to try out some SQL functions."
   ]
  },
  {
   "cell_type": "markdown",
   "id": "46b31068",
   "metadata": {},
   "source": [
    "### Instructions\n",
    "Use the `SUM()` function to get the total duration of all films."
   ]
  },
  {
   "cell_type": "code",
   "execution_count": 4,
   "id": "26eaa2f9",
   "metadata": {},
   "outputs": [
    {
     "name": "stdout",
     "output_type": "stream",
     "text": [
      " * sqlite:///data/database.db\n",
      "Done.\n"
     ]
    },
    {
     "data": {
      "text/html": [
       "<table>\n",
       "    <thead>\n",
       "        <tr>\n",
       "            <th>SUM( duration )</th>\n",
       "        </tr>\n",
       "    </thead>\n",
       "    <tbody>\n",
       "        <tr>\n",
       "            <td>534882</td>\n",
       "        </tr>\n",
       "    </tbody>\n",
       "</table>"
      ],
      "text/plain": [
       "[(534882,)]"
      ]
     },
     "execution_count": 4,
     "metadata": {},
     "output_type": "execute_result"
    }
   ],
   "source": [
    "%%sql\n",
    "\n",
    "SELECT SUM( duration )\n",
    "FROM   films "
   ]
  },
  {
   "cell_type": "markdown",
   "id": "55c8f858",
   "metadata": {},
   "source": [
    "Get the average duration of all films."
   ]
  },
  {
   "cell_type": "code",
   "execution_count": 5,
   "id": "f7a349e6",
   "metadata": {},
   "outputs": [
    {
     "name": "stdout",
     "output_type": "stream",
     "text": [
      " * sqlite:///data/database.db\n",
      "Done.\n"
     ]
    },
    {
     "data": {
      "text/html": [
       "<table>\n",
       "    <thead>\n",
       "        <tr>\n",
       "            <th>AVG( duration )</th>\n",
       "        </tr>\n",
       "    </thead>\n",
       "    <tbody>\n",
       "        <tr>\n",
       "            <td>107.94793138244198</td>\n",
       "        </tr>\n",
       "    </tbody>\n",
       "</table>"
      ],
      "text/plain": [
       "[(107.94793138244198,)]"
      ]
     },
     "execution_count": 5,
     "metadata": {},
     "output_type": "execute_result"
    }
   ],
   "source": [
    "%%sql\n",
    "\n",
    "SELECT AVG( duration )\n",
    "FROM   films "
   ]
  },
  {
   "cell_type": "markdown",
   "id": "d525f918",
   "metadata": {},
   "source": [
    "Get the duration of the shortest film."
   ]
  },
  {
   "cell_type": "code",
   "execution_count": 6,
   "id": "aa5d7543",
   "metadata": {},
   "outputs": [
    {
     "name": "stdout",
     "output_type": "stream",
     "text": [
      " * sqlite:///data/database.db\n",
      "Done.\n"
     ]
    },
    {
     "data": {
      "text/html": [
       "<table>\n",
       "    <thead>\n",
       "        <tr>\n",
       "            <th>MIN( duration )</th>\n",
       "        </tr>\n",
       "    </thead>\n",
       "    <tbody>\n",
       "        <tr>\n",
       "            <td>7</td>\n",
       "        </tr>\n",
       "    </tbody>\n",
       "</table>"
      ],
      "text/plain": [
       "[(7,)]"
      ]
     },
     "execution_count": 6,
     "metadata": {},
     "output_type": "execute_result"
    }
   ],
   "source": [
    "%%sql\n",
    "\n",
    "SELECT MIN( duration )\n",
    "FROM   films "
   ]
  },
  {
   "cell_type": "markdown",
   "id": "0ee029ce",
   "metadata": {},
   "source": [
    "Get the duration of the longest film."
   ]
  },
  {
   "cell_type": "code",
   "execution_count": 7,
   "id": "d17f7b61",
   "metadata": {},
   "outputs": [
    {
     "name": "stdout",
     "output_type": "stream",
     "text": [
      " * sqlite:///data/database.db\n",
      "Done.\n"
     ]
    },
    {
     "data": {
      "text/html": [
       "<table>\n",
       "    <thead>\n",
       "        <tr>\n",
       "            <th>MAX( duration )</th>\n",
       "        </tr>\n",
       "    </thead>\n",
       "    <tbody>\n",
       "        <tr>\n",
       "            <td>334</td>\n",
       "        </tr>\n",
       "    </tbody>\n",
       "</table>"
      ],
      "text/plain": [
       "[(334,)]"
      ]
     },
     "execution_count": 7,
     "metadata": {},
     "output_type": "execute_result"
    }
   ],
   "source": [
    "%%sql\n",
    "\n",
    "SELECT MAX( duration )\n",
    "FROM   films"
   ]
  },
  {
   "cell_type": "markdown",
   "id": "548b2d90",
   "metadata": {},
   "source": [
    "## Aggregate functions practice\n",
    "---\n",
    "\n",
    "Aggregate functions are important to understand, so let's get some more practice!"
   ]
  },
  {
   "cell_type": "markdown",
   "id": "bac3cbf6",
   "metadata": {},
   "source": [
    "Use the `SUM()` function to get the total amount grossed by all films."
   ]
  },
  {
   "cell_type": "code",
   "execution_count": 8,
   "id": "0b9edd80",
   "metadata": {},
   "outputs": [
    {
     "name": "stdout",
     "output_type": "stream",
     "text": [
      " * sqlite:///data/database.db\n",
      "Done.\n"
     ]
    },
    {
     "data": {
      "text/html": [
       "<table>\n",
       "    <thead>\n",
       "        <tr>\n",
       "            <th>SUM( gross )</th>\n",
       "        </tr>\n",
       "    </thead>\n",
       "    <tbody>\n",
       "        <tr>\n",
       "            <td>202515840134</td>\n",
       "        </tr>\n",
       "    </tbody>\n",
       "</table>"
      ],
      "text/plain": [
       "[(202515840134,)]"
      ]
     },
     "execution_count": 8,
     "metadata": {},
     "output_type": "execute_result"
    }
   ],
   "source": [
    "%%sql\n",
    "\n",
    "SELECT SUM( gross )\n",
    "FROM   films "
   ]
  },
  {
   "cell_type": "markdown",
   "id": "90f4c543",
   "metadata": {},
   "source": [
    "Get the average amount grossed by all films."
   ]
  },
  {
   "cell_type": "code",
   "execution_count": 9,
   "id": "c0d1d782",
   "metadata": {},
   "outputs": [
    {
     "name": "stdout",
     "output_type": "stream",
     "text": [
      " * sqlite:///data/database.db\n",
      "Done.\n"
     ]
    },
    {
     "data": {
      "text/html": [
       "<table>\n",
       "    <thead>\n",
       "        <tr>\n",
       "            <th>AVG( gross )</th>\n",
       "        </tr>\n",
       "    </thead>\n",
       "    <tbody>\n",
       "        <tr>\n",
       "            <td>48705108.25733526</td>\n",
       "        </tr>\n",
       "    </tbody>\n",
       "</table>"
      ],
      "text/plain": [
       "[(48705108.25733526,)]"
      ]
     },
     "execution_count": 9,
     "metadata": {},
     "output_type": "execute_result"
    }
   ],
   "source": [
    "%%sql\n",
    "\n",
    "SELECT AVG( gross )\n",
    "FROM   films "
   ]
  },
  {
   "cell_type": "markdown",
   "id": "03a1f953",
   "metadata": {},
   "source": [
    "Get the amount grossed by the worst performing film."
   ]
  },
  {
   "cell_type": "code",
   "execution_count": 10,
   "id": "b60e0a1f",
   "metadata": {},
   "outputs": [
    {
     "name": "stdout",
     "output_type": "stream",
     "text": [
      " * sqlite:///data/database.db\n",
      "Done.\n"
     ]
    },
    {
     "data": {
      "text/html": [
       "<table>\n",
       "    <thead>\n",
       "        <tr>\n",
       "            <th>MIN( gross )</th>\n",
       "        </tr>\n",
       "    </thead>\n",
       "    <tbody>\n",
       "        <tr>\n",
       "            <td>162</td>\n",
       "        </tr>\n",
       "    </tbody>\n",
       "</table>"
      ],
      "text/plain": [
       "[(162,)]"
      ]
     },
     "execution_count": 10,
     "metadata": {},
     "output_type": "execute_result"
    }
   ],
   "source": [
    "%%sql\n",
    "\n",
    "SELECT MIN( gross )\n",
    "FROM   films "
   ]
  },
  {
   "cell_type": "markdown",
   "id": "f4ae2a08",
   "metadata": {},
   "source": [
    "Get the amount grossed by the best performing film."
   ]
  },
  {
   "cell_type": "code",
   "execution_count": 11,
   "id": "d6295300",
   "metadata": {},
   "outputs": [
    {
     "name": "stdout",
     "output_type": "stream",
     "text": [
      " * sqlite:///data/database.db\n",
      "Done.\n"
     ]
    },
    {
     "data": {
      "text/html": [
       "<table>\n",
       "    <thead>\n",
       "        <tr>\n",
       "            <th>MAX( gross )</th>\n",
       "        </tr>\n",
       "    </thead>\n",
       "    <tbody>\n",
       "        <tr>\n",
       "            <td>936627416</td>\n",
       "        </tr>\n",
       "    </tbody>\n",
       "</table>"
      ],
      "text/plain": [
       "[(936627416,)]"
      ]
     },
     "execution_count": 11,
     "metadata": {},
     "output_type": "execute_result"
    }
   ],
   "source": [
    "%%sql\n",
    "\n",
    "SELECT MAX( gross )\n",
    "FROM   films "
   ]
  },
  {
   "cell_type": "markdown",
   "id": "9f90f4a9",
   "metadata": {},
   "source": [
    "## Combining aggregate functions with WHERE\n",
    "---\n",
    "\n",
    "Aggregate functions can be combined with the `WHERE` clause to gain further insights from your data.\n",
    "\n",
    "For example, to get the total budget of movies made in the year 2010 or later:\n",
    "\n",
    "`SELECT SUM(budget)\n",
    " FROM films\n",
    " WHERE release_year >= 2010`"
   ]
  },
  {
   "cell_type": "markdown",
   "id": "08b3e9af",
   "metadata": {},
   "source": [
    "Use the `SUM()` function to get the total amount grossed by all films made in the year 2000 or later."
   ]
  },
  {
   "cell_type": "code",
   "execution_count": 12,
   "id": "fd32e0c7",
   "metadata": {},
   "outputs": [
    {
     "name": "stdout",
     "output_type": "stream",
     "text": [
      " * sqlite:///data/database.db\n",
      "Done.\n"
     ]
    },
    {
     "data": {
      "text/html": [
       "<table>\n",
       "    <thead>\n",
       "        <tr>\n",
       "            <th>SUM( gross )</th>\n",
       "        </tr>\n",
       "    </thead>\n",
       "    <tbody>\n",
       "        <tr>\n",
       "            <td>150900926358</td>\n",
       "        </tr>\n",
       "    </tbody>\n",
       "</table>"
      ],
      "text/plain": [
       "[(150900926358,)]"
      ]
     },
     "execution_count": 12,
     "metadata": {},
     "output_type": "execute_result"
    }
   ],
   "source": [
    "%%sql\n",
    "\n",
    "SELECT SUM( gross )\n",
    "FROM   films\n",
    "WHERE  release_year >= 2000 "
   ]
  },
  {
   "cell_type": "markdown",
   "id": "2dd9e558",
   "metadata": {},
   "source": [
    "Get the average amount grossed by all films whose titles start with the letter 'A'."
   ]
  },
  {
   "cell_type": "code",
   "execution_count": 13,
   "id": "d8d81fc8",
   "metadata": {},
   "outputs": [
    {
     "name": "stdout",
     "output_type": "stream",
     "text": [
      " * sqlite:///data/database.db\n",
      "Done.\n"
     ]
    },
    {
     "data": {
      "text/html": [
       "<table>\n",
       "    <thead>\n",
       "        <tr>\n",
       "            <th>AVG( gross )</th>\n",
       "        </tr>\n",
       "    </thead>\n",
       "    <tbody>\n",
       "        <tr>\n",
       "            <td>47893236.42248062</td>\n",
       "        </tr>\n",
       "    </tbody>\n",
       "</table>"
      ],
      "text/plain": [
       "[(47893236.42248062,)]"
      ]
     },
     "execution_count": 13,
     "metadata": {},
     "output_type": "execute_result"
    }
   ],
   "source": [
    "%%sql\n",
    "\n",
    "SELECT AVG( gross )\n",
    "FROM   films\n",
    "WHERE  title LIKE 'A%' "
   ]
  },
  {
   "cell_type": "markdown",
   "id": "f50a570b",
   "metadata": {},
   "source": [
    "Get the amount grossed by the worst performing film in 1994."
   ]
  },
  {
   "cell_type": "code",
   "execution_count": 14,
   "id": "22c4e114",
   "metadata": {},
   "outputs": [
    {
     "name": "stdout",
     "output_type": "stream",
     "text": [
      " * sqlite:///data/database.db\n",
      "Done.\n"
     ]
    },
    {
     "data": {
      "text/html": [
       "<table>\n",
       "    <thead>\n",
       "        <tr>\n",
       "            <th>MIN( gross )</th>\n",
       "        </tr>\n",
       "    </thead>\n",
       "    <tbody>\n",
       "        <tr>\n",
       "            <td>125169</td>\n",
       "        </tr>\n",
       "    </tbody>\n",
       "</table>"
      ],
      "text/plain": [
       "[(125169,)]"
      ]
     },
     "execution_count": 14,
     "metadata": {},
     "output_type": "execute_result"
    }
   ],
   "source": [
    "%%sql\n",
    "\n",
    "SELECT MIN( gross )\n",
    "FROM   films\n",
    "WHERE  release_year = 1994 "
   ]
  },
  {
   "cell_type": "markdown",
   "id": "904a849d",
   "metadata": {},
   "source": [
    "Get the amount grossed by the best performing film between 2000 and 2012, inclusive."
   ]
  },
  {
   "cell_type": "code",
   "execution_count": 15,
   "id": "e6d27808",
   "metadata": {},
   "outputs": [
    {
     "name": "stdout",
     "output_type": "stream",
     "text": [
      " * sqlite:///data/database.db\n",
      "Done.\n"
     ]
    },
    {
     "data": {
      "text/html": [
       "<table>\n",
       "    <thead>\n",
       "        <tr>\n",
       "            <th>MAX( gross )</th>\n",
       "        </tr>\n",
       "    </thead>\n",
       "    <tbody>\n",
       "        <tr>\n",
       "            <td>760505847</td>\n",
       "        </tr>\n",
       "    </tbody>\n",
       "</table>"
      ],
      "text/plain": [
       "[(760505847,)]"
      ]
     },
     "execution_count": 15,
     "metadata": {},
     "output_type": "execute_result"
    }
   ],
   "source": [
    "%%sql\n",
    "\n",
    "SELECT MAX( gross )\n",
    "FROM   films\n",
    "WHERE  release_year BETWEEN 2000 AND 2012 "
   ]
  },
  {
   "cell_type": "markdown",
   "id": "b54d8fef",
   "metadata": {},
   "source": [
    "## A note on arithmetic\n",
    "---\n",
    "\n",
    "In addition to using aggregate functions, you can perform basic arithmetic with symbols like `+`, `-`, `*`, and `/`.\n",
    "\n",
    "So, for example, this gives a result of 12:\n",
    "\n",
    "`SELECT (4 * 3)`\n",
    "\n",
    "However, the following gives a result of 1:\n",
    "\n",
    "`SELECT (4 / 3)`\n",
    "\n",
    "What's going on here?\n",
    "\n",
    "SQL assumes that if you divide an integer by an integer, you want to get an integer back. So be careful when dividing!\n",
    "\n",
    "If you want more precision when dividing, you can add decimal places to your numbers. For example,\n",
    "\n",
    "`SELECT (4.0 / 3.0) AS result`\n",
    "\n",
    "gives you the result you would expect: `1.333`.\n",
    "\n",
    "What is the result of `SELECT (10 / 3)`?"
   ]
  },
  {
   "cell_type": "code",
   "execution_count": 16,
   "id": "b960ad33",
   "metadata": {},
   "outputs": [
    {
     "name": "stdout",
     "output_type": "stream",
     "text": [
      " * sqlite:///data/database.db\n",
      "Done.\n"
     ]
    },
    {
     "data": {
      "text/html": [
       "<table>\n",
       "    <thead>\n",
       "        <tr>\n",
       "            <th>(10 / 3)</th>\n",
       "        </tr>\n",
       "    </thead>\n",
       "    <tbody>\n",
       "        <tr>\n",
       "            <td>3</td>\n",
       "        </tr>\n",
       "    </tbody>\n",
       "</table>"
      ],
      "text/plain": [
       "[(3,)]"
      ]
     },
     "execution_count": 16,
     "metadata": {},
     "output_type": "execute_result"
    }
   ],
   "source": [
    "%%sql\n",
    "\n",
    "SELECT (10 / 3)"
   ]
  },
  {
   "cell_type": "markdown",
   "id": "6b070b57",
   "metadata": {},
   "source": [
    "## It's AS simple AS aliasing\n",
    "---\n",
    "\n",
    "You may have noticed in the first exercise of this chapter that the column name of your result was just the name of the function you used. For example,\n",
    "\n",
    "`SELECT MAX(budget)\n",
    " FROM films`\n",
    "\n",
    "gives you a result with one column, named **max**. But what if you use two functions like this?\n",
    "\n",
    "`SELECT MAX(budget), MAX(duration)\n",
    " FROM films`\n",
    "\n",
    "Well, then you'd have two columns named **max**, which isn't very useful!\n",
    "\n",
    "To avoid situations like this, SQL allows you to do something called aliasing. Aliasing simply means you assign a temporary name to something. To alias, you use the `AS` keyword, which you've already seen earlier in this course.\n",
    "\n",
    "For example, in the above example we could use aliases to make the result clearer:\n",
    "\n",
    "`SELECT MAX(budget) AS max_budget,\n",
    "        MAX(duration) AS max_duration\n",
    " FROM films`\n",
    "\n",
    "Aliases are helpful for making results more readable!"
   ]
  },
  {
   "cell_type": "markdown",
   "id": "59e556d0",
   "metadata": {},
   "source": [
    "### Instructions\n",
    "Get the title and net profit (the amount a film grossed, minus its budget) for all films. Alias the net profit as `net_profit`."
   ]
  },
  {
   "cell_type": "code",
   "execution_count": 17,
   "id": "f411cc8a",
   "metadata": {},
   "outputs": [
    {
     "name": "stdout",
     "output_type": "stream",
     "text": [
      " * sqlite:///data/database.db\n",
      "Done.\n"
     ]
    },
    {
     "data": {
      "text/html": [
       "<table>\n",
       "    <thead>\n",
       "        <tr>\n",
       "            <th>title</th>\n",
       "            <th>net_profit</th>\n",
       "        </tr>\n",
       "    </thead>\n",
       "    <tbody>\n",
       "        <tr>\n",
       "            <td>Intolerance: Love&#x27;s Struggle Throughout the Ages</td>\n",
       "            <td>None</td>\n",
       "        </tr>\n",
       "        <tr>\n",
       "            <td>Over the Hill to the Poorhouse</td>\n",
       "            <td>2900000</td>\n",
       "        </tr>\n",
       "        <tr>\n",
       "            <td>The Big Parade</td>\n",
       "            <td>None</td>\n",
       "        </tr>\n",
       "        <tr>\n",
       "            <td>Metropolis</td>\n",
       "            <td>-5973565</td>\n",
       "        </tr>\n",
       "        <tr>\n",
       "            <td>Pandora&#x27;s Box</td>\n",
       "            <td>None</td>\n",
       "        </tr>\n",
       "        <tr>\n",
       "            <td>The Broadway Melody</td>\n",
       "            <td>2429000</td>\n",
       "        </tr>\n",
       "        <tr>\n",
       "            <td>Hell&#x27;s Angels</td>\n",
       "            <td>None</td>\n",
       "        </tr>\n",
       "        <tr>\n",
       "            <td>A Farewell to Arms</td>\n",
       "            <td>None</td>\n",
       "        </tr>\n",
       "        <tr>\n",
       "            <td>42nd Street</td>\n",
       "            <td>1861000</td>\n",
       "        </tr>\n",
       "        <tr>\n",
       "            <td>She Done Him Wrong</td>\n",
       "            <td>None</td>\n",
       "        </tr>\n",
       "    </tbody>\n",
       "</table>"
      ],
      "text/plain": [
       "[(\"Intolerance: Love's Struggle Throughout the Ages\", None),\n",
       " ('Over the Hill to the Poorhouse', 2900000),\n",
       " ('The Big Parade', None),\n",
       " ('Metropolis', -5973565),\n",
       " (\"Pandora's Box\", None),\n",
       " ('The Broadway Melody', 2429000),\n",
       " (\"Hell's Angels\", None),\n",
       " ('A Farewell to Arms', None),\n",
       " ('42nd Street', 1861000),\n",
       " ('She Done Him Wrong', None)]"
      ]
     },
     "execution_count": 17,
     "metadata": {},
     "output_type": "execute_result"
    }
   ],
   "source": [
    "%%sql\n",
    "\n",
    "SELECT title,\n",
    "       ( gross - budget ) AS net_profit\n",
    "FROM   films\n",
    "LIMIT  10"
   ]
  },
  {
   "cell_type": "markdown",
   "id": "454d5bd0",
   "metadata": {},
   "source": [
    "Get the title and duration in hours for all films. The duration is in minutes, so you'll need to divide by 60.0 to get the duration in hours. Alias the duration in hours as `duration_hours`."
   ]
  },
  {
   "cell_type": "code",
   "execution_count": 18,
   "id": "8fd58e3e",
   "metadata": {},
   "outputs": [
    {
     "name": "stdout",
     "output_type": "stream",
     "text": [
      " * sqlite:///data/database.db\n",
      "Done.\n"
     ]
    },
    {
     "data": {
      "text/html": [
       "<table>\n",
       "    <thead>\n",
       "        <tr>\n",
       "            <th>title</th>\n",
       "            <th>duration_hours</th>\n",
       "        </tr>\n",
       "    </thead>\n",
       "    <tbody>\n",
       "        <tr>\n",
       "            <td>Intolerance: Love&#x27;s Struggle Throughout the Ages</td>\n",
       "            <td>2.05</td>\n",
       "        </tr>\n",
       "        <tr>\n",
       "            <td>Over the Hill to the Poorhouse</td>\n",
       "            <td>1.8333333333333333</td>\n",
       "        </tr>\n",
       "        <tr>\n",
       "            <td>The Big Parade</td>\n",
       "            <td>2.5166666666666666</td>\n",
       "        </tr>\n",
       "        <tr>\n",
       "            <td>Metropolis</td>\n",
       "            <td>2.4166666666666665</td>\n",
       "        </tr>\n",
       "        <tr>\n",
       "            <td>Pandora&#x27;s Box</td>\n",
       "            <td>1.8333333333333333</td>\n",
       "        </tr>\n",
       "        <tr>\n",
       "            <td>The Broadway Melody</td>\n",
       "            <td>1.6666666666666667</td>\n",
       "        </tr>\n",
       "        <tr>\n",
       "            <td>Hell&#x27;s Angels</td>\n",
       "            <td>1.6</td>\n",
       "        </tr>\n",
       "        <tr>\n",
       "            <td>A Farewell to Arms</td>\n",
       "            <td>1.3166666666666667</td>\n",
       "        </tr>\n",
       "        <tr>\n",
       "            <td>42nd Street</td>\n",
       "            <td>1.4833333333333334</td>\n",
       "        </tr>\n",
       "        <tr>\n",
       "            <td>She Done Him Wrong</td>\n",
       "            <td>1.1</td>\n",
       "        </tr>\n",
       "    </tbody>\n",
       "</table>"
      ],
      "text/plain": [
       "[(\"Intolerance: Love's Struggle Throughout the Ages\", 2.05),\n",
       " ('Over the Hill to the Poorhouse', 1.8333333333333333),\n",
       " ('The Big Parade', 2.5166666666666666),\n",
       " ('Metropolis', 2.4166666666666665),\n",
       " (\"Pandora's Box\", 1.8333333333333333),\n",
       " ('The Broadway Melody', 1.6666666666666667),\n",
       " (\"Hell's Angels\", 1.6),\n",
       " ('A Farewell to Arms', 1.3166666666666667),\n",
       " ('42nd Street', 1.4833333333333334),\n",
       " ('She Done Him Wrong', 1.1)]"
      ]
     },
     "execution_count": 18,
     "metadata": {},
     "output_type": "execute_result"
    }
   ],
   "source": [
    "%%sql\n",
    "\n",
    "SELECT title,\n",
    "       ( duration / 60.0 ) AS duration_hours\n",
    "FROM   films\n",
    "LIMIT  10 "
   ]
  },
  {
   "cell_type": "markdown",
   "id": "e14abb6c",
   "metadata": {},
   "source": [
    "Get the average duration in hours for all films, aliased as `avg_duration_hours`."
   ]
  },
  {
   "cell_type": "code",
   "execution_count": 19,
   "id": "42d1fe92",
   "metadata": {},
   "outputs": [
    {
     "name": "stdout",
     "output_type": "stream",
     "text": [
      " * sqlite:///data/database.db\n",
      "Done.\n"
     ]
    },
    {
     "data": {
      "text/html": [
       "<table>\n",
       "    <thead>\n",
       "        <tr>\n",
       "            <th>avg_duration_hours</th>\n",
       "        </tr>\n",
       "    </thead>\n",
       "    <tbody>\n",
       "        <tr>\n",
       "            <td>1.7991321897073662</td>\n",
       "        </tr>\n",
       "    </tbody>\n",
       "</table>"
      ],
      "text/plain": [
       "[(1.7991321897073662,)]"
      ]
     },
     "execution_count": 19,
     "metadata": {},
     "output_type": "execute_result"
    }
   ],
   "source": [
    "%%sql\n",
    "\n",
    "SELECT AVG( duration ) / 60.0 AS avg_duration_hours\n",
    "FROM   films "
   ]
  },
  {
   "cell_type": "markdown",
   "id": "163d1bd6",
   "metadata": {},
   "source": [
    "## Even more aliasing\n",
    "---\n",
    "\n",
    "Let's practice your newfound aliasing skills some more before moving on!\n",
    "\n",
    "Recall: SQL assumes that if you divide an integer by an integer, you want to get an integer back.\n",
    "\n",
    "This means that the following will erroneously result in **400.0**:\n",
    "\n",
    "`SELECT 45 / 10 * 100.0`\n",
    "\n",
    "This is because **45 / 10** evaluates to an integer (**4**), and not a decimal number like we would expect.\n",
    "\n",
    "So when you're dividing make sure at least one of your numbers has a decimal place:\n",
    "\n",
    "`SELECT 45 * 100.0 / 10`\n",
    "\n",
    "The above now gives the correct answer of **450.0** since the numerator (**45 * 100.0**) of the division is now a decimal!"
   ]
  },
  {
   "cell_type": "markdown",
   "id": "def40c89",
   "metadata": {},
   "source": [
    "### Instructions\n",
    "Get the percentage of `people` who are no longer alive. Alias the result as `percentage_dead`. Remember to use `100.0` and not `100`!"
   ]
  },
  {
   "cell_type": "code",
   "execution_count": 20,
   "id": "ae55a3ce",
   "metadata": {},
   "outputs": [
    {
     "name": "stdout",
     "output_type": "stream",
     "text": [
      " * sqlite:///data/database.db\n",
      "Done.\n"
     ]
    },
    {
     "data": {
      "text/html": [
       "<table>\n",
       "    <thead>\n",
       "        <tr>\n",
       "            <th>percentage_dead</th>\n",
       "        </tr>\n",
       "    </thead>\n",
       "    <tbody>\n",
       "        <tr>\n",
       "            <td>9.372394902941526</td>\n",
       "        </tr>\n",
       "    </tbody>\n",
       "</table>"
      ],
      "text/plain": [
       "[(9.372394902941526,)]"
      ]
     },
     "execution_count": 20,
     "metadata": {},
     "output_type": "execute_result"
    }
   ],
   "source": [
    "%%sql\n",
    "\n",
    "SELECT COUNT( deathdate ) * 100.0 / COUNT(*) AS percentage_dead\n",
    "FROM   people "
   ]
  },
  {
   "cell_type": "markdown",
   "id": "7f7bdbd6",
   "metadata": {},
   "source": [
    "Get the number of years between the newest film and oldest film. Alias the result as `difference`."
   ]
  },
  {
   "cell_type": "code",
   "execution_count": 21,
   "id": "5248a24e",
   "metadata": {},
   "outputs": [
    {
     "name": "stdout",
     "output_type": "stream",
     "text": [
      " * sqlite:///data/database.db\n",
      "Done.\n"
     ]
    },
    {
     "data": {
      "text/html": [
       "<table>\n",
       "    <thead>\n",
       "        <tr>\n",
       "            <th>difference</th>\n",
       "        </tr>\n",
       "    </thead>\n",
       "    <tbody>\n",
       "        <tr>\n",
       "            <td>100</td>\n",
       "        </tr>\n",
       "    </tbody>\n",
       "</table>"
      ],
      "text/plain": [
       "[(100,)]"
      ]
     },
     "execution_count": 21,
     "metadata": {},
     "output_type": "execute_result"
    }
   ],
   "source": [
    "%%sql\n",
    "\n",
    "SELECT MAX( release_year ) - MIN( release_year ) AS difference\n",
    "FROM   films "
   ]
  },
  {
   "cell_type": "markdown",
   "id": "c622715f",
   "metadata": {},
   "source": [
    "Get the number of decades the `films` table covers. Alias the result as `number_of_decades`. The top half of your fraction should be enclosed in parentheses."
   ]
  },
  {
   "cell_type": "code",
   "execution_count": 22,
   "id": "7473b30a",
   "metadata": {},
   "outputs": [
    {
     "name": "stdout",
     "output_type": "stream",
     "text": [
      " * sqlite:///data/database.db\n",
      "Done.\n"
     ]
    },
    {
     "data": {
      "text/html": [
       "<table>\n",
       "    <thead>\n",
       "        <tr>\n",
       "            <th>number_of_decades</th>\n",
       "        </tr>\n",
       "    </thead>\n",
       "    <tbody>\n",
       "        <tr>\n",
       "            <td>10</td>\n",
       "        </tr>\n",
       "    </tbody>\n",
       "</table>"
      ],
      "text/plain": [
       "[(10,)]"
      ]
     },
     "execution_count": 22,
     "metadata": {},
     "output_type": "execute_result"
    }
   ],
   "source": [
    "%%sql\n",
    "\n",
    "SELECT ( MAX( release_year ) - MIN( release_year ) ) / 10 AS number_of_decades\n",
    "FROM   films "
   ]
  }
 ],
 "metadata": {
  "kernelspec": {
   "display_name": "Python 3",
   "language": "python",
   "name": "python3"
  },
  "language_info": {
   "codemirror_mode": {
    "name": "ipython",
    "version": 3
   },
   "file_extension": ".py",
   "mimetype": "text/x-python",
   "name": "python",
   "nbconvert_exporter": "python",
   "pygments_lexer": "ipython3",
   "version": "3.8.8"
  }
 },
 "nbformat": 4,
 "nbformat_minor": 5
}
