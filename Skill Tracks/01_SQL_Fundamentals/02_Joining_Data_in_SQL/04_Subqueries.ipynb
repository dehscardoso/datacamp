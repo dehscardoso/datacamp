{
 "cells": [
  {
   "cell_type": "markdown",
   "id": "58411cd2",
   "metadata": {},
   "source": [
    "<img src = \"https://images2.imgbox.com/60/09/VFwl5LOq_o.jpg\" width=\"400\">"
   ]
  },
  {
   "cell_type": "markdown",
   "id": "2447eedf",
   "metadata": {},
   "source": [
    "# 4. Subqueries\n",
    "---"
   ]
  },
  {
   "cell_type": "markdown",
   "id": "0ba66df1",
   "metadata": {},
   "source": [
    "In this closing chapter, you'll learn how to use nested queries and you'll use what you’ve learned in this course to solve three challenge problems."
   ]
  },
  {
   "cell_type": "code",
   "execution_count": 1,
   "id": "edabc159",
   "metadata": {},
   "outputs": [],
   "source": [
    "# %pip install ipython-sql"
   ]
  },
  {
   "cell_type": "code",
   "execution_count": 2,
   "id": "f48bf5dc",
   "metadata": {},
   "outputs": [],
   "source": [
    "%load_ext sql"
   ]
  },
  {
   "cell_type": "code",
   "execution_count": 3,
   "id": "6bcad081",
   "metadata": {},
   "outputs": [
    {
     "data": {
      "text/plain": [
       "'Connected: @data/leaders.db'"
      ]
     },
     "execution_count": 3,
     "metadata": {},
     "output_type": "execute_result"
    }
   ],
   "source": [
    "%sql sqlite:///data/leaders.db"
   ]
  },
  {
   "cell_type": "markdown",
   "id": "29de8870",
   "metadata": {},
   "source": [
    "## Subqueries inside WHERE and SELECT clauses\n",
    "---\n",
    "\n",
    "You've made it all the way to the last chapter of this course. Congratulations and keep up the excellent work. This last chapter is focused on embedding queries inside of queries. These are called nested queries and also known as subqueries as you saw in Chapter 3. The most common type of subquery is one inside of a WHERE statement. Let's check out another one of these now with a little bit of setting up to do first, of course.\n",
    "\n",
    "### Subquery inside WHERE clause set-up\n",
    "\n",
    "You've seen many examples of using a subquery inside a WHERE clause already with the semi-join and anti-join examples and exercises you just completed. With the WHERE clause being the most common place for a subquery to be found, it's important that you see just one more example of doing so. With this being the final chapter, it's time to unveil the remaining fields in the states table. Note that the continent field is not shown to display all the fields here. The fert_rate field gives an estimate for the average number of babies born per woman in each country. The women_parli_perc field gives the percentage of women in the elected federal parliament for each country. Across these 13 countries, how would you determine the average fertility rate?"
   ]
  },
  {
   "cell_type": "code",
   "execution_count": 4,
   "id": "26c9252d",
   "metadata": {},
   "outputs": [
    {
     "name": "stdout",
     "output_type": "stream",
     "text": [
      " * sqlite:///data/leaders.db\n",
      "Done.\n"
     ]
    },
    {
     "data": {
      "text/html": [
       "<table>\n",
       "    <thead>\n",
       "        <tr>\n",
       "            <th>name</th>\n",
       "            <th>indep_year</th>\n",
       "            <th>fert_rate</th>\n",
       "            <th>women_parli_perc</th>\n",
       "        </tr>\n",
       "    </thead>\n",
       "    <tbody>\n",
       "        <tr>\n",
       "            <td>Australia</td>\n",
       "            <td>1901</td>\n",
       "            <td>1.88</td>\n",
       "            <td>32.74</td>\n",
       "        </tr>\n",
       "        <tr>\n",
       "            <td>Brunei</td>\n",
       "            <td>1984</td>\n",
       "            <td>1.96</td>\n",
       "            <td>6.06</td>\n",
       "        </tr>\n",
       "        <tr>\n",
       "            <td>Chile</td>\n",
       "            <td>1810</td>\n",
       "            <td>1.8</td>\n",
       "            <td>15.82</td>\n",
       "        </tr>\n",
       "        <tr>\n",
       "            <td>Egypt</td>\n",
       "            <td>1922</td>\n",
       "            <td>2.7</td>\n",
       "            <td>14.9</td>\n",
       "        </tr>\n",
       "        <tr>\n",
       "            <td>Haiti</td>\n",
       "            <td>1804</td>\n",
       "            <td>3.03</td>\n",
       "            <td>2.74</td>\n",
       "        </tr>\n",
       "        <tr>\n",
       "            <td>India</td>\n",
       "            <td>1947</td>\n",
       "            <td>2.43</td>\n",
       "            <td>11.58</td>\n",
       "        </tr>\n",
       "        <tr>\n",
       "            <td>Liberia</td>\n",
       "            <td>1847</td>\n",
       "            <td>4.64</td>\n",
       "            <td>11.65</td>\n",
       "        </tr>\n",
       "        <tr>\n",
       "            <td>Norway</td>\n",
       "            <td>1905</td>\n",
       "            <td>1.93</td>\n",
       "            <td>39.6</td>\n",
       "        </tr>\n",
       "        <tr>\n",
       "            <td>Oman</td>\n",
       "            <td>1951</td>\n",
       "            <td>2.75</td>\n",
       "            <td>8.82</td>\n",
       "        </tr>\n",
       "        <tr>\n",
       "            <td>Portugal</td>\n",
       "            <td>1143</td>\n",
       "            <td>1.31</td>\n",
       "            <td>34.8</td>\n",
       "        </tr>\n",
       "        <tr>\n",
       "            <td>Spain</td>\n",
       "            <td>1492</td>\n",
       "            <td>1.53</td>\n",
       "            <td>38.64</td>\n",
       "        </tr>\n",
       "        <tr>\n",
       "            <td>Uruguay</td>\n",
       "            <td>1828</td>\n",
       "            <td>2.03</td>\n",
       "            <td>22.31</td>\n",
       "        </tr>\n",
       "    </tbody>\n",
       "</table>"
      ],
      "text/plain": [
       "[('Australia', 1901, 1.88, 32.74),\n",
       " ('Brunei', 1984, 1.96, 6.06),\n",
       " ('Chile', 1810, 1.8, 15.82),\n",
       " ('Egypt', 1922, 2.7, 14.9),\n",
       " ('Haiti', 1804, 3.03, 2.74),\n",
       " ('India', 1947, 2.43, 11.58),\n",
       " ('Liberia', 1847, 4.64, 11.65),\n",
       " ('Norway', 1905, 1.93, 39.6),\n",
       " ('Oman', 1951, 2.75, 8.82),\n",
       " ('Portugal', 1143, 1.31, 34.8),\n",
       " ('Spain', 1492, 1.53, 38.64),\n",
       " ('Uruguay', 1828, 2.03, 22.31)]"
      ]
     },
     "execution_count": 4,
     "metadata": {},
     "output_type": "execute_result"
    }
   ],
   "source": [
    "%%sql\n",
    "\n",
    "SELECT name,\n",
    "       indep_year,\n",
    "       fert_rate,\n",
    "       women_parli_perc\n",
    "FROM   states "
   ]
  },
  {
   "cell_type": "markdown",
   "id": "f1db3dde",
   "metadata": {},
   "source": [
    "### Average fert_rate\n",
    "\n",
    "We will use the average fertility rate as part of a subquery. Recall how this is done. The average babies born to women across these countries is 2-point-28 children."
   ]
  },
  {
   "cell_type": "code",
   "execution_count": 5,
   "id": "35c4e319",
   "metadata": {},
   "outputs": [
    {
     "name": "stdout",
     "output_type": "stream",
     "text": [
      " * sqlite:///data/leaders.db\n",
      "Done.\n"
     ]
    },
    {
     "data": {
      "text/html": [
       "<table>\n",
       "    <thead>\n",
       "        <tr>\n",
       "            <th>AVG( fert_rate )</th>\n",
       "        </tr>\n",
       "    </thead>\n",
       "    <tbody>\n",
       "        <tr>\n",
       "            <td>2.3325</td>\n",
       "        </tr>\n",
       "    </tbody>\n",
       "</table>"
      ],
      "text/plain": [
       "[(2.3325,)]"
      ]
     },
     "execution_count": 5,
     "metadata": {},
     "output_type": "execute_result"
    }
   ],
   "source": [
    "%%sql\n",
    "\n",
    "SELECT AVG( fert_rate )\n",
    "FROM   states "
   ]
  },
  {
   "cell_type": "markdown",
   "id": "b11c53a0",
   "metadata": {},
   "source": [
    "### Asian countries below average fert_rate\n",
    "\n",
    "Let's use the previous slide's query as a subquery to determine Asian countries that fall under this average. You'll see the code in a couple steps. First we select the country name and the fertility rate for Asian countries."
   ]
  },
  {
   "cell_type": "code",
   "execution_count": 6,
   "id": "e7165cbd",
   "metadata": {},
   "outputs": [
    {
     "name": "stdout",
     "output_type": "stream",
     "text": [
      " * sqlite:///data/leaders.db\n",
      "Done.\n"
     ]
    },
    {
     "data": {
      "text/html": [
       "<table>\n",
       "    <thead>\n",
       "        <tr>\n",
       "            <th>name</th>\n",
       "            <th>fert_rate</th>\n",
       "        </tr>\n",
       "    </thead>\n",
       "    <tbody>\n",
       "        <tr>\n",
       "            <td>Brunei</td>\n",
       "            <td>1.96</td>\n",
       "        </tr>\n",
       "        <tr>\n",
       "            <td>India</td>\n",
       "            <td>2.43</td>\n",
       "        </tr>\n",
       "        <tr>\n",
       "            <td>Oman</td>\n",
       "            <td>2.75</td>\n",
       "        </tr>\n",
       "    </tbody>\n",
       "</table>"
      ],
      "text/plain": [
       "[('Brunei', 1.96), ('India', 2.43), ('Oman', 2.75)]"
      ]
     },
     "execution_count": 6,
     "metadata": {},
     "output_type": "execute_result"
    }
   ],
   "source": [
    "%%sql\n",
    "\n",
    "SELECT name,\n",
    "       fert_rate\n",
    "FROM   states\n",
    "WHERE  continent = 'Asia' "
   ]
  },
  {
   "cell_type": "markdown",
   "id": "6016d69e",
   "metadata": {},
   "source": [
    "### Asian countries below average fert_rate\n",
    "\n",
    "Next, we want to choose records where fert_rate is smaller than. What comes next?\n",
    "The subquery is to get the average fertility rate! And now we can check out our result to make sure it makes sense. It appears so. These are the two Asian countries we were looking for with fertility rates below 2-point-28 babies per woman."
   ]
  },
  {
   "cell_type": "code",
   "execution_count": 7,
   "id": "235786d0",
   "metadata": {},
   "outputs": [
    {
     "name": "stdout",
     "output_type": "stream",
     "text": [
      " * sqlite:///data/leaders.db\n",
      "Done.\n"
     ]
    },
    {
     "data": {
      "text/html": [
       "<table>\n",
       "    <thead>\n",
       "        <tr>\n",
       "            <th>name</th>\n",
       "            <th>fert_rate</th>\n",
       "        </tr>\n",
       "    </thead>\n",
       "    <tbody>\n",
       "        <tr>\n",
       "            <td>Brunei</td>\n",
       "            <td>1.96</td>\n",
       "        </tr>\n",
       "    </tbody>\n",
       "</table>"
      ],
      "text/plain": [
       "[('Brunei', 1.96)]"
      ]
     },
     "execution_count": 7,
     "metadata": {},
     "output_type": "execute_result"
    }
   ],
   "source": [
    "%%sql\n",
    "\n",
    "SELECT name,\n",
    "       fert_rate\n",
    "FROM   states\n",
    "WHERE  continent = 'Asia'\n",
    "       AND fert_rate < ( SELECT AVG( fert_rate)\n",
    "                         FROM   states ) "
   ]
  },
  {
   "cell_type": "markdown",
   "id": "cef52fe8",
   "metadata": {},
   "source": [
    "### Subqueries inside SELECT clauses - setup\n",
    "\n",
    "The second most common type of a subquery is inside of a SELECT clause. The task here is to count the number of countries listed in the states table for each continent in the prime_ministers table. Let's again take the stepwise approach to setting up the problem. What does this code do? It gives each of the five continents in the prime_ministers table. Let's keep building our answer in the next slide."
   ]
  },
  {
   "cell_type": "code",
   "execution_count": 8,
   "id": "ee93f96e",
   "metadata": {},
   "outputs": [
    {
     "name": "stdout",
     "output_type": "stream",
     "text": [
      " * sqlite:///data/leaders.db\n",
      "Done.\n"
     ]
    },
    {
     "data": {
      "text/html": [
       "<table>\n",
       "    <thead>\n",
       "        <tr>\n",
       "            <th>continent</th>\n",
       "        </tr>\n",
       "    </thead>\n",
       "    <tbody>\n",
       "        <tr>\n",
       "            <td>Africa</td>\n",
       "        </tr>\n",
       "        <tr>\n",
       "            <td>Europe</td>\n",
       "        </tr>\n",
       "        <tr>\n",
       "            <td>Asia</td>\n",
       "        </tr>\n",
       "        <tr>\n",
       "            <td>North America</td>\n",
       "        </tr>\n",
       "        <tr>\n",
       "            <td>Oceania</td>\n",
       "        </tr>\n",
       "    </tbody>\n",
       "</table>"
      ],
      "text/plain": [
       "[('Africa',), ('Europe',), ('Asia',), ('North America',), ('Oceania',)]"
      ]
     },
     "execution_count": 8,
     "metadata": {},
     "output_type": "execute_result"
    }
   ],
   "source": [
    "%%sql\n",
    "\n",
    "SELECT DISTINCT( continent )\n",
    "FROM   prime_ministers "
   ]
  },
  {
   "cell_type": "markdown",
   "id": "eed26667",
   "metadata": {},
   "source": [
    "### Subquery inside SELECT clause - complete\n",
    "\n",
    "Next is determining the counts of the number of countries in states for each of the continents in the last slide. Combining a COUNT clause with a WHERE statement matching the continent fields in the two tables gets us there. Let's check out the code and then discuss a bit further. The subquery involving states also can reference the prime_ministers table in the main query. Any time you do a subquery inside a SELECT statement like this, you need to give the subquery an alias like countries_num here. Please pause the video here and carefully review this code. The result of this query comes next. It's kinda like magic that this works, huh?! If you haven't discovered it already, there are often many different ways to solve problems with SQL queries. You could use a carefully constructed JOIN to achieve this same result, for example."
   ]
  },
  {
   "cell_type": "code",
   "execution_count": 9,
   "id": "7a30283d",
   "metadata": {},
   "outputs": [
    {
     "name": "stdout",
     "output_type": "stream",
     "text": [
      " * sqlite:///data/leaders.db\n",
      "Done.\n"
     ]
    },
    {
     "data": {
      "text/html": [
       "<table>\n",
       "    <thead>\n",
       "        <tr>\n",
       "            <th>continent</th>\n",
       "            <th>countries_num</th>\n",
       "        </tr>\n",
       "    </thead>\n",
       "    <tbody>\n",
       "        <tr>\n",
       "            <td>Africa</td>\n",
       "            <td>2</td>\n",
       "        </tr>\n",
       "        <tr>\n",
       "            <td>Europe</td>\n",
       "            <td>3</td>\n",
       "        </tr>\n",
       "        <tr>\n",
       "            <td>Asia</td>\n",
       "            <td>3</td>\n",
       "        </tr>\n",
       "        <tr>\n",
       "            <td>North America</td>\n",
       "            <td>1</td>\n",
       "        </tr>\n",
       "        <tr>\n",
       "            <td>Oceania</td>\n",
       "            <td>1</td>\n",
       "        </tr>\n",
       "    </tbody>\n",
       "</table>"
      ],
      "text/plain": [
       "[('Africa', 2),\n",
       " ('Europe', 3),\n",
       " ('Asia', 3),\n",
       " ('North America', 1),\n",
       " ('Oceania', 1)]"
      ]
     },
     "execution_count": 9,
     "metadata": {},
     "output_type": "execute_result"
    }
   ],
   "source": [
    "%%sql\n",
    "\n",
    "SELECT DISTINCT continent,\n",
    "                ( SELECT COUNT(*)\n",
    "                  FROM   states\n",
    "                  WHERE  prime_ministers.continent = states.continent ) AS\n",
    "                countries_num\n",
    "FROM   prime_ministers"
   ]
  },
  {
   "cell_type": "markdown",
   "id": "f26d5010",
   "metadata": {},
   "source": [
    "## Subquery inside where\n",
    "---\n",
    "You'll now try to figure out which countries had high average life expectancies (at the country level) in 2015."
   ]
  },
  {
   "cell_type": "markdown",
   "id": "cd210780",
   "metadata": {},
   "source": [
    "### Instructions\n",
    "\n",
    "Begin by calculating the average life expectancy across all countries for 2015."
   ]
  },
  {
   "cell_type": "code",
   "execution_count": 10,
   "id": "7019c3df",
   "metadata": {},
   "outputs": [
    {
     "data": {
      "text/plain": [
       "'Connected: @data/countries.db'"
      ]
     },
     "execution_count": 10,
     "metadata": {},
     "output_type": "execute_result"
    }
   ],
   "source": [
    "%sql sqlite:///data/countries.db"
   ]
  },
  {
   "cell_type": "code",
   "execution_count": 11,
   "id": "7c664f50",
   "metadata": {},
   "outputs": [
    {
     "name": "stdout",
     "output_type": "stream",
     "text": [
      " * sqlite:///data/countries.db\n",
      "   sqlite:///data/leaders.db\n",
      "Done.\n"
     ]
    },
    {
     "data": {
      "text/html": [
       "<table>\n",
       "    <thead>\n",
       "        <tr>\n",
       "            <th>AVG( life_expectancy )</th>\n",
       "        </tr>\n",
       "    </thead>\n",
       "    <tbody>\n",
       "        <tr>\n",
       "            <td>71.6763415865977</td>\n",
       "        </tr>\n",
       "    </tbody>\n",
       "</table>"
      ],
      "text/plain": [
       "[(71.6763415865977,)]"
      ]
     },
     "execution_count": 11,
     "metadata": {},
     "output_type": "execute_result"
    }
   ],
   "source": [
    "%%sql\n",
    "\n",
    "SELECT AVG( life_expectancy )\n",
    "FROM   populations\n",
    "WHERE  year = 2015 "
   ]
  },
  {
   "cell_type": "markdown",
   "id": "e4dce20d",
   "metadata": {},
   "source": [
    "Recall that you can use SQL to do calculations for you. Suppose we wanted only records that were above `1.15 * 100` in terms of life expectancy for 2015:\n",
    "\n",
    "`SELECT *\n",
    " FROM   populations\n",
    " WHERE  life_expectancy > 1.15 * 100\n",
    "        AND year = 2015 `\n",
    "  \n",
    "Select all fields from `populations` with records corresponding to larger than 1.15 times the average you calculated in the first task for 2015. In other words, change the `100` in the example above with a subquery."
   ]
  },
  {
   "cell_type": "code",
   "execution_count": 12,
   "id": "349f0612",
   "metadata": {},
   "outputs": [
    {
     "name": "stdout",
     "output_type": "stream",
     "text": [
      " * sqlite:///data/countries.db\n",
      "   sqlite:///data/leaders.db\n",
      "Done.\n"
     ]
    },
    {
     "data": {
      "text/html": [
       "<table>\n",
       "    <thead>\n",
       "        <tr>\n",
       "            <th>pop_id</th>\n",
       "            <th>country_code</th>\n",
       "            <th>year</th>\n",
       "            <th>fertility_rate</th>\n",
       "            <th>life_expectancy</th>\n",
       "            <th>size</th>\n",
       "        </tr>\n",
       "    </thead>\n",
       "    <tbody>\n",
       "        <tr>\n",
       "            <td>21</td>\n",
       "            <td>AUS</td>\n",
       "            <td>2015</td>\n",
       "            <td>1.833</td>\n",
       "            <td>82.4512195121951</td>\n",
       "            <td>23789752.0</td>\n",
       "        </tr>\n",
       "        <tr>\n",
       "            <td>134</td>\n",
       "            <td>FRA</td>\n",
       "            <td>2015</td>\n",
       "            <td>2.01</td>\n",
       "            <td>82.6707317073171</td>\n",
       "            <td>66538391.0</td>\n",
       "        </tr>\n",
       "        <tr>\n",
       "            <td>170</td>\n",
       "            <td>HKG</td>\n",
       "            <td>2015</td>\n",
       "            <td>1.195</td>\n",
       "            <td>84.2780487804878</td>\n",
       "            <td>7305700.0</td>\n",
       "        </tr>\n",
       "        <tr>\n",
       "            <td>174</td>\n",
       "            <td>ISL</td>\n",
       "            <td>2015</td>\n",
       "            <td>1.93</td>\n",
       "            <td>82.8609756097561</td>\n",
       "            <td>330815.0</td>\n",
       "        </tr>\n",
       "        <tr>\n",
       "            <td>190</td>\n",
       "            <td>ITA</td>\n",
       "            <td>2015</td>\n",
       "            <td>1.37</td>\n",
       "            <td>83.490243902439</td>\n",
       "            <td>60730582.0</td>\n",
       "        </tr>\n",
       "        <tr>\n",
       "            <td>194</td>\n",
       "            <td>JPN</td>\n",
       "            <td>2015</td>\n",
       "            <td>1.46</td>\n",
       "            <td>83.8436585365854</td>\n",
       "            <td>126958472.0</td>\n",
       "        </tr>\n",
       "        <tr>\n",
       "            <td>340</td>\n",
       "            <td>SGP</td>\n",
       "            <td>2015</td>\n",
       "            <td>1.24</td>\n",
       "            <td>82.5951219512195</td>\n",
       "            <td>5535002.0</td>\n",
       "        </tr>\n",
       "        <tr>\n",
       "            <td>356</td>\n",
       "            <td>ESP</td>\n",
       "            <td>2015</td>\n",
       "            <td>1.32</td>\n",
       "            <td>83.3804878048781</td>\n",
       "            <td>46443994.0</td>\n",
       "        </tr>\n",
       "        <tr>\n",
       "            <td>374</td>\n",
       "            <td>SWE</td>\n",
       "            <td>2015</td>\n",
       "            <td>1.88</td>\n",
       "            <td>82.5512195121951</td>\n",
       "            <td>9799186.0</td>\n",
       "        </tr>\n",
       "        <tr>\n",
       "            <td>376</td>\n",
       "            <td>CHE</td>\n",
       "            <td>2015</td>\n",
       "            <td>1.54</td>\n",
       "            <td>83.1975609756098</td>\n",
       "            <td>8281430.0</td>\n",
       "        </tr>\n",
       "    </tbody>\n",
       "</table>"
      ],
      "text/plain": [
       "[(21, 'AUS', 2015, 1.833, 82.4512195121951, 23789752.0),\n",
       " (134, 'FRA', 2015, 2.01, 82.6707317073171, 66538391.0),\n",
       " (170, 'HKG', 2015, 1.195, 84.2780487804878, 7305700.0),\n",
       " (174, 'ISL', 2015, 1.93, 82.8609756097561, 330815.0),\n",
       " (190, 'ITA', 2015, 1.37, 83.490243902439, 60730582.0),\n",
       " (194, 'JPN', 2015, 1.46, 83.8436585365854, 126958472.0),\n",
       " (340, 'SGP', 2015, 1.24, 82.5951219512195, 5535002.0),\n",
       " (356, 'ESP', 2015, 1.32, 83.3804878048781, 46443994.0),\n",
       " (374, 'SWE', 2015, 1.88, 82.5512195121951, 9799186.0),\n",
       " (376, 'CHE', 2015, 1.54, 83.1975609756098, 8281430.0)]"
      ]
     },
     "execution_count": 12,
     "metadata": {},
     "output_type": "execute_result"
    }
   ],
   "source": [
    "%%sql\n",
    "\n",
    "SELECT *\n",
    "FROM   populations\n",
    "WHERE  life_expectancy > 1.15 * ( SELECT AVG( life_expectancy )\n",
    "                                  FROM   populations\n",
    "                                  WHERE  year = 2015 )\n",
    "       AND year = 2015"
   ]
  },
  {
   "cell_type": "markdown",
   "id": "463ade01",
   "metadata": {},
   "source": [
    "## Subquery inside where (2)\n",
    "---\n",
    "Use your knowledge of subqueries in `WHERE` to get the urban area population for only capital cities."
   ]
  },
  {
   "cell_type": "markdown",
   "id": "c6161d6c",
   "metadata": {},
   "source": [
    "### Instructions\n",
    "\n",
    "Make use of the `capital` field in the `countries` table in your subquery.\n",
    "\n",
    "Select the city name, country code, and urban area population fields."
   ]
  },
  {
   "cell_type": "code",
   "execution_count": 13,
   "id": "25c85695",
   "metadata": {},
   "outputs": [
    {
     "name": "stdout",
     "output_type": "stream",
     "text": [
      " * sqlite:///data/countries.db\n",
      "   sqlite:///data/leaders.db\n",
      "Done.\n"
     ]
    },
    {
     "data": {
      "text/html": [
       "<table>\n",
       "    <thead>\n",
       "        <tr>\n",
       "            <th>name</th>\n",
       "            <th>country_code</th>\n",
       "            <th>urbanarea_pop</th>\n",
       "        </tr>\n",
       "    </thead>\n",
       "    <tbody>\n",
       "        <tr>\n",
       "            <td>Beijing</td>\n",
       "            <td>CHN</td>\n",
       "            <td>21516000.0</td>\n",
       "        </tr>\n",
       "        <tr>\n",
       "            <td>Dhaka</td>\n",
       "            <td>BGD</td>\n",
       "            <td>14543124.0</td>\n",
       "        </tr>\n",
       "        <tr>\n",
       "            <td>Tokyo</td>\n",
       "            <td>JPN</td>\n",
       "            <td>13513734.0</td>\n",
       "        </tr>\n",
       "        <tr>\n",
       "            <td>Moscow</td>\n",
       "            <td>RUS</td>\n",
       "            <td>12197596.0</td>\n",
       "        </tr>\n",
       "        <tr>\n",
       "            <td>Cairo</td>\n",
       "            <td>EGY</td>\n",
       "            <td>10230350.0</td>\n",
       "        </tr>\n",
       "        <tr>\n",
       "            <td>Kinshasa</td>\n",
       "            <td>COD</td>\n",
       "            <td>10130000.0</td>\n",
       "        </tr>\n",
       "        <tr>\n",
       "            <td>Jakarta</td>\n",
       "            <td>IDN</td>\n",
       "            <td>10075310.0</td>\n",
       "        </tr>\n",
       "        <tr>\n",
       "            <td>Seoul</td>\n",
       "            <td>KOR</td>\n",
       "            <td>9995784.0</td>\n",
       "        </tr>\n",
       "        <tr>\n",
       "            <td>Mexico City</td>\n",
       "            <td>MEX</td>\n",
       "            <td>8974724.0</td>\n",
       "        </tr>\n",
       "        <tr>\n",
       "            <td>Lima</td>\n",
       "            <td>PER</td>\n",
       "            <td>8852000.0</td>\n",
       "        </tr>\n",
       "    </tbody>\n",
       "</table>"
      ],
      "text/plain": [
       "[('Beijing', 'CHN', 21516000.0),\n",
       " ('Dhaka', 'BGD', 14543124.0),\n",
       " ('Tokyo', 'JPN', 13513734.0),\n",
       " ('Moscow', 'RUS', 12197596.0),\n",
       " ('Cairo', 'EGY', 10230350.0),\n",
       " ('Kinshasa', 'COD', 10130000.0),\n",
       " ('Jakarta', 'IDN', 10075310.0),\n",
       " ('Seoul', 'KOR', 9995784.0),\n",
       " ('Mexico City', 'MEX', 8974724.0),\n",
       " ('Lima', 'PER', 8852000.0)]"
      ]
     },
     "execution_count": 13,
     "metadata": {},
     "output_type": "execute_result"
    }
   ],
   "source": [
    "%%sql\n",
    "\n",
    "SELECT name,\n",
    "       country_code,\n",
    "       urbanarea_pop\n",
    "FROM   cities\n",
    "WHERE  name IN ( SELECT capital\n",
    "                 FROM   countries )\n",
    "ORDER  BY urbanarea_pop DESC\n",
    "LIMIT  10 "
   ]
  },
  {
   "cell_type": "markdown",
   "id": "4be2b8bf",
   "metadata": {},
   "source": [
    "## Subquery inside select\n",
    "---\n",
    "\n",
    "In this exercise, you'll see how some queries can be written using either a join or a subquery.\n",
    "\n",
    "You have seen previously how to use `GROUP BY` with aggregate functions and an inner join to get summarized information from multiple tables.\n",
    "\n",
    "The code given in the first query selects the top nine countries in terms of number of cities appearing in the cities table. Recall that this corresponds to the most populous `cities` in the world. Your task will be to convert the second query to get the same result as the provided code.\n",
    "\n",
    "Submit the code to view the result of the provided query."
   ]
  },
  {
   "cell_type": "code",
   "execution_count": 14,
   "id": "1a3a1333",
   "metadata": {},
   "outputs": [
    {
     "name": "stdout",
     "output_type": "stream",
     "text": [
      " * sqlite:///data/countries.db\n",
      "   sqlite:///data/leaders.db\n",
      "Done.\n"
     ]
    },
    {
     "data": {
      "text/html": [
       "<table>\n",
       "    <thead>\n",
       "        <tr>\n",
       "            <th>country</th>\n",
       "            <th>cities_num</th>\n",
       "        </tr>\n",
       "    </thead>\n",
       "    <tbody>\n",
       "        <tr>\n",
       "            <td>China</td>\n",
       "            <td>36</td>\n",
       "        </tr>\n",
       "        <tr>\n",
       "            <td>India</td>\n",
       "            <td>18</td>\n",
       "        </tr>\n",
       "        <tr>\n",
       "            <td>Japan</td>\n",
       "            <td>11</td>\n",
       "        </tr>\n",
       "        <tr>\n",
       "            <td>Brazil</td>\n",
       "            <td>10</td>\n",
       "        </tr>\n",
       "        <tr>\n",
       "            <td>Pakistan</td>\n",
       "            <td>9</td>\n",
       "        </tr>\n",
       "        <tr>\n",
       "            <td>United States</td>\n",
       "            <td>9</td>\n",
       "        </tr>\n",
       "        <tr>\n",
       "            <td>Indonesia</td>\n",
       "            <td>7</td>\n",
       "        </tr>\n",
       "        <tr>\n",
       "            <td>Russian Federation</td>\n",
       "            <td>7</td>\n",
       "        </tr>\n",
       "        <tr>\n",
       "            <td>South Korea</td>\n",
       "            <td>7</td>\n",
       "        </tr>\n",
       "        <tr>\n",
       "            <td>Iran</td>\n",
       "            <td>6</td>\n",
       "        </tr>\n",
       "    </tbody>\n",
       "</table>"
      ],
      "text/plain": [
       "[('China', 36),\n",
       " ('India', 18),\n",
       " ('Japan', 11),\n",
       " ('Brazil', 10),\n",
       " ('Pakistan', 9),\n",
       " ('United States', 9),\n",
       " ('Indonesia', 7),\n",
       " ('Russian Federation', 7),\n",
       " ('South Korea', 7),\n",
       " ('Iran', 6)]"
      ]
     },
     "execution_count": 14,
     "metadata": {},
     "output_type": "execute_result"
    }
   ],
   "source": [
    "%%sql\n",
    "\n",
    "SELECT countries.name AS country,\n",
    "       COUNT(*)       AS cities_num\n",
    "FROM   cities\n",
    "       INNER JOIN countries\n",
    "               ON countries.code = cities.country_code\n",
    "GROUP  BY country\n",
    "ORDER  BY cities_num DESC,\n",
    "          country\n",
    "LIMIT  10 "
   ]
  },
  {
   "cell_type": "markdown",
   "id": "ff85a5df",
   "metadata": {},
   "source": [
    "Convert the `GROUP BY` code to use a subquery inside of `SELECT` by filling in the blanks to get a result that matches the one given using the `GROUP BY` code in the first query.\n",
    "\n",
    "Again, sort the result by `cities_num` descending and then by `country` ascending."
   ]
  },
  {
   "cell_type": "code",
   "execution_count": 15,
   "id": "b7e9c7ed",
   "metadata": {},
   "outputs": [
    {
     "name": "stdout",
     "output_type": "stream",
     "text": [
      " * sqlite:///data/countries.db\n",
      "   sqlite:///data/leaders.db\n",
      "Done.\n"
     ]
    },
    {
     "data": {
      "text/html": [
       "<table>\n",
       "    <thead>\n",
       "        <tr>\n",
       "            <th>country</th>\n",
       "            <th>cities_num</th>\n",
       "        </tr>\n",
       "    </thead>\n",
       "    <tbody>\n",
       "        <tr>\n",
       "            <td>China</td>\n",
       "            <td>36</td>\n",
       "        </tr>\n",
       "        <tr>\n",
       "            <td>India</td>\n",
       "            <td>18</td>\n",
       "        </tr>\n",
       "        <tr>\n",
       "            <td>Japan</td>\n",
       "            <td>11</td>\n",
       "        </tr>\n",
       "        <tr>\n",
       "            <td>Brazil</td>\n",
       "            <td>10</td>\n",
       "        </tr>\n",
       "        <tr>\n",
       "            <td>Pakistan</td>\n",
       "            <td>9</td>\n",
       "        </tr>\n",
       "        <tr>\n",
       "            <td>United States</td>\n",
       "            <td>9</td>\n",
       "        </tr>\n",
       "        <tr>\n",
       "            <td>Indonesia</td>\n",
       "            <td>7</td>\n",
       "        </tr>\n",
       "        <tr>\n",
       "            <td>Russian Federation</td>\n",
       "            <td>7</td>\n",
       "        </tr>\n",
       "        <tr>\n",
       "            <td>South Korea</td>\n",
       "            <td>7</td>\n",
       "        </tr>\n",
       "        <tr>\n",
       "            <td>Iran</td>\n",
       "            <td>6</td>\n",
       "        </tr>\n",
       "    </tbody>\n",
       "</table>"
      ],
      "text/plain": [
       "[('China', 36),\n",
       " ('India', 18),\n",
       " ('Japan', 11),\n",
       " ('Brazil', 10),\n",
       " ('Pakistan', 9),\n",
       " ('United States', 9),\n",
       " ('Indonesia', 7),\n",
       " ('Russian Federation', 7),\n",
       " ('South Korea', 7),\n",
       " ('Iran', 6)]"
      ]
     },
     "execution_count": 15,
     "metadata": {},
     "output_type": "execute_result"
    }
   ],
   "source": [
    "%%sql\n",
    "\n",
    "SELECT name                                          AS country,\n",
    "       (SELECT Count(*)\n",
    "        FROM   cities\n",
    "        WHERE  countries.code = cities.country_code) AS cities_num\n",
    "FROM   countries\n",
    "ORDER  BY cities_num DESC,\n",
    "          country\n",
    "LIMIT  10"
   ]
  },
  {
   "cell_type": "markdown",
   "id": "e43e1319",
   "metadata": {},
   "source": [
    "## Subquery inside the FROM clause\n",
    "---\n",
    "\n",
    "The last basic type of a subquery exists inside of a FROM clause. A motivating example pertaining to the percentage of women in parliament will be used now to help you understand this style of subquery. Let's dig in!\n",
    "\n",
    "### Build-up\n",
    "\n",
    "First, let's determine the maximum percentage of women in parliament for each continent listed in states. Recall that this query will only work if you include continent as one of the fields in the SELECT clause since we are grouping based on that field. Let's check out the result. We see that Europe has the largest value and North America has the smallest value for the countries listed in the states table."
   ]
  },
  {
   "cell_type": "code",
   "execution_count": 16,
   "id": "124d5583",
   "metadata": {},
   "outputs": [
    {
     "data": {
      "text/plain": [
       "'Connected: @data/leaders.db'"
      ]
     },
     "execution_count": 16,
     "metadata": {},
     "output_type": "execute_result"
    }
   ],
   "source": [
    "%sql sqlite:///data/leaders.db"
   ]
  },
  {
   "cell_type": "code",
   "execution_count": 17,
   "id": "f52d5fdc",
   "metadata": {},
   "outputs": [
    {
     "name": "stdout",
     "output_type": "stream",
     "text": [
      "   sqlite:///data/countries.db\n",
      " * sqlite:///data/leaders.db\n",
      "Done.\n"
     ]
    },
    {
     "data": {
      "text/html": [
       "<table>\n",
       "    <thead>\n",
       "        <tr>\n",
       "            <th>continent</th>\n",
       "            <th>max_perc</th>\n",
       "        </tr>\n",
       "    </thead>\n",
       "    <tbody>\n",
       "        <tr>\n",
       "            <td>Africa</td>\n",
       "            <td>14.9</td>\n",
       "        </tr>\n",
       "        <tr>\n",
       "            <td>Asia</td>\n",
       "            <td>11.58</td>\n",
       "        </tr>\n",
       "        <tr>\n",
       "            <td>Europe</td>\n",
       "            <td>39.6</td>\n",
       "        </tr>\n",
       "        <tr>\n",
       "            <td>North America</td>\n",
       "            <td>2.74</td>\n",
       "        </tr>\n",
       "        <tr>\n",
       "            <td>Oceania</td>\n",
       "            <td>32.74</td>\n",
       "        </tr>\n",
       "        <tr>\n",
       "            <td>South America</td>\n",
       "            <td>22.31</td>\n",
       "        </tr>\n",
       "    </tbody>\n",
       "</table>"
      ],
      "text/plain": [
       "[('Africa', 14.9),\n",
       " ('Asia', 11.58),\n",
       " ('Europe', 39.6),\n",
       " ('North America', 2.74),\n",
       " ('Oceania', 32.74),\n",
       " ('South America', 22.31)]"
      ]
     },
     "execution_count": 17,
     "metadata": {},
     "output_type": "execute_result"
    }
   ],
   "source": [
    "%%sql\n",
    "\n",
    "SELECT continent,\n",
    "       MAX( women_parli_perc ) AS max_perc\n",
    "FROM   states\n",
    "GROUP  BY continent\n",
    "ORDER  BY continent"
   ]
  },
  {
   "cell_type": "markdown",
   "id": "7124cc9e",
   "metadata": {},
   "source": [
    "### Focusing on records in monarchs\n",
    "\n",
    "What if you weren't interested in all continents, but specifically those in the monarchs table. You haven't seen this yet in the course but you can include multiple tables in a FROM clause by adding a comma between them. Let's investigate a way to get the continents only in monarchs using this new trick. We have at least part of our answer here, but how do we get rid of those duplicate entries? And what about the maximum column?\n",
    "\n",
    "`SELECT monarchs.continent\n",
    " FROM   monarchs,\n",
    "        states\n",
    " WHERE  monarchs.continent = states.continent\n",
    " ORDER  BY continent`\n",
    "\n",
    "### Finishing off the subquery\n",
    "\n",
    "To get Asia and Europe to appear only once, use the DISTINCT command in your SELECT statement. But now how do you get that maximum column to also come along with Asia and Europe? Instead of including states in the FROM clause, include the subquery instead and alias it with a name like subquery. There you have it! That's how to include a subquery as a temporary table in your FROM clause.\n",
    "\n",
    "`SELECT DISTINCT( monarchs.continent ),\n",
    "                 subquery.max_perc\n",
    " FROM   monarchs,\n",
    "        (SELECT continent,\n",
    "                Max(women_parli_perc) AS max_perc\n",
    "         FROM   states\n",
    "         GROUP  BY continent) AS subquery\n",
    " WHERE  monarchs.continent = subquery.continent\n",
    " ORDER  BY continent `"
   ]
  },
  {
   "cell_type": "markdown",
   "id": "0c92b159",
   "metadata": {},
   "source": [
    "## Subquery inside from\n",
    "---\n",
    "\n",
    "The last type of subquery you will work with is one inside of `FROM`.\n",
    "\n",
    "You will use this to determine the number of languages spoken for each country, identified by the country's local name! (Note this may be different than the `name` field and is stored in the `local_name` field.)"
   ]
  },
  {
   "cell_type": "markdown",
   "id": "2cc41206",
   "metadata": {},
   "source": [
    "### Instructions\n",
    "\n",
    "Begin by determining for each country code how many `languages` are listed in the languages table using `SELECT`, `FROM`, and `GROUP BY`.\n",
    "\n",
    "Alias the aggregated field as `lang_num`."
   ]
  },
  {
   "cell_type": "code",
   "execution_count": 18,
   "id": "930d7cee",
   "metadata": {},
   "outputs": [
    {
     "data": {
      "text/plain": [
       "'Connected: @data/countries.db'"
      ]
     },
     "execution_count": 18,
     "metadata": {},
     "output_type": "execute_result"
    }
   ],
   "source": [
    "%sql sqlite:///data/countries.db"
   ]
  },
  {
   "cell_type": "code",
   "execution_count": 19,
   "id": "f414c967",
   "metadata": {},
   "outputs": [
    {
     "name": "stdout",
     "output_type": "stream",
     "text": [
      " * sqlite:///data/countries.db\n",
      "   sqlite:///data/leaders.db\n",
      "Done.\n"
     ]
    },
    {
     "data": {
      "text/html": [
       "<table>\n",
       "    <thead>\n",
       "        <tr>\n",
       "            <th>code</th>\n",
       "            <th>lang_num</th>\n",
       "        </tr>\n",
       "    </thead>\n",
       "    <tbody>\n",
       "        <tr>\n",
       "            <td>ABW</td>\n",
       "            <td>7</td>\n",
       "        </tr>\n",
       "        <tr>\n",
       "            <td>AFG</td>\n",
       "            <td>4</td>\n",
       "        </tr>\n",
       "        <tr>\n",
       "            <td>AGO</td>\n",
       "            <td>12</td>\n",
       "        </tr>\n",
       "        <tr>\n",
       "            <td>AIA</td>\n",
       "            <td>1</td>\n",
       "        </tr>\n",
       "        <tr>\n",
       "            <td>ALB</td>\n",
       "            <td>4</td>\n",
       "        </tr>\n",
       "        <tr>\n",
       "            <td>AND</td>\n",
       "            <td>4</td>\n",
       "        </tr>\n",
       "        <tr>\n",
       "            <td>ARE</td>\n",
       "            <td>5</td>\n",
       "        </tr>\n",
       "        <tr>\n",
       "            <td>ARG</td>\n",
       "            <td>6</td>\n",
       "        </tr>\n",
       "        <tr>\n",
       "            <td>ARM</td>\n",
       "            <td>3</td>\n",
       "        </tr>\n",
       "        <tr>\n",
       "            <td>ASM</td>\n",
       "            <td>5</td>\n",
       "        </tr>\n",
       "    </tbody>\n",
       "</table>"
      ],
      "text/plain": [
       "[('ABW', 7),\n",
       " ('AFG', 4),\n",
       " ('AGO', 12),\n",
       " ('AIA', 1),\n",
       " ('ALB', 4),\n",
       " ('AND', 4),\n",
       " ('ARE', 5),\n",
       " ('ARG', 6),\n",
       " ('ARM', 3),\n",
       " ('ASM', 5)]"
      ]
     },
     "execution_count": 19,
     "metadata": {},
     "output_type": "execute_result"
    }
   ],
   "source": [
    "%%sql\n",
    "\n",
    "SELECT code,\n",
    "       COUNT( name ) AS lang_num\n",
    "FROM   languages\n",
    "GROUP  BY code\n",
    "LIMIT  10 "
   ]
  },
  {
   "cell_type": "markdown",
   "id": "c8b94225",
   "metadata": {},
   "source": [
    "Include the previous query (aliased as `subquery`) as a subquery in the `FROM` clause of a new query.\n",
    "\n",
    "Select the local name of the country from `countries`.\n",
    "\n",
    "Also, select `lang_num` from `subquery`.\n",
    "\n",
    "Make sure to use `WHERE` appropriately to match `code` in `countries` and in `subquery`.\n",
    "\n",
    "Sort by `lang_num` in descending order."
   ]
  },
  {
   "cell_type": "code",
   "execution_count": 20,
   "id": "22143fee",
   "metadata": {},
   "outputs": [
    {
     "name": "stdout",
     "output_type": "stream",
     "text": [
      " * sqlite:///data/countries.db\n",
      "   sqlite:///data/leaders.db\n",
      "Done.\n"
     ]
    },
    {
     "data": {
      "text/html": [
       "<table>\n",
       "    <thead>\n",
       "        <tr>\n",
       "            <th>local_name</th>\n",
       "            <th>lang_num</th>\n",
       "        </tr>\n",
       "    </thead>\n",
       "    <tbody>\n",
       "        <tr>\n",
       "            <td>Zambia</td>\n",
       "            <td>19</td>\n",
       "        </tr>\n",
       "        <tr>\n",
       "            <td>YeItyop´iya</td>\n",
       "            <td>16</td>\n",
       "        </tr>\n",
       "        <tr>\n",
       "            <td>Zimbabwe</td>\n",
       "            <td>16</td>\n",
       "        </tr>\n",
       "        <tr>\n",
       "            <td>Bharat/India</td>\n",
       "            <td>14</td>\n",
       "        </tr>\n",
       "        <tr>\n",
       "            <td>Nepal</td>\n",
       "            <td>14</td>\n",
       "        </tr>\n",
       "        <tr>\n",
       "            <td>France</td>\n",
       "            <td>13</td>\n",
       "        </tr>\n",
       "        <tr>\n",
       "            <td>Mali</td>\n",
       "            <td>13</td>\n",
       "        </tr>\n",
       "        <tr>\n",
       "            <td>South Africa</td>\n",
       "            <td>13</td>\n",
       "        </tr>\n",
       "        <tr>\n",
       "            <td>Angola</td>\n",
       "            <td>12</td>\n",
       "        </tr>\n",
       "        <tr>\n",
       "            <td>Malawi</td>\n",
       "            <td>12</td>\n",
       "        </tr>\n",
       "    </tbody>\n",
       "</table>"
      ],
      "text/plain": [
       "[('Zambia', 19),\n",
       " ('YeItyop´iya', 16),\n",
       " ('Zimbabwe', 16),\n",
       " ('Bharat/India', 14),\n",
       " ('Nepal', 14),\n",
       " ('France', 13),\n",
       " ('Mali', 13),\n",
       " ('South Africa', 13),\n",
       " ('Angola', 12),\n",
       " ('Malawi', 12)]"
      ]
     },
     "execution_count": 20,
     "metadata": {},
     "output_type": "execute_result"
    }
   ],
   "source": [
    "%%sql\n",
    "\n",
    "SELECT local_name,\n",
    "       lang_num\n",
    "FROM   countries,\n",
    "       (SELECT code,\n",
    "               Count(*) AS lang_num\n",
    "        FROM   languages\n",
    "        GROUP  BY code) AS subquery\n",
    "WHERE  countries.code = subquery.code\n",
    "ORDER  BY lang_num DESC\n",
    "LIMIT  10 "
   ]
  },
  {
   "cell_type": "markdown",
   "id": "4215762a",
   "metadata": {},
   "source": [
    "## Advanced subquery\n",
    "---\n",
    "\n",
    "You can also nest multiple subqueries to answer even more specific questions.\n",
    "\n",
    "In this exercise, for each of the six continents listed in 2015, you'll identify which country had the maximum inflation rate, and how high it was, using multiple subqueries. The table result of your final query should look something like the following, where anything between `<` `>` will be filled in with appropriate values:\n",
    "\n",
    "`+------------+---------------+-------------------+\n",
    "| name       | continent     | inflation_rate    |\n",
    "|------------+---------------+-------------------|\n",
    "| <country1> | North America | <max_inflation1>  |\n",
    "| <country2> | Africa        | <max_inflation2>  |\n",
    "| <country3> | Oceania       | <max_inflation3>  |\n",
    "| <country4> | Europe        | <max_inflation4>  |\n",
    "| <country5> | South America | <max_inflation5>  |\n",
    "| <country6> | Asia          | <max_inflation6>  |\n",
    "+------------+---------------+-------------------+`\n",
    "\n",
    "Again, there are multiple ways to get to this solution using only joins, but the focus here is on showing you an introduction into advanced subqueries."
   ]
  },
  {
   "cell_type": "markdown",
   "id": "1a903c48",
   "metadata": {},
   "source": [
    "### Instructions\n",
    "\n",
    "Create an `INNER JOIN` with `countries` on the left and `economies` on the right with `USING`, without aliasing your tables or columns.\n",
    "\n",
    "Retrieve the country's name, continent, and inflation rate for 2015."
   ]
  },
  {
   "cell_type": "code",
   "execution_count": 21,
   "id": "bcd1761d",
   "metadata": {},
   "outputs": [
    {
     "name": "stdout",
     "output_type": "stream",
     "text": [
      " * sqlite:///data/countries.db\n",
      "   sqlite:///data/leaders.db\n",
      "Done.\n"
     ]
    },
    {
     "data": {
      "text/html": [
       "<table>\n",
       "    <thead>\n",
       "        <tr>\n",
       "            <th>name</th>\n",
       "            <th>continent</th>\n",
       "            <th>inflation_rate</th>\n",
       "        </tr>\n",
       "    </thead>\n",
       "    <tbody>\n",
       "        <tr>\n",
       "            <td>Afghanistan</td>\n",
       "            <td>Asia</td>\n",
       "            <td>-1.549</td>\n",
       "        </tr>\n",
       "        <tr>\n",
       "            <td>Angola</td>\n",
       "            <td>Africa</td>\n",
       "            <td>10.287</td>\n",
       "        </tr>\n",
       "        <tr>\n",
       "            <td>Albania</td>\n",
       "            <td>Europe</td>\n",
       "            <td>1.896</td>\n",
       "        </tr>\n",
       "        <tr>\n",
       "            <td>United Arab Emirates</td>\n",
       "            <td>Asia</td>\n",
       "            <td>4.07</td>\n",
       "        </tr>\n",
       "        <tr>\n",
       "            <td>Argentina</td>\n",
       "            <td>South America</td>\n",
       "            <td>None</td>\n",
       "        </tr>\n",
       "        <tr>\n",
       "            <td>Armenia</td>\n",
       "            <td>Asia</td>\n",
       "            <td>3.731</td>\n",
       "        </tr>\n",
       "        <tr>\n",
       "            <td>Antigua and Barbuda</td>\n",
       "            <td>North America</td>\n",
       "            <td>0.969</td>\n",
       "        </tr>\n",
       "        <tr>\n",
       "            <td>Australia</td>\n",
       "            <td>Oceania</td>\n",
       "            <td>1.461</td>\n",
       "        </tr>\n",
       "        <tr>\n",
       "            <td>Austria</td>\n",
       "            <td>Europe</td>\n",
       "            <td>0.81</td>\n",
       "        </tr>\n",
       "        <tr>\n",
       "            <td>Azerbaijan</td>\n",
       "            <td>Asia</td>\n",
       "            <td>4.049</td>\n",
       "        </tr>\n",
       "    </tbody>\n",
       "</table>"
      ],
      "text/plain": [
       "[('Afghanistan', 'Asia', -1.549),\n",
       " ('Angola', 'Africa', 10.287),\n",
       " ('Albania', 'Europe', 1.896),\n",
       " ('United Arab Emirates', 'Asia', 4.07),\n",
       " ('Argentina', 'South America', None),\n",
       " ('Armenia', 'Asia', 3.731),\n",
       " ('Antigua and Barbuda', 'North America', 0.969),\n",
       " ('Australia', 'Oceania', 1.461),\n",
       " ('Austria', 'Europe', 0.81),\n",
       " ('Azerbaijan', 'Asia', 4.049)]"
      ]
     },
     "execution_count": 21,
     "metadata": {},
     "output_type": "execute_result"
    }
   ],
   "source": [
    "%%sql\n",
    "\n",
    "SELECT name,\n",
    "       continent,\n",
    "       inflation_rate\n",
    "FROM   countries\n",
    "       INNER JOIN economies USING( code )\n",
    "WHERE  year = 2015\n",
    "LIMIT  10"
   ]
  },
  {
   "cell_type": "markdown",
   "id": "28321deb",
   "metadata": {},
   "source": [
    "Select the maximum inflation rate in 2015 `AS max_inf` grouped by continent using the previous step's query as a subquery in the `FROM` clause.\n",
    "\n",
    "Thus, in your subquery you should:\n",
    "- Create an inner join with `countries` on the left and `economies` on the right with `USING` (without aliasing your tables or columns).\n",
    "- Retrieve the country name, continent, and inflation rate for 2015.\n",
    "- Alias the subquery as `subquery`.\n",
    "\n",
    "This will result in the six maximum inflation rates in 2015 for the six continents as one field table. Make sure to not include `continent` in the outer `SELECT` statement."
   ]
  },
  {
   "cell_type": "code",
   "execution_count": 22,
   "id": "82d28fa6",
   "metadata": {},
   "outputs": [
    {
     "name": "stdout",
     "output_type": "stream",
     "text": [
      " * sqlite:///data/countries.db\n",
      "   sqlite:///data/leaders.db\n",
      "Done.\n"
     ]
    },
    {
     "data": {
      "text/html": [
       "<table>\n",
       "    <thead>\n",
       "        <tr>\n",
       "            <th>max_inf</th>\n",
       "        </tr>\n",
       "    </thead>\n",
       "    <tbody>\n",
       "        <tr>\n",
       "            <td>21.858</td>\n",
       "        </tr>\n",
       "        <tr>\n",
       "            <td>39.403</td>\n",
       "        </tr>\n",
       "        <tr>\n",
       "            <td>48.684</td>\n",
       "        </tr>\n",
       "        <tr>\n",
       "            <td>7.524</td>\n",
       "        </tr>\n",
       "        <tr>\n",
       "            <td>9.784</td>\n",
       "        </tr>\n",
       "        <tr>\n",
       "            <td>121.738</td>\n",
       "        </tr>\n",
       "    </tbody>\n",
       "</table>"
      ],
      "text/plain": [
       "[(21.858,), (39.403,), (48.684,), (7.524,), (9.784,), (121.738,)]"
      ]
     },
     "execution_count": 22,
     "metadata": {},
     "output_type": "execute_result"
    }
   ],
   "source": [
    "%%sql\n",
    "\n",
    "SELECT MAX( inflation_rate ) AS max_inf\n",
    "FROM  (SELECT name,\n",
    "              continent,\n",
    "              inflation_rate\n",
    "       FROM   countries\n",
    "              INNER JOIN economies USING( code )\n",
    "       WHERE  year = 2015) AS subquery\n",
    "GROUP  BY continent "
   ]
  },
  {
   "cell_type": "markdown",
   "id": "2851f164",
   "metadata": {},
   "source": [
    "Now it's time to append your second query to your first query using `AND` and `IN` to obtain the name of the country, its continent, and the maximum inflation rate for each continent in 2015.\n",
    "\n",
    "For the sake of practice, change all joining conditions to use `ON` instead of `USING`."
   ]
  },
  {
   "cell_type": "code",
   "execution_count": 23,
   "id": "d69620ce",
   "metadata": {},
   "outputs": [
    {
     "name": "stdout",
     "output_type": "stream",
     "text": [
      " * sqlite:///data/countries.db\n",
      "   sqlite:///data/leaders.db\n",
      "Done.\n"
     ]
    },
    {
     "data": {
      "text/html": [
       "<table>\n",
       "    <thead>\n",
       "        <tr>\n",
       "            <th>name</th>\n",
       "            <th>continent</th>\n",
       "            <th>inflation_rate</th>\n",
       "        </tr>\n",
       "    </thead>\n",
       "    <tbody>\n",
       "        <tr>\n",
       "            <td>Haiti</td>\n",
       "            <td>North America</td>\n",
       "            <td>7.524</td>\n",
       "        </tr>\n",
       "        <tr>\n",
       "            <td>Malawi</td>\n",
       "            <td>Africa</td>\n",
       "            <td>21.858</td>\n",
       "        </tr>\n",
       "        <tr>\n",
       "            <td>Nauru</td>\n",
       "            <td>Oceania</td>\n",
       "            <td>9.784</td>\n",
       "        </tr>\n",
       "        <tr>\n",
       "            <td>Ukraine</td>\n",
       "            <td>Europe</td>\n",
       "            <td>48.684</td>\n",
       "        </tr>\n",
       "        <tr>\n",
       "            <td>Venezuela</td>\n",
       "            <td>South America</td>\n",
       "            <td>121.738</td>\n",
       "        </tr>\n",
       "        <tr>\n",
       "            <td>Yemen</td>\n",
       "            <td>Asia</td>\n",
       "            <td>39.403</td>\n",
       "        </tr>\n",
       "    </tbody>\n",
       "</table>"
      ],
      "text/plain": [
       "[('Haiti', 'North America', 7.524),\n",
       " ('Malawi', 'Africa', 21.858),\n",
       " ('Nauru', 'Oceania', 9.784),\n",
       " ('Ukraine', 'Europe', 48.684),\n",
       " ('Venezuela', 'South America', 121.738),\n",
       " ('Yemen', 'Asia', 39.403)]"
      ]
     },
     "execution_count": 23,
     "metadata": {},
     "output_type": "execute_result"
    }
   ],
   "source": [
    "%%sql\n",
    "\n",
    "SELECT name,\n",
    "       continent,\n",
    "       inflation_rate\n",
    "FROM   countries\n",
    "       INNER JOIN economies USING( code )\n",
    "WHERE  year = 2015\n",
    "       AND inflation_rate IN (SELECT MAX( inflation_rate ) AS max_inf\n",
    "                              FROM   (SELECT name,\n",
    "                                             continent,\n",
    "                                             inflation_rate\n",
    "                                      FROM   countries\n",
    "                                             INNER JOIN economies\n",
    "                                                     ON countries.code =\n",
    "                                                        economies.code\n",
    "                                      WHERE  year = 2015) AS subquery\n",
    "                              GROUP  BY continent) "
   ]
  },
  {
   "cell_type": "markdown",
   "id": "78816395",
   "metadata": {},
   "source": [
    "## Subquery challenge\n",
    "---\n",
    "\n",
    "Let's test your understanding of the subqueries with a challenge problem! Use a subquery to get 2015 economic data for countries that do not have\n",
    "\n",
    "- `gov_form` of `'Constitutional Monarchy'` or\n",
    "- `'Republic'` in their `gov_form`\n",
    "\n",
    "Here, `gov_form` stands for the form of the government for each country. Review the different entries for `gov_form` in the `countries` table."
   ]
  },
  {
   "cell_type": "markdown",
   "id": "a680213b",
   "metadata": {},
   "source": [
    "### Instructions\n",
    "\n",
    "Select the country code, inflation rate, and unemployment rate.\n",
    "\n",
    "Order by inflation rate ascending.\n",
    "\n",
    "Do not use table aliasing in this exercise."
   ]
  },
  {
   "cell_type": "code",
   "execution_count": 24,
   "id": "e7710c4d",
   "metadata": {},
   "outputs": [
    {
     "name": "stdout",
     "output_type": "stream",
     "text": [
      " * sqlite:///data/countries.db\n",
      "   sqlite:///data/leaders.db\n",
      "Done.\n"
     ]
    },
    {
     "data": {
      "text/html": [
       "<table>\n",
       "    <thead>\n",
       "        <tr>\n",
       "            <th>code</th>\n",
       "            <th>inflation_rate</th>\n",
       "            <th>unemployment_rate</th>\n",
       "        </tr>\n",
       "    </thead>\n",
       "    <tbody>\n",
       "        <tr>\n",
       "            <td>AFG</td>\n",
       "            <td>-1.549</td>\n",
       "            <td>None</td>\n",
       "        </tr>\n",
       "        <tr>\n",
       "            <td>CHE</td>\n",
       "            <td>-1.14</td>\n",
       "            <td>3.178</td>\n",
       "        </tr>\n",
       "        <tr>\n",
       "            <td>PRI</td>\n",
       "            <td>-0.751</td>\n",
       "            <td>12.0</td>\n",
       "        </tr>\n",
       "        <tr>\n",
       "            <td>ROU</td>\n",
       "            <td>-0.596</td>\n",
       "            <td>6.812</td>\n",
       "        </tr>\n",
       "        <tr>\n",
       "            <td>BRN</td>\n",
       "            <td>-0.423</td>\n",
       "            <td>6.9</td>\n",
       "        </tr>\n",
       "        <tr>\n",
       "            <td>TON</td>\n",
       "            <td>-0.283</td>\n",
       "            <td>None</td>\n",
       "        </tr>\n",
       "        <tr>\n",
       "            <td>OMN</td>\n",
       "            <td>0.065</td>\n",
       "            <td>None</td>\n",
       "        </tr>\n",
       "        <tr>\n",
       "            <td>TLS</td>\n",
       "            <td>0.553</td>\n",
       "            <td>None</td>\n",
       "        </tr>\n",
       "        <tr>\n",
       "            <td>BEL</td>\n",
       "            <td>0.62</td>\n",
       "            <td>8.492</td>\n",
       "        </tr>\n",
       "        <tr>\n",
       "            <td>CAN</td>\n",
       "            <td>1.132</td>\n",
       "            <td>6.9</td>\n",
       "        </tr>\n",
       "        <tr>\n",
       "            <td>MNE</td>\n",
       "            <td>1.204</td>\n",
       "            <td>None</td>\n",
       "        </tr>\n",
       "        <tr>\n",
       "            <td>SRB</td>\n",
       "            <td>1.392</td>\n",
       "            <td>18.2</td>\n",
       "        </tr>\n",
       "        <tr>\n",
       "            <td>AUS</td>\n",
       "            <td>1.461</td>\n",
       "            <td>6.058</td>\n",
       "        </tr>\n",
       "        <tr>\n",
       "            <td>QAT</td>\n",
       "            <td>1.814</td>\n",
       "            <td>None</td>\n",
       "        </tr>\n",
       "        <tr>\n",
       "            <td>BHR</td>\n",
       "            <td>1.836</td>\n",
       "            <td>None</td>\n",
       "        </tr>\n",
       "        <tr>\n",
       "            <td>WSM</td>\n",
       "            <td>1.923</td>\n",
       "            <td>None</td>\n",
       "        </tr>\n",
       "        <tr>\n",
       "            <td>MYS</td>\n",
       "            <td>2.104</td>\n",
       "            <td>3.1</td>\n",
       "        </tr>\n",
       "        <tr>\n",
       "            <td>SAU</td>\n",
       "            <td>2.189</td>\n",
       "            <td>5.591</td>\n",
       "        </tr>\n",
       "        <tr>\n",
       "            <td>HKG</td>\n",
       "            <td>3.037</td>\n",
       "            <td>3.296</td>\n",
       "        </tr>\n",
       "        <tr>\n",
       "            <td>KWT</td>\n",
       "            <td>3.233</td>\n",
       "            <td>2.072</td>\n",
       "        </tr>\n",
       "        <tr>\n",
       "            <td>ARE</td>\n",
       "            <td>4.07</td>\n",
       "            <td>None</td>\n",
       "        </tr>\n",
       "        <tr>\n",
       "            <td>MAC</td>\n",
       "            <td>4.564</td>\n",
       "            <td>1.825</td>\n",
       "        </tr>\n",
       "        <tr>\n",
       "            <td>SWZ</td>\n",
       "            <td>4.96</td>\n",
       "            <td>None</td>\n",
       "        </tr>\n",
       "        <tr>\n",
       "            <td>BTN</td>\n",
       "            <td>6.336</td>\n",
       "            <td>3.2</td>\n",
       "        </tr>\n",
       "        <tr>\n",
       "            <td>LBY</td>\n",
       "            <td>9.839</td>\n",
       "            <td>None</td>\n",
       "        </tr>\n",
       "        <tr>\n",
       "            <td>SSD</td>\n",
       "            <td>52.813</td>\n",
       "            <td>None</td>\n",
       "        </tr>\n",
       "    </tbody>\n",
       "</table>"
      ],
      "text/plain": [
       "[('AFG', -1.549, None),\n",
       " ('CHE', -1.14, 3.178),\n",
       " ('PRI', -0.751, 12.0),\n",
       " ('ROU', -0.596, 6.812),\n",
       " ('BRN', -0.423, 6.9),\n",
       " ('TON', -0.283, None),\n",
       " ('OMN', 0.065, None),\n",
       " ('TLS', 0.553, None),\n",
       " ('BEL', 0.62, 8.492),\n",
       " ('CAN', 1.132, 6.9),\n",
       " ('MNE', 1.204, None),\n",
       " ('SRB', 1.392, 18.2),\n",
       " ('AUS', 1.461, 6.058),\n",
       " ('QAT', 1.814, None),\n",
       " ('BHR', 1.836, None),\n",
       " ('WSM', 1.923, None),\n",
       " ('MYS', 2.104, 3.1),\n",
       " ('SAU', 2.189, 5.591),\n",
       " ('HKG', 3.037, 3.296),\n",
       " ('KWT', 3.233, 2.072),\n",
       " ('ARE', 4.07, None),\n",
       " ('MAC', 4.564, 1.825),\n",
       " ('SWZ', 4.96, None),\n",
       " ('BTN', 6.336, 3.2),\n",
       " ('LBY', 9.839, None),\n",
       " ('SSD', 52.813, None)]"
      ]
     },
     "execution_count": 24,
     "metadata": {},
     "output_type": "execute_result"
    }
   ],
   "source": [
    "%%sql\n",
    "\n",
    "SELECT code,\n",
    "       inflation_rate,\n",
    "       unemployment_rate\n",
    "FROM   economies\n",
    "WHERE  year = 2015\n",
    "       AND code NOT IN (SELECT code\n",
    "                        FROM   countries\n",
    "                        WHERE  ( gov_form = 'Constitutional Monarchy'\n",
    "                                  OR gov_form LIKE '%Republic%' ))\n",
    "ORDER  BY inflation_rate "
   ]
  },
  {
   "cell_type": "markdown",
   "id": "646262b2",
   "metadata": {},
   "source": [
    "## Course Review\n",
    "---\n",
    "\n",
    "Only the challenge problems remain! Way to go! You're on your way to being a SQL query warrior! Before you tackle the three challenge problems, let's review the main topics covered throughout the course.\n",
    "\n",
    "### Types of joins\n",
    "\n",
    "In SQL, a join combines columns from one or more tables in a relational database via a lookup process. There are four different types of joins you learned about in this course. First, an INNER JOIN is also denoted as just JOIN in SQL. A special case of an INNER JOIN you explored is called a self-join. Second, there are three OUTER JOINs denoted as LEFT JOIN (or LEFT OUTER JOIN), RIGHT JOIN (or RIGHT OUTER JOIN), and FULL JOIN (or FULL OUTER JOIN). Third, you worked with CROSS JOINs to create all possible combinations between two tables. Lastly, you investigated semi-joins and anti-joins. Remember that words appearing in ALL capital letters correspond to the joins having simple SQL syntax. Self-joins, semi-joins, and anti-joins don't have built-in SQL syntax.\n",
    "\n",
    "### INNER JOIN vs LEFT JOIN\n",
    "\n",
    "An INNER JOIN keeps only the records in which the key field (or fields) is in both tables. A LEFT JOIN keeps all the records in fields specified in the left table and includes the matches in the right table based on the key field or fields. Key field values that don't match in the right table are included as missing data in the resulting table of a LEFT JOIN.\n",
    "\n",
    "<img src = \"https://images2.imgbox.com/48/ee/qzyx58gu_o.png\" width=\"600\">\n",
    "\n",
    "\n",
    "### RIGHT JOIN vs FULL JOIN\n",
    "\n",
    "A RIGHT JOIN keeps all the records specified in the right table and includes the matches from the key field (or fields) in the left table. Those that don't match are included as missing values in the resulting table from the RIGHT JOIN query. A FULL JOIN is a combination of a LEFT JOIN and a RIGHT JOIN showing exactly which values appear in both tables and those that appear in only one or the other table.\n",
    "\n",
    "<img src = \"https://images2.imgbox.com/6f/af/90rOqmal_o.png\" width=\"600\">\n",
    "\n",
    "\n",
    "### CROSS JOIN with code\n",
    "\n",
    "A CROSS JOIN matches all records from fields specified in one table with all records from fields specified in another table. Remember that a CROSS JOIN does not have an ON or USING clause, but otherwise looks very similar to the code for an INNER JOIN, LEFT JOIN, RIGHT JOIN, or FULL JOIN.\n",
    "\n",
    "<img src = \"https://images2.imgbox.com/41/ef/WaUjczSW_o.png\" width=\"600\">\n",
    "\n",
    "\n",
    "### Set Theory Clauses\n",
    "\n",
    "Recall that UNION includes every record in both tables but DOES NOT double count those that are in both tables whereas UNION ALL DOES replicate those that are in both tables. INTERSECT gives only those records found in both of the two tables. EXCEPT gives only those records in one table BUT NOT the other.\n",
    "\n",
    "<img src = \"https://images2.imgbox.com/b9/c6/YimVIW6r_o.png\" width=\"600\">\n",
    "\n",
    "\n",
    "### Semi-joins and Anti-joins\n",
    "\n",
    "When you'd like to filter your first table based on conditions set on a second table, you should use a semi-join to accomplish your task. If instead you'd like to filter your first table based on conditions NOT being met on a second table, you should use an anti-join. Anti-joins are particularly useful in diagnosing problems with other joins in terms of getting fewer or more records than you expected.\n",
    "\n",
    "<img src = \"https://images2.imgbox.com/ab/93/DnI3dKnH_o.png\" width=\"600\">\n",
    "\n",
    "\n",
    "### Types of basic subqueries\n",
    "\n",
    "The most common type of subquery is done inside of a WHERE clause. The next most frequent types of subqueries are inside SELECT clauses and inside FROM clauses. As you'll see in the challenge exercises, subqueries can also find their way into the ON statement of a join in ways similar to what you've seen inside WHERE clauses too.\n",
    "\n",
    "\n",
    "### Own the challenge problems! You got this!\n",
    "\n",
    "Well, you are only three exercises away from mastering the content in this course. You are a true SQL ninja. Now take down these last three problems using all the skills you've built up in this course!"
   ]
  },
  {
   "cell_type": "markdown",
   "id": "baa4025c",
   "metadata": {},
   "source": [
    "## Final challenge\n",
    "---\n",
    "\n",
    "Welcome to the end of the course! The next three exercises will test your knowledge of the content covered in this course and apply many of the ideas you've seen to difficult problems. Good luck!\n",
    "\n",
    "Read carefully over the instructions and solve them step-by-step, thinking about how the different clauses work together.\n",
    "\n",
    "In this exercise, you'll need to get the country names and other 2015 data in the `economies` table and the `countries` table for **Central American countries with an official language**."
   ]
  },
  {
   "cell_type": "markdown",
   "id": "2283ece2",
   "metadata": {},
   "source": [
    "### Instructions\n",
    "\n",
    "Select unique country names. Also select the total investment and imports fields.\n",
    "\n",
    "Use a left join with `countries` on the left. (An inner join would also work, but please use a left join here.)\n",
    "\n",
    "Match on `code` in the two tables `AND` use a subquery inside of `ON` to choose the appropriate `languages` records.\n",
    "\n",
    "Order by country name ascending.\n",
    "\n",
    "Use table aliasing but not field aliasing in this exercise."
   ]
  },
  {
   "cell_type": "markdown",
   "id": "0370a951",
   "metadata": {},
   "source": [
    "`SELECT DISTINCT c.name,\n",
    "                 e.total_investment,\n",
    "                 e.imports\n",
    " FROM   countries AS c\n",
    "        LEFT JOIN economies AS e\n",
    "               ON ( c.code = e.code\n",
    "                    AND c.code IN (SELECT l.code\n",
    "                                   FROM   languages AS l\n",
    "                                   WHERE  official = 'true') )\n",
    " WHERE  year = '2015'\n",
    "        AND region = 'Central America'\n",
    " ORDER  BY name `"
   ]
  },
  {
   "cell_type": "markdown",
   "id": "62efa8c0",
   "metadata": {},
   "source": [
    "## Final challenge (2)\n",
    "---\n",
    "\n",
    "Whoofta! That was challenging, huh?\n",
    "\n",
    "Let's ease up a bit and calculate the average fertility rate for each region in 2015."
   ]
  },
  {
   "cell_type": "markdown",
   "id": "e39d47fd",
   "metadata": {},
   "source": [
    "### Instructions\n",
    "\n",
    "Include the name of region, its continent, and average fertility rate aliased as `avg_fert_rate`.\n",
    "\n",
    "Sort based on `avg_fert_rate` ascending.\n",
    "\n",
    "Remember that you'll need to `GROUP BY` all fields that aren't included in the aggregate function of `SELECT`."
   ]
  },
  {
   "cell_type": "code",
   "execution_count": 25,
   "id": "28a84503",
   "metadata": {},
   "outputs": [
    {
     "name": "stdout",
     "output_type": "stream",
     "text": [
      " * sqlite:///data/countries.db\n",
      "   sqlite:///data/leaders.db\n",
      "Done.\n"
     ]
    },
    {
     "data": {
      "text/html": [
       "<table>\n",
       "    <thead>\n",
       "        <tr>\n",
       "            <th>region</th>\n",
       "            <th>continent</th>\n",
       "            <th>avg_fert_rate</th>\n",
       "        </tr>\n",
       "    </thead>\n",
       "    <tbody>\n",
       "        <tr>\n",
       "            <td>Southern Europe</td>\n",
       "            <td>Europe</td>\n",
       "            <td>1.4261000000000001</td>\n",
       "        </tr>\n",
       "        <tr>\n",
       "            <td>Eastern Europe</td>\n",
       "            <td>Europe</td>\n",
       "            <td>1.4908888888888887</td>\n",
       "        </tr>\n",
       "        <tr>\n",
       "            <td>Baltic Countries</td>\n",
       "            <td>Europe</td>\n",
       "            <td>1.6033333333333333</td>\n",
       "        </tr>\n",
       "        <tr>\n",
       "            <td>Eastern Asia</td>\n",
       "            <td>Asia</td>\n",
       "            <td>1.6207142857142858</td>\n",
       "        </tr>\n",
       "        <tr>\n",
       "            <td>Western Europe</td>\n",
       "            <td>Europe</td>\n",
       "            <td>1.6324999999999998</td>\n",
       "        </tr>\n",
       "        <tr>\n",
       "            <td>North America</td>\n",
       "            <td>North America</td>\n",
       "            <td>1.7657500000000002</td>\n",
       "        </tr>\n",
       "        <tr>\n",
       "            <td>British Islands</td>\n",
       "            <td>Europe</td>\n",
       "            <td>1.875</td>\n",
       "        </tr>\n",
       "        <tr>\n",
       "            <td>Nordic Countries</td>\n",
       "            <td>Europe</td>\n",
       "            <td>1.8933333333333333</td>\n",
       "        </tr>\n",
       "        <tr>\n",
       "            <td>Australia and New Zealand</td>\n",
       "            <td>Oceania</td>\n",
       "            <td>1.9115</td>\n",
       "        </tr>\n",
       "        <tr>\n",
       "            <td>Caribbean</td>\n",
       "            <td>North America</td>\n",
       "            <td>1.9505714285714284</td>\n",
       "        </tr>\n",
       "        <tr>\n",
       "            <td>Southeast Asia</td>\n",
       "            <td>Asia</td>\n",
       "            <td>2.1559999999999997</td>\n",
       "        </tr>\n",
       "        <tr>\n",
       "            <td>South America</td>\n",
       "            <td>South America</td>\n",
       "            <td>2.27475</td>\n",
       "        </tr>\n",
       "        <tr>\n",
       "            <td>Central America</td>\n",
       "            <td>North America</td>\n",
       "            <td>2.3263749999999996</td>\n",
       "        </tr>\n",
       "        <tr>\n",
       "            <td>Middle East</td>\n",
       "            <td>Asia</td>\n",
       "            <td>2.5470555555555556</td>\n",
       "        </tr>\n",
       "        <tr>\n",
       "            <td>Southern and Central Asia</td>\n",
       "            <td>Asia</td>\n",
       "            <td>2.6341428571428573</td>\n",
       "        </tr>\n",
       "        <tr>\n",
       "            <td>Micronesia</td>\n",
       "            <td>Oceania</td>\n",
       "            <td>2.86475</td>\n",
       "        </tr>\n",
       "        <tr>\n",
       "            <td>Northern Africa</td>\n",
       "            <td>Africa</td>\n",
       "            <td>2.908166666666667</td>\n",
       "        </tr>\n",
       "        <tr>\n",
       "            <td>Southern Africa</td>\n",
       "            <td>Africa</td>\n",
       "            <td>2.9908</td>\n",
       "        </tr>\n",
       "        <tr>\n",
       "            <td>Melanesia</td>\n",
       "            <td>Oceania</td>\n",
       "            <td>3.1358</td>\n",
       "        </tr>\n",
       "        <tr>\n",
       "            <td>Polynesia</td>\n",
       "            <td>Oceania</td>\n",
       "            <td>3.2443333333333335</td>\n",
       "        </tr>\n",
       "        <tr>\n",
       "            <td>Eastern Africa</td>\n",
       "            <td>Africa</td>\n",
       "            <td>4.386705882352941</td>\n",
       "        </tr>\n",
       "        <tr>\n",
       "            <td>Western Africa</td>\n",
       "            <td>Africa</td>\n",
       "            <td>4.960125000000001</td>\n",
       "        </tr>\n",
       "        <tr>\n",
       "            <td>Central Africa</td>\n",
       "            <td>Africa</td>\n",
       "            <td>4.96788888888889</td>\n",
       "        </tr>\n",
       "    </tbody>\n",
       "</table>"
      ],
      "text/plain": [
       "[('Southern Europe', 'Europe', 1.4261000000000001),\n",
       " ('Eastern Europe', 'Europe', 1.4908888888888887),\n",
       " ('Baltic Countries', 'Europe', 1.6033333333333333),\n",
       " ('Eastern Asia', 'Asia', 1.6207142857142858),\n",
       " ('Western Europe', 'Europe', 1.6324999999999998),\n",
       " ('North America', 'North America', 1.7657500000000002),\n",
       " ('British Islands', 'Europe', 1.875),\n",
       " ('Nordic Countries', 'Europe', 1.8933333333333333),\n",
       " ('Australia and New Zealand', 'Oceania', 1.9115),\n",
       " ('Caribbean', 'North America', 1.9505714285714284),\n",
       " ('Southeast Asia', 'Asia', 2.1559999999999997),\n",
       " ('South America', 'South America', 2.27475),\n",
       " ('Central America', 'North America', 2.3263749999999996),\n",
       " ('Middle East', 'Asia', 2.5470555555555556),\n",
       " ('Southern and Central Asia', 'Asia', 2.6341428571428573),\n",
       " ('Micronesia', 'Oceania', 2.86475),\n",
       " ('Northern Africa', 'Africa', 2.908166666666667),\n",
       " ('Southern Africa', 'Africa', 2.9908),\n",
       " ('Melanesia', 'Oceania', 3.1358),\n",
       " ('Polynesia', 'Oceania', 3.2443333333333335),\n",
       " ('Eastern Africa', 'Africa', 4.386705882352941),\n",
       " ('Western Africa', 'Africa', 4.960125000000001),\n",
       " ('Central Africa', 'Africa', 4.96788888888889)]"
      ]
     },
     "execution_count": 25,
     "metadata": {},
     "output_type": "execute_result"
    }
   ],
   "source": [
    "%%sql\n",
    "\n",
    "SELECT c.region,\n",
    "       c.continent,\n",
    "       AVG( p.fertility_rate ) AS avg_fert_rate\n",
    "FROM   populations AS p\n",
    "       INNER JOIN countries AS c\n",
    "               ON p.country_code = c.code\n",
    "WHERE  year = 2015\n",
    "GROUP  BY c.continent,\n",
    "          c.region\n",
    "ORDER  BY avg_fert_rate "
   ]
  },
  {
   "cell_type": "markdown",
   "id": "7ae41a86",
   "metadata": {},
   "source": [
    "## Final challenge (3)\n",
    "---\n",
    "\n",
    "Welcome to the last challenge problem. By now you're a query warrior! Remember that these challenges are designed to take you to the limit to solidify your SQL knowledge! Take a deep breath and solve this step-by-step.\n",
    "\n",
    "You are now tasked with determining the top 10 capital cities in Europe and the Americas in terms of a calculated percentage using `city_proper_pop` and `metroarea_pop` in `cities`.\n",
    "\n",
    "Do not use table aliasing in this exercise."
   ]
  },
  {
   "cell_type": "markdown",
   "id": "be344f5b",
   "metadata": {},
   "source": [
    "### Instructions\n",
    "\n",
    "Select the city name, country code, city proper population, and metro area population.\n",
    "\n",
    "Calculate the percentage of metro area population composed of city proper population for each city in `cities`, aliased as `city_perc`.\n",
    "\n",
    "Focus only on capital cities in Europe and the Americas in a subquery.\n",
    "\n",
    "Make sure to exclude records with missing data on metro area population.\n",
    "\n",
    "Order the result by `city_perc` descending.\n",
    "\n",
    "Then determine the top 10 capital cities in Europe and the Americas in terms of this `city_perc` percentage."
   ]
  },
  {
   "cell_type": "code",
   "execution_count": 26,
   "id": "a688547b",
   "metadata": {},
   "outputs": [
    {
     "name": "stdout",
     "output_type": "stream",
     "text": [
      " * sqlite:///data/countries.db\n",
      "   sqlite:///data/leaders.db\n",
      "Done.\n"
     ]
    },
    {
     "data": {
      "text/html": [
       "<table>\n",
       "    <thead>\n",
       "        <tr>\n",
       "            <th>name</th>\n",
       "            <th>country_code</th>\n",
       "            <th>city_proper_pop</th>\n",
       "            <th>metroarea_pop</th>\n",
       "            <th>city_perc</th>\n",
       "        </tr>\n",
       "    </thead>\n",
       "    <tbody>\n",
       "        <tr>\n",
       "            <td>Lima</td>\n",
       "            <td>PER</td>\n",
       "            <td>8852000.0</td>\n",
       "            <td>10750000.0</td>\n",
       "            <td>82.34418604651162</td>\n",
       "        </tr>\n",
       "        <tr>\n",
       "            <td>Bogota</td>\n",
       "            <td>COL</td>\n",
       "            <td>7878783.0</td>\n",
       "            <td>9800000.0</td>\n",
       "            <td>80.39574489795919</td>\n",
       "        </tr>\n",
       "        <tr>\n",
       "            <td>Moscow</td>\n",
       "            <td>RUS</td>\n",
       "            <td>12197596.0</td>\n",
       "            <td>16170000.0</td>\n",
       "            <td>75.43349412492269</td>\n",
       "        </tr>\n",
       "        <tr>\n",
       "            <td>Vienna</td>\n",
       "            <td>AUT</td>\n",
       "            <td>1863881.0</td>\n",
       "            <td>2600000.0</td>\n",
       "            <td>71.68773076923077</td>\n",
       "        </tr>\n",
       "        <tr>\n",
       "            <td>Montevideo</td>\n",
       "            <td>URY</td>\n",
       "            <td>1305082.0</td>\n",
       "            <td>1947604.0</td>\n",
       "            <td>67.00961797162051</td>\n",
       "        </tr>\n",
       "        <tr>\n",
       "            <td>Caracas</td>\n",
       "            <td>VEN</td>\n",
       "            <td>1943901.0</td>\n",
       "            <td>2923959.0</td>\n",
       "            <td>66.48181455348724</td>\n",
       "        </tr>\n",
       "        <tr>\n",
       "            <td>Rome</td>\n",
       "            <td>ITA</td>\n",
       "            <td>2877215.0</td>\n",
       "            <td>4353775.0</td>\n",
       "            <td>66.08552348249508</td>\n",
       "        </tr>\n",
       "        <tr>\n",
       "            <td>Brasilia</td>\n",
       "            <td>BRA</td>\n",
       "            <td>2556149.0</td>\n",
       "            <td>3919864.0</td>\n",
       "            <td>65.21014504584853</td>\n",
       "        </tr>\n",
       "        <tr>\n",
       "            <td>London</td>\n",
       "            <td>GBR</td>\n",
       "            <td>8673713.0</td>\n",
       "            <td>13879757.0</td>\n",
       "            <td>62.491821722815466</td>\n",
       "        </tr>\n",
       "        <tr>\n",
       "            <td>Budapest</td>\n",
       "            <td>HUN</td>\n",
       "            <td>1759407.0</td>\n",
       "            <td>2927944.0</td>\n",
       "            <td>60.09018615110126</td>\n",
       "        </tr>\n",
       "    </tbody>\n",
       "</table>"
      ],
      "text/plain": [
       "[('Lima', 'PER', 8852000.0, 10750000.0, 82.34418604651162),\n",
       " ('Bogota', 'COL', 7878783.0, 9800000.0, 80.39574489795919),\n",
       " ('Moscow', 'RUS', 12197596.0, 16170000.0, 75.43349412492269),\n",
       " ('Vienna', 'AUT', 1863881.0, 2600000.0, 71.68773076923077),\n",
       " ('Montevideo', 'URY', 1305082.0, 1947604.0, 67.00961797162051),\n",
       " ('Caracas', 'VEN', 1943901.0, 2923959.0, 66.48181455348724),\n",
       " ('Rome', 'ITA', 2877215.0, 4353775.0, 66.08552348249508),\n",
       " ('Brasilia', 'BRA', 2556149.0, 3919864.0, 65.21014504584853),\n",
       " ('London', 'GBR', 8673713.0, 13879757.0, 62.491821722815466),\n",
       " ('Budapest', 'HUN', 1759407.0, 2927944.0, 60.09018615110126)]"
      ]
     },
     "execution_count": 26,
     "metadata": {},
     "output_type": "execute_result"
    }
   ],
   "source": [
    "%%sql\n",
    "\n",
    "SELECT name,\n",
    "       country_code,\n",
    "       city_proper_pop,\n",
    "       metroarea_pop,\n",
    "       city_proper_pop / metroarea_pop * 100 AS city_perc\n",
    "FROM   cities\n",
    "WHERE  name IN (SELECT capital\n",
    "                FROM   countries\n",
    "                WHERE  ( continent = 'Europe'\n",
    "                          OR continent LIKE '%America' ))\n",
    "       AND metroarea_pop IS NOT NULL\n",
    "ORDER  BY city_perc DESC\n",
    "LIMIT  10 "
   ]
  }
 ],
 "metadata": {
  "kernelspec": {
   "display_name": "Python 3",
   "language": "python",
   "name": "python3"
  },
  "language_info": {
   "codemirror_mode": {
    "name": "ipython",
    "version": 3
   },
   "file_extension": ".py",
   "mimetype": "text/x-python",
   "name": "python",
   "nbconvert_exporter": "python",
   "pygments_lexer": "ipython3",
   "version": "3.8.8"
  }
 },
 "nbformat": 4,
 "nbformat_minor": 5
}
