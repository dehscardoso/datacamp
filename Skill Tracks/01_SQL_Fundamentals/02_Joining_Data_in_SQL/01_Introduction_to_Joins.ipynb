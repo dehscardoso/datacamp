{
 "cells": [
  {
   "cell_type": "markdown",
   "id": "06973043",
   "metadata": {},
   "source": [
    "<img src = \"https://images2.imgbox.com/60/09/VFwl5LOq_o.jpg\" width=\"400\">"
   ]
  },
  {
   "cell_type": "markdown",
   "id": "1628b029",
   "metadata": {},
   "source": [
    "# 1. Introduction to Joins\n",
    "---"
   ]
  },
  {
   "cell_type": "markdown",
   "id": "00e8a365",
   "metadata": {},
   "source": [
    "In this chapter, you'll be introduced to the concept of joining tables, and will explore the different ways you can enrich your queries using inner joins and self joins. You'll also see how to use the case statement to split up a field into different categories."
   ]
  },
  {
   "cell_type": "code",
   "execution_count": 1,
   "id": "87a2f785",
   "metadata": {},
   "outputs": [],
   "source": [
    "from sqlalchemy import create_engine"
   ]
  },
  {
   "cell_type": "code",
   "execution_count": 2,
   "id": "1dd08179",
   "metadata": {},
   "outputs": [],
   "source": [
    "engine_leaders = create_engine('sqlite:///data/leaders.db')\n",
    "conn_leaders = engine_leaders.connect()"
   ]
  },
  {
   "cell_type": "code",
   "execution_count": 3,
   "id": "951e12fe",
   "metadata": {},
   "outputs": [],
   "source": [
    "engine_countries = create_engine('sqlite:///data/countries.db')\n",
    "conn_countries = engine_countries.connect()"
   ]
  },
  {
   "cell_type": "markdown",
   "id": "151c0bcb",
   "metadata": {},
   "source": [
    "## Introduction to INNER JOIN\n",
    "---\n",
    "\n",
    "As the name suggests, the focus of this course is using SQL to join two or more database tables together into a single table, an essential skill for data scientists. In this chapter, you'll learn about the INNER JOIN, which along with LEFT JOIN are probably the two most common JOINs. You'll see diagrams throughout this course that are designed to help you understand the mechanics of the different joins. Let's begin with a diagram showing the layout of some data and then how an INNER JOIN can be applied to that data.\n",
    "\n",
    "<img src = \"https://images2.imgbox.com/9f/c3/3g9SQsPC_o.png\" width=\"400\">\n",
    "\n",
    "In this chapter and the next, we'll often work with two tables named left and right. You can see that matching values of the id field are colored with the same color. The id field is known as a KEY field since it can be used to reference one table to another. Both the left and right tables also have another field named val. This will be useful in helping you see specifically which records and values are included in each join.\n",
    "\n",
    "### INNER JOIN diagram\n",
    "\n",
    "An INNER JOIN only includes records in which the key is in both tables. You can see here that the id field matches for values of 1 and 4 only. With inner joins we look for matches in the right table corresponding to all entries in the key field in the left table.\n",
    "\n",
    "<img src = \"https://images2.imgbox.com/d2/84/5DBhNa6v_o.png\" width=\"400\">\n",
    "\n",
    "### INNER JOIN diagram (2)\n",
    "\n",
    "So the focus here shifts to only those records with a match in terms of the id field. The records not of interest to INNER JOIN have been faded.\n",
    "\n",
    "<img src = \"https://images2.imgbox.com/b7/f9/qy0sDGqu_o.png\" width=\"400\">\n",
    "\n",
    "### INNER JOIN diagram (3)\n",
    "\n",
    "Here's a resulting single table from the INNER JOIN clause that gives the val field from the right table with records corresponding to only those with id value of 1 or 4, which are colored as yellow and purple. Now that you have a sense for how INNER JOIN works, let's try an example in SQL.\n",
    "\n",
    "<img src = \"https://images2.imgbox.com/cb/ff/UPAlB8Ta_o.png\" width=\"400\">\n",
    "\n",
    "### prime_ministers table\n",
    "\n",
    "The prime_ministers table is one of the tables in the leaders database. It is displayed here. Note the countries that are included. Suppose you were interested in determining nations that have both a prime minister and a president AND putting the results into a single table. Next you'll see the presidents table."
   ]
  },
  {
   "cell_type": "code",
   "execution_count": 4,
   "id": "f1487ded",
   "metadata": {},
   "outputs": [],
   "source": [
    "ministers = conn_leaders.execute(\"\"\"\n",
    "\n",
    "SELECT *\n",
    "FROM   prime_ministers \n",
    "    \n",
    "\"\"\")"
   ]
  },
  {
   "cell_type": "code",
   "execution_count": 5,
   "id": "df628cef",
   "metadata": {},
   "outputs": [],
   "source": [
    "ministers_res = ministers.fetchall()"
   ]
  },
  {
   "cell_type": "code",
   "execution_count": 6,
   "id": "f3609a0f",
   "metadata": {},
   "outputs": [],
   "source": [
    "ministers_list = [x for i, x in enumerate(ministers_res) if i < 10]"
   ]
  },
  {
   "cell_type": "code",
   "execution_count": 7,
   "id": "3e0fe78b",
   "metadata": {},
   "outputs": [
    {
     "data": {
      "text/plain": [
       "[('Egypt', 'Africa', 'Sherif Ismail'),\n",
       " ('Portugal', 'Europe', 'Antonio Costa'),\n",
       " ('Vietnam', 'Asia', 'Nguyen Xuan Phuc'),\n",
       " ('Haiti', 'North America', 'Jack Guy Lafontant'),\n",
       " ('India', 'Asia', 'Narendra Modi'),\n",
       " ('Australia', 'Oceania', 'Malcolm Turnbull'),\n",
       " ('Norway', 'Europe', 'Erna Solberg'),\n",
       " ('Brunei', 'Asia', 'Hassanal Bolkiah'),\n",
       " ('Oman', 'Asia', 'Qaboos bin Said al Said')]"
      ]
     },
     "execution_count": 7,
     "metadata": {},
     "output_type": "execute_result"
    }
   ],
   "source": [
    "ministers_list"
   ]
  },
  {
   "cell_type": "markdown",
   "id": "7faaa2ab",
   "metadata": {},
   "source": [
    "### presidents table\n",
    "\n",
    "How did I display all of the prime_ministers table in the previous? Recall the use of SELECT and FROM clauses as is shown for the presidents table here. Which countries appear in both tables? With small tables like these, it is easy to notice that Egypt, Portugal, Vietnam, and Haiti appear in both tables. For larger tables, it isn't as simple as just picking these countries out visually. "
   ]
  },
  {
   "cell_type": "code",
   "execution_count": 8,
   "id": "411eea31",
   "metadata": {},
   "outputs": [],
   "source": [
    "presidents = conn_leaders.execute(\"\"\"\n",
    "\n",
    "SELECT *\n",
    "FROM   presidents \n",
    "\n",
    "\"\"\")"
   ]
  },
  {
   "cell_type": "code",
   "execution_count": 9,
   "id": "90728eca",
   "metadata": {},
   "outputs": [],
   "source": [
    "presidents_res = presidents.fetchall()"
   ]
  },
  {
   "cell_type": "code",
   "execution_count": 10,
   "id": "ae629ac2",
   "metadata": {},
   "outputs": [],
   "source": [
    "presidents_list = [x for i, x in enumerate(presidents_res) if i < 10]"
   ]
  },
  {
   "cell_type": "code",
   "execution_count": 11,
   "id": "51abd0cb",
   "metadata": {},
   "outputs": [
    {
     "data": {
      "text/plain": [
       "[('Egypt', 'Africa', 'Abdel Fattah el-Sisi'),\n",
       " ('Portugal', 'Europe', 'Marcelo Rebelo de Sousa'),\n",
       " ('Haiti', 'North America', 'Jovenel Moise'),\n",
       " ('Uruguay', 'South America', 'Jose Mujica'),\n",
       " ('Liberia', 'Africa', 'Ellen Johnson Sirleaf'),\n",
       " ('Chile', 'South America', 'Michelle Bachelet')]"
      ]
     },
     "execution_count": 11,
     "metadata": {},
     "output_type": "execute_result"
    }
   ],
   "source": [
    "presidents_list"
   ]
  },
  {
   "cell_type": "markdown",
   "id": "8a592192",
   "metadata": {},
   "source": [
    "So what does the syntax look like for SQL to get the results of countries with a prime minister and a president from these two tables into one?"
   ]
  },
  {
   "cell_type": "markdown",
   "id": "83cb9e63",
   "metadata": {},
   "source": [
    "### INNER JOIN in SQL\n",
    "\n",
    "The syntax for completing an INNER JOIN from the prime_ministers table to the presidents table based on a key field of country is shown. Note the use of aliases for prime_ministers as p1 and presidents as p2. This helps to simplify your code, especially with longer table names like prime_ministers and presidents. A SELECT statement is used to select specific fields from the two tables. In this case, since country exists in both tables, we must write p1 and the period to avoid a SQL error. Next we list the table on the left of the inner join after FROM and then we list the table on the right after INNER JOIN. Lastly, we specify the keys in the two tables that we would like to match on."
   ]
  },
  {
   "cell_type": "code",
   "execution_count": 12,
   "id": "19e91440",
   "metadata": {},
   "outputs": [],
   "source": [
    "query = conn_leaders.execute(\"\"\"\n",
    "\n",
    "SELECT p1.country,\n",
    "       p1.continent,\n",
    "       prime_minister,\n",
    "       president\n",
    "FROM   prime_ministers AS p1\n",
    "       INNER JOIN presidents AS p2\n",
    "               ON p1.country = p2.country \n",
    "\n",
    "\"\"\")"
   ]
  },
  {
   "cell_type": "code",
   "execution_count": 13,
   "id": "fa340a4f",
   "metadata": {},
   "outputs": [
    {
     "data": {
      "text/plain": [
       "[('Egypt', 'Africa', 'Sherif Ismail', 'Abdel Fattah el-Sisi'),\n",
       " ('Portugal', 'Europe', 'Antonio Costa', 'Marcelo Rebelo de Sousa'),\n",
       " ('Haiti', 'North America', 'Jack Guy Lafontant', 'Jovenel Moise')]"
      ]
     },
     "execution_count": 13,
     "metadata": {},
     "output_type": "execute_result"
    }
   ],
   "source": [
    "result_res = query.fetchall()\n",
    "result_list = [x for i, x in enumerate(result_res) if i < 10]\n",
    "\n",
    "result_list"
   ]
  },
  {
   "cell_type": "markdown",
   "id": "ec1c4346",
   "metadata": {},
   "source": [
    "## Inner join\n",
    "---\n",
    "\n",
    "Throughout this course, you'll be working with the **countries** database containing information about the most populous world cities as well as country-level economic data, population data, and geographic data. This **countries** database also contains information on languages spoken in each country.\n",
    "\n",
    "You can see the different tables in this database by clicking on the corresponding tabs. Click through them to get a sense for the types of data that each table contains before you continue with the course! Take note of the fields that appear to be shared across the tables.\n",
    "\n",
    "Recall from the video the basic syntax for an `INNER JOIN`, here including all columns in **both** tables:\n",
    "\n",
    "`SELECT *\n",
    " FROM   left_table\n",
    "        INNER JOIN right_table\n",
    "                ON left_table.id = right_table.id `\n",
    "\n",
    "You'll start off with a `SELECT` statement and then build up to an `INNER JOIN` with the **cities** and **countries** tables. Let's get to it!"
   ]
  },
  {
   "cell_type": "markdown",
   "id": "cf0d392f",
   "metadata": {},
   "source": [
    "### Instructions\n",
    "Begin by selecting all columns from the cities table."
   ]
  },
  {
   "cell_type": "code",
   "execution_count": 14,
   "id": "6bc32600",
   "metadata": {},
   "outputs": [],
   "source": [
    "query = conn_countries.execute(\"\"\"\n",
    "\n",
    "SELECT *\n",
    "FROM   cities\n",
    "\n",
    "\"\"\")"
   ]
  },
  {
   "cell_type": "code",
   "execution_count": 15,
   "id": "3dd4bca7",
   "metadata": {},
   "outputs": [
    {
     "data": {
      "text/plain": [
       "[('Abidjan', 'CIV', 4765000.0, None, 4765000.0),\n",
       " ('Abu Dhabi', 'ARE', 1145000.0, None, 1145000.0),\n",
       " ('Abuja', 'NGA', 1235880.0, 6000000.0, 1235880.0),\n",
       " ('Accra', 'GHA', 2070463.0, 4010054.0, 2070463.0),\n",
       " ('Addis Ababa', 'ETH', 3103673.0, 4567857.0, 3103673.0),\n",
       " ('Ahmedabad', 'IND', 5570585.0, None, 5570585.0),\n",
       " ('Alexandria', 'EGY', 4616625.0, None, 4616625.0),\n",
       " ('Algiers', 'DZA', 3415811.0, 5000000.0, 3415811.0),\n",
       " ('Almaty', 'KAZ', 1703481.0, None, 1703481.0),\n",
       " ('Ankara', 'TUR', 5271000.0, 4585000.0, 5271000.0)]"
      ]
     },
     "execution_count": 15,
     "metadata": {},
     "output_type": "execute_result"
    }
   ],
   "source": [
    "result_res = query.fetchall()\n",
    "result_list = [x for i, x in enumerate(result_res) if i < 10]\n",
    "\n",
    "result_list"
   ]
  },
  {
   "cell_type": "markdown",
   "id": "f666f47b",
   "metadata": {},
   "source": [
    "Inner join the `cities` table on the left to the `countries` table on the right, keeping all of the fields in both tables.\n",
    "\n",
    "You should match the tables on the `country_code` field in `cities` and the `code` field in `countries`.\n",
    "\n",
    "**Do not** alias your tables here or in the next step. Using `cities` and `countries` is fine for now."
   ]
  },
  {
   "cell_type": "code",
   "execution_count": 16,
   "id": "c9f71571",
   "metadata": {},
   "outputs": [],
   "source": [
    "query = conn_countries.execute(\"\"\"\n",
    "\n",
    "SELECT *\n",
    "FROM   cities\n",
    "       INNER JOIN countries\n",
    "               ON cities.country_code = countries.code \n",
    "\n",
    "\"\"\")"
   ]
  },
  {
   "cell_type": "code",
   "execution_count": 17,
   "id": "6c57b26b",
   "metadata": {},
   "outputs": [
    {
     "data": {
      "text/plain": [
       "[('Abidjan', 'CIV', 4765000.0, None, 4765000.0, 'CIV', \"Cote d'Ivoire\", 'Africa', 'Western Africa', 322463.0, 1960, 'Cote d\\x92Ivoire', 'Republic', 'Yamoussoukro', -4.0305, 5.332),\n",
       " ('Abu Dhabi', 'ARE', 1145000.0, None, 1145000.0, 'ARE', 'United Arab Emirates', 'Asia', 'Middle East', 83600.0, 1971, 'Al-Imarat al-´Arabiya al-Muttahida', 'Emirate Federation', 'Abu Dhabi', 54.3705, 24.4764),\n",
       " ('Abuja', 'NGA', 1235880.0, 6000000.0, 1235880.0, 'NGA', 'Nigeria', 'Africa', 'Western Africa', 923768.0, 1960, 'Nigeria', 'Federal Republic', 'Abuja', 7.48906, 9.05804),\n",
       " ('Accra', 'GHA', 2070463.0, 4010054.0, 2070463.0, 'GHA', 'Ghana', 'Africa', 'Western Africa', 238533.0, 1957, 'Ghana', 'Republic', 'Accra', -0.20795, 5.57045),\n",
       " ('Addis Ababa', 'ETH', 3103673.0, 4567857.0, 3103673.0, 'ETH', 'Ethiopia', 'Africa', 'Eastern Africa', 1104300.0, -1000, 'YeItyop´iya', 'Republic', 'Addis Ababa', 38.7468, 9.02274),\n",
       " ('Ahmedabad', 'IND', 5570585.0, None, 5570585.0, 'IND', 'India', 'Asia', 'Southern and Central Asia', 3287260.0, 1947, 'Bharat/India', 'Federal Republic', 'New Delhi', 77.225, 28.6353),\n",
       " ('Alexandria', 'EGY', 4616625.0, None, 4616625.0, 'EGY', 'Egypt', 'Africa', 'Northern Africa', 1001450.0, 1922, 'Misr', 'Republic', 'Cairo', 31.2461, 30.0982),\n",
       " ('Algiers', 'DZA', 3415811.0, 5000000.0, 3415811.0, 'DZA', 'Algeria', 'Africa', 'Northern Africa', 2381740.0, 1962, 'Al-Jaza\\x92ir/Algerie', 'Republic', 'Algiers', 3.05097, 36.7397),\n",
       " ('Almaty', 'KAZ', 1703481.0, None, 1703481.0, 'KAZ', 'Kazakhstan', 'Asia', 'Southern and Central Asia', 2724900.0, 1991, 'Qazaqstan', 'Republic', 'Astana', 71.4382, 51.1879),\n",
       " ('Ankara', 'TUR', 5271000.0, 4585000.0, 5271000.0, 'TUR', 'Turkey', 'Asia', 'Middle East', 774815.0, 1923, 'Turkiye', 'Republic', 'Ankara', 32.3606, 39.7153)]"
      ]
     },
     "execution_count": 17,
     "metadata": {},
     "output_type": "execute_result"
    }
   ],
   "source": [
    "result_res = query.fetchall()\n",
    "result_list = [x for i, x in enumerate(result_res) if i < 10]\n",
    "\n",
    "result_list"
   ]
  },
  {
   "cell_type": "markdown",
   "id": "3078b008",
   "metadata": {},
   "source": [
    "Modify the `SELECT` statement to keep only the name of the city, the name of the country, and the name of the region the country resides in.\n",
    "Alias the name of the city `AS city` and the name of the country `AS country`."
   ]
  },
  {
   "cell_type": "code",
   "execution_count": 18,
   "id": "bb0dbfee",
   "metadata": {},
   "outputs": [],
   "source": [
    "query = conn_countries.execute(\"\"\"\n",
    "\n",
    "SELECT cities.name    AS city,\n",
    "       countries.name AS country,\n",
    "       region\n",
    "FROM   cities\n",
    "       INNER JOIN countries\n",
    "               ON cities.country_code = countries.code\n",
    "\n",
    "\"\"\")"
   ]
  },
  {
   "cell_type": "code",
   "execution_count": 19,
   "id": "97882297",
   "metadata": {},
   "outputs": [
    {
     "data": {
      "text/plain": [
       "[('Abidjan', \"Cote d'Ivoire\", 'Western Africa'),\n",
       " ('Abu Dhabi', 'United Arab Emirates', 'Middle East'),\n",
       " ('Abuja', 'Nigeria', 'Western Africa'),\n",
       " ('Accra', 'Ghana', 'Western Africa'),\n",
       " ('Addis Ababa', 'Ethiopia', 'Eastern Africa'),\n",
       " ('Ahmedabad', 'India', 'Southern and Central Asia'),\n",
       " ('Alexandria', 'Egypt', 'Northern Africa'),\n",
       " ('Algiers', 'Algeria', 'Northern Africa'),\n",
       " ('Almaty', 'Kazakhstan', 'Southern and Central Asia'),\n",
       " ('Ankara', 'Turkey', 'Middle East')]"
      ]
     },
     "execution_count": 19,
     "metadata": {},
     "output_type": "execute_result"
    }
   ],
   "source": [
    "result_res = query.fetchall()\n",
    "result_list = [x for i, x in enumerate(result_res) if i < 10]\n",
    "\n",
    "result_list"
   ]
  },
  {
   "cell_type": "markdown",
   "id": "359c289b",
   "metadata": {},
   "source": [
    "## Inner join (2)\n",
    "---\n",
    "\n",
    "Instead of writing the full table name, you can use table aliasing as a shortcut. For tables you also use `AS` to add the alias immediately after the table name with a space. Check out the aliasing of **cities** and **countries** below.\n",
    "\n",
    "`\n",
    "SELECT c1.NAME AS city,\n",
    "        c2.NAME AS country\n",
    " FROM   cities AS c1\n",
    "        INNER JOIN countries AS c2\n",
    "                ON c1.country_code = c2.code `\n",
    "\n",
    "Notice that to select a field in your query that appears in multiple tables, you'll need to identify which table/table alias you're referring to by using a `.` in your `SELECT` statement.\n",
    "\n",
    "You'll now explore a way to get data from both the **countries** and **economies** tables to examine the inflation rate for both 2010 and 2015.\n",
    "\n",
    "Sometimes it's easier to write SQL code out of order: you write the `SELECT` statement after you've done the `JOIN`."
   ]
  },
  {
   "cell_type": "markdown",
   "id": "b7989eee",
   "metadata": {},
   "source": [
    "### Instructions\n",
    "\n",
    "Join the tables `countries` (left) and `economies` (right) aliasing `countries AS c` and `economies AS e`.\n",
    "\n",
    "Specify the field to match the tables `ON`.\n",
    "\n",
    "From this join, `SELECT`:\n",
    "`c.code`, aliased as `country_code`.\n",
    "`name`, `year`, and `inflation_rate`, not aliased."
   ]
  },
  {
   "cell_type": "code",
   "execution_count": 20,
   "id": "0d0b4c4c",
   "metadata": {},
   "outputs": [],
   "source": [
    "query = conn_countries.execute(\"\"\"\n",
    "\n",
    "SELECT c.code AS country_code,\n",
    "       name,\n",
    "       year,\n",
    "       inflation_rate\n",
    "FROM   countries AS c\n",
    "       INNER JOIN economies AS e\n",
    "               ON c.code = e.code\n",
    "\n",
    "\"\"\")"
   ]
  },
  {
   "cell_type": "code",
   "execution_count": 21,
   "id": "d27839cb",
   "metadata": {},
   "outputs": [
    {
     "data": {
      "text/plain": [
       "[('AFG', 'Afghanistan', 2010, 2.179),\n",
       " ('AFG', 'Afghanistan', 2015, -1.549),\n",
       " ('AGO', 'Angola', 2010, 14.48),\n",
       " ('AGO', 'Angola', 2015, 10.287),\n",
       " ('ALB', 'Albania', 2010, 3.605),\n",
       " ('ALB', 'Albania', 2015, 1.896),\n",
       " ('ARE', 'United Arab Emirates', 2010, 0.878),\n",
       " ('ARE', 'United Arab Emirates', 2015, 4.07),\n",
       " ('ARG', 'Argentina', 2010, 10.461),\n",
       " ('ARG', 'Argentina', 2015, None)]"
      ]
     },
     "execution_count": 21,
     "metadata": {},
     "output_type": "execute_result"
    }
   ],
   "source": [
    "result_res = query.fetchall()\n",
    "result_list = [x for i, x in enumerate(result_res) if i < 10]\n",
    "\n",
    "result_list"
   ]
  },
  {
   "cell_type": "markdown",
   "id": "709d64f0",
   "metadata": {},
   "source": [
    "## Inner join (3)\n",
    "---\n",
    "\n",
    "The ability to combine multiple joins in a single query is a powerful feature of SQL, e.g:\n",
    "\n",
    "`SELECT *\n",
    " FROM   left_table\n",
    "        INNER JOIN right_table\n",
    "                ON left_table.id = right_table.id\n",
    "        INNER JOIN another_table\n",
    "                ON left_table.id = another_table.id `\n",
    "    \n",
    "As you can see here it becomes tedious to continually write long table names in joins. This is when it becomes useful to alias each table using the first letter of its name (e.g. `countries AS c`)! It is standard practice to alias in this way and, if you choose to alias tables or are asked to specifically for an exercise in this course, you should follow this protocol.\n",
    "\n",
    "Now, for each country, you want to get the country name, its region, the fertility rate, and the unemployment rate for both 2010 and 2015.\n",
    "\n",
    "Note that results should work throughout this course with or without table aliasing unless specified differently."
   ]
  },
  {
   "cell_type": "markdown",
   "id": "a2936ed3",
   "metadata": {},
   "source": [
    "### Instructions\n",
    "\n",
    "Inner join `countries` (left) and `populations` (right) on the `code` and `country_code` fields respectively.\n",
    "\n",
    "Alias `countries AS c` and `populations AS p`.\n",
    "\n",
    "Select `code`, `name`, and `region` from `countries` and also select `year` and `fertility_rate` from `populations` (5 fields in total)."
   ]
  },
  {
   "cell_type": "code",
   "execution_count": 22,
   "id": "6e2a7f78",
   "metadata": {},
   "outputs": [],
   "source": [
    "query = conn_countries.execute(\"\"\"\n",
    "\n",
    "SELECT c.code,\n",
    "       c.name,\n",
    "       c.region,\n",
    "       p.year,\n",
    "       p.fertility_rate\n",
    "FROM   countries AS c\n",
    "       INNER JOIN populations AS p\n",
    "               ON c.code = p.country_code  \n",
    "\n",
    "\"\"\")"
   ]
  },
  {
   "cell_type": "code",
   "execution_count": 23,
   "id": "0678670d",
   "metadata": {},
   "outputs": [
    {
     "data": {
      "text/plain": [
       "[('AFG', 'Afghanistan', 'Southern and Central Asia', 2015, 4.653),\n",
       " ('AFG', 'Afghanistan', 'Southern and Central Asia', 2010, 5.746),\n",
       " ('ALB', 'Albania', 'Southern Europe', 2015, 1.793),\n",
       " ('ALB', 'Albania', 'Southern Europe', 2010, 1.663),\n",
       " ('DZA', 'Algeria', 'Northern Africa', 2015, 2.805),\n",
       " ('DZA', 'Algeria', 'Northern Africa', 2010, 2.873),\n",
       " ('ASM', 'American Samoa', 'Polynesia', 2015, None),\n",
       " ('ASM', 'American Samoa', 'Polynesia', 2010, None),\n",
       " ('AND', 'Andorra', 'Southern Europe', 2015, None),\n",
       " ('AND', 'Andorra', 'Southern Europe', 2010, 1.27)]"
      ]
     },
     "execution_count": 23,
     "metadata": {},
     "output_type": "execute_result"
    }
   ],
   "source": [
    "result_res = query.fetchall()\n",
    "result_list = [x for i, x in enumerate(result_res) if i < 10]\n",
    "\n",
    "result_list"
   ]
  },
  {
   "cell_type": "markdown",
   "id": "71ad33d4",
   "metadata": {},
   "source": [
    "Add an additional `INNER JOIN` with `economies` to your previous query by joining on `code`.\n",
    "\n",
    "Include the `unemployment_rate` column that became available through joining with `economies`.\n",
    "\n",
    "Note that `year` appears in both `populations` and `economies`, so you have to explicitly use `e.year` instead of `year` as you did before."
   ]
  },
  {
   "cell_type": "code",
   "execution_count": 24,
   "id": "4643f57e",
   "metadata": {},
   "outputs": [],
   "source": [
    "query = conn_countries.execute(\"\"\"\n",
    "\n",
    "SELECT c.code,\n",
    "       c.name,\n",
    "       c.region,\n",
    "       e.year,\n",
    "       p.fertility_rate,\n",
    "       e.unemployment_rate\n",
    "FROM   countries AS c\n",
    "       INNER JOIN populations AS p\n",
    "               ON c.code = p.country_code\n",
    "       INNER JOIN economies AS e\n",
    "               ON e.code = c.code  \n",
    "\n",
    "\"\"\")"
   ]
  },
  {
   "cell_type": "code",
   "execution_count": 25,
   "id": "af68b080",
   "metadata": {},
   "outputs": [
    {
     "data": {
      "text/plain": [
       "[('AFG', 'Afghanistan', 'Southern and Central Asia', 2010, 4.653, None),\n",
       " ('AFG', 'Afghanistan', 'Southern and Central Asia', 2015, 4.653, None),\n",
       " ('AFG', 'Afghanistan', 'Southern and Central Asia', 2010, 5.746, None),\n",
       " ('AFG', 'Afghanistan', 'Southern and Central Asia', 2015, 5.746, None),\n",
       " ('ALB', 'Albania', 'Southern Europe', 2010, 1.793, 14.0),\n",
       " ('ALB', 'Albania', 'Southern Europe', 2015, 1.793, 17.1),\n",
       " ('ALB', 'Albania', 'Southern Europe', 2010, 1.663, 14.0),\n",
       " ('ALB', 'Albania', 'Southern Europe', 2015, 1.663, 17.1),\n",
       " ('DZA', 'Algeria', 'Northern Africa', 2010, 2.805, 9.961),\n",
       " ('DZA', 'Algeria', 'Northern Africa', 2015, 2.805, 11.214)]"
      ]
     },
     "execution_count": 25,
     "metadata": {},
     "output_type": "execute_result"
    }
   ],
   "source": [
    "result_res = query.fetchall()\n",
    "result_list = [x for i, x in enumerate(result_res) if i < 10]\n",
    "\n",
    "result_list"
   ]
  },
  {
   "cell_type": "markdown",
   "id": "105b5ade",
   "metadata": {},
   "source": [
    "Scroll down the query result and take a look at the results for Albania from your previous query. Does something seem off to you?\n",
    "\n",
    "The trouble with doing your last join on `c.code = e.code` and not also including year is that e.g. the 2010 value for `fertility_rate` is also paired with the 2015 value for `unemployment_rate`.\n",
    "\n",
    "Fix your previous query: in your last `ON` clause, use `AND` to add an additional joining condition. In addition to joining on `code` in `c` and `e`, also join on `year` in `e` and `p`."
   ]
  },
  {
   "cell_type": "code",
   "execution_count": 26,
   "id": "11e444b1",
   "metadata": {},
   "outputs": [],
   "source": [
    "query = conn_countries.execute(\"\"\"\n",
    "\n",
    "SELECT c.code,\n",
    "       name,\n",
    "       region,\n",
    "       e.year,\n",
    "       fertility_rate,\n",
    "       unemployment_rate\n",
    "FROM   countries AS c\n",
    "       INNER JOIN populations AS p\n",
    "               ON c.code = p.country_code\n",
    "       INNER JOIN economies AS e\n",
    "               ON c.code = e.code\n",
    "                  AND e.year = p.year  \n",
    "\n",
    "\"\"\")"
   ]
  },
  {
   "cell_type": "code",
   "execution_count": 27,
   "id": "9de29f74",
   "metadata": {},
   "outputs": [
    {
     "data": {
      "text/plain": [
       "[('AFG', 'Afghanistan', 'Southern and Central Asia', 2015, 4.653, None),\n",
       " ('AFG', 'Afghanistan', 'Southern and Central Asia', 2010, 5.746, None),\n",
       " ('ALB', 'Albania', 'Southern Europe', 2015, 1.793, 17.1),\n",
       " ('ALB', 'Albania', 'Southern Europe', 2010, 1.663, 14.0),\n",
       " ('DZA', 'Algeria', 'Northern Africa', 2015, 2.805, 11.214),\n",
       " ('DZA', 'Algeria', 'Northern Africa', 2010, 2.873, 9.961),\n",
       " ('AGO', 'Angola', 'Central Africa', 2015, 5.996, None),\n",
       " ('AGO', 'Angola', 'Central Africa', 2010, 6.416, None),\n",
       " ('ATG', 'Antigua and Barbuda', 'Caribbean', 2015, 2.063, None),\n",
       " ('ATG', 'Antigua and Barbuda', 'Caribbean', 2010, 2.13, None)]"
      ]
     },
     "execution_count": 27,
     "metadata": {},
     "output_type": "execute_result"
    }
   ],
   "source": [
    "result_res = query.fetchall()\n",
    "result_list = [x for i, x in enumerate(result_res) if i < 10]\n",
    "\n",
    "result_list"
   ]
  },
  {
   "cell_type": "markdown",
   "id": "4dd56dba",
   "metadata": {},
   "source": [
    "## INNER JOIN via USING\n",
    "---\n",
    "\n",
    "Recall the INNER JOIN diagram you saw. Think about the SQL code needed to complete this diagram. Let's check it out. We select and alias three fields and use the left table on the left of the join and the right table on the right of the join matching based on the entries for the id key field.\n",
    "\n",
    "<img src = \"https://images2.imgbox.com/cb/ff/UPAlB8Ta_o.png\" width=\"400\">\n",
    "\n",
    "`SELECT left_table.id   AS L_id,\n",
    "        left_table.val  AS L_val,\n",
    "        right_table.val AS R_val\n",
    " FROM   left_table\n",
    "        INNER JOIN right_table\n",
    "                ON left_table.id = right_table.id `\n",
    "\n",
    "\n",
    "### The INNER JOIN diagram with USING\n",
    "\n",
    "When the key field you'd like to join on is the same name in both tables, you can use a USING clause instead of the ON clause you have seen so far. Since id is the same name in both the left table and the right table we can specify USING instead of ON here. Note that the parentheses are required around the key field with USING. Let's revisit the example of joining the prime_ministers table\n",
    "\n",
    "<img src = \"https://images2.imgbox.com/61/05/BnIToehf_o.png\" width=\"400\">\n",
    "\n",
    "`SELECT left_table.id   AS L_id,\n",
    "        left_table.val  AS L_val,\n",
    "        right_table.val AS R_val\n",
    " FROM   left_table\n",
    "        INNER JOIN right_table USING( id )`\n",
    "\n",
    "\n",
    "### Countries with prime ministers and presidents\n",
    "\n",
    "To the presidents table to determine countries with both types of leaders. How could you fill in the blanks to get the result with USING? This is a bit trick. But why does this work? Since an INNER JOIN includes entries in both tables and both tables contain the countries listed, it doesn't matter the order in which we place the tables in the join if we SELECT these columns. You'll be told in the exercises which table to use on the left and on the right to avoid this confusion. Note again the use of the parentheses around country after USING."
   ]
  },
  {
   "cell_type": "code",
   "execution_count": 28,
   "id": "0b0d4d1b",
   "metadata": {},
   "outputs": [],
   "source": [
    "query = conn_leaders.execute(\"\"\"\n",
    "\n",
    "SELECT p1.country,\n",
    "       p1.continent,\n",
    "       prime_minister,\n",
    "       president\n",
    "FROM   presidents AS p1\n",
    "       INNER JOIN prime_ministers AS p2 USING( country )\n",
    "       \n",
    "\"\"\")"
   ]
  },
  {
   "cell_type": "code",
   "execution_count": 29,
   "id": "5c08b59b",
   "metadata": {},
   "outputs": [
    {
     "data": {
      "text/plain": [
       "[('Egypt', 'Africa', 'Sherif Ismail', 'Abdel Fattah el-Sisi'),\n",
       " ('Portugal', 'Europe', 'Antonio Costa', 'Marcelo Rebelo de Sousa'),\n",
       " ('Haiti', 'North America', 'Jack Guy Lafontant', 'Jovenel Moise')]"
      ]
     },
     "execution_count": 29,
     "metadata": {},
     "output_type": "execute_result"
    }
   ],
   "source": [
    "result_res = query.fetchall()\n",
    "result_list = [x for i, x in enumerate(result_res) if i < 10]\n",
    "\n",
    "result_list"
   ]
  },
  {
   "cell_type": "markdown",
   "id": "452fb116",
   "metadata": {},
   "source": [
    "## Inner join with using\n",
    "---\n",
    "\n",
    "When joining tables with a common field name, e.g.\n",
    "\n",
    "`SELECT *\n",
    "FROM   countries\n",
    "       INNER JOIN economies\n",
    "               ON countries.code = economies.code `\n",
    "    \n",
    "You can use `USING` as a shortcut:\n",
    "\n",
    "`SELECT *\n",
    "FROM   countries\n",
    "       INNER JOIN economies USING( code )`\n",
    "    \n",
    "You'll now explore how this can be done with the `countries` and `languages` tables."
   ]
  },
  {
   "cell_type": "markdown",
   "id": "25d8da0d",
   "metadata": {},
   "source": [
    "### Instructions\n",
    "\n",
    "Inner join `countries` on the left and `languages` on the right with `USING(code)`.\n",
    "\n",
    "Select the fields corresponding to:\n",
    "- country name `AS country`,\n",
    "- continent name,\n",
    "- language name `AS language`, and\n",
    "- whether or not the language is official.\n",
    "\n",
    "Remember to alias your tables using the first letter of their names."
   ]
  },
  {
   "cell_type": "code",
   "execution_count": 30,
   "id": "08cb87f5",
   "metadata": {},
   "outputs": [],
   "source": [
    "query = conn_countries.execute(\"\"\"\n",
    "\n",
    "SELECT c.name AS country,\n",
    "       c.continent,\n",
    "       l.name AS language,\n",
    "       l.official\n",
    "FROM   countries AS c\n",
    "       INNER JOIN languages AS l USING( code ) \n",
    "\n",
    "\"\"\")"
   ]
  },
  {
   "cell_type": "code",
   "execution_count": 31,
   "id": "50a6c516",
   "metadata": {},
   "outputs": [
    {
     "data": {
      "text/plain": [
       "[('Afghanistan', 'Asia', 'Dari', 'TRUE'),\n",
       " ('Afghanistan', 'Asia', 'Pashto', 'TRUE'),\n",
       " ('Afghanistan', 'Asia', 'Turkic', 'FALSE'),\n",
       " ('Afghanistan', 'Asia', 'Other', 'FALSE'),\n",
       " ('Albania', 'Europe', 'Albanian', 'TRUE'),\n",
       " ('Albania', 'Europe', 'Greek', 'FALSE'),\n",
       " ('Albania', 'Europe', 'Other', 'FALSE'),\n",
       " ('Albania', 'Europe', 'unspecified', 'FALSE'),\n",
       " ('Algeria', 'Africa', 'Arabic', 'TRUE'),\n",
       " ('Algeria', 'Africa', 'French', 'FALSE')]"
      ]
     },
     "execution_count": 31,
     "metadata": {},
     "output_type": "execute_result"
    }
   ],
   "source": [
    "result_res = query.fetchall()\n",
    "result_list = [x for i, x in enumerate(result_res) if i < 10]\n",
    "\n",
    "result_list"
   ]
  },
  {
   "cell_type": "markdown",
   "id": "fa17f06d",
   "metadata": {},
   "source": [
    "## Self-ish joins, just in CASE\n",
    "---\n",
    "\n",
    "You'll now dive into inner joins where a table is joined with itself. Sounds a little selfish, doesn't it? These types of joins, as you may have guessed, are called self joins. You'll also explore how to slice a numerical field into categories using the CASE command. Joining a table to.\n",
    "\n",
    "### Join a table to itself?\n",
    "\n",
    "Itself may seem like a bit of a crazy, strange thing to ever want to do. Self-joins are used to compare values in a field to other values of the same field from within the same table. Let's further explore this with an example. Recall the prime_ministers table from earlier. What if you wanted to create a new table showing countries that are in the same continent matched as pairs? Let's explore a chunk of INNER JOIN code using the prime_ministers table.\n",
    "\n",
    "### Join prime_ministers to itself?\n",
    "\n",
    "The country column is selected twice as well as continent. The prime_ministers table is on both the left and the right. The vital step here is setting the key columns by which we match the table to itself. For each country, we will have a match if the country in the \"right table\" (that is also prime_ministers) is in the same continent. Lastly, since the results of this query are more than can fit on the slide, you'll only see the first 14 records. See how we have exactly this in the result! It's a pairing of each country with every other country in its same continent. But do you see a problem here? We don't want to list the country with itself after all. In the next slide, you'll see a way to do this. Pause to think about how to get around this before continuing. We don't want to include rows."
   ]
  },
  {
   "cell_type": "code",
   "execution_count": 32,
   "id": "7e4a39d0",
   "metadata": {},
   "outputs": [],
   "source": [
    "query = conn_leaders.execute(\"\"\"\n",
    "\n",
    "SELECT p1.country AS country1,\n",
    "       p2.country AS country2,\n",
    "       p1.continent\n",
    "FROM   prime_ministers AS p1\n",
    "       INNER JOIN prime_ministers AS p2\n",
    "               ON p1.continent = p2.continent\n",
    "LIMIT  14 \n",
    "\n",
    "\"\"\")"
   ]
  },
  {
   "cell_type": "code",
   "execution_count": 33,
   "id": "235daaa2",
   "metadata": {},
   "outputs": [
    {
     "data": {
      "text/plain": [
       "[('Egypt', 'Egypt', 'Africa'),\n",
       " ('Portugal', 'Norway', 'Europe'),\n",
       " ('Portugal', 'Portugal', 'Europe'),\n",
       " ('Vietnam', 'Brunei', 'Asia'),\n",
       " ('Vietnam', 'India', 'Asia'),\n",
       " ('Vietnam', 'Oman', 'Asia'),\n",
       " ('Vietnam', 'Vietnam', 'Asia'),\n",
       " ('Haiti', 'Haiti', 'North America'),\n",
       " ('India', 'Brunei', 'Asia'),\n",
       " ('India', 'India', 'Asia'),\n",
       " ('India', 'Oman', 'Asia'),\n",
       " ('India', 'Vietnam', 'Asia'),\n",
       " ('Australia', 'Australia', 'Oceania'),\n",
       " ('Norway', 'Norway', 'Europe')]"
      ]
     },
     "execution_count": 33,
     "metadata": {},
     "output_type": "execute_result"
    }
   ],
   "source": [
    "result_res = query.fetchall()\n",
    "result_list = [x for i, x in enumerate(result_res) if i < 14]\n",
    "\n",
    "result_list"
   ]
  },
  {
   "cell_type": "markdown",
   "id": "088ab3b9",
   "metadata": {},
   "source": [
    "### Finishing off the self-join on prime_ministers\n",
    "\n",
    "Where the country is the same in the country1 and country2 fields. The AND clause can check that multiple conditions are met. Here a match will not be made between prime_ministers and itself if the countries match. You, thus, have the correct table now; the results here are again limited in order for them to fit on the slide. Notice that self-join doesn't have a syntax quite as simple as INNER JOIN (You can't just write SELF JOIN in SQL code)."
   ]
  },
  {
   "cell_type": "code",
   "execution_count": 34,
   "id": "7b931175",
   "metadata": {},
   "outputs": [],
   "source": [
    "query = conn_leaders.execute(\"\"\"\n",
    "\n",
    "SELECT p1.country AS country1,\n",
    "       p2.country AS country2,\n",
    "       p1.continent\n",
    "FROM   prime_ministers AS p1\n",
    "       INNER JOIN prime_ministers AS p2\n",
    "               ON p1.continent = p2.continent\n",
    "                  AND p1.country <> p2.country \n",
    "\n",
    "\"\"\")"
   ]
  },
  {
   "cell_type": "code",
   "execution_count": 35,
   "id": "6c06eb10",
   "metadata": {},
   "outputs": [
    {
     "data": {
      "text/plain": [
       "[('Portugal', 'Norway', 'Europe'),\n",
       " ('Vietnam', 'Brunei', 'Asia'),\n",
       " ('Vietnam', 'India', 'Asia'),\n",
       " ('Vietnam', 'Oman', 'Asia'),\n",
       " ('India', 'Brunei', 'Asia'),\n",
       " ('India', 'Oman', 'Asia'),\n",
       " ('India', 'Vietnam', 'Asia'),\n",
       " ('Norway', 'Portugal', 'Europe'),\n",
       " ('Brunei', 'India', 'Asia'),\n",
       " ('Brunei', 'Oman', 'Asia')]"
      ]
     },
     "execution_count": 35,
     "metadata": {},
     "output_type": "execute_result"
    }
   ],
   "source": [
    "result_res = query.fetchall()\n",
    "result_list = [x for i, x in enumerate(result_res) if i < 10]\n",
    "\n",
    "result_list"
   ]
  },
  {
   "cell_type": "markdown",
   "id": "d9b468ad",
   "metadata": {},
   "source": [
    "### CASE WHEN and THEN\n",
    "\n",
    "The next command isn't a join, but is a useful tool in your repertoire. You'll be introduced to using CASE with another table in the leaders database. The states table contains numeric data about different countries in the six inhabited world continents. We'll focus on the field indep_year now. Suppose we'd like to group the year of independence into categories of before 1900, between 1900 and 1930, and after 1930. CASE will get us there! CASE is a way to do multiple if-then-else statements in a simplified way in SQL.\n",
    "\n",
    "### Preparing indep_year_group in states\n",
    "\n",
    "You can now see the basic layout for creating a new field containing the groupings. How might we fill them in? After the first WHEN should specify that we want to check for indep_year being less than 1900. Next we want indep_year_group to contain 'between 1900 and 1930' in the next blank. Lastly any other record not matching these conditions will be assigned the value of 'after 1930' for indep_year_group.\n",
    "\n",
    "### Creating indep_year_group in states\n",
    "\n",
    "Check out the completed query with completed blanks. Notice how the values of indep_year are grouped in indep_year_group. Also observe how continent relates to indep_year_group."
   ]
  },
  {
   "cell_type": "code",
   "execution_count": 36,
   "id": "9d543877",
   "metadata": {},
   "outputs": [],
   "source": [
    "query = conn_leaders.execute(\"\"\"\n",
    "\n",
    "SELECT NAME,\n",
    "       continent,\n",
    "       indep_year,\n",
    "       CASE\n",
    "         WHEN indep_year < 1900 THEN 'before 1900 and 1930'\n",
    "         WHEN indep_year <= 1930 THEN 'between 1900 and 1930'\n",
    "         ELSE 'after 1930'\n",
    "       END AS indep_year_group\n",
    "FROM   states\n",
    "ORDER  BY indep_year_group \n",
    "\n",
    "\"\"\")"
   ]
  },
  {
   "cell_type": "code",
   "execution_count": 37,
   "id": "a1d0ff0e",
   "metadata": {},
   "outputs": [
    {
     "data": {
      "text/plain": [
       "[('Brunei', 'Asia', 1984, 'after 1930'),\n",
       " ('India', 'Asia', 1947, 'after 1930'),\n",
       " ('Oman', 'Asia', 1951, 'after 1930'),\n",
       " ('Chile', 'South America', 1810, 'before 1900 and 1930'),\n",
       " ('Haiti', 'North America', 1804, 'before 1900 and 1930'),\n",
       " ('Liberia', 'Africa', 1847, 'before 1900 and 1930'),\n",
       " ('Portugal', 'Europe', 1143, 'before 1900 and 1930'),\n",
       " ('Spain', 'Europe', 1492, 'before 1900 and 1930'),\n",
       " ('Uruguay', 'South America', 1828, 'before 1900 and 1930'),\n",
       " ('Australia', 'Oceania', 1901, 'between 1900 and 1930')]"
      ]
     },
     "execution_count": 37,
     "metadata": {},
     "output_type": "execute_result"
    }
   ],
   "source": [
    "result_res = query.fetchall()\n",
    "result_list = [x for i, x in enumerate(result_res) if i < 10]\n",
    "\n",
    "result_list"
   ]
  },
  {
   "cell_type": "markdown",
   "id": "ec4d0a4b",
   "metadata": {},
   "source": [
    "## Self-join\n",
    "---\n",
    "\n",
    "In this exercise, you'll use the populations table to perform a self-join to calculate the percentage increase in population from 2010 to 2015 for each country code!\n",
    "\n",
    "Since you'll be joining the populations table to itself, you can alias populations as p1 and also populations as p2. This is good practice whenever you are aliasing and your tables have the same first letter. Note that you are required to alias the tables with self-joins."
   ]
  },
  {
   "cell_type": "markdown",
   "id": "0cd852e4",
   "metadata": {},
   "source": [
    "### Instructions\n",
    "\n",
    "Join `populations` with itself `ON` `country_code`.\n",
    "\n",
    "Select the `country_code` from `p1` and the `size` field from both `p1` and `p2`. SQL won't allow same-named fields, so alias `p1.size` as `size2010` and `p2.size` as `size2015`."
   ]
  },
  {
   "cell_type": "code",
   "execution_count": 38,
   "id": "a68a99f1",
   "metadata": {},
   "outputs": [],
   "source": [
    "query = conn_countries.execute(\"\"\"\n",
    "\n",
    "SELECT p1.country_code,\n",
    "       p1.size AS size2010,\n",
    "       p2.size AS size2015\n",
    "FROM   populations AS p1\n",
    "       INNER JOIN populations AS p2\n",
    "               ON p1.country_code = p2.country_code\n",
    "\n",
    "\"\"\")"
   ]
  },
  {
   "cell_type": "code",
   "execution_count": 39,
   "id": "9c3b99c1",
   "metadata": {},
   "outputs": [
    {
     "data": {
      "text/plain": [
       "[('AFG', 32526562.0, 27962207.0),\n",
       " ('AFG', 32526562.0, 32526562.0),\n",
       " ('AFG', 27962207.0, 27962207.0),\n",
       " ('AFG', 27962207.0, 32526562.0),\n",
       " ('ALB', 2889167.0, 2889167.0),\n",
       " ('ALB', 2889167.0, 2913021.0),\n",
       " ('ALB', 2913021.0, 2889167.0),\n",
       " ('ALB', 2913021.0, 2913021.0),\n",
       " ('DZA', 39666519.0, 36036159.0),\n",
       " ('DZA', 39666519.0, 39666519.0)]"
      ]
     },
     "execution_count": 39,
     "metadata": {},
     "output_type": "execute_result"
    }
   ],
   "source": [
    "result_res = query.fetchall()\n",
    "result_list = [x for i, x in enumerate(result_res) if i < 10]\n",
    "\n",
    "result_list"
   ]
  },
  {
   "cell_type": "markdown",
   "id": "7b2e8635",
   "metadata": {},
   "source": [
    "Notice from the result that for each `country_code` you have four entries laying out all combinations of 2010 and 2015.\n",
    "\n",
    "Extend the `ON` in your query to include only those records where the `p1.year` (2010) matches with `p2.year - 5` (2015 - 5 = 2010). This will omit the three entries per `country_code` that you aren't interested in."
   ]
  },
  {
   "cell_type": "code",
   "execution_count": 40,
   "id": "5005f28b",
   "metadata": {},
   "outputs": [],
   "source": [
    "query = conn_countries.execute(\"\"\"\n",
    "\n",
    "SELECT p1.country_code,\n",
    "       p1.size AS size2010,\n",
    "       p2.size AS size2015\n",
    "FROM   populations AS p1\n",
    "       INNER JOIN populations AS p2\n",
    "               ON p1.country_code = p2.country_code\n",
    "                  AND p1.year = p2.year - 5\n",
    "\n",
    "\"\"\")"
   ]
  },
  {
   "cell_type": "code",
   "execution_count": 41,
   "id": "7434767a",
   "metadata": {},
   "outputs": [
    {
     "data": {
      "text/plain": [
       "[('AFG', 27962207.0, 32526562.0),\n",
       " ('ALB', 2913021.0, 2889167.0),\n",
       " ('DZA', 36036159.0, 39666519.0),\n",
       " ('ASM', 55636.0, 55538.0),\n",
       " ('AND', 84419.0, 70473.0),\n",
       " ('AGO', 21219954.0, 25021974.0),\n",
       " ('ATG', 87233.0, 91818.0),\n",
       " ('ARG', 41222875.0, 43416755.0),\n",
       " ('ARM', 2963496.0, 3017712.0),\n",
       " ('ABW', 101597.0, 103889.0)]"
      ]
     },
     "execution_count": 41,
     "metadata": {},
     "output_type": "execute_result"
    }
   ],
   "source": [
    "result_res = query.fetchall()\n",
    "result_list = [x for i, x in enumerate(result_res) if i < 10]\n",
    "\n",
    "result_list"
   ]
  },
  {
   "cell_type": "markdown",
   "id": "f91edd4f",
   "metadata": {},
   "source": [
    "As you just saw, you can also use SQL to calculate values like `p2.year - 5` for you. With two fields like `size2010` and `size2015`, you may want to determine the percentage increase from one field to the next:\n",
    "\n",
    "With two numeric fields A and B, the percentage growth from A to B can be calculated as (B - A) A * 100.0\n",
    "\n",
    "Add a new field to `SELECT`, aliased as `growth_perc`, that calculates the percentage population growth from 2010 to 2015 for each country, using `p2.size` and `p1.size`."
   ]
  },
  {
   "cell_type": "code",
   "execution_count": 42,
   "id": "c1e25be4",
   "metadata": {},
   "outputs": [],
   "source": [
    "query = conn_countries.execute(\"\"\"\n",
    "\n",
    "SELECT p1.country_code,\n",
    "       p1.size                                     AS size2010,\n",
    "       p2.size                                     AS size2015,\n",
    "       ( ( p2.size - p1.size ) / p1.size * 100.0 ) AS growth_perc\n",
    "FROM   populations AS p1\n",
    "       INNER JOIN populations AS p2\n",
    "               ON p1.country_code = p2.country_code\n",
    "                  AND p1.year = ( p2.year - 5 ) \n",
    "\n",
    "\"\"\")"
   ]
  },
  {
   "cell_type": "code",
   "execution_count": 43,
   "id": "235c2d8a",
   "metadata": {},
   "outputs": [
    {
     "data": {
      "text/plain": [
       "[('AFG', 27962207.0, 32526562.0, 16.3233002316305),\n",
       " ('ALB', 2913021.0, 2889167.0, -0.8188749754979453),\n",
       " ('DZA', 36036159.0, 39666519.0, 10.074214624261147),\n",
       " ('ASM', 55636.0, 55538.0, -0.17614494212380472),\n",
       " ('AND', 84419.0, 70473.0, -16.519977730131842),\n",
       " ('AGO', 21219954.0, 25021974.0, 17.917192468937493),\n",
       " ('ATG', 87233.0, 91818.0, 5.256038425825089),\n",
       " ('ARG', 41222875.0, 43416755.0, 5.321996585633583),\n",
       " ('ARM', 2963496.0, 3017712.0, 1.8294608799876901),\n",
       " ('ABW', 101597.0, 103889.0, 2.255972125161176)]"
      ]
     },
     "execution_count": 43,
     "metadata": {},
     "output_type": "execute_result"
    }
   ],
   "source": [
    "result_res = query.fetchall()\n",
    "result_list = [x for i, x in enumerate(result_res) if i < 10]\n",
    "\n",
    "result_list"
   ]
  },
  {
   "cell_type": "markdown",
   "id": "dddc7da3",
   "metadata": {},
   "source": [
    "## Case when and then\n",
    "---\n",
    "\n",
    "Often it's useful to look at a numerical field not as raw data, but instead as being in different categories or groups.\n",
    "\n",
    "You can use `CASE` with `WHEN`, `THEN`, `ELSE`, and `END` to define a new grouping field."
   ]
  },
  {
   "cell_type": "markdown",
   "id": "7a78ea1e",
   "metadata": {},
   "source": [
    "### Instructions \n",
    "\n",
    "Using the `countries` table, create a new field `AS geosize_group` that groups the countries into three groups:\n",
    "\n",
    "- If `surface_area` is greater than 2 million, `geosize_group` is `'large'`.\n",
    "- If `surface_area` is greater than 350 thousand but not larger than 2 million, `geosize_group` is `'medium'`.\n",
    "- Otherwise, `geosize_group` is `'small'`."
   ]
  },
  {
   "cell_type": "code",
   "execution_count": 44,
   "id": "3f1a9050",
   "metadata": {},
   "outputs": [],
   "source": [
    "query = conn_countries.execute(\"\"\"\n",
    "\n",
    "SELECT NAME,\n",
    "       continent,\n",
    "       code,\n",
    "       surface_area,\n",
    "       CASE\n",
    "         WHEN surface_area > 2000000 THEN 'large'\n",
    "         WHEN surface_area > 350000 THEN 'medium'\n",
    "         ELSE 'small'\n",
    "       END AS geosize_group\n",
    "FROM   countries \n",
    "\n",
    "\"\"\")"
   ]
  },
  {
   "cell_type": "code",
   "execution_count": 45,
   "id": "87e8c938",
   "metadata": {},
   "outputs": [
    {
     "data": {
      "text/plain": [
       "[('Afghanistan', 'Asia', 'AFG', 652090.0, 'medium'),\n",
       " ('Netherlands', 'Europe', 'NLD', 41526.0, 'small'),\n",
       " ('Albania', 'Europe', 'ALB', 28748.0, 'small'),\n",
       " ('Algeria', 'Africa', 'DZA', 2381740.0, 'large'),\n",
       " ('American Samoa', 'Oceania', 'ASM', 199.0, 'small'),\n",
       " ('Andorra', 'Europe', 'AND', 468.0, 'small'),\n",
       " ('Angola', 'Africa', 'AGO', 1246700.0, 'medium'),\n",
       " ('Antigua and Barbuda', 'North America', 'ATG', 442.0, 'small'),\n",
       " ('United Arab Emirates', 'Asia', 'ARE', 83600.0, 'small'),\n",
       " ('Argentina', 'South America', 'ARG', 2780400.0, 'large')]"
      ]
     },
     "execution_count": 45,
     "metadata": {},
     "output_type": "execute_result"
    }
   ],
   "source": [
    "result_res = query.fetchall()\n",
    "result_list = [x for i, x in enumerate(result_res) if i < 10]\n",
    "\n",
    "result_list"
   ]
  },
  {
   "cell_type": "markdown",
   "id": "212bff62",
   "metadata": {},
   "source": [
    "## Inner challenge\n",
    "---\n",
    "\n",
    "The table you created with the added `geosize_group` field has been loaded for you here with the name `countries_plus`. Observe the use of (and the placement of) the `INTO` command to create this `countries_plus` table:\n",
    "\n",
    "`SELECT NAME,\n",
    "        continent,\n",
    "        code,\n",
    "        surface_area,\n",
    "        CASE\n",
    "          WHEN surface_area > 2000000 THEN 'large'\n",
    "          WHEN surface_area > 350000 THEN 'medium'\n",
    "          ELSE 'small'\n",
    "        END AS geosize_group\n",
    " INTO   countries_plus\n",
    " FROM   countries`\n",
    "\n",
    "You will now explore the relationship between the size of a country in terms of surface area and in terms of population using grouping fields created with `CASE`."
   ]
  },
  {
   "cell_type": "markdown",
   "id": "1a3c626d",
   "metadata": {},
   "source": [
    "### Instructions\n",
    "\n",
    "Using the `populations` table focused only for the `year` 2015, create a new field aliased as `popsize_group` to organize population `size` into\n",
    "\n",
    "-`'large'` (> 50 million),\n",
    "\n",
    "-`'medium'` (> 1 million), and\n",
    "\n",
    "-`'small'` groups.\n",
    "\n",
    "Select only the country code, population size, and this new `popsize_group` as fields."
   ]
  },
  {
   "cell_type": "code",
   "execution_count": 46,
   "id": "e23e2915",
   "metadata": {},
   "outputs": [],
   "source": [
    "query = conn_countries.execute(\"\"\"\n",
    "\n",
    "SELECT country_code,\n",
    "       size,\n",
    "       CASE\n",
    "         WHEN size > 50000000 THEN 'large'\n",
    "         WHEN size > 1000000 THEN 'medium'\n",
    "         ELSE 'small'\n",
    "       END AS popsize_group\n",
    "FROM   populations\n",
    "WHERE  year = 2015 \n",
    "\n",
    "\"\"\")"
   ]
  },
  {
   "cell_type": "code",
   "execution_count": 47,
   "id": "f0c95c7d",
   "metadata": {},
   "outputs": [
    {
     "data": {
      "text/plain": [
       "[('AFG', 32526562.0, 'medium'),\n",
       " ('ALB', 2889167.0, 'medium'),\n",
       " ('DZA', 39666519.0, 'medium'),\n",
       " ('ASM', 55538.0, 'small'),\n",
       " ('AND', 70473.0, 'small'),\n",
       " ('AGO', 25021974.0, 'medium'),\n",
       " ('ATG', 91818.0, 'small'),\n",
       " ('ARG', 43416755.0, 'medium'),\n",
       " ('ARM', 3017712.0, 'medium'),\n",
       " ('ABW', 103889.0, 'small')]"
      ]
     },
     "execution_count": 47,
     "metadata": {},
     "output_type": "execute_result"
    }
   ],
   "source": [
    "result_res = query.fetchall()\n",
    "result_list = [x for i, x in enumerate(result_res) if i < 10]\n",
    "\n",
    "result_list"
   ]
  },
  {
   "cell_type": "markdown",
   "id": "1416177b",
   "metadata": {},
   "source": [
    "Use `INTO` to save the result of the previous query as `pop_plus`. You can see an example of this in the `countries_plus` code in the assignment text. Make sure to include a `;` at the end of your `WHERE` clause!\n",
    "\n",
    "Then, include another query below your first query to display all the records in `pop_plus` using `SELECT * FROM pop_plus`; so that you generate results and this will display `pop_plus` in the query result."
   ]
  },
  {
   "cell_type": "markdown",
   "id": "da543be4",
   "metadata": {},
   "source": [
    "`SELECT country_code,\n",
    "        size,\n",
    "        CASE\n",
    "          WHEN size > 50000000 THEN 'large'\n",
    "          WHEN size > 1000000 THEN 'medium'\n",
    "          ELSE 'small'\n",
    "        END AS popsize_group\n",
    " INTO   countries.pop_plus\n",
    " FROM   populations\n",
    " WHERE  year = 2015 `"
   ]
  },
  {
   "cell_type": "markdown",
   "id": "6e3e9b9b",
   "metadata": {},
   "source": [
    "Keep the first query intact that creates `pop_plus` using `INTO`.\n",
    "\n",
    "Write a query to join `countries_plus AS c` on the left with `pop_plus AS` p on the right matching on the country code fields.\n",
    "\n",
    "Sort the data based on `geosize_group`, in ascending order so that `large` appears on top.\n",
    "\n",
    "Select the `name`, `continent`, `geosize_group`, and `popsize_group` fields."
   ]
  },
  {
   "cell_type": "markdown",
   "id": "64b703b1",
   "metadata": {},
   "source": [
    "`SELECT country_code,\n",
    "        size,\n",
    "        CASE\n",
    "          WHEN size > 50000000 THEN 'large'\n",
    "          WHEN size > 1000000 THEN 'medium'\n",
    "          ELSE 'small'\n",
    "        END AS popsize_group\n",
    " INTO   pop_plus\n",
    " FROM   populations\n",
    " WHERE  year = 2015`\n",
    "\n",
    "    \n",
    "`SELECT c.NAME,\n",
    "        c.continent,\n",
    "        c.geosize_group,\n",
    "        p.popsize_group\n",
    " FROM   countries_plus AS c\n",
    "        INNER JOIN pop_plus AS p\n",
    "                ON c.code = p.country_code\n",
    " ORDER  BY geosize_group`"
   ]
  }
 ],
 "metadata": {
  "kernelspec": {
   "display_name": "Python 3",
   "language": "python",
   "name": "python3"
  },
  "language_info": {
   "codemirror_mode": {
    "name": "ipython",
    "version": 3
   },
   "file_extension": ".py",
   "mimetype": "text/x-python",
   "name": "python",
   "nbconvert_exporter": "python",
   "pygments_lexer": "ipython3",
   "version": "3.8.8"
  }
 },
 "nbformat": 4,
 "nbformat_minor": 5
}
