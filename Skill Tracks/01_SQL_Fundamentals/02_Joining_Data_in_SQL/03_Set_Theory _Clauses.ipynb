{
 "cells": [
  {
   "cell_type": "markdown",
   "id": "86563d22",
   "metadata": {},
   "source": [
    "<img src = \"https://images2.imgbox.com/60/09/VFwl5LOq_o.jpg\" width=\"400\">"
   ]
  },
  {
   "cell_type": "markdown",
   "id": "f7c268e6",
   "metadata": {},
   "source": [
    "# 3. Set Theory Clauses\n",
    "---\n",
    "\n",
    "In this chapter, you'll learn more about set theory using Venn diagrams and get an introduction to union, union all, intersect, and except clauses. You'll finish by investigating semi joins and anti joins, which provide a nice introduction to subqueries."
   ]
  },
  {
   "cell_type": "code",
   "execution_count": 1,
   "id": "ca5d5606",
   "metadata": {},
   "outputs": [],
   "source": [
    "import sqlite3"
   ]
  },
  {
   "cell_type": "code",
   "execution_count": 2,
   "id": "95cdcde5",
   "metadata": {},
   "outputs": [
    {
     "name": "stdout",
     "output_type": "stream",
     "text": [
      "('Australia', 'Oceania', 1901, 1.88, 32.74)\n",
      "('Brunei', 'Asia', 1984, 1.96, 6.06)\n",
      "('Chile', 'South America', 1810, 1.8, 15.82)\n",
      "('Egypt', 'Africa', 1922, 2.7, 14.9)\n",
      "('Haiti', 'North America', 1804, 3.03, 2.74)\n",
      "('India', 'Asia', 1947, 2.43, 11.58)\n",
      "('Liberia', 'Africa', 1847, 4.64, 11.65)\n",
      "('Norway', 'Europe', 1905, 1.93, 39.6)\n",
      "('Oman', 'Asia', 1951, 2.75, 8.82)\n",
      "('Portugal', 'Europe', 1143, 1.31, 34.8)\n"
     ]
    }
   ],
   "source": [
    "conn_leaders = sqlite3.connect('data/leaders.db')\n",
    "cur_leaders = conn_leaders.cursor()\n",
    "result_leaders = cur_leaders.execute(\"SELECT * FROM states LIMIT 10\")\n",
    "\n",
    "for row in result_leaders:\n",
    "    print(row)"
   ]
  },
  {
   "cell_type": "code",
   "execution_count": 3,
   "id": "4c1f02cd",
   "metadata": {},
   "outputs": [
    {
     "name": "stdout",
     "output_type": "stream",
     "text": [
      "('AFG', 2010, 'Low income', 37.133)\n",
      "('AGO', 2010, 'Upper middle income', 23.534)\n",
      "('ALB', 2010, 'Upper middle income', 20.011)\n",
      "('ARE', 2010, 'High income', 27.073)\n",
      "('ARG', 2010, 'Upper middle income', 17.361)\n",
      "('ARM', 2010, 'Lower middle income', 15.797)\n",
      "('ATG', 2010, 'High income', 13.398)\n",
      "('AUS', 2010, 'High income', 23.584)\n",
      "('AUT', 2010, 'High income', 25.521)\n",
      "('AZE', 2010, 'Upper middle income', 46.567)\n"
     ]
    }
   ],
   "source": [
    "conn_countries = sqlite3.connect('data/countries.db')\n",
    "cur_countries = conn_countries.cursor()\n",
    "result_countries = cur_countries.execute(\"SELECT * FROM economies2010 LIMIT 10\")\n",
    "\n",
    "for row in result_countries:\n",
    "    print(row)"
   ]
  },
  {
   "cell_type": "markdown",
   "id": "53769a20",
   "metadata": {},
   "source": [
    "## State of the UNION\n",
    "---\n",
    "\n",
    "Welcome to Chapter 3! You've made it through some challenging material so far. Keep up the great work! Next are set theory clauses. Now we'll focus on the operations of UNION and UNION ALL. In addition to joining diagrams, in this chapter, you'll also see how Venn diagrams can be used to represent set operations. Let's begin with these Venn diagrams now.\n",
    "\n",
    "### Set Theory Venn Diagrams\n",
    "\n",
    "You can think of each circle as representing a table of data. The shading represents what is included in the result of the set operation from each table. Beginning in the top left, UNION includes every record in both tables but DOES NOT double count those that are in both tables. UNION ALL includes every record in both tables and DOES replicate those that are in both tables. This is why the center is shaded black. The two diagrams on the bottom represent only subsets of data being selected. INTERSECT results in only those records found in both of the two tables. EXCEPT results in only those records in one table BUT NOT the other. Let's investigate what UNION looks like as a joining diagram.\n",
    "\n",
    "<img src = \"https://images2.imgbox.com/b9/c6/YimVIW6r_o.png\" width=\"600\">\n",
    "\n",
    "### UNION diagram\n",
    "\n",
    "In this diagram, you have two tables with names left_one and right_one. The \"one\" here corresponds to each table only having one field. If you run a UNION on these two fields you get each record appearing in either table, but notice that the id values of 1 and 4 in right_one are not included again in the UNION since they were already found in the left_one table.\n",
    "\n",
    "<img src = \"https://images2.imgbox.com/46/f4/8GjPL8pe_o.png\" width=\"400\">\n",
    "\n",
    "\n",
    "### UNION ALL diagram\n",
    "\n",
    "By contrast (with the same two tables left_one and right_one), UNION ALL includes all duplicates in its result. So left_one and right_one both having four records yields eight records for the result of the UNION ALL. If it were the case that right_one had these same four values and also one more value of 1 for id, you'd see three entries for 1 in the resulting UNION ALL. Let's check out the SQL syntax using the leaders database for both UNION and UNION ALL, but first you'll see one more table in the leaders database.\n",
    "\n",
    "<img src = \"https://images2.imgbox.com/43/0d/Vis25Yhi_o.png\" width=\"400\">\n",
    "\n",
    "### monarchs table\n",
    "\n",
    "Check out the monarchs table in the leaders database that we will use in examples here. The table lists the country, continent, and the name of the monarch for that country. Do some of these names look familiar based on the other tables you've seen? They should! We'll come back to this.\n",
    "\n",
    "`SELECT * FROM monarchs`\n",
    "\n",
    "### All prime ministers and monarchs\n",
    "\n",
    "You can use UNION on the prime_ministers and monarchs table to show all of the different prime ministers and monarchs in these two tables. The country field is also included here for reference. Note that the prime_minister field has been aliased as leader. In fact, the resulting field from the UNION will have the name of leader. That's an important property of the set theory clauses you will see in this chapter. The fields included in the operation must be of the same data type since they come back as just a single field. You can't stack a number on top of a character field in other words.\n",
    "\n",
    "### Resulting table from UNION\n",
    "\n",
    "Our resulting table from the UNION gives all the leaders and their corresponding country. Does something stand out to you here? "
   ]
  },
  {
   "cell_type": "code",
   "execution_count": 4,
   "id": "468dc995",
   "metadata": {},
   "outputs": [
    {
     "name": "stdout",
     "output_type": "stream",
     "text": [
      "('Malcolm Turnbull', 'Australia')\n",
      "('Hassanal Bolkiah', 'Brunei')\n",
      "('Sherif Ismail', 'Egypt')\n",
      "('Jack Guy Lafontant', 'Haiti')\n",
      "('Narendra Modi', 'India')\n",
      "('Erna Solberg', 'Norway')\n",
      "('Harald V', 'Norway')\n",
      "('Qaboos bin Said al Said', 'Oman')\n",
      "('Antonio Costa', 'Portugal')\n",
      "('Nguyen Xuan Phuc', 'Vietnam')\n"
     ]
    }
   ],
   "source": [
    "result_leaders = cur_leaders.execute(\"\"\"\n",
    "\n",
    "SELECT prime_minister AS leader,\n",
    "       country\n",
    "FROM   prime_ministers\n",
    "UNION\n",
    "SELECT monarch,\n",
    "       country\n",
    "FROM   monarchs\n",
    "ORDER  BY country \n",
    "\n",
    "\"\"\")\n",
    "\n",
    "for row in result_leaders:\n",
    "    print(row)"
   ]
  },
  {
   "cell_type": "markdown",
   "id": "a25a9233",
   "metadata": {},
   "source": [
    "### UNION ALL with leaders\n",
    "\n",
    "The countries of Brunei and Oman were listed only once in the UNION table. These countries have monarchs that also act as prime ministers. This can be seen in the UNION ALL results. You've seen"
   ]
  },
  {
   "cell_type": "code",
   "execution_count": 5,
   "id": "80f54445",
   "metadata": {},
   "outputs": [
    {
     "name": "stdout",
     "output_type": "stream",
     "text": [
      "('Malcolm Turnbull', 'Australia')\n",
      "('Hassanal Bolkiah', 'Brunei')\n",
      "('Hassanal Bolkiah', 'Brunei')\n",
      "('Sherif Ismail', 'Egypt')\n",
      "('Jack Guy Lafontant', 'Haiti')\n",
      "('Narendra Modi', 'India')\n",
      "('Erna Solberg', 'Norway')\n",
      "('Harald V', 'Norway')\n",
      "('Qaboos bin Said al Said', 'Oman')\n",
      "('Qaboos bin Said al Said', 'Oman')\n"
     ]
    }
   ],
   "source": [
    "result_leaders = cur_leaders.execute(\"\"\"\n",
    "\n",
    "SELECT prime_minister AS leader,\n",
    "       country\n",
    "FROM   prime_ministers\n",
    "UNION  ALL\n",
    "SELECT monarch,\n",
    "       country\n",
    "FROM   monarchs\n",
    "ORDER  BY country\n",
    "LIMIT  10\n",
    "\n",
    "\n",
    "\"\"\")\n",
    "\n",
    "for row in result_leaders:\n",
    "    print(row)"
   ]
  },
  {
   "cell_type": "markdown",
   "id": "707cf398",
   "metadata": {},
   "source": [
    "## Union\n",
    "---\n",
    "You have two new tables, `economies2010` and `economies2015`, available to you. The `economies` table is also included for reference."
   ]
  },
  {
   "cell_type": "markdown",
   "id": "80f0ee07",
   "metadata": {},
   "source": [
    "### Instructions\n",
    "\n",
    "Combine the two new tables into one table containing all of the fields in `economies2010`.\n",
    "\n",
    "Sort this resulting single table by country code and then by year, both in ascending order."
   ]
  },
  {
   "cell_type": "code",
   "execution_count": 6,
   "id": "c999747d",
   "metadata": {},
   "outputs": [
    {
     "name": "stdout",
     "output_type": "stream",
     "text": [
      "('AFG', 2010, 'Low income', 37.133)\n",
      "('AFG', 2015, 'Low income', 21.466)\n",
      "('AGO', 2010, 'Upper middle income', 23.534)\n",
      "('AGO', 2015, 'Upper middle income', -0.425)\n",
      "('ALB', 2010, 'Upper middle income', 20.011)\n",
      "('ALB', 2015, 'Upper middle income', 13.84)\n",
      "('ARE', 2010, 'High income', 27.073)\n",
      "('ARE', 2015, 'High income', 34.106)\n",
      "('ARG', 2010, 'Upper middle income', 17.361)\n",
      "('ARG', 2015, 'Upper middle income', 14.111)\n"
     ]
    }
   ],
   "source": [
    "result_countries = cur_countries.execute(\"\"\"\n",
    "\n",
    "SELECT *\n",
    "FROM   economies2010\n",
    "UNION\n",
    "SELECT *\n",
    "FROM   economies2015\n",
    "ORDER  BY code,\n",
    "          year\n",
    "LIMIT  10\n",
    "\n",
    "\"\"\")\n",
    "\n",
    "for row in result_countries:\n",
    "    print(row)"
   ]
  },
  {
   "cell_type": "markdown",
   "id": "98ab630c",
   "metadata": {},
   "source": [
    "## Union (2)\n",
    "---\n",
    "\n",
    "`UNION` can also be used to determine all occurrences of a field across multiple tables. Try out this exercise with no starter code."
   ]
  },
  {
   "cell_type": "markdown",
   "id": "f1d3c79f",
   "metadata": {},
   "source": [
    "### Instructions \n",
    "\n",
    "Determine all (non-duplicated) country codes in either the `cities` or the `currencies` table. The result should be a table with only one field called `country_code`.\n",
    "\n",
    "Sort by `country_code` in alphabetical order."
   ]
  },
  {
   "cell_type": "code",
   "execution_count": 7,
   "id": "f22424a7",
   "metadata": {},
   "outputs": [
    {
     "name": "stdout",
     "output_type": "stream",
     "text": [
      "('ABW',)\n",
      "('AFG',)\n",
      "('AGO',)\n",
      "('AIA',)\n",
      "('ALB',)\n",
      "('AND',)\n",
      "('ARE',)\n",
      "('ARG',)\n",
      "('ARM',)\n",
      "('ATG',)\n"
     ]
    }
   ],
   "source": [
    "result_countries = cur_countries.execute(\"\"\"\n",
    "\n",
    "SELECT country_code\n",
    "FROM   cities\n",
    "UNION\n",
    "SELECT code\n",
    "FROM   currencies\n",
    "ORDER  BY country_code\n",
    "LIMIT  10\n",
    "\n",
    "\"\"\")\n",
    "\n",
    "for row in result_countries:\n",
    "    print(row)"
   ]
  },
  {
   "cell_type": "markdown",
   "id": "7b1a5d9e",
   "metadata": {},
   "source": [
    "## Union all\n",
    "---\n",
    "As you saw, duplicates were removed from the previous two exercises by using `UNION`.\n",
    "\n",
    "To include duplicates, you can use `UNION ALL`."
   ]
  },
  {
   "cell_type": "markdown",
   "id": "eac7a21f",
   "metadata": {},
   "source": [
    "### Instructions\n",
    "\n",
    "Determine all combinations (include duplicates) of country code and year that exist in either the `economies` or the `populations` tables. Order by `code` then `year`.\n",
    "\n",
    "The result of the query should only have two columns/fields. Think about how many records this query should result in.\n",
    "\n",
    "You'll use code very similar to this in your next exercise after the video. Make note of this code after completing it."
   ]
  },
  {
   "cell_type": "code",
   "execution_count": 8,
   "id": "87c42998",
   "metadata": {},
   "outputs": [
    {
     "name": "stdout",
     "output_type": "stream",
     "text": [
      "('ABW', 2010)\n",
      "('ABW', 2015)\n",
      "('AFG', 2010)\n",
      "('AFG', 2010)\n",
      "('AFG', 2015)\n",
      "('AFG', 2015)\n",
      "('AGO', 2010)\n",
      "('AGO', 2010)\n",
      "('AGO', 2015)\n",
      "('AGO', 2015)\n"
     ]
    }
   ],
   "source": [
    "result_countries = cur_countries.execute(\"\"\"\n",
    "\n",
    "SELECT code,\n",
    "       year\n",
    "FROM   economies\n",
    "UNION  ALL\n",
    "SELECT country_code,\n",
    "       year\n",
    "FROM   populations\n",
    "ORDER  BY code,\n",
    "          year\n",
    "LIMIT  10\n",
    "\n",
    "\n",
    "\"\"\")\n",
    "\n",
    "for row in result_countries:\n",
    "    print(row)"
   ]
  },
  {
   "cell_type": "markdown",
   "id": "a6bc9640",
   "metadata": {},
   "source": [
    "## INTERSECTional Data Science\n",
    "---\n",
    "\n",
    "You saw with UNION and UNION ALL via examples that they do not do quite the same thing as what a join does. They only bind fields on top of one another in the two tables. The set theory clause INTERSECT works in a similar fashion to UNION and UNION ALL, but remember from the Venn diagram that INTERSECT only includes those records in common to both tables and fields selected. Let's investigate the diagram for INTERSECT and the corresponding SQL code to achieve it.\n",
    "\n",
    "### INTERSECT diagram and SQL code\n",
    "\n",
    "The result of the INTERSECT on left_one and right_one is only the records in common to both left_one and right_one: 1 and 4. Let's next see how you could use INTERSECT to determine all countries having both a prime minister and a president.\n",
    "\n",
    "<img src = \"https://images2.imgbox.com/48/56/0SuUgbMU_o.png\" width=\"300\">\n",
    "\n",
    "`SELECT id\n",
    " FROM   left_one\n",
    " INTERSECT\n",
    " SELECT id\n",
    " FROM   right_one `\n",
    "\n",
    "### Prime minister and president countries\n",
    "\n",
    "The code for each of these set operations has a similar layout. You first select which fields you'd like to include in your first table, and then you specify the name of the first table. Next you specify the set operation to perform. Lastly, you denote which fields in the second table you'd like to include and then the name of the second table. The result of the query is the four countries with both a prime minister and a president in the leaders database."
   ]
  },
  {
   "cell_type": "code",
   "execution_count": 9,
   "id": "a1690572",
   "metadata": {},
   "outputs": [
    {
     "name": "stdout",
     "output_type": "stream",
     "text": [
      "('Egypt',)\n",
      "('Haiti',)\n",
      "('Portugal',)\n"
     ]
    }
   ],
   "source": [
    "result_leaders = cur_leaders.execute(\"\"\"\n",
    "\n",
    "SELECT country\n",
    "FROM   prime_ministers\n",
    "INTERSECT\n",
    "SELECT country\n",
    "FROM   presidents \n",
    "\n",
    "\"\"\")\n",
    "\n",
    "for row in result_leaders:\n",
    "    print(row)"
   ]
  },
  {
   "cell_type": "markdown",
   "id": "bf6dcd36",
   "metadata": {},
   "source": [
    "### INTERSECT on two fields\n",
    "\n",
    "Next, let's think about what would happen if we tried to select two columns instead of one from our previous example. The code shown does just that. What will be the result of this query? Will this also give you the names of the countries that have both a prime minister and a president? Hmmm.. The actual result is an empty table. Why is that? When INTERSECT looks at two columns it includes both columns in the search. So it didn't find any countries with prime ministers AND presidents having the same name. INTERSECT looks for RECORDS in common, not individual key fields like what a join does to match. This is an important distinction."
   ]
  },
  {
   "cell_type": "code",
   "execution_count": 10,
   "id": "795d6227",
   "metadata": {},
   "outputs": [],
   "source": [
    "result_leaders = cur_leaders.execute(\"\"\"\n",
    "\n",
    "SELECT country,\n",
    "       prime_minister AS leader\n",
    "FROM   prime_ministers\n",
    "INTERSECT\n",
    "SELECT country,\n",
    "       president\n",
    "FROM   presidents \n",
    "\n",
    "\"\"\")\n",
    "\n",
    "for row in result_leaders:\n",
    "    print(row)    "
   ]
  },
  {
   "cell_type": "markdown",
   "id": "268fbfbd",
   "metadata": {},
   "source": [
    "## Intersect\n",
    "---\n",
    "\n",
    "`UNION ALL` will extract all records from two tables, while `INTERSECT` will only return records that both tables have in common. In this exercise, you will create a similar query as before, however, this time you will look at the records in common for country code and year for the `economies` and `populations` tables.\n",
    "\n",
    "Note the number of records from the result of this query compared to the similar `UNION ALL` query result of 814 records."
   ]
  },
  {
   "cell_type": "markdown",
   "id": "a6479ef7",
   "metadata": {},
   "source": [
    "### Instructions\n",
    "\n",
    "Use `INTERSECT` to determine the records in common for country code and year for the `economies` and `populations` tables.\n",
    "\n",
    "Again, order by `code` and then by `year`, both in ascending order."
   ]
  },
  {
   "cell_type": "code",
   "execution_count": 11,
   "id": "338988d7",
   "metadata": {},
   "outputs": [
    {
     "name": "stdout",
     "output_type": "stream",
     "text": [
      "('AFG', 2010)\n",
      "('AFG', 2015)\n",
      "('AGO', 2010)\n",
      "('AGO', 2015)\n",
      "('ALB', 2010)\n",
      "('ALB', 2015)\n",
      "('ARE', 2010)\n",
      "('ARE', 2015)\n",
      "('ARG', 2010)\n",
      "('ARG', 2015)\n"
     ]
    }
   ],
   "source": [
    "result_countries = cur_countries.execute(\"\"\"\n",
    "\n",
    "SELECT code,\n",
    "       year\n",
    "FROM   economies\n",
    "intersect\n",
    "SELECT country_code,\n",
    "       year\n",
    "FROM   populations\n",
    "ORDER  BY code,\n",
    "          year\n",
    "LIMIT  10\n",
    "\n",
    "\"\"\")\n",
    "\n",
    "for row in result_countries:\n",
    "    print(row)   "
   ]
  },
  {
   "cell_type": "markdown",
   "id": "b6888278",
   "metadata": {},
   "source": [
    "## Intersect (2)\n",
    "--- \n",
    "\n",
    "As you think about major world cities and their corresponding country, you may ask which countries also have a city with the same name as their country name?"
   ]
  },
  {
   "cell_type": "markdown",
   "id": "3db888f0",
   "metadata": {},
   "source": [
    "### Instructions\n",
    "\n",
    "Use `INTERSECT` to answer this question with `countries` and `cities`!"
   ]
  },
  {
   "cell_type": "code",
   "execution_count": 12,
   "id": "f843305e",
   "metadata": {},
   "outputs": [
    {
     "name": "stdout",
     "output_type": "stream",
     "text": [
      "('Hong Kong',)\n",
      "('Singapore',)\n"
     ]
    }
   ],
   "source": [
    "result_countries = cur_countries.execute(\"\"\"\n",
    "\n",
    "SELECT NAME\n",
    "FROM   countries\n",
    "INTERSECT\n",
    "SELECT NAME\n",
    "FROM   cities\n",
    "\n",
    "\"\"\")\n",
    "\n",
    "for row in result_countries:\n",
    "    print(row)  "
   ]
  },
  {
   "cell_type": "markdown",
   "id": "56eff7f1",
   "metadata": {},
   "source": [
    "## EXCEPTional\n",
    "---\n",
    "\n",
    "Way to go! You've made it to the last of the four set theory clauses in this course. EXCEPT allows you to include only the records that are in one table, but not the other. Let's mix things up and look into the SQL code and result first and then dive into the diagram.\n",
    "\n",
    "### Monarchs that aren't prime ministers\n",
    "\n",
    "You saw earlier that there are some monarchs that also act as the prime minister for their country. One way to determine those monarchs in the monarchs table that do not also hold the title of prime minister is to use the EXCEPT clause. This SQL query selects the monarch field from monarchs and then looks for common entries with the prime_ministers field, while also keeping track of the country for each leader. You can see in the resulting query that only the two European monarchs are not also prime ministers in the leaders database."
   ]
  },
  {
   "cell_type": "code",
   "execution_count": 13,
   "id": "0e10608d",
   "metadata": {},
   "outputs": [
    {
     "name": "stdout",
     "output_type": "stream",
     "text": [
      "('Harald V', 'Norway')\n"
     ]
    }
   ],
   "source": [
    " result_leaders = cur_leaders.execute(\"\"\"\n",
    "\n",
    "SELECT monarch,\n",
    "       country\n",
    "FROM   monarchs\n",
    "EXCEPT\n",
    "SELECT prime_minister,\n",
    "       country\n",
    "FROM   prime_ministers \n",
    "\n",
    "\"\"\")\n",
    "\n",
    "for row in result_leaders:\n",
    "    print(row)"
   ]
  },
  {
   "cell_type": "markdown",
   "id": "ed63f48b",
   "metadata": {},
   "source": [
    "### EXCEPT diagram\n",
    "\n",
    "This diagram gives the structure of EXCEPT clauses. Only the records that appear in the left table BUT DO NOT appear in the right table are included.\n",
    "\n",
    "<img src = \"https://images2.imgbox.com/34/c9/cdvREAeH_o.png\" width=\"400\">"
   ]
  },
  {
   "cell_type": "markdown",
   "id": "92666e1b",
   "metadata": {},
   "source": [
    "## Except\n",
    "---\n",
    "\n",
    "Get the names of cities in `cities` which are not noted as capital cities in `countries` as a single field result.\n",
    "\n",
    "Note that there are some countries in the world that are not included in the `countries` table, which will result in some cities not being labeled as capital cities when in fact they are."
   ]
  },
  {
   "cell_type": "markdown",
   "id": "884088a4",
   "metadata": {},
   "source": [
    "### Instructions\n",
    "\n",
    "Order the resulting field in ascending order.\n",
    "\n",
    "Can you spot the city/cities that are actually capital cities which this query misses?"
   ]
  },
  {
   "cell_type": "code",
   "execution_count": 14,
   "id": "f9761ab4",
   "metadata": {},
   "outputs": [
    {
     "name": "stdout",
     "output_type": "stream",
     "text": [
      "('Abidjan',)\n",
      "('Ahmedabad',)\n",
      "('Alexandria',)\n",
      "('Almaty',)\n",
      "('Auckland',)\n",
      "('Bandung',)\n",
      "('Barcelona',)\n",
      "('Barranquilla',)\n",
      "('Basra',)\n",
      "('Belo Horizonte',)\n"
     ]
    }
   ],
   "source": [
    "result_countries = cur_countries.execute(\"\"\"\n",
    "\n",
    "SELECT name\n",
    "FROM   cities\n",
    "EXCEPT\n",
    "SELECT capital\n",
    "FROM   countries\n",
    "ORDER  BY name \n",
    "LIMIT  10\n",
    "\n",
    "\"\"\")\n",
    "\n",
    "for row in result_countries:\n",
    "    print(row)  "
   ]
  },
  {
   "cell_type": "markdown",
   "id": "9fbeb823",
   "metadata": {},
   "source": [
    "## Except (2)\n",
    "---\n",
    "Now you will complete the previous query in reverse!\n",
    "\n",
    "Determine the names of capital cities that are **not** listed in the `cities` table."
   ]
  },
  {
   "cell_type": "markdown",
   "id": "dc8bf109",
   "metadata": {},
   "source": [
    "### Instructions\n",
    "\n",
    "Order by `capital` in ascending order.\n",
    "\n",
    "The `cities` table contains information about 236 of the world's most populous cities. The result of your query may surprise you in terms of the number of capital cities that **do not** appear in this list!"
   ]
  },
  {
   "cell_type": "code",
   "execution_count": 15,
   "id": "7d03f97b",
   "metadata": {},
   "outputs": [
    {
     "name": "stdout",
     "output_type": "stream",
     "text": [
      "(None,)\n",
      "('Agana',)\n",
      "('Amman',)\n",
      "('Amsterdam',)\n",
      "('Andorra la Vella',)\n",
      "('Antananarivo',)\n",
      "('Apia',)\n",
      "('Ashgabat',)\n",
      "('Asmara',)\n",
      "('Astana',)\n"
     ]
    }
   ],
   "source": [
    "result_countries = cur_countries.execute(\"\"\"\n",
    "\n",
    "SELECT capital\n",
    "FROM   countries\n",
    "EXCEPT\n",
    "SELECT name\n",
    "FROM   cities\n",
    "ORDER  BY capital \n",
    "LIMIT  10\n",
    "\n",
    "\"\"\")\n",
    "\n",
    "for row in result_countries:\n",
    "    print(row) "
   ]
  },
  {
   "cell_type": "markdown",
   "id": "f25b6ac1",
   "metadata": {},
   "source": [
    "## Semi-joins and Anti-joins\n",
    "---\n",
    "\n",
    "You'll now close this chapter by returning to joins. The six joins you've worked with so far are all additive joins in that they add columns to the original \"left\" table. Can you name all six? (INNER JOIN, self-join, LEFT JOIN, RIGHT JOIN, FULL JOIN, and CROSS JOIN).\n",
    "\n",
    "### Building up to a semi-join\n",
    "\n",
    "The last two joins we will cover use a right table to determine which records to keep in the left table. In other words, you use these last two joins (semi-join and anti-join) in a way similar to a WHERE clause dependent on the values of a second table. Let's try out some examples of semi-joins and anti-joins and then return to the diagrams for each. Suppose that you are interested in determining the presidents of countries that gained independence before 1800. Let's first determine which countries this corresponds to in the states table. Recall from your knowledge of SQL before you knew anything about JOINs how this could be done. To get only the countries meeting this condition you can use the WHERE clause. We'll next set up the other part of the query to get the presidents we want."
   ]
  },
  {
   "cell_type": "code",
   "execution_count": 16,
   "id": "2dbd6fc4",
   "metadata": {},
   "outputs": [
    {
     "name": "stdout",
     "output_type": "stream",
     "text": [
      "('Portugal',)\n",
      "('Spain',)\n"
     ]
    }
   ],
   "source": [
    "result_leaders = cur_leaders.execute(\"\"\"\n",
    "\n",
    "SELECT name\n",
    "FROM   states\n",
    "WHERE  indep_year < 1800 \n",
    "\n",
    "\"\"\")\n",
    "\n",
    "for row in result_leaders:\n",
    "    print(row) "
   ]
  },
  {
   "cell_type": "markdown",
   "id": "207b3901",
   "metadata": {},
   "source": [
    "### Another step towards the semi-join\n",
    "\n",
    "What code is needed to retrieve the president, country, and continent columns from the presidents table in that order? Now we need to use this result with the one in the previous slide to further filter the country field in the presidents table to give us the correct result. Let's see how this might be done next."
   ]
  },
  {
   "cell_type": "code",
   "execution_count": 17,
   "id": "9aa96c2c",
   "metadata": {},
   "outputs": [
    {
     "name": "stdout",
     "output_type": "stream",
     "text": [
      "('Abdel Fattah el-Sisi', 'Egypt', 'Africa')\n",
      "('Marcelo Rebelo de Sousa', 'Portugal', 'Europe')\n",
      "('Jovenel Moise', 'Haiti', 'North America')\n",
      "('Jose Mujica', 'Uruguay', 'South America')\n",
      "('Ellen Johnson Sirleaf', 'Liberia', 'Africa')\n",
      "('Michelle Bachelet', 'Chile', 'South America')\n"
     ]
    }
   ],
   "source": [
    "result_leaders = cur_leaders.execute(\"\"\"\n",
    "\n",
    "SELECT president,\n",
    "       country,\n",
    "       continent\n",
    "FROM   presidents\n",
    "\n",
    "\"\"\")\n",
    "\n",
    "for row in result_leaders:\n",
    "    print(row) "
   ]
  },
  {
   "cell_type": "markdown",
   "id": "7045d34e",
   "metadata": {},
   "source": [
    "### Finish the semi-join (an intro to subqueries)\n",
    "\n",
    "In the first query of this example, we determined that Portugal and Spain were both independent before 1800. In the second query, we determined how to display the table in a nice form to answer our question. In order to combine the two tables together we will again use a WHERE clause and then use the first query as the condition to check in the WHERE clause. Check it out! This is your first example of a subquery: a query that sits inside of another query. You'll explore these more in Chapter 4. What does this give as a result? Is it the presidents of Spain and of Portugal? Since Spain does not have a president, it is not included here and only the Portuguese president is listed. The semi-join chooses records in the first table where a condition IS met in a second table. An anti-join chooses records in the first table where a condition IS NOT met in the second table. How might you determine countries in the Americas founded after 1800?"
   ]
  },
  {
   "cell_type": "code",
   "execution_count": 18,
   "id": "fe40cae0",
   "metadata": {},
   "outputs": [
    {
     "name": "stdout",
     "output_type": "stream",
     "text": [
      "('Marcelo Rebelo de Sousa', 'Portugal', 'Europe')\n"
     ]
    }
   ],
   "source": [
    "result_leaders = cur_leaders.execute(\"\"\"\n",
    "\n",
    "SELECT president,\n",
    "       country,\n",
    "       continent\n",
    "FROM   presidents\n",
    "WHERE  country IN (SELECT name\n",
    "                   FROM   states\n",
    "                   WHERE  indep_year < 1800) \n",
    "                   \n",
    "\"\"\")\n",
    "\n",
    "for row in result_leaders:\n",
    "    print(row)     "
   ]
  },
  {
   "cell_type": "markdown",
   "id": "783e8496",
   "metadata": {},
   "source": [
    "### An anti-join\n",
    "\n",
    "Using the code from the previous example, you only need to add a few pieces of code. So what goes in the blanks? Fill in the WHERE clause by choosing only those continents ending in America and then fill in the other space with a NOT to exclude those countries in the subquery. \n",
    "\n",
    "### The result of the anti-join\n",
    "\n",
    "The presidents of countries in the Americas founded after 1800 are given in the table."
   ]
  },
  {
   "cell_type": "code",
   "execution_count": 19,
   "id": "82162237",
   "metadata": {},
   "outputs": [
    {
     "name": "stdout",
     "output_type": "stream",
     "text": [
      "('Jovenel Moise', 'Haiti', 'North America')\n",
      "('Jose Mujica', 'Uruguay', 'South America')\n",
      "('Michelle Bachelet', 'Chile', 'South America')\n"
     ]
    }
   ],
   "source": [
    "result_leaders = cur_leaders.execute(\"\"\"\n",
    "\n",
    "SELECT president,\n",
    "       country,\n",
    "       continent\n",
    "FROM   presidents\n",
    "WHERE  continent LIKE '%America'\n",
    "       AND country NOT IN (SELECT name\n",
    "                           FROM   states\n",
    "                           WHERE  indep_year < 1800) \n",
    "\n",
    "\"\"\")\n",
    "\n",
    "for row in result_leaders:\n",
    "    print(row)     "
   ]
  },
  {
   "cell_type": "markdown",
   "id": "3cd50cd5",
   "metadata": {},
   "source": [
    "## Semi-join and anti-join diagrams\n",
    "\n",
    "The semi-join matches records by key field in the right table with those in the left. It then picks out only the rows in the left table that match that condition. The anti-join picks out those columns in the left table that do not match the condition on the right table. Semi-joins and anti-joins don't have the same built-in SQL syntax that INNER JOIN and LEFT JOIN have. They are useful tools in filtering one table's records on the records of another table.\n",
    "\n",
    "<img src = \"https://images2.imgbox.com/ab/93/DnI3dKnH_o.png\" width=\"600\">"
   ]
  },
  {
   "cell_type": "markdown",
   "id": "b676ff2d",
   "metadata": {},
   "source": [
    "## Semi-join\n",
    "---\n",
    "You are now going to use the concept of a semi-join to identify languages spoken in the Middle East."
   ]
  },
  {
   "cell_type": "markdown",
   "id": "bb9b3873",
   "metadata": {},
   "source": [
    "### Instructions\n",
    "\n",
    "Begin by selecting all country codes in the Middle East as a single field result using `SELECT`, `FROM`, and `WHERE`."
   ]
  },
  {
   "cell_type": "code",
   "execution_count": 20,
   "id": "20607d6e",
   "metadata": {},
   "outputs": [
    {
     "name": "stdout",
     "output_type": "stream",
     "text": [
      "('ARE',)\n",
      "('ARM',)\n",
      "('AZE',)\n",
      "('BHR',)\n",
      "('GEO',)\n",
      "('IRQ',)\n",
      "('ISR',)\n",
      "('YEM',)\n",
      "('JOR',)\n",
      "('KWT',)\n",
      "('CYP',)\n",
      "('LBN',)\n",
      "('OMN',)\n",
      "('QAT',)\n",
      "('SAU',)\n",
      "('SYR',)\n",
      "('TUR',)\n",
      "('PSE',)\n"
     ]
    }
   ],
   "source": [
    "result_countries = cur_countries.execute(\"\"\"\n",
    "\n",
    "SELECT code\n",
    "FROM   countries\n",
    "WHERE  region = 'Middle East'\n",
    "\n",
    "\"\"\")\n",
    "\n",
    "for row in result_countries:\n",
    "    print(row) "
   ]
  },
  {
   "cell_type": "markdown",
   "id": "4aa191ff",
   "metadata": {},
   "source": [
    "Below the commented code, select only unique `languages` by name appearing in the languages table.\n",
    "\n",
    "Order the resulting single field table by `name` in ascending order."
   ]
  },
  {
   "cell_type": "code",
   "execution_count": 21,
   "id": "b9cb5ea2",
   "metadata": {},
   "outputs": [
    {
     "name": "stdout",
     "output_type": "stream",
     "text": [
      "('Afar',)\n",
      "('Afrikaans',)\n",
      "('Akyem',)\n",
      "('Albanian',)\n",
      "('Alsatian',)\n",
      "('Amerindian',)\n",
      "('Amharic',)\n",
      "('Angolar',)\n",
      "('Antiguan creole',)\n",
      "('Arabic',)\n"
     ]
    }
   ],
   "source": [
    "result_countries = cur_countries.execute(\"\"\"\n",
    "\n",
    "SELECT DISTINCT ( name )\n",
    "FROM   languages\n",
    "ORDER  BY name\n",
    "LIMIT  10\n",
    "\n",
    "\"\"\")\n",
    "\n",
    "for row in result_countries:\n",
    "    print(row) "
   ]
  },
  {
   "cell_type": "markdown",
   "id": "1f67c3e6",
   "metadata": {},
   "source": [
    "Combine the previous two queries into one query by adding a `WHERE IN` statement to the `SELECT DISTINCT` query to determine the unique languages spoken in the Middle East.\n",
    "\n",
    "Order the result by `name` in ascending order."
   ]
  },
  {
   "cell_type": "code",
   "execution_count": 22,
   "id": "019a382e",
   "metadata": {},
   "outputs": [
    {
     "name": "stdout",
     "output_type": "stream",
     "text": [
      "('Arabic',)\n",
      "('Aramaic',)\n",
      "('Armenian',)\n",
      "('Azerbaijani',)\n",
      "('Azeri',)\n",
      "('Baluchi',)\n",
      "('Bulgarian',)\n",
      "('Circassian',)\n",
      "('English',)\n",
      "('Farsi',)\n",
      "('Filipino',)\n",
      "('French',)\n",
      "('Georgian',)\n",
      "('Greek',)\n",
      "('Hebrew',)\n",
      "('Hindi',)\n",
      "('Indian',)\n",
      "('Kurdish',)\n",
      "('Other',)\n",
      "('Persian',)\n",
      "('Romanian',)\n",
      "('Russian',)\n",
      "('Syriac',)\n",
      "('Turkish',)\n",
      "('Turkmen',)\n",
      "('Urdu',)\n",
      "('unspecified',)\n"
     ]
    }
   ],
   "source": [
    "result_countries = cur_countries.execute(\"\"\"\n",
    "\n",
    "SELECT DISTINCT( name )\n",
    "FROM   languages\n",
    "WHERE  code IN (SELECT code\n",
    "                FROM   countries\n",
    "                WHERE  region = 'Middle East')\n",
    "ORDER  BY name \n",
    "\n",
    "\"\"\")\n",
    "\n",
    "for row in result_countries:\n",
    "    print(row) "
   ]
  },
  {
   "cell_type": "markdown",
   "id": "4713739d",
   "metadata": {},
   "source": [
    "# Relating semi-join to a tweaked inner join\n",
    "---\n",
    "\n",
    "Let's revisit the code from the previous exercise, which retrieves languages spoken in the Middle East.\n",
    "\n",
    "`SELECT DISTINCT name\n",
    " FROM   languages\n",
    " WHERE  code IN (SELECT code\n",
    "                 FROM   countries\n",
    "                 WHERE  region = 'Middle East')\n",
    " ORDER  BY name `\n",
    "\n",
    "Sometimes problems solved with semi-joins can also be solved using an inner join.\n",
    "\n",
    "`SELECT languages.name AS language\n",
    " FROM   languages\n",
    "        INNER JOIN countries\n",
    "                ON languages.code = countries.code\n",
    " WHERE  region = 'Middle East'\n",
    " ORDER  BY language `\n",
    "\n",
    "This inner join isn't quite right. What is missing from this second code block to get it to match with the correct answer produced by the first block?"
   ]
  },
  {
   "cell_type": "code",
   "execution_count": 23,
   "id": "516652ec",
   "metadata": {},
   "outputs": [
    {
     "name": "stdout",
     "output_type": "stream",
     "text": [
      "('Arabic',)\n",
      "('Aramaic',)\n",
      "('Armenian',)\n",
      "('Azerbaijani',)\n",
      "('Azeri',)\n",
      "('Baluchi',)\n",
      "('Bulgarian',)\n",
      "('Circassian',)\n",
      "('English',)\n",
      "('Farsi',)\n",
      "('Filipino',)\n",
      "('French',)\n",
      "('Georgian',)\n",
      "('Greek',)\n",
      "('Hebrew',)\n",
      "('Hindi',)\n",
      "('Indian',)\n",
      "('Kurdish',)\n",
      "('Other',)\n",
      "('Persian',)\n",
      "('Romanian',)\n",
      "('Russian',)\n",
      "('Syriac',)\n",
      "('Turkish',)\n",
      "('Turkmen',)\n",
      "('Urdu',)\n",
      "('unspecified',)\n"
     ]
    }
   ],
   "source": [
    "result_countries = cur_countries.execute(\"\"\"\n",
    "\n",
    "SELECT DISTINCT( name )\n",
    "FROM   languages\n",
    "WHERE  code IN (SELECT code\n",
    "                FROM   countries\n",
    "                WHERE  region = 'Middle East')\n",
    "ORDER  BY name \n",
    "\n",
    "\"\"\")\n",
    "\n",
    "for row in result_countries:\n",
    "    print(row) "
   ]
  },
  {
   "cell_type": "code",
   "execution_count": 29,
   "id": "16f8de1e",
   "metadata": {},
   "outputs": [
    {
     "name": "stdout",
     "output_type": "stream",
     "text": [
      "('Arabic',)\n",
      "('Aramaic',)\n",
      "('Armenian',)\n",
      "('Azerbaijani',)\n",
      "('Azeri',)\n",
      "('Baluchi',)\n",
      "('Bulgarian',)\n",
      "('Circassian',)\n",
      "('English',)\n",
      "('Farsi',)\n",
      "('Filipino',)\n",
      "('French',)\n",
      "('Georgian',)\n",
      "('Greek',)\n",
      "('Hebrew',)\n",
      "('Hindi',)\n",
      "('Indian',)\n",
      "('Kurdish',)\n",
      "('Other',)\n",
      "('Persian',)\n",
      "('Romanian',)\n",
      "('Russian',)\n",
      "('Syriac',)\n",
      "('Turkish',)\n",
      "('Turkmen',)\n",
      "('Urdu',)\n",
      "('unspecified',)\n"
     ]
    }
   ],
   "source": [
    "result_countries = cur_countries.execute(\"\"\"\n",
    "\n",
    "SELECT DISTINCT ( languages.name ) AS language\n",
    "FROM   languages\n",
    "       INNER JOIN countries\n",
    "               ON languages.code = countries.code\n",
    "WHERE  region = 'Middle East'\n",
    "ORDER  BY language \n",
    "\n",
    "\"\"\")\n",
    "\n",
    "for row in result_countries:\n",
    "    print(row) "
   ]
  },
  {
   "cell_type": "markdown",
   "id": "ff814d3c",
   "metadata": {},
   "source": [
    "## Diagnosing problems using anti-join\n",
    "---\n",
    "\n",
    "Another powerful join in SQL is the anti-join. It is particularly useful in identifying which records are causing an incorrect number of records to appear in join queries.\n",
    "\n",
    "You will also see another example of a subquery here, as you saw in the first exercise on semi-joins. Your goal is to identify the currencies used in Oceanian countries!"
   ]
  },
  {
   "cell_type": "markdown",
   "id": "d00f7d2e",
   "metadata": {},
   "source": [
    "### Instructions\n",
    "\n",
    "Begin by determining the number of countries in `countries` that are listed in Oceania using `SELECT`, `FROM`, and `WHERE`."
   ]
  },
  {
   "cell_type": "code",
   "execution_count": 25,
   "id": "a86086e3",
   "metadata": {},
   "outputs": [
    {
     "name": "stdout",
     "output_type": "stream",
     "text": [
      "(19,)\n"
     ]
    }
   ],
   "source": [
    "result_countries = cur_countries.execute(\"\"\"\n",
    "\n",
    "SELECT COUNT( name )\n",
    "FROM   countries\n",
    "WHERE  continent = 'Oceania' \n",
    "\n",
    "\"\"\")\n",
    "\n",
    "for row in result_countries:\n",
    "    print(row) "
   ]
  },
  {
   "cell_type": "markdown",
   "id": "e57754ad",
   "metadata": {},
   "source": [
    "Complete an inner join with `countries AS c1` on the left and `currencies AS c2` on the right to get the different currencies used in the countries of Oceania.\n",
    "\n",
    "Match `ON` the `code` field in the two tables.\n",
    "\n",
    "Include the country `code`, country `name`, and `basic_unit AS currency`.\n",
    "\n",
    "Observe the query result and make note of how many different countries are listed here."
   ]
  },
  {
   "cell_type": "code",
   "execution_count": 26,
   "id": "979ba874",
   "metadata": {},
   "outputs": [
    {
     "name": "stdout",
     "output_type": "stream",
     "text": [
      "('AUS', 'Australia', 'Australian dollar')\n",
      "('PYF', 'French Polynesia', 'CFP franc')\n",
      "('KIR', 'Kiribati', 'Australian dollar')\n",
      "('MHL', 'Marshall Islands', 'United States dollar')\n",
      "('NRU', 'Nauru', 'Australian dollar')\n",
      "('NCL', 'New Caledonia', 'CFP franc')\n",
      "('NZL', 'New Zealand', 'New Zealand dollar')\n",
      "('PLW', 'Palau', 'United States dollar')\n",
      "('PNG', 'Papua New Guinea', 'Papua New Guinean kina')\n",
      "('WSM', 'Samoa', 'Samoan tala')\n",
      "('SLB', 'Solomon Islands', 'Solomon Islands dollar')\n",
      "('TON', 'Tonga', 'Tongan paʻanga')\n",
      "('TUV', 'Tuvalu', 'Australian dollar')\n",
      "('TUV', 'Tuvalu', 'Tuvaluan dollar')\n",
      "('VUT', 'Vanuatu', 'Vanuatu vatu')\n"
     ]
    }
   ],
   "source": [
    "result_countries = cur_countries.execute(\"\"\"\n",
    "\n",
    "SELECT c1.code,\n",
    "       c1.name,\n",
    "       c2.basic_unit AS currency\n",
    "FROM   countries AS c1\n",
    "       INNER JOIN currencies AS c2\n",
    "               ON c1.code = c2.code\n",
    "WHERE  continent = 'Oceania' \n",
    "\n",
    "\"\"\")\n",
    "\n",
    "for row in result_countries:\n",
    "    print(row) "
   ]
  },
  {
   "cell_type": "markdown",
   "id": "4cc4ad05",
   "metadata": {},
   "source": [
    "Note that not all countries in Oceania were listed in the resulting inner join with `currencies`. Use an anti-join to determine which countries were not included!\n",
    "\n",
    "Use `NOT IN` and `(SELECT code FROM currencies)` as a subquery to get the country code and country name for the Oceanian countries that are not included in the currencies table."
   ]
  },
  {
   "cell_type": "code",
   "execution_count": 27,
   "id": "1659dde2",
   "metadata": {},
   "outputs": [
    {
     "name": "stdout",
     "output_type": "stream",
     "text": [
      "('ASM', 'American Samoa')\n",
      "('FJI', 'Fiji Islands')\n",
      "('GUM', 'Guam')\n",
      "('FSM', 'Micronesia, Federated States of')\n",
      "('MNP', 'Northern Mariana Islands')\n"
     ]
    }
   ],
   "source": [
    "result_countries = cur_countries.execute(\"\"\"\n",
    "\n",
    "SELECT code,\n",
    "       name\n",
    "FROM   countries\n",
    "WHERE  continent = 'Oceania'\n",
    "       AND code NOT IN (SELECT code\n",
    "                        FROM   currencies)\n",
    "\n",
    "\"\"\")\n",
    "\n",
    "for row in result_countries:\n",
    "    print(row)     "
   ]
  },
  {
   "cell_type": "markdown",
   "id": "ecf0f396",
   "metadata": {},
   "source": [
    "## Set theory challenge\n",
    "---\n",
    "\n",
    "Congratulations! You've now made your way to the challenge problem for this third chapter. Your task here will be to incorporate two of `UNION`/`UNION ALL`/`INTERSECT`/`EXCEPT` to solve a challenge involving three tables.\n",
    "\n",
    "In addition, you will use a subquery as you have in the last two exercises! This will be great practice as you hop into subqueries more in Chapter 4!"
   ]
  },
  {
   "cell_type": "markdown",
   "id": "75fcaefe",
   "metadata": {},
   "source": [
    "### Instructions\n",
    "\n",
    "Identify the country codes that are included in either `economies` or `currencies` but not in `populations`.\n",
    "\n",
    "Use that result to determine the names of cities in the countries that match the specification in the previous instruction."
   ]
  },
  {
   "cell_type": "code",
   "execution_count": 28,
   "id": "e944724d",
   "metadata": {},
   "outputs": [
    {
     "name": "stdout",
     "output_type": "stream",
     "text": [
      "('Bucharest',)\n",
      "('Kaohsiung',)\n",
      "('New Taipei City',)\n",
      "('Taichung',)\n",
      "('Tainan',)\n",
      "('Taipei',)\n"
     ]
    }
   ],
   "source": [
    "result_countries = cur_countries.execute(\"\"\"\n",
    "\n",
    "SELECT name\n",
    "FROM   cities AS c1\n",
    "WHERE  country_code IN (SELECT e.code\n",
    "                        FROM   economies AS e\n",
    "                        UNION ALL\n",
    "                        SELECT c2.code\n",
    "                        FROM   currencies AS c2\n",
    "                        EXCEPT\n",
    "                        SELECT p.country_code\n",
    "                        FROM   populations AS p) \n",
    "\n",
    "\"\"\")\n",
    "\n",
    "for row in result_countries:\n",
    "    print(row)     "
   ]
  }
 ],
 "metadata": {
  "kernelspec": {
   "display_name": "Python 3",
   "language": "python",
   "name": "python3"
  },
  "language_info": {
   "codemirror_mode": {
    "name": "ipython",
    "version": 3
   },
   "file_extension": ".py",
   "mimetype": "text/x-python",
   "name": "python",
   "nbconvert_exporter": "python",
   "pygments_lexer": "ipython3",
   "version": "3.8.8"
  }
 },
 "nbformat": 4,
 "nbformat_minor": 5
}
