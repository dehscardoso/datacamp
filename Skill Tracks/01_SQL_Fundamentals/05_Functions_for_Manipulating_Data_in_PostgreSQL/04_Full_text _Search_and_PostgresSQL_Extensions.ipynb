{
 "cells": [
  {
   "cell_type": "markdown",
   "id": "987af6b0",
   "metadata": {},
   "source": [
    "<img src = \"https://images2.imgbox.com/60/09/VFwl5LOq_o.jpg\" width=\"400\">"
   ]
  },
  {
   "cell_type": "markdown",
   "id": "b11492b3",
   "metadata": {},
   "source": [
    "# 4. Full-text Search and PostgresSQL Extensions\n",
    "---\n",
    "\n",
    "An introduction into some more advanced capabilities of PostgreSQL like full-text search and extensions."
   ]
  },
  {
   "cell_type": "code",
   "execution_count": null,
   "id": "295ef42a",
   "metadata": {},
   "outputs": [],
   "source": [
    "## A review of the LIKE operator\n",
    "---"
   ]
  },
  {
   "cell_type": "code",
   "execution_count": null,
   "id": "d5fe5d43",
   "metadata": {},
   "outputs": [],
   "source": [
    "## What is a tsvector?\n",
    "---"
   ]
  },
  {
   "cell_type": "code",
   "execution_count": null,
   "id": "5425eb94",
   "metadata": {},
   "outputs": [],
   "source": [
    "## Basic full-text search\n",
    "---"
   ]
  },
  {
   "cell_type": "code",
   "execution_count": null,
   "id": "567d6dba",
   "metadata": {},
   "outputs": [],
   "source": [
    "## User-defined data types\n",
    "---"
   ]
  },
  {
   "cell_type": "code",
   "execution_count": null,
   "id": "0ebd5c7f",
   "metadata": {},
   "outputs": [],
   "source": [
    "## Getting info about user-defined data types\n",
    "---"
   ]
  },
  {
   "cell_type": "code",
   "execution_count": null,
   "id": "fc922ae8",
   "metadata": {},
   "outputs": [],
   "source": [
    "## User-defined functions in Sakila\n",
    "---"
   ]
  },
  {
   "cell_type": "code",
   "execution_count": null,
   "id": "a7903032",
   "metadata": {},
   "outputs": [],
   "source": [
    "## Enabling extensions\n",
    "---"
   ]
  },
  {
   "cell_type": "code",
   "execution_count": null,
   "id": "6daf99e1",
   "metadata": {},
   "outputs": [],
   "source": [
    "## Measuring similarity between two strings\n",
    "---"
   ]
  },
  {
   "cell_type": "code",
   "execution_count": null,
   "id": "58267298",
   "metadata": {},
   "outputs": [],
   "source": [
    "## Levenshtein distance examples\n",
    "---"
   ]
  },
  {
   "cell_type": "code",
   "execution_count": null,
   "id": "22495273",
   "metadata": {},
   "outputs": [],
   "source": [
    "## Putting it all together\n",
    "---"
   ]
  }
 ],
 "metadata": {
  "kernelspec": {
   "display_name": "Python 3",
   "language": "python",
   "name": "python3"
  },
  "language_info": {
   "codemirror_mode": {
    "name": "ipython",
    "version": 3
   },
   "file_extension": ".py",
   "mimetype": "text/x-python",
   "name": "python",
   "nbconvert_exporter": "python",
   "pygments_lexer": "ipython3",
   "version": "3.8.8"
  }
 },
 "nbformat": 4,
 "nbformat_minor": 5
}
