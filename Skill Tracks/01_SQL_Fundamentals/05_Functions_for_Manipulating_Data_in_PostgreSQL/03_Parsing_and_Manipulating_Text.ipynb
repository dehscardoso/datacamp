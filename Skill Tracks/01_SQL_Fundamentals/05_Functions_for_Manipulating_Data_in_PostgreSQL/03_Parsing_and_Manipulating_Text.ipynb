{
 "cells": [
  {
   "cell_type": "markdown",
   "id": "7e22df93",
   "metadata": {},
   "source": [
    "<img src = \"https://images2.imgbox.com/60/09/VFwl5LOq_o.jpg\" width=\"400\">"
   ]
  },
  {
   "cell_type": "markdown",
   "id": "0dda6ae9",
   "metadata": {},
   "source": [
    "# 3. Parsing and Manipulating Text\n",
    "---\n",
    "\n",
    "Learn how to manipulate string and text data by transforming case, parsing and truncating text and extracting substrings from larger strings."
   ]
  },
  {
   "cell_type": "code",
   "execution_count": null,
   "id": "1fff047c",
   "metadata": {},
   "outputs": [],
   "source": [
    "## Concatenating strings\n",
    "---"
   ]
  },
  {
   "cell_type": "code",
   "execution_count": null,
   "id": "569a2c2f",
   "metadata": {},
   "outputs": [],
   "source": [
    "## Changing the case of string data\n",
    "---"
   ]
  },
  {
   "cell_type": "code",
   "execution_count": null,
   "id": "c172bf52",
   "metadata": {},
   "outputs": [],
   "source": [
    "## Replacing string data\n",
    "---"
   ]
  },
  {
   "cell_type": "code",
   "execution_count": null,
   "id": "548cfe6c",
   "metadata": {},
   "outputs": [],
   "source": [
    "## Determining the length of strings\n",
    "---"
   ]
  },
  {
   "cell_type": "code",
   "execution_count": null,
   "id": "b3161a58",
   "metadata": {},
   "outputs": [],
   "source": [
    "## Truncating strings\n",
    "---"
   ]
  },
  {
   "cell_type": "code",
   "execution_count": null,
   "id": "98e7c30e",
   "metadata": {},
   "outputs": [],
   "source": [
    "## Extracting substrings from text data\n",
    "---"
   ]
  },
  {
   "cell_type": "code",
   "execution_count": null,
   "id": "aba11617",
   "metadata": {},
   "outputs": [],
   "source": [
    "## Combining functions for string manipulation\n",
    "---"
   ]
  },
  {
   "cell_type": "code",
   "execution_count": null,
   "id": "149fdfd4",
   "metadata": {},
   "outputs": [],
   "source": [
    "## Padding\n",
    "---"
   ]
  },
  {
   "cell_type": "code",
   "execution_count": null,
   "id": "59baf787",
   "metadata": {},
   "outputs": [],
   "source": [
    "## The TRIM function\n",
    "---"
   ]
  },
  {
   "cell_type": "code",
   "execution_count": null,
   "id": "12d4a87f",
   "metadata": {},
   "outputs": [],
   "source": [
    "## Putting it all together\n",
    "---"
   ]
  }
 ],
 "metadata": {
  "kernelspec": {
   "display_name": "Python 3",
   "language": "python",
   "name": "python3"
  },
  "language_info": {
   "codemirror_mode": {
    "name": "ipython",
    "version": 3
   },
   "file_extension": ".py",
   "mimetype": "text/x-python",
   "name": "python",
   "nbconvert_exporter": "python",
   "pygments_lexer": "ipython3",
   "version": "3.8.8"
  }
 },
 "nbformat": 4,
 "nbformat_minor": 5
}
