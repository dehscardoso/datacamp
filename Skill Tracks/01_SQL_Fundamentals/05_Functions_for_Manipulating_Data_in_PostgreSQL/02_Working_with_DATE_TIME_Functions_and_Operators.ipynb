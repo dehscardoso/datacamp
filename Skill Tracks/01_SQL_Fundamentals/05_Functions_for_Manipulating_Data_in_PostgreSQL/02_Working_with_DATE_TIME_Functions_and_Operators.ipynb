{
 "cells": [
  {
   "cell_type": "markdown",
   "id": "b6d34eb9",
   "metadata": {},
   "source": [
    "<img src = \"https://images2.imgbox.com/60/09/VFwl5LOq_o.jpg\" width=\"400\">"
   ]
  },
  {
   "cell_type": "markdown",
   "id": "a01b9c32",
   "metadata": {},
   "source": [
    "# 2. Working with DATE/TIME Functions and Operators\n",
    "---\n",
    "\n",
    "Explore how to manipulate and query date and time objects including how to use the current timestamp in your queries, extract subfields from existing date and time fields and what to expect when you perform date and time arithmetic."
   ]
  },
  {
   "cell_type": "code",
   "execution_count": null,
   "id": "1e829294",
   "metadata": {},
   "outputs": [],
   "source": [
    "## Adding and subtracting date and time values\n",
    "---"
   ]
  },
  {
   "cell_type": "code",
   "execution_count": null,
   "id": "abd3eb2a",
   "metadata": {},
   "outputs": [],
   "source": [
    "## INTERVAL arithmetic\n",
    "---"
   ]
  },
  {
   "cell_type": "code",
   "execution_count": null,
   "id": "2837f4f7",
   "metadata": {},
   "outputs": [],
   "source": [
    "## Calculating the expected return date\n",
    "---"
   ]
  },
  {
   "cell_type": "code",
   "execution_count": null,
   "id": "92fc1ef8",
   "metadata": {},
   "outputs": [],
   "source": [
    "## Working with the current date and time\n",
    "---"
   ]
  },
  {
   "cell_type": "code",
   "execution_count": null,
   "id": "c42fd61e",
   "metadata": {},
   "outputs": [],
   "source": [
    "## Manipulating the current date and time\n",
    "---"
   ]
  },
  {
   "cell_type": "code",
   "execution_count": null,
   "id": "98dbfc8f",
   "metadata": {},
   "outputs": [],
   "source": [
    "## Extracting and transforming date/ time data\n",
    "---"
   ]
  },
  {
   "cell_type": "code",
   "execution_count": null,
   "id": "198d51f7",
   "metadata": {},
   "outputs": [],
   "source": [
    "## Using EXTRACT\n",
    "---"
   ]
  },
  {
   "cell_type": "code",
   "execution_count": null,
   "id": "9e9501e8",
   "metadata": {},
   "outputs": [],
   "source": [
    "## Using DATE_TRUNC\n",
    "---"
   ]
  },
  {
   "cell_type": "code",
   "execution_count": 1,
   "id": "aad81eb3",
   "metadata": {},
   "outputs": [],
   "source": [
    "## Putting it all together\n",
    "---"
   ]
  }
 ],
 "metadata": {
  "kernelspec": {
   "display_name": "Python 3",
   "language": "python",
   "name": "python3"
  },
  "language_info": {
   "codemirror_mode": {
    "name": "ipython",
    "version": 3
   },
   "file_extension": ".py",
   "mimetype": "text/x-python",
   "name": "python",
   "nbconvert_exporter": "python",
   "pygments_lexer": "ipython3",
   "version": "3.8.8"
  }
 },
 "nbformat": 4,
 "nbformat_minor": 5
}
