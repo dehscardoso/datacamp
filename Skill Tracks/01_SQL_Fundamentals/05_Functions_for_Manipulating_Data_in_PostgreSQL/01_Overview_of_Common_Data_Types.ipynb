{
 "cells": [
  {
   "cell_type": "markdown",
   "id": "4cedd3c5",
   "metadata": {},
   "source": [
    "<img src = \"https://images2.imgbox.com/60/09/VFwl5LOq_o.jpg\" width=\"400\">"
   ]
  },
  {
   "cell_type": "markdown",
   "id": "40d452db",
   "metadata": {},
   "source": [
    "# 1. Overview of Common Data Types\n",
    "---\n",
    "Learn about the properties and characteristics of common data types including strings, numerics and arrays and how to retrieve information about your database."
   ]
  },
  {
   "cell_type": "code",
   "execution_count": null,
   "id": "69318d24",
   "metadata": {},
   "outputs": [],
   "source": [
    "%load_ext sql"
   ]
  },
  {
   "cell_type": "code",
   "execution_count": null,
   "id": "e6e82b41",
   "metadata": {},
   "outputs": [],
   "source": [
    "%sql sqlite:///data/summer.db"
   ]
  },
  {
   "cell_type": "markdown",
   "id": "25fbc5a0",
   "metadata": {},
   "source": [
    "## Getting information about your database\n",
    "---"
   ]
  },
  {
   "cell_type": "code",
   "execution_count": null,
   "id": "23597a03",
   "metadata": {},
   "outputs": [],
   "source": []
  },
  {
   "cell_type": "markdown",
   "id": "175cbe27",
   "metadata": {},
   "source": [
    "## Determining data types\n",
    "---"
   ]
  },
  {
   "cell_type": "code",
   "execution_count": null,
   "id": "1e495f38",
   "metadata": {},
   "outputs": [],
   "source": []
  },
  {
   "cell_type": "markdown",
   "id": "2218687f",
   "metadata": {},
   "source": [
    "## Interval data types\n",
    "---"
   ]
  },
  {
   "cell_type": "code",
   "execution_count": null,
   "id": "57cb83ab",
   "metadata": {},
   "outputs": [],
   "source": []
  },
  {
   "cell_type": "markdown",
   "id": "4b74e879",
   "metadata": {},
   "source": [
    "## Accessing data in an ARRAY\n",
    "---"
   ]
  },
  {
   "cell_type": "code",
   "execution_count": null,
   "id": "44adebed",
   "metadata": {},
   "outputs": [],
   "source": []
  },
  {
   "cell_type": "markdown",
   "id": "ef8c214c",
   "metadata": {},
   "source": [
    "## Searching an ARRAY with ANY\n",
    "---"
   ]
  },
  {
   "cell_type": "code",
   "execution_count": null,
   "id": "6e7cae11",
   "metadata": {},
   "outputs": [],
   "source": []
  },
  {
   "cell_type": "markdown",
   "id": "c3a8d10b",
   "metadata": {},
   "source": [
    "## Searching an ARRAY with @>\n",
    "---"
   ]
  },
  {
   "cell_type": "code",
   "execution_count": null,
   "id": "a97d4fb1",
   "metadata": {},
   "outputs": [],
   "source": []
  },
  {
   "cell_type": "code",
   "execution_count": null,
   "id": "e8b8e580",
   "metadata": {},
   "outputs": [],
   "source": []
  },
  {
   "cell_type": "code",
   "execution_count": null,
   "id": "f633db97",
   "metadata": {},
   "outputs": [],
   "source": []
  }
 ],
 "metadata": {
  "kernelspec": {
   "display_name": "Python 3",
   "language": "python",
   "name": "python3"
  },
  "language_info": {
   "codemirror_mode": {
    "name": "ipython",
    "version": 3
   },
   "file_extension": ".py",
   "mimetype": "text/x-python",
   "name": "python",
   "nbconvert_exporter": "python",
   "pygments_lexer": "ipython3",
   "version": "3.8.8"
  }
 },
 "nbformat": 4,
 "nbformat_minor": 5
}
