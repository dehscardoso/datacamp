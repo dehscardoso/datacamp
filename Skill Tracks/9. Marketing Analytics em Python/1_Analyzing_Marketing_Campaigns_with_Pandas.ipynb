{
 "cells": [
  {
   "cell_type": "markdown",
   "id": "32313956",
   "metadata": {},
   "source": [
    "# MARKETING ANALYTICS EM PYTHON\n",
    "---\n",
    "\n",
    "Obtenha as habilidades de Python necessárias para tomar melhores decisões de marketing orientadas por dados. Nesta faixa, você aprenderá a analisar o desempenho da campanha, medir o envolvimento do cliente e prever a perda de clientes. Trabalhando com dados do mundo real, incluindo transações de varejo, você descobrirá como analisar dados de mídia social, extrair insights de dados de texto e obter habilidades de análise de cesta de mercado que o ajudarão a entender melhor seus clientes. Você também usará modelos estatísticos e aprendizado de máquina para prever o valor da vida útil do cliente. Por meio de atividades práticas, você usará pacotes populares como pandas, Matplotlib, tweepy, NLTK, seaborn, NumPy, SciPy e scikit-learn para ajudá-lo a melhorar a estratégia de marketing da sua empresa. Ao final da trilha, você estará pronto para navegar no mundo do marketing usando Python."
   ]
  },
  {
   "cell_type": "markdown",
   "id": "3a0e05f3",
   "metadata": {},
   "source": [
    "## 1. Pandas\n",
    "---"
   ]
  },
  {
   "cell_type": "markdown",
   "id": "5f84dd21",
   "metadata": {},
   "source": [
    "### 1.1 Importando o dataset"
   ]
  },
  {
   "cell_type": "code",
   "execution_count": 1,
   "id": "b39c3c07",
   "metadata": {},
   "outputs": [],
   "source": [
    "import pandas as pd \n",
    "import numpy as np\n",
    "import matplotlib.pyplot as plt"
   ]
  },
  {
   "cell_type": "code",
   "execution_count": 2,
   "id": "d5dada88",
   "metadata": {},
   "outputs": [],
   "source": [
    "df = pd.read_csv('datasets/marketing.csv')"
   ]
  },
  {
   "cell_type": "markdown",
   "id": "bcec12ca",
   "metadata": {},
   "source": [
    "### 1.2 Examinando os dados"
   ]
  },
  {
   "cell_type": "code",
   "execution_count": 3,
   "id": "cd26853a",
   "metadata": {},
   "outputs": [
    {
     "data": {
      "text/html": [
       "<div>\n",
       "<style scoped>\n",
       "    .dataframe tbody tr th:only-of-type {\n",
       "        vertical-align: middle;\n",
       "    }\n",
       "\n",
       "    .dataframe tbody tr th {\n",
       "        vertical-align: top;\n",
       "    }\n",
       "\n",
       "    .dataframe thead th {\n",
       "        text-align: right;\n",
       "    }\n",
       "</style>\n",
       "<table border=\"1\" class=\"dataframe\">\n",
       "  <thead>\n",
       "    <tr style=\"text-align: right;\">\n",
       "      <th></th>\n",
       "      <th>Unnamed: 0</th>\n",
       "      <th>user_id</th>\n",
       "      <th>date_served</th>\n",
       "      <th>marketing_channel</th>\n",
       "      <th>variant</th>\n",
       "      <th>converted</th>\n",
       "      <th>language_displayed</th>\n",
       "      <th>language_preferred</th>\n",
       "      <th>age_group</th>\n",
       "      <th>date_subscribed</th>\n",
       "      <th>date_canceled</th>\n",
       "      <th>subscribing_channel</th>\n",
       "      <th>is_retained</th>\n",
       "      <th>DoW</th>\n",
       "      <th>channel_code</th>\n",
       "      <th>is_correct_lang</th>\n",
       "    </tr>\n",
       "  </thead>\n",
       "  <tbody>\n",
       "    <tr>\n",
       "      <th>0</th>\n",
       "      <td>0</td>\n",
       "      <td>a100000029</td>\n",
       "      <td>2018-01-01</td>\n",
       "      <td>House Ads</td>\n",
       "      <td>personalization</td>\n",
       "      <td>True</td>\n",
       "      <td>English</td>\n",
       "      <td>English</td>\n",
       "      <td>0-18 years</td>\n",
       "      <td>2018-01-01</td>\n",
       "      <td>NaN</td>\n",
       "      <td>House Ads</td>\n",
       "      <td>True</td>\n",
       "      <td>0.0</td>\n",
       "      <td>1.0</td>\n",
       "      <td>Yes</td>\n",
       "    </tr>\n",
       "    <tr>\n",
       "      <th>1</th>\n",
       "      <td>1</td>\n",
       "      <td>a100000030</td>\n",
       "      <td>2018-01-01</td>\n",
       "      <td>House Ads</td>\n",
       "      <td>personalization</td>\n",
       "      <td>True</td>\n",
       "      <td>English</td>\n",
       "      <td>English</td>\n",
       "      <td>19-24 years</td>\n",
       "      <td>2018-01-01</td>\n",
       "      <td>NaN</td>\n",
       "      <td>House Ads</td>\n",
       "      <td>True</td>\n",
       "      <td>0.0</td>\n",
       "      <td>1.0</td>\n",
       "      <td>Yes</td>\n",
       "    </tr>\n",
       "    <tr>\n",
       "      <th>2</th>\n",
       "      <td>2</td>\n",
       "      <td>a100000031</td>\n",
       "      <td>2018-01-01</td>\n",
       "      <td>House Ads</td>\n",
       "      <td>personalization</td>\n",
       "      <td>True</td>\n",
       "      <td>English</td>\n",
       "      <td>English</td>\n",
       "      <td>24-30 years</td>\n",
       "      <td>2018-01-01</td>\n",
       "      <td>NaN</td>\n",
       "      <td>House Ads</td>\n",
       "      <td>True</td>\n",
       "      <td>0.0</td>\n",
       "      <td>1.0</td>\n",
       "      <td>Yes</td>\n",
       "    </tr>\n",
       "    <tr>\n",
       "      <th>3</th>\n",
       "      <td>3</td>\n",
       "      <td>a100000032</td>\n",
       "      <td>2018-01-01</td>\n",
       "      <td>House Ads</td>\n",
       "      <td>personalization</td>\n",
       "      <td>True</td>\n",
       "      <td>English</td>\n",
       "      <td>English</td>\n",
       "      <td>30-36 years</td>\n",
       "      <td>2018-01-01</td>\n",
       "      <td>NaN</td>\n",
       "      <td>House Ads</td>\n",
       "      <td>True</td>\n",
       "      <td>0.0</td>\n",
       "      <td>1.0</td>\n",
       "      <td>Yes</td>\n",
       "    </tr>\n",
       "    <tr>\n",
       "      <th>4</th>\n",
       "      <td>4</td>\n",
       "      <td>a100000033</td>\n",
       "      <td>2018-01-01</td>\n",
       "      <td>House Ads</td>\n",
       "      <td>personalization</td>\n",
       "      <td>True</td>\n",
       "      <td>English</td>\n",
       "      <td>English</td>\n",
       "      <td>36-45 years</td>\n",
       "      <td>2018-01-01</td>\n",
       "      <td>NaN</td>\n",
       "      <td>House Ads</td>\n",
       "      <td>True</td>\n",
       "      <td>0.0</td>\n",
       "      <td>1.0</td>\n",
       "      <td>Yes</td>\n",
       "    </tr>\n",
       "  </tbody>\n",
       "</table>\n",
       "</div>"
      ],
      "text/plain": [
       "   Unnamed: 0     user_id date_served marketing_channel          variant  \\\n",
       "0           0  a100000029  2018-01-01         House Ads  personalization   \n",
       "1           1  a100000030  2018-01-01         House Ads  personalization   \n",
       "2           2  a100000031  2018-01-01         House Ads  personalization   \n",
       "3           3  a100000032  2018-01-01         House Ads  personalization   \n",
       "4           4  a100000033  2018-01-01         House Ads  personalization   \n",
       "\n",
       "   converted language_displayed language_preferred    age_group  \\\n",
       "0       True            English            English   0-18 years   \n",
       "1       True            English            English  19-24 years   \n",
       "2       True            English            English  24-30 years   \n",
       "3       True            English            English  30-36 years   \n",
       "4       True            English            English  36-45 years   \n",
       "\n",
       "  date_subscribed date_canceled subscribing_channel  is_retained  DoW  \\\n",
       "0      2018-01-01           NaN           House Ads         True  0.0   \n",
       "1      2018-01-01           NaN           House Ads         True  0.0   \n",
       "2      2018-01-01           NaN           House Ads         True  0.0   \n",
       "3      2018-01-01           NaN           House Ads         True  0.0   \n",
       "4      2018-01-01           NaN           House Ads         True  0.0   \n",
       "\n",
       "   channel_code is_correct_lang  \n",
       "0           1.0             Yes  \n",
       "1           1.0             Yes  \n",
       "2           1.0             Yes  \n",
       "3           1.0             Yes  \n",
       "4           1.0             Yes  "
      ]
     },
     "execution_count": 3,
     "metadata": {},
     "output_type": "execute_result"
    }
   ],
   "source": [
    "# Primeiras 5 observações do dataframe\n",
    "df.head()"
   ]
  },
  {
   "cell_type": "code",
   "execution_count": 4,
   "id": "67c52bea",
   "metadata": {},
   "outputs": [
    {
     "data": {
      "text/html": [
       "<div>\n",
       "<style scoped>\n",
       "    .dataframe tbody tr th:only-of-type {\n",
       "        vertical-align: middle;\n",
       "    }\n",
       "\n",
       "    .dataframe tbody tr th {\n",
       "        vertical-align: top;\n",
       "    }\n",
       "\n",
       "    .dataframe thead th {\n",
       "        text-align: right;\n",
       "    }\n",
       "</style>\n",
       "<table border=\"1\" class=\"dataframe\">\n",
       "  <thead>\n",
       "    <tr style=\"text-align: right;\">\n",
       "      <th></th>\n",
       "      <th>Unnamed: 0</th>\n",
       "      <th>DoW</th>\n",
       "      <th>channel_code</th>\n",
       "    </tr>\n",
       "  </thead>\n",
       "  <tbody>\n",
       "    <tr>\n",
       "      <th>count</th>\n",
       "      <td>10038.000000</td>\n",
       "      <td>1857.000000</td>\n",
       "      <td>1857.000000</td>\n",
       "    </tr>\n",
       "    <tr>\n",
       "      <th>mean</th>\n",
       "      <td>5018.500000</td>\n",
       "      <td>2.529348</td>\n",
       "      <td>2.632202</td>\n",
       "    </tr>\n",
       "    <tr>\n",
       "      <th>std</th>\n",
       "      <td>2897.865335</td>\n",
       "      <td>1.937417</td>\n",
       "      <td>1.211430</td>\n",
       "    </tr>\n",
       "    <tr>\n",
       "      <th>min</th>\n",
       "      <td>0.000000</td>\n",
       "      <td>0.000000</td>\n",
       "      <td>1.000000</td>\n",
       "    </tr>\n",
       "    <tr>\n",
       "      <th>25%</th>\n",
       "      <td>2509.250000</td>\n",
       "      <td>1.000000</td>\n",
       "      <td>2.000000</td>\n",
       "    </tr>\n",
       "    <tr>\n",
       "      <th>50%</th>\n",
       "      <td>5018.500000</td>\n",
       "      <td>2.000000</td>\n",
       "      <td>2.000000</td>\n",
       "    </tr>\n",
       "    <tr>\n",
       "      <th>75%</th>\n",
       "      <td>7527.750000</td>\n",
       "      <td>4.000000</td>\n",
       "      <td>3.000000</td>\n",
       "    </tr>\n",
       "    <tr>\n",
       "      <th>max</th>\n",
       "      <td>10037.000000</td>\n",
       "      <td>6.000000</td>\n",
       "      <td>5.000000</td>\n",
       "    </tr>\n",
       "  </tbody>\n",
       "</table>\n",
       "</div>"
      ],
      "text/plain": [
       "         Unnamed: 0          DoW  channel_code\n",
       "count  10038.000000  1857.000000   1857.000000\n",
       "mean    5018.500000     2.529348      2.632202\n",
       "std     2897.865335     1.937417      1.211430\n",
       "min        0.000000     0.000000      1.000000\n",
       "25%     2509.250000     1.000000      2.000000\n",
       "50%     5018.500000     2.000000      2.000000\n",
       "75%     7527.750000     4.000000      3.000000\n",
       "max    10037.000000     6.000000      5.000000"
      ]
     },
     "execution_count": 4,
     "metadata": {},
     "output_type": "execute_result"
    }
   ],
   "source": [
    "# Sumário de estatísticas de todas as variáveis\n",
    "df.describe()"
   ]
  },
  {
   "cell_type": "code",
   "execution_count": 5,
   "id": "2528b3de",
   "metadata": {},
   "outputs": [
    {
     "name": "stdout",
     "output_type": "stream",
     "text": [
      "<class 'pandas.core.frame.DataFrame'>\n",
      "RangeIndex: 10038 entries, 0 to 10037\n",
      "Data columns (total 16 columns):\n",
      " #   Column               Non-Null Count  Dtype  \n",
      "---  ------               --------------  -----  \n",
      " 0   Unnamed: 0           10038 non-null  int64  \n",
      " 1   user_id              10038 non-null  object \n",
      " 2   date_served          10022 non-null  object \n",
      " 3   marketing_channel    10023 non-null  object \n",
      " 4   variant              10038 non-null  object \n",
      " 5   converted            10038 non-null  bool   \n",
      " 6   language_displayed   10038 non-null  object \n",
      " 7   language_preferred   10038 non-null  object \n",
      " 8   age_group            10038 non-null  object \n",
      " 9   date_subscribed      1857 non-null   object \n",
      " 10  date_canceled        577 non-null    object \n",
      " 11  subscribing_channel  1857 non-null   object \n",
      " 12  is_retained          10038 non-null  bool   \n",
      " 13  DoW                  1857 non-null   float64\n",
      " 14  channel_code         1857 non-null   float64\n",
      " 15  is_correct_lang      10038 non-null  object \n",
      "dtypes: bool(2), float64(2), int64(1), object(11)\n",
      "memory usage: 1.1+ MB\n"
     ]
    }
   ],
   "source": [
    "# Quantidade de valores não nulos em cada variável e seus tipos\n",
    "df.info()"
   ]
  },
  {
   "cell_type": "markdown",
   "id": "c649bc9d",
   "metadata": {},
   "source": [
    "### 1.3 Modificando dados das colunas"
   ]
  },
  {
   "cell_type": "code",
   "execution_count": 6,
   "id": "cfec0673",
   "metadata": {},
   "outputs": [
    {
     "name": "stdout",
     "output_type": "stream",
     "text": [
      "bool\n"
     ]
    }
   ],
   "source": [
    "# Convertendo is_retained para booleano\n",
    "df['is_retained'] = df['is_retained'].astype('bool')\n",
    "\n",
    "print(df['is_retained'].dtypes)"
   ]
  },
  {
   "cell_type": "code",
   "execution_count": 7,
   "id": "82ba5a1a",
   "metadata": {},
   "outputs": [],
   "source": [
    "# Mapeando channels\n",
    "channel_dict = {\"House Ads\": 1, \"Instagram\": 2, \n",
    "                \"Facebook\": 3, \"Email\": 4, \"Push\": 5}\n",
    "\n",
    "# Adicionando channel_code, que mapeia os valores na coluna subscribe_channel para \n",
    "# uma escala numérica usando o dicionário channel_dict\n",
    "df['channel_code'] = df['subscribing_channel'].map(channel_dict)\n",
    "\n",
    "# Adicionando a coluna is_correct_lang \n",
    "df['is_correct_lang'] = np.where(df['language_preferred'] == df['language_displayed'], 'Yes', 'No')"
   ]
  },
  {
   "cell_type": "code",
   "execution_count": 8,
   "id": "4cffd3ee",
   "metadata": {},
   "outputs": [],
   "source": [
    "# Importando marketing.csv com colunas de data\n",
    "df = pd.read_csv('datasets/marketing.csv', parse_dates=['date_served','date_subscribed','date_canceled'])\n",
    "\n",
    "# Adicionando a coluna DoW \n",
    "df['DoW'] = df['date_subscribed'].dt.dayofweek"
   ]
  },
  {
   "cell_type": "code",
   "execution_count": 9,
   "id": "20e09bcc",
   "metadata": {},
   "outputs": [
    {
     "data": {
      "text/html": [
       "<div>\n",
       "<style scoped>\n",
       "    .dataframe tbody tr th:only-of-type {\n",
       "        vertical-align: middle;\n",
       "    }\n",
       "\n",
       "    .dataframe tbody tr th {\n",
       "        vertical-align: top;\n",
       "    }\n",
       "\n",
       "    .dataframe thead th {\n",
       "        text-align: right;\n",
       "    }\n",
       "</style>\n",
       "<table border=\"1\" class=\"dataframe\">\n",
       "  <thead>\n",
       "    <tr style=\"text-align: right;\">\n",
       "      <th></th>\n",
       "      <th>Unnamed: 0</th>\n",
       "      <th>user_id</th>\n",
       "      <th>date_served</th>\n",
       "      <th>marketing_channel</th>\n",
       "      <th>variant</th>\n",
       "      <th>converted</th>\n",
       "      <th>language_displayed</th>\n",
       "      <th>language_preferred</th>\n",
       "      <th>age_group</th>\n",
       "      <th>date_subscribed</th>\n",
       "      <th>date_canceled</th>\n",
       "      <th>subscribing_channel</th>\n",
       "      <th>is_retained</th>\n",
       "      <th>DoW</th>\n",
       "      <th>channel_code</th>\n",
       "      <th>is_correct_lang</th>\n",
       "    </tr>\n",
       "  </thead>\n",
       "  <tbody>\n",
       "    <tr>\n",
       "      <th>0</th>\n",
       "      <td>0</td>\n",
       "      <td>a100000029</td>\n",
       "      <td>2018-01-01</td>\n",
       "      <td>House Ads</td>\n",
       "      <td>personalization</td>\n",
       "      <td>True</td>\n",
       "      <td>English</td>\n",
       "      <td>English</td>\n",
       "      <td>0-18 years</td>\n",
       "      <td>2018-01-01</td>\n",
       "      <td>NaT</td>\n",
       "      <td>House Ads</td>\n",
       "      <td>True</td>\n",
       "      <td>0.0</td>\n",
       "      <td>1.0</td>\n",
       "      <td>Yes</td>\n",
       "    </tr>\n",
       "    <tr>\n",
       "      <th>1</th>\n",
       "      <td>1</td>\n",
       "      <td>a100000030</td>\n",
       "      <td>2018-01-01</td>\n",
       "      <td>House Ads</td>\n",
       "      <td>personalization</td>\n",
       "      <td>True</td>\n",
       "      <td>English</td>\n",
       "      <td>English</td>\n",
       "      <td>19-24 years</td>\n",
       "      <td>2018-01-01</td>\n",
       "      <td>NaT</td>\n",
       "      <td>House Ads</td>\n",
       "      <td>True</td>\n",
       "      <td>0.0</td>\n",
       "      <td>1.0</td>\n",
       "      <td>Yes</td>\n",
       "    </tr>\n",
       "    <tr>\n",
       "      <th>2</th>\n",
       "      <td>2</td>\n",
       "      <td>a100000031</td>\n",
       "      <td>2018-01-01</td>\n",
       "      <td>House Ads</td>\n",
       "      <td>personalization</td>\n",
       "      <td>True</td>\n",
       "      <td>English</td>\n",
       "      <td>English</td>\n",
       "      <td>24-30 years</td>\n",
       "      <td>2018-01-01</td>\n",
       "      <td>NaT</td>\n",
       "      <td>House Ads</td>\n",
       "      <td>True</td>\n",
       "      <td>0.0</td>\n",
       "      <td>1.0</td>\n",
       "      <td>Yes</td>\n",
       "    </tr>\n",
       "    <tr>\n",
       "      <th>3</th>\n",
       "      <td>3</td>\n",
       "      <td>a100000032</td>\n",
       "      <td>2018-01-01</td>\n",
       "      <td>House Ads</td>\n",
       "      <td>personalization</td>\n",
       "      <td>True</td>\n",
       "      <td>English</td>\n",
       "      <td>English</td>\n",
       "      <td>30-36 years</td>\n",
       "      <td>2018-01-01</td>\n",
       "      <td>NaT</td>\n",
       "      <td>House Ads</td>\n",
       "      <td>True</td>\n",
       "      <td>0.0</td>\n",
       "      <td>1.0</td>\n",
       "      <td>Yes</td>\n",
       "    </tr>\n",
       "    <tr>\n",
       "      <th>4</th>\n",
       "      <td>4</td>\n",
       "      <td>a100000033</td>\n",
       "      <td>2018-01-01</td>\n",
       "      <td>House Ads</td>\n",
       "      <td>personalization</td>\n",
       "      <td>True</td>\n",
       "      <td>English</td>\n",
       "      <td>English</td>\n",
       "      <td>36-45 years</td>\n",
       "      <td>2018-01-01</td>\n",
       "      <td>NaT</td>\n",
       "      <td>House Ads</td>\n",
       "      <td>True</td>\n",
       "      <td>0.0</td>\n",
       "      <td>1.0</td>\n",
       "      <td>Yes</td>\n",
       "    </tr>\n",
       "  </tbody>\n",
       "</table>\n",
       "</div>"
      ],
      "text/plain": [
       "   Unnamed: 0     user_id date_served marketing_channel          variant  \\\n",
       "0           0  a100000029  2018-01-01         House Ads  personalization   \n",
       "1           1  a100000030  2018-01-01         House Ads  personalization   \n",
       "2           2  a100000031  2018-01-01         House Ads  personalization   \n",
       "3           3  a100000032  2018-01-01         House Ads  personalization   \n",
       "4           4  a100000033  2018-01-01         House Ads  personalization   \n",
       "\n",
       "   converted language_displayed language_preferred    age_group  \\\n",
       "0       True            English            English   0-18 years   \n",
       "1       True            English            English  19-24 years   \n",
       "2       True            English            English  24-30 years   \n",
       "3       True            English            English  30-36 years   \n",
       "4       True            English            English  36-45 years   \n",
       "\n",
       "  date_subscribed date_canceled subscribing_channel  is_retained  DoW  \\\n",
       "0      2018-01-01           NaT           House Ads         True  0.0   \n",
       "1      2018-01-01           NaT           House Ads         True  0.0   \n",
       "2      2018-01-01           NaT           House Ads         True  0.0   \n",
       "3      2018-01-01           NaT           House Ads         True  0.0   \n",
       "4      2018-01-01           NaT           House Ads         True  0.0   \n",
       "\n",
       "   channel_code is_correct_lang  \n",
       "0           1.0             Yes  \n",
       "1           1.0             Yes  \n",
       "2           1.0             Yes  \n",
       "3           1.0             Yes  \n",
       "4           1.0             Yes  "
      ]
     },
     "execution_count": 9,
     "metadata": {},
     "output_type": "execute_result"
    }
   ],
   "source": [
    "df.head()"
   ]
  },
  {
   "cell_type": "markdown",
   "id": "bc374f53",
   "metadata": {},
   "source": [
    "### 1.4 Análise exploratória inicial"
   ]
  },
  {
   "cell_type": "code",
   "execution_count": 10,
   "id": "eb1d677f",
   "metadata": {},
   "outputs": [
    {
     "name": "stdout",
     "output_type": "stream",
     "text": [
      "date_served\n",
      "2018-01-01    362\n",
      "2018-01-02    374\n",
      "2018-01-03    348\n",
      "2018-01-04    323\n",
      "2018-01-05    319\n",
      "2018-01-06    308\n",
      "2018-01-07    275\n",
      "2018-01-08    312\n",
      "2018-01-09    312\n",
      "2018-01-10    337\n",
      "2018-01-11    310\n",
      "2018-01-12    301\n",
      "2018-01-13    306\n",
      "2018-01-14    305\n",
      "2018-01-15    767\n",
      "2018-01-16    388\n",
      "2018-01-17    369\n",
      "2018-01-18    318\n",
      "2018-01-19    305\n",
      "2018-01-20    311\n",
      "2018-01-21    229\n",
      "2018-01-22    178\n",
      "2018-01-23    172\n",
      "2018-01-24    190\n",
      "2018-01-25    184\n",
      "2018-01-26    222\n",
      "2018-01-27    320\n",
      "2018-01-28    320\n",
      "2018-01-29    319\n",
      "2018-01-30    317\n",
      "2018-01-31    340\n",
      "2018-02-06      1\n",
      "Name: user_id, dtype: int64\n"
     ]
    }
   ],
   "source": [
    "# Quantos usuários veem marketing assets por data\n",
    "daily_users = df.groupby(['date_served'])['user_id'].nunique()\n",
    "print(daily_users)"
   ]
  },
  {
   "cell_type": "code",
   "execution_count": 11,
   "id": "58692573",
   "metadata": {},
   "outputs": [
    {
     "data": {
      "image/png": "[encoded data removed]",
      "text/plain": [
       "<Figure size 432x288 with 1 Axes>"
      ]
     },
     "metadata": {
      "needs_background": "light"
     },
     "output_type": "display_data"
    }
   ],
   "source": [
    "daily_users.plot()\n",
    "plt.title('Número de usuários que veem ads')\n",
    "plt.xlabel('Data')\n",
    "plt.ylabel('Número de usuários')\n",
    "plt.xticks(rotation=45)\n",
    "plt.show()"
   ]
  },
  {
   "cell_type": "markdown",
   "id": "ec071283",
   "metadata": {},
   "source": [
    "## 2. Análise Exploratória e Estatísticas \n",
    "---"
   ]
  },
  {
   "cell_type": "markdown",
   "id": "553ea50c",
   "metadata": {},
   "source": [
    "### 2.1 Métricas de marketing"
   ]
  },
  {
   "cell_type": "code",
   "execution_count": 12,
   "id": "66cac917",
   "metadata": {},
   "outputs": [
    {
     "name": "stdout",
     "output_type": "stream",
     "text": [
      "Taxa de conversão: 14.09 %\n"
     ]
    }
   ],
   "source": [
    "# Selecionando subscribers\n",
    "subscribers = df[df['converted'] == True]['user_id'].nunique()\n",
    "\n",
    "# Selecionando número total de pessoas \n",
    "total = df['user_id'].nunique()\n",
    "\n",
    "# Calculando taxa de conversão\n",
    "conv_rate = subscribers / total\n",
    "print('Taxa de conversão:', round(conv_rate*100, 2), '%')"
   ]
  },
  {
   "cell_type": "code",
   "execution_count": 13,
   "id": "be9bac6d",
   "metadata": {},
   "outputs": [
    {
     "name": "stdout",
     "output_type": "stream",
     "text": [
      "Taxa de retenção: 676.5 %\n"
     ]
    }
   ],
   "source": [
    "# Selecionando retenções\n",
    "retained = df[df['is_retained'] == True]['user_id'].nunique()\n",
    "\n",
    "# Selecionando subscribers\n",
    "subscribers = df[df['converted'] == True]['user_id'].nunique()              \n",
    "\n",
    "# Calculando taxa de retenção \n",
    "retention = retained / subscribers \n",
    "print('Taxa de retenção:', round(retention*100, 2), '%')              "
   ]
  },
  {
   "cell_type": "markdown",
   "id": "46b80ef3",
   "metadata": {},
   "source": [
    "### 2.2 Segmentação de clientes"
   ]
  },
  {
   "cell_type": "code",
   "execution_count": 14,
   "id": "f4a986cf",
   "metadata": {},
   "outputs": [
    {
     "name": "stdout",
     "output_type": "stream",
     "text": [
      "Taxa de retenção: 58.05 %\n"
     ]
    }
   ],
   "source": [
    "# Selecionando clientes House ads\n",
    "house_ads = df[df['subscribing_channel'] == 'House Ads']\n",
    "\n",
    "# Selecionando retenções\n",
    "retained = house_ads[house_ads['is_retained'] == True]['user_id'].nunique()\n",
    "\n",
    "# Selecionando subscribers\n",
    "subscribers = house_ads[house_ads['converted'] == True]['user_id'].nunique() \n",
    "\n",
    "# Calculando taxa de retenção\n",
    "retention = retained / subscribers \n",
    "print('Taxa de retenção:', round(retention*100, 2), '%') "
   ]
  },
  {
   "cell_type": "code",
   "execution_count": 15,
   "id": "9fbaa02d",
   "metadata": {},
   "outputs": [
    {
     "name": "stdout",
     "output_type": "stream",
     "text": [
      "subscribing_channel\n",
      "Email        142\n",
      "Facebook     152\n",
      "House Ads    173\n",
      "Instagram    158\n",
      "Push          54\n",
      "Name: user_id, dtype: int64\n"
     ]
    }
   ],
   "source": [
    "# Agrupando por subscribing_channel e calculando número de retenções por canal\n",
    "retained = df[df['is_retained'] == True].groupby(['subscribing_channel'])['user_id'].nunique()\n",
    "print(retained)"
   ]
  },
  {
   "cell_type": "code",
   "execution_count": 16,
   "id": "421473fe",
   "metadata": {},
   "outputs": [
    {
     "name": "stdout",
     "output_type": "stream",
     "text": [
      "subscribing_channel\n",
      "Email        161\n",
      "Facebook     221\n",
      "House Ads    298\n",
      "Instagram    232\n",
      "Push          77\n",
      "Name: user_id, dtype: int64\n"
     ]
    }
   ],
   "source": [
    "# Agrupando por subscribing_channel e calculando número de subscribers\n",
    "subscribers = df[df['converted'] == True].groupby(['subscribing_channel'])['user_id'].nunique()\n",
    "print(subscribers)"
   ]
  },
  {
   "cell_type": "code",
   "execution_count": 17,
   "id": "871702bb",
   "metadata": {},
   "outputs": [
    {
     "name": "stdout",
     "output_type": "stream",
     "text": [
      "subscribing_channel\n",
      "Email        88.198758\n",
      "Facebook     68.778281\n",
      "House Ads    58.053691\n",
      "Instagram    68.103448\n",
      "Push         70.129870\n",
      "Name: user_id, dtype: float64\n"
     ]
    }
   ],
   "source": [
    "# Calculando porcentagem da taxa de retenção \n",
    "channel_retention_rate = (retained / subscribers) * 100\n",
    "print(channel_retention_rate)"
   ]
  },
  {
   "cell_type": "markdown",
   "id": "4987de4e",
   "metadata": {},
   "source": [
    "### 2.3 Comparando taxa de conversão por idioma"
   ]
  },
  {
   "cell_type": "code",
   "execution_count": 18,
   "id": "48141427",
   "metadata": {},
   "outputs": [
    {
     "name": "stdout",
     "output_type": "stream",
     "text": [
      "Taxa de conversão de falantes de inglês: 13.13 %\n"
     ]
    }
   ],
   "source": [
    "# Isolar falantes de inglês\n",
    "english_speakers = df[df['language_displayed'] == 'English']\n",
    "\n",
    "# Calcular o número total de usuários que falam inglês\n",
    "total = english_speakers['user_id'].nunique()\n",
    "\n",
    "# Calcule o número de falantes de inglês subscribers\n",
    "subscribers = english_speakers[english_speakers['converted'] == True]['user_id'].nunique() \n",
    "\n",
    "# Calculando taxa de retenção \n",
    "conversion_rate = subscribers/total\n",
    "print('Taxa de conversão de falantes de inglês:', round(conversion_rate*100,2), '%')"
   ]
  },
  {
   "cell_type": "code",
   "execution_count": 19,
   "id": "955e78c4",
   "metadata": {},
   "outputs": [
    {
     "name": "stdout",
     "output_type": "stream",
     "text": [
      "language_displayed\n",
      "Arabic     0.500000\n",
      "English    0.131260\n",
      "German     0.706667\n",
      "Spanish    0.200000\n",
      "Name: user_id, dtype: float64\n"
     ]
    }
   ],
   "source": [
    "# Agrupando por language_displayed e contando usuários únicos\n",
    "total = df.groupby('language_displayed')['user_id'].nunique()\n",
    "\n",
    "# Agrupando por language_displayed e contando conversões \n",
    "subscribers = df[df['converted'] == True].groupby(['language_displayed'])['user_id'].nunique() \n",
    "\n",
    "# Calcule a taxa de conversão para todos os idiomas\n",
    "language_conversion_rate = subscribers / total\n",
    "print(language_conversion_rate)"
   ]
  },
  {
   "cell_type": "markdown",
   "id": "755572ed",
   "metadata": {},
   "source": [
    "### 2.4 Agregando por data"
   ]
  },
  {
   "cell_type": "code",
   "execution_count": 20,
   "id": "ecb16a40",
   "metadata": {},
   "outputs": [
    {
     "name": "stdout",
     "output_type": "stream",
     "text": [
      "date_served\n",
      "2018-01-01    0.099448\n",
      "2018-01-02    0.098930\n",
      "2018-01-03    0.103448\n",
      "2018-01-04    0.108359\n",
      "2018-01-05    0.125392\n",
      "2018-01-06    0.113636\n",
      "2018-01-07    0.141818\n",
      "2018-01-08    0.115385\n",
      "2018-01-09    0.125000\n",
      "2018-01-10    0.118694\n",
      "2018-01-11    0.080645\n",
      "2018-01-12    0.076412\n",
      "2018-01-13    0.084967\n",
      "2018-01-14    0.085246\n",
      "2018-01-15    0.113429\n",
      "2018-01-16    0.255155\n",
      "2018-01-17    0.219512\n",
      "2018-01-18    0.091195\n",
      "2018-01-19    0.059016\n",
      "2018-01-20    0.067524\n",
      "2018-01-21    0.087336\n",
      "2018-01-22    0.123596\n",
      "2018-01-23    0.122093\n",
      "2018-01-24    0.115789\n",
      "2018-01-25    0.125000\n",
      "2018-01-26    0.090090\n",
      "2018-01-27    0.065625\n",
      "2018-01-28    0.062500\n",
      "2018-01-29    0.059561\n",
      "2018-01-30    0.066246\n",
      "2018-01-31    0.052941\n",
      "2018-02-06         NaN\n",
      "Name: user_id, dtype: float64\n"
     ]
    }
   ],
   "source": [
    "# Agrupando por date_served e contando usuários únicos\n",
    "total = df.groupby('date_served')['user_id'].nunique()\n",
    "\n",
    "# Agrupando por date_served e contando conversões \n",
    "subscribers = df[df['converted'] == True].groupby(['date_served'])['user_id'].nunique() \n",
    "\n",
    "# Calcule a taxa de conversão por dia\n",
    "daily_conversion_rate = subscribers/total\n",
    "print(daily_conversion_rate)"
   ]
  },
  {
   "cell_type": "markdown",
   "id": "060bac9c",
   "metadata": {},
   "source": [
    "### 2.5 Comparando taxa de conversão por idiomas"
   ]
  },
  {
   "cell_type": "code",
   "execution_count": 21,
   "id": "1802bffd",
   "metadata": {},
   "outputs": [
    {
     "data": {
      "image/png": "[encoded data removed]",
      "text/plain": [
       "<Figure size 432x288 with 1 Axes>"
      ]
     },
     "metadata": {
      "needs_background": "light"
     },
     "output_type": "display_data"
    }
   ],
   "source": [
    "language_conversion_rate.plot(kind='bar')\n",
    "plt.title('Taxa de Conversão por Idioma', size=16)\n",
    "plt.xlabel('Idioma', size=14)\n",
    "plt.ylabel('Taxa de conversão (%)', size=14)\n",
    "plt.show()"
   ]
  },
  {
   "cell_type": "code",
   "execution_count": 22,
   "id": "acf8f12f",
   "metadata": {},
   "outputs": [
    {
     "name": "stdout",
     "output_type": "stream",
     "text": [
      "date_subscribed\n",
      "2018-01-01    0.777778\n",
      "2018-01-02    0.702703\n",
      "2018-01-03    0.729730\n",
      "2018-01-04    0.500000\n",
      "2018-01-05    0.575000\n",
      "2018-01-06    0.756757\n",
      "2018-01-07    0.526316\n",
      "2018-01-08    0.638889\n",
      "2018-01-09    0.675000\n",
      "2018-01-10    0.682927\n",
      "2018-01-11    0.615385\n",
      "2018-01-12    0.391304\n",
      "2018-01-13    0.500000\n",
      "2018-01-14    0.615385\n",
      "2018-01-15    0.714286\n",
      "2018-01-16    0.701923\n",
      "2018-01-17    0.616279\n",
      "2018-01-18    0.733333\n",
      "2018-01-19    0.684211\n",
      "2018-01-20    0.809524\n",
      "2018-01-21    0.761905\n",
      "2018-01-22    0.772727\n",
      "2018-01-23    0.714286\n",
      "2018-01-24    0.652174\n",
      "2018-01-25    0.565217\n",
      "2018-01-26    0.800000\n",
      "2018-01-27    0.571429\n",
      "2018-01-28    0.666667\n",
      "2018-01-29    0.750000\n",
      "2018-01-30    0.714286\n",
      "2018-01-31    0.666667\n",
      "2018-02-17    1.000000\n",
      "Name: user_id, dtype: float64\n"
     ]
    }
   ],
   "source": [
    "# Agrupando por date_subscribed e contando usuários únicos\n",
    "total = df.groupby('date_subscribed')['user_id'].nunique()\n",
    "\n",
    "# Agrupando por is_retained e contando conversões \n",
    "subscribers = df[df['is_retained'] == True].groupby(['date_subscribed'])['user_id'].nunique() \n",
    "\n",
    "# Calcule a taxa de retenção por dia\n",
    "daily_retention_rate = subscribers/total\n",
    "print(daily_retention_rate)"
   ]
  },
  {
   "cell_type": "code",
   "execution_count": 23,
   "id": "898ad9f6",
   "metadata": {},
   "outputs": [],
   "source": [
    "# Resetando index para transformar a Series em DataFrame\n",
    "daily_retention_rate = pd.DataFrame(daily_retention_rate.reset_index())\n",
    "\n",
    "# Renomeando colunas\n",
    "daily_retention_rate.columns = ['date_subscribed', 'retention_rate']"
   ]
  },
  {
   "cell_type": "code",
   "execution_count": 24,
   "id": "72fda29b",
   "metadata": {},
   "outputs": [
    {
     "data": {
      "image/png": "[encoded data removed]",
      "text/plain": [
       "<Figure size 432x288 with 1 Axes>"
      ]
     },
     "metadata": {
      "needs_background": "light"
     },
     "output_type": "display_data"
    }
   ],
   "source": [
    "daily_retention_rate.plot('date_subscribed', 'retention_rate')\n",
    "\n",
    "plt.title('Taxa de subscribe por dia\\n', size=16)\n",
    "plt.ylabel('Taxa de retenção por mês', size=14)\n",
    "plt.xlabel('Data', size=14)\n",
    "\n",
    "plt.ylim(0)\n",
    "plt.show()"
   ]
  },
  {
   "cell_type": "code",
   "execution_count": 25,
   "id": "c4e4541d",
   "metadata": {},
   "outputs": [
    {
     "data": {
      "image/png": "[encoded data removed]",
      "text/plain": [
       "<Figure size 432x288 with 1 Axes>"
      ]
     },
     "metadata": {
      "needs_background": "light"
     },
     "output_type": "display_data"
    }
   ],
   "source": [
    "language_conversion_rate.plot(kind='bar')\n",
    "\n",
    "plt.title('Taxa de conversão por idioma\\n', size = 16)\n",
    "plt.ylabel('Taxa de conversão (%)', size = 14)\n",
    "plt.xlabel('Idioma', size = 14)\n",
    "\n",
    "plt.show()"
   ]
  },
  {
   "cell_type": "code",
   "execution_count": 26,
   "id": "8f44f2e7",
   "metadata": {},
   "outputs": [],
   "source": [
    "# Agrupando por date_served e contando usuários únicos\n",
    "total = df.groupby(['date_served'])['user_id'].nunique()\n",
    "\n",
    "# Agrupando por date_served e calculando subscribers\n",
    "subscribers = df[df['converted'] == True].groupby(['date_served'])['user_id'].nunique()\n",
    "\n",
    "# Calculando a taxa de conversão para todos os idiomas\n",
    "daily_conversion_rates = subscribers/total"
   ]
  },
  {
   "cell_type": "code",
   "execution_count": 27,
   "id": "d2d44ba1",
   "metadata": {},
   "outputs": [],
   "source": [
    "# Resetando index para transformar a Series em DataFrame\n",
    "daily_conversion_rate = pd.DataFrame(daily_conversion_rates.reset_index())\n",
    "\n",
    "# Renomeando colunas\n",
    "daily_conversion_rate.columns = ['date_served', 'conversion_rate']"
   ]
  },
  {
   "cell_type": "code",
   "execution_count": 28,
   "id": "0fab3111",
   "metadata": {},
   "outputs": [
    {
     "data": {
      "image/png": "[encoded data removed]",
      "text/plain": [
       "<Figure size 432x288 with 1 Axes>"
      ]
     },
     "metadata": {
      "needs_background": "light"
     },
     "output_type": "display_data"
    }
   ],
   "source": [
    "# Criando um gráfico de linhas usando daily_conversion_rate\n",
    "daily_conversion_rate.plot('date_served', 'conversion_rate')\n",
    "\n",
    "plt.title('Taxa de retenção por dia\\n', size = 16)\n",
    "plt.ylabel('Taxa de retenção (%)', size = 14)\n",
    "plt.xlabel('Data', size = 14)\n",
    "\n",
    "plt.ylim(0)\n",
    "plt.show()"
   ]
  },
  {
   "cell_type": "code",
   "execution_count": 29,
   "id": "b7f7a8b3",
   "metadata": {},
   "outputs": [
    {
     "name": "stdout",
     "output_type": "stream",
     "text": [
      "date_served  language_preferred\n",
      "2018-01-01   Arabic                  4\n",
      "             English               355\n",
      "             German                  5\n",
      "             Spanish                11\n",
      "2018-01-02   Arabic                  4\n",
      "             English               397\n",
      "             German                  6\n",
      "             Spanish                10\n",
      "2018-01-03   Arabic                  3\n",
      "             English               374\n",
      "Name: user_id, dtype: int64\n"
     ]
    }
   ],
   "source": [
    "language = df.groupby(['date_served','language_preferred'])['user_id'].count()\n",
    "print(language.head(10))"
   ]
  },
  {
   "cell_type": "code",
   "execution_count": 30,
   "id": "c542b866",
   "metadata": {},
   "outputs": [
    {
     "name": "stdout",
     "output_type": "stream",
     "text": [
      "language_preferred  Arabic  English  German  Spanish\n",
      "date_served                                         \n",
      "2018-01-01             4.0    355.0     5.0     11.0\n",
      "2018-01-02             4.0    397.0     6.0     10.0\n",
      "2018-01-03             3.0    374.0     3.0      8.0\n",
      "2018-01-04             2.0    318.0     2.0     14.0\n",
      "2018-01-05             1.0    314.0     2.0     14.0\n"
     ]
    }
   ],
   "source": [
    "language = pd.DataFrame(language.unstack(level=1))\n",
    "print(language.head())"
   ]
  },
  {
   "cell_type": "code",
   "execution_count": 31,
   "id": "2338c92f",
   "metadata": {},
   "outputs": [
    {
     "data": {
      "image/png": "[encoded data removed]",
      "text/plain": [
       "<Figure size 432x288 with 1 Axes>"
      ]
     },
     "metadata": {
      "needs_background": "light"
     },
     "output_type": "display_data"
    }
   ],
   "source": [
    "language.plot()\n",
    "plt.title('Preferências diárias de idioma\\n', size = 16)\n",
    "plt.xlabel('Data', size = 14)\n",
    "plt.ylabel('Usuários', size = 14)\n",
    "plt.legend(loc = 'upper right', labels = language.columns.values)\n",
    "plt.xticks(rotation=45)\n",
    "plt.show()"
   ]
  },
  {
   "cell_type": "code",
   "execution_count": 33,
   "id": "0df04af3",
   "metadata": {},
   "outputs": [
    {
     "name": "stdout",
     "output_type": "stream",
     "text": [
      "age_group           0-18 years  19-24 years  24-30 years  30-36 years  \\\n",
      "language_preferred                                                      \n",
      "Arabic                      19           26           19           19   \n",
      "English                   1421         1560         1442         1251   \n",
      "German                      32           29           35           16   \n",
      "Spanish                     68           67           72           69   \n",
      "\n",
      "age_group           36-45 years  45-55 years  55+ years  \n",
      "language_preferred                                       \n",
      "Arabic                       19           21         22  \n",
      "English                    1260         1240       1101  \n",
      "German                       19           25         12  \n",
      "Spanish                      55           67         52  \n"
     ]
    }
   ],
   "source": [
    "language_age = df.groupby(['language_preferred', 'age_group'])['user_id'].count()\n",
    "language_age = pd.DataFrame(language_age.unstack(level=1))\n",
    "print(language_age.head())"
   ]
  },
  {
   "cell_type": "code",
   "execution_count": 34,
   "id": "e977f0f7",
   "metadata": {},
   "outputs": [
    {
     "data": {
      "image/png": "[encoded data removed]",
      "text/plain": [
       "<Figure size 432x288 with 1 Axes>"
      ]
     },
     "metadata": {
      "needs_background": "light"
     },
     "output_type": "display_data"
    }
   ],
   "source": [
    "language_age.plot(kind='bar')\n",
    "plt.title('Preferências de idioma por idade\\n', size = 16)\n",
    "plt.xlabel('Idioma', size = 14)\n",
    "plt.ylabel('Usuários', size = 14)\n",
    "plt.legend(loc = 'upper right', labels = language_age.columns.values)\n",
    "plt.show()"
   ]
  },
  {
   "cell_type": "code",
   "execution_count": 35,
   "id": "722229f2",
   "metadata": {},
   "outputs": [
    {
     "data": {
      "image/png": "[encoded data removed]",
      "text/plain": [
       "<Figure size 432x288 with 1 Axes>"
      ]
     },
     "metadata": {
      "needs_background": "light"
     },
     "output_type": "display_data"
    }
   ],
   "source": [
    "channel_age = df.groupby(['marketing_channel', 'age_group'])['user_id'].count()\n",
    "\n",
    "channel_age_df = pd.DataFrame(channel_age.unstack(level = 1))\n",
    "\n",
    "channel_age_df.plot(kind = 'bar')\n",
    "plt.title('Marketing channels por idade')\n",
    "plt.xlabel('Grupo de idade')\n",
    "plt.ylabel('Usuários')\n",
    "plt.legend(loc = 'upper right', labels = channel_age_df.columns.values)\n",
    "plt.show()"
   ]
  },
  {
   "cell_type": "code",
   "execution_count": 38,
   "id": "ac57623c",
   "metadata": {},
   "outputs": [
    {
     "name": "stdout",
     "output_type": "stream",
     "text": [
      "date_subscribed  subscribing_channel\n",
      "2018-01-01       Email                   1\n",
      "                 Facebook                8\n",
      "                 House Ads              16\n",
      "                 Instagram               8\n",
      "                 Push                    3\n",
      "Name: user_id, dtype: int64\n"
     ]
    }
   ],
   "source": [
    "# Contando as inscrições por canal e dia\n",
    "retention_total = df.groupby(['date_subscribed','subscribing_channel'])['user_id'].nunique()\n",
    "print(retention_total.head())"
   ]
  },
  {
   "cell_type": "code",
   "execution_count": 39,
   "id": "e2df4deb",
   "metadata": {},
   "outputs": [
    {
     "name": "stdout",
     "output_type": "stream",
     "text": [
      "date_subscribed  subscribing_channel\n",
      "2018-01-01       Email                   1\n",
      "                 Facebook                7\n",
      "                 House Ads              11\n",
      "                 Instagram               6\n",
      "                 Push                    3\n",
      "Name: user_id, dtype: int64\n"
     ]
    }
   ],
   "source": [
    "# Soma de retenção por canal e data de inscrição\n",
    "retention_subs = df[df['is_retained'] == True].groupby(['date_subscribed',\\\n",
    "                                            'subscribing_channel'])['user_id'].nunique()\n",
    "print(retention_subs.head())"
   ]
  },
  {
   "cell_type": "code",
   "execution_count": 41,
   "id": "dfa95eb6",
   "metadata": {},
   "outputs": [
    {
     "data": {
      "image/png": "[encoded data removed]",
      "text/plain": [
       "<Figure size 432x288 with 1 Axes>"
      ]
     },
     "metadata": {
      "needs_background": "light"
     },
     "output_type": "display_data"
    }
   ],
   "source": [
    "retention_rate = retention_subs / retention_total\n",
    "retention_rate_df = pd.DataFrame(retention_rate.unstack(level=1))\n",
    "\n",
    "retention_rate_df.plot()\n",
    "\n",
    "plt.title('Taxa de retenção por canal de inscrição')\n",
    "plt.xlabel('Data de inscrição')\n",
    "plt.ylabel('Taxa de retenção (%)')\n",
    "plt.legend(loc = 'upper right', labels = retention_rate_df.columns.values)\n",
    "plt.show()"
   ]
  },
  {
   "cell_type": "code",
   "execution_count": null,
   "id": "8515007e",
   "metadata": {},
   "outputs": [],
   "source": []
  },
  {
   "cell_type": "code",
   "execution_count": null,
   "id": "8bc756ea",
   "metadata": {},
   "outputs": [],
   "source": []
  },
  {
   "cell_type": "code",
   "execution_count": null,
   "id": "ff1e14c7",
   "metadata": {},
   "outputs": [],
   "source": []
  },
  {
   "cell_type": "code",
   "execution_count": null,
   "id": "40022267",
   "metadata": {},
   "outputs": [],
   "source": []
  },
  {
   "cell_type": "code",
   "execution_count": null,
   "id": "eefbd0cf",
   "metadata": {},
   "outputs": [],
   "source": []
  },
  {
   "cell_type": "code",
   "execution_count": null,
   "id": "ee93bbea",
   "metadata": {},
   "outputs": [],
   "source": []
  }
 ],
 "metadata": {
  "kernelspec": {
   "display_name": "Python 3",
   "language": "python",
   "name": "python3"
  },
  "language_info": {
   "codemirror_mode": {
    "name": "ipython",
    "version": 3
   },
   "file_extension": ".py",
   "mimetype": "text/x-python",
   "name": "python",
   "nbconvert_exporter": "python",
   "pygments_lexer": "ipython3",
   "version": "3.8.8"
  }
 },
 "nbformat": 4,
 "nbformat_minor": 5
}
