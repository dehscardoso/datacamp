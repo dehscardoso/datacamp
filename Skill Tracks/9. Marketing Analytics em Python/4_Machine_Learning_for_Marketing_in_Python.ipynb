{
 "cells": [
  {
   "cell_type": "markdown",
   "id": "54a0469b",
   "metadata": {},
   "source": [
    "# Machine learning for marketing basics\n",
    "---\n",
    "\n",
    "**Aprendizado Supervisionado**\n",
    "- Classificação - Prever se um cliente irá se desligar (Churned/Not-churned)\n",
    "- Regressão - Prever compras de clientes para o próximo mês\n",
    "\n",
    "**Aprendizado Não-supervisionado**\n",
    "- Segmentação de clientes com base em seu histórico de compra: Podemos detectar padrões e clusters que são homogêneos?\n"
   ]
  },
  {
   "cell_type": "code",
   "execution_count": 1,
   "id": "00c1dc17",
   "metadata": {},
   "outputs": [],
   "source": [
    "import pandas as pd \n",
    "import numpy as np\n",
    "import matplotlib.pyplot as plt\n",
    "\n",
    "from sklearn.preprocessing import StandardScaler\n",
    "\n",
    "from sklearn import tree\n",
    "from sklearn.model_selection import train_test_split\n",
    "from sklearn.metrics import accuracy_score, precision_score, recall_score\n",
    "\n",
    "from sklearn.linear_model import LogisticRegression\n",
    "\n",
    "from sklearn.tree import DecisionTreeClassifier"
   ]
  },
  {
   "cell_type": "code",
   "execution_count": 2,
   "id": "728b7090",
   "metadata": {},
   "outputs": [],
   "source": [
    "telco_raw = pd.read_csv('datasets/telco.csv')"
   ]
  },
  {
   "cell_type": "code",
   "execution_count": 3,
   "id": "819aeff4",
   "metadata": {},
   "outputs": [
    {
     "data": {
      "text/html": [
       "<div>\n",
       "<style scoped>\n",
       "    .dataframe tbody tr th:only-of-type {\n",
       "        vertical-align: middle;\n",
       "    }\n",
       "\n",
       "    .dataframe tbody tr th {\n",
       "        vertical-align: top;\n",
       "    }\n",
       "\n",
       "    .dataframe thead th {\n",
       "        text-align: right;\n",
       "    }\n",
       "</style>\n",
       "<table border=\"1\" class=\"dataframe\">\n",
       "  <thead>\n",
       "    <tr style=\"text-align: right;\">\n",
       "      <th></th>\n",
       "      <th>customerID</th>\n",
       "      <th>gender</th>\n",
       "      <th>SeniorCitizen</th>\n",
       "      <th>Partner</th>\n",
       "      <th>Dependents</th>\n",
       "      <th>tenure</th>\n",
       "      <th>PhoneService</th>\n",
       "      <th>MultipleLines</th>\n",
       "      <th>InternetService</th>\n",
       "      <th>OnlineSecurity</th>\n",
       "      <th>...</th>\n",
       "      <th>DeviceProtection</th>\n",
       "      <th>TechSupport</th>\n",
       "      <th>StreamingTV</th>\n",
       "      <th>StreamingMovies</th>\n",
       "      <th>Contract</th>\n",
       "      <th>PaperlessBilling</th>\n",
       "      <th>PaymentMethod</th>\n",
       "      <th>MonthlyCharges</th>\n",
       "      <th>TotalCharges</th>\n",
       "      <th>Churn</th>\n",
       "    </tr>\n",
       "  </thead>\n",
       "  <tbody>\n",
       "    <tr>\n",
       "      <th>0</th>\n",
       "      <td>7590-VHVEG</td>\n",
       "      <td>Female</td>\n",
       "      <td>0</td>\n",
       "      <td>Yes</td>\n",
       "      <td>No</td>\n",
       "      <td>1</td>\n",
       "      <td>No</td>\n",
       "      <td>No phone service</td>\n",
       "      <td>DSL</td>\n",
       "      <td>No</td>\n",
       "      <td>...</td>\n",
       "      <td>No</td>\n",
       "      <td>No</td>\n",
       "      <td>No</td>\n",
       "      <td>No</td>\n",
       "      <td>Month-to-month</td>\n",
       "      <td>Yes</td>\n",
       "      <td>Electronic check</td>\n",
       "      <td>29.85</td>\n",
       "      <td>29.85</td>\n",
       "      <td>No</td>\n",
       "    </tr>\n",
       "    <tr>\n",
       "      <th>1</th>\n",
       "      <td>5575-GNVDE</td>\n",
       "      <td>Male</td>\n",
       "      <td>0</td>\n",
       "      <td>No</td>\n",
       "      <td>No</td>\n",
       "      <td>34</td>\n",
       "      <td>Yes</td>\n",
       "      <td>No</td>\n",
       "      <td>DSL</td>\n",
       "      <td>Yes</td>\n",
       "      <td>...</td>\n",
       "      <td>Yes</td>\n",
       "      <td>No</td>\n",
       "      <td>No</td>\n",
       "      <td>No</td>\n",
       "      <td>One year</td>\n",
       "      <td>No</td>\n",
       "      <td>Mailed check</td>\n",
       "      <td>56.95</td>\n",
       "      <td>1889.5</td>\n",
       "      <td>No</td>\n",
       "    </tr>\n",
       "    <tr>\n",
       "      <th>2</th>\n",
       "      <td>3668-QPYBK</td>\n",
       "      <td>Male</td>\n",
       "      <td>0</td>\n",
       "      <td>No</td>\n",
       "      <td>No</td>\n",
       "      <td>2</td>\n",
       "      <td>Yes</td>\n",
       "      <td>No</td>\n",
       "      <td>DSL</td>\n",
       "      <td>Yes</td>\n",
       "      <td>...</td>\n",
       "      <td>No</td>\n",
       "      <td>No</td>\n",
       "      <td>No</td>\n",
       "      <td>No</td>\n",
       "      <td>Month-to-month</td>\n",
       "      <td>Yes</td>\n",
       "      <td>Mailed check</td>\n",
       "      <td>53.85</td>\n",
       "      <td>108.15</td>\n",
       "      <td>Yes</td>\n",
       "    </tr>\n",
       "    <tr>\n",
       "      <th>3</th>\n",
       "      <td>7795-CFOCW</td>\n",
       "      <td>Male</td>\n",
       "      <td>0</td>\n",
       "      <td>No</td>\n",
       "      <td>No</td>\n",
       "      <td>45</td>\n",
       "      <td>No</td>\n",
       "      <td>No phone service</td>\n",
       "      <td>DSL</td>\n",
       "      <td>Yes</td>\n",
       "      <td>...</td>\n",
       "      <td>Yes</td>\n",
       "      <td>Yes</td>\n",
       "      <td>No</td>\n",
       "      <td>No</td>\n",
       "      <td>One year</td>\n",
       "      <td>No</td>\n",
       "      <td>Bank transfer (automatic)</td>\n",
       "      <td>42.30</td>\n",
       "      <td>1840.75</td>\n",
       "      <td>No</td>\n",
       "    </tr>\n",
       "    <tr>\n",
       "      <th>4</th>\n",
       "      <td>9237-HQITU</td>\n",
       "      <td>Female</td>\n",
       "      <td>0</td>\n",
       "      <td>No</td>\n",
       "      <td>No</td>\n",
       "      <td>2</td>\n",
       "      <td>Yes</td>\n",
       "      <td>No</td>\n",
       "      <td>Fiber optic</td>\n",
       "      <td>No</td>\n",
       "      <td>...</td>\n",
       "      <td>No</td>\n",
       "      <td>No</td>\n",
       "      <td>No</td>\n",
       "      <td>No</td>\n",
       "      <td>Month-to-month</td>\n",
       "      <td>Yes</td>\n",
       "      <td>Electronic check</td>\n",
       "      <td>70.70</td>\n",
       "      <td>151.65</td>\n",
       "      <td>Yes</td>\n",
       "    </tr>\n",
       "  </tbody>\n",
       "</table>\n",
       "<p>5 rows × 21 columns</p>\n",
       "</div>"
      ],
      "text/plain": [
       "   customerID  gender  SeniorCitizen Partner Dependents  tenure PhoneService  \\\n",
       "0  7590-VHVEG  Female              0     Yes         No       1           No   \n",
       "1  5575-GNVDE    Male              0      No         No      34          Yes   \n",
       "2  3668-QPYBK    Male              0      No         No       2          Yes   \n",
       "3  7795-CFOCW    Male              0      No         No      45           No   \n",
       "4  9237-HQITU  Female              0      No         No       2          Yes   \n",
       "\n",
       "      MultipleLines InternetService OnlineSecurity  ... DeviceProtection  \\\n",
       "0  No phone service             DSL             No  ...               No   \n",
       "1                No             DSL            Yes  ...              Yes   \n",
       "2                No             DSL            Yes  ...               No   \n",
       "3  No phone service             DSL            Yes  ...              Yes   \n",
       "4                No     Fiber optic             No  ...               No   \n",
       "\n",
       "  TechSupport StreamingTV StreamingMovies        Contract PaperlessBilling  \\\n",
       "0          No          No              No  Month-to-month              Yes   \n",
       "1          No          No              No        One year               No   \n",
       "2          No          No              No  Month-to-month              Yes   \n",
       "3         Yes          No              No        One year               No   \n",
       "4          No          No              No  Month-to-month              Yes   \n",
       "\n",
       "               PaymentMethod MonthlyCharges  TotalCharges Churn  \n",
       "0           Electronic check          29.85         29.85    No  \n",
       "1               Mailed check          56.95        1889.5    No  \n",
       "2               Mailed check          53.85        108.15   Yes  \n",
       "3  Bank transfer (automatic)          42.30       1840.75    No  \n",
       "4           Electronic check          70.70        151.65   Yes  \n",
       "\n",
       "[5 rows x 21 columns]"
      ]
     },
     "execution_count": 3,
     "metadata": {},
     "output_type": "execute_result"
    }
   ],
   "source": [
    "telco_raw.head()"
   ]
  },
  {
   "cell_type": "code",
   "execution_count": 4,
   "id": "dab4db52",
   "metadata": {},
   "outputs": [
    {
     "data": {
      "text/plain": [
       "customerID           object\n",
       "gender               object\n",
       "SeniorCitizen         int64\n",
       "Partner              object\n",
       "Dependents           object\n",
       "tenure                int64\n",
       "PhoneService         object\n",
       "MultipleLines        object\n",
       "InternetService      object\n",
       "OnlineSecurity       object\n",
       "OnlineBackup         object\n",
       "DeviceProtection     object\n",
       "TechSupport          object\n",
       "StreamingTV          object\n",
       "StreamingMovies      object\n",
       "Contract             object\n",
       "PaperlessBilling     object\n",
       "PaymentMethod        object\n",
       "MonthlyCharges      float64\n",
       "TotalCharges         object\n",
       "Churn                object\n",
       "dtype: object"
      ]
     },
     "execution_count": 4,
     "metadata": {},
     "output_type": "execute_result"
    }
   ],
   "source": [
    "telco_raw.dtypes"
   ]
  },
  {
   "cell_type": "code",
   "execution_count": 5,
   "id": "b47205d1",
   "metadata": {},
   "outputs": [
    {
     "data": {
      "text/plain": [
       "customerID          7043\n",
       "gender                 2\n",
       "SeniorCitizen          2\n",
       "Partner                2\n",
       "Dependents             2\n",
       "tenure                73\n",
       "PhoneService           2\n",
       "MultipleLines          3\n",
       "InternetService        3\n",
       "OnlineSecurity         3\n",
       "OnlineBackup           3\n",
       "DeviceProtection       3\n",
       "TechSupport            3\n",
       "StreamingTV            3\n",
       "StreamingMovies        3\n",
       "Contract               3\n",
       "PaperlessBilling       2\n",
       "PaymentMethod          4\n",
       "MonthlyCharges      1585\n",
       "TotalCharges        6531\n",
       "Churn                  2\n",
       "dtype: int64"
      ]
     },
     "execution_count": 5,
     "metadata": {},
     "output_type": "execute_result"
    }
   ],
   "source": [
    "telco_raw.nunique()"
   ]
  },
  {
   "cell_type": "code",
   "execution_count": 6,
   "id": "621b3cb9",
   "metadata": {},
   "outputs": [
    {
     "name": "stdout",
     "output_type": "stream",
     "text": [
      "<class 'pandas.core.frame.DataFrame'>\n",
      "RangeIndex: 7043 entries, 0 to 7042\n",
      "Data columns (total 21 columns):\n",
      " #   Column            Non-Null Count  Dtype  \n",
      "---  ------            --------------  -----  \n",
      " 0   customerID        7043 non-null   object \n",
      " 1   gender            7043 non-null   object \n",
      " 2   SeniorCitizen     7043 non-null   int64  \n",
      " 3   Partner           7043 non-null   object \n",
      " 4   Dependents        7043 non-null   object \n",
      " 5   tenure            7043 non-null   int64  \n",
      " 6   PhoneService      7043 non-null   object \n",
      " 7   MultipleLines     7043 non-null   object \n",
      " 8   InternetService   7043 non-null   object \n",
      " 9   OnlineSecurity    7043 non-null   object \n",
      " 10  OnlineBackup      7043 non-null   object \n",
      " 11  DeviceProtection  7043 non-null   object \n",
      " 12  TechSupport       7043 non-null   object \n",
      " 13  StreamingTV       7043 non-null   object \n",
      " 14  StreamingMovies   7043 non-null   object \n",
      " 15  Contract          7043 non-null   object \n",
      " 16  PaperlessBilling  7043 non-null   object \n",
      " 17  PaymentMethod     7043 non-null   object \n",
      " 18  MonthlyCharges    7043 non-null   float64\n",
      " 19  TotalCharges      7043 non-null   object \n",
      " 20  Churn             7043 non-null   object \n",
      "dtypes: float64(1), int64(2), object(18)\n",
      "memory usage: 1.1+ MB\n"
     ]
    }
   ],
   "source": [
    "telco_raw.info()"
   ]
  },
  {
   "cell_type": "markdown",
   "id": "b5102dd5",
   "metadata": {},
   "source": [
    "### Separando variáveis categóricas e numéricas"
   ]
  },
  {
   "cell_type": "code",
   "execution_count": 7,
   "id": "31f3f5c6",
   "metadata": {},
   "outputs": [],
   "source": [
    "# Separando a variável identificadora e a target em listas\n",
    "custid = ['customerID']\n",
    "target = ['Churn']"
   ]
  },
  {
   "cell_type": "code",
   "execution_count": null,
   "id": "6a5e663d",
   "metadata": {},
   "outputs": [],
   "source": [
    "# Definindo uma variável como categórica caso tenha menos de 10 valores exclusivos\n",
    "categorical = telco_raw.nunique()[telco_raw.nunique() < 5].keys().tolist()\n",
    "\n",
    "# Removendo a variável target da lista\n",
    "categorical.remove(target[0])\n",
    "\n",
    "# Armazenando as variáveis restantes na lista numerical\n",
    "numerical = [col for col in telco_raw.columns\n",
    "                     if col not in custid + target + categorical]"
   ]
  },
  {
   "cell_type": "code",
   "execution_count": null,
   "id": "7ced0c1e",
   "metadata": {},
   "outputs": [],
   "source": [
    "categorical"
   ]
  },
  {
   "cell_type": "code",
   "execution_count": null,
   "id": "b98fd5f4",
   "metadata": {},
   "outputs": [],
   "source": [
    "numerical"
   ]
  },
  {
   "cell_type": "markdown",
   "id": "557e8c03",
   "metadata": {},
   "source": [
    "### Encode variáveis categóricas e numéricas"
   ]
  },
  {
   "cell_type": "code",
   "execution_count": null,
   "id": "b45c99f8",
   "metadata": {},
   "outputs": [],
   "source": [
    "# One-hot encoding variáveis categóricas\n",
    "telco_raw = pd.get_dummies(data=telco_raw, columns=categorical, drop_first=True)"
   ]
  },
  {
   "cell_type": "code",
   "execution_count": 8,
   "id": "ab14fb3e",
   "metadata": {},
   "outputs": [
    {
     "data": {
      "text/plain": [
       "customerID          7043\n",
       "gender                 2\n",
       "SeniorCitizen          2\n",
       "Partner                2\n",
       "Dependents             2\n",
       "tenure                73\n",
       "PhoneService           2\n",
       "MultipleLines          3\n",
       "InternetService        3\n",
       "OnlineSecurity         3\n",
       "OnlineBackup           3\n",
       "DeviceProtection       3\n",
       "TechSupport            3\n",
       "StreamingTV            3\n",
       "StreamingMovies        3\n",
       "Contract               3\n",
       "PaperlessBilling       2\n",
       "PaymentMethod          4\n",
       "MonthlyCharges      1585\n",
       "TotalCharges        6531\n",
       "Churn                  2\n",
       "dtype: int64"
      ]
     },
     "execution_count": 8,
     "metadata": {},
     "output_type": "execute_result"
    }
   ],
   "source": [
    "telco_raw.nunique()"
   ]
  },
  {
   "cell_type": "code",
   "execution_count": null,
   "id": "2bbe3082",
   "metadata": {},
   "outputs": [],
   "source": [
    "telco_raw['TotalCharges'] = telco_raw['TotalCharges'].apply(pd.to_numeric, errors='coerce')"
   ]
  },
  {
   "cell_type": "code",
   "execution_count": null,
   "id": "696be271",
   "metadata": {},
   "outputs": [],
   "source": [
    "# Inicializando StandardScaler\n",
    "scaler = StandardScaler()\n",
    "\n",
    "# Fit scaler em colunas numéricas\n",
    "scaled_numerical = scaler.fit_transform(telco_raw[numerical])\n",
    "\n",
    "# Dataframe\n",
    "scaled_numerical = pd.DataFrame(scaled_numerical, columns=numerical)"
   ]
  },
  {
   "cell_type": "code",
   "execution_count": null,
   "id": "4107d1be",
   "metadata": {},
   "outputs": [],
   "source": [
    "# Drop não scaled numérico\n",
    "telco_raw = telco_raw.drop(columns=numerical, axis=1)\n",
    "\n",
    "# Merge não numérico com scaled numérico\n",
    "telco = telco_raw.merge(right=scaled_numerical, how='left', left_index=True, right_index=True)"
   ]
  },
  {
   "cell_type": "markdown",
   "id": "c9b3f979",
   "metadata": {},
   "source": [
    "### Explorando churn e separando dados"
   ]
  },
  {
   "cell_type": "code",
   "execution_count": 9,
   "id": "a0ff930d",
   "metadata": {},
   "outputs": [
    {
     "ename": "NameError",
     "evalue": "name 'telco' is not defined",
     "output_type": "error",
     "traceback": [
      "\u001b[1;31m---------------------------------------------------------------------------\u001b[0m",
      "\u001b[1;31mNameError\u001b[0m                                 Traceback (most recent call last)",
      "\u001b[1;32m<ipython-input-9-7954cc9b2688>\u001b[0m in \u001b[0;36m<module>\u001b[1;34m\u001b[0m\n\u001b[0;32m      1\u001b[0m \u001b[1;31m# Distribuição de churn\u001b[0m\u001b[1;33m\u001b[0m\u001b[1;33m\u001b[0m\u001b[1;33m\u001b[0m\u001b[0m\n\u001b[1;32m----> 2\u001b[1;33m \u001b[0mtelco\u001b[0m\u001b[1;33m.\u001b[0m\u001b[0mgroupby\u001b[0m\u001b[1;33m(\u001b[0m\u001b[1;33m[\u001b[0m\u001b[1;34m'Churn'\u001b[0m\u001b[1;33m]\u001b[0m\u001b[1;33m)\u001b[0m\u001b[1;33m.\u001b[0m\u001b[0msize\u001b[0m\u001b[1;33m(\u001b[0m\u001b[1;33m)\u001b[0m \u001b[1;33m/\u001b[0m \u001b[0mtelco\u001b[0m\u001b[1;33m.\u001b[0m\u001b[0mshape\u001b[0m\u001b[1;33m[\u001b[0m\u001b[1;36m0\u001b[0m\u001b[1;33m]\u001b[0m \u001b[1;33m*\u001b[0m \u001b[1;36m100\u001b[0m\u001b[1;33m\u001b[0m\u001b[1;33m\u001b[0m\u001b[0m\n\u001b[0m",
      "\u001b[1;31mNameError\u001b[0m: name 'telco' is not defined"
     ]
    }
   ],
   "source": [
    "# Distribuição de churn\n",
    "telco.groupby(['Churn']).size() / telco.shape[0] * 100"
   ]
  },
  {
   "cell_type": "code",
   "execution_count": null,
   "id": "fd33145d",
   "metadata": {},
   "outputs": [],
   "source": [
    "# Separando dados de treino e teste\n",
    "train, test = train_test_split(telco, test_size = .25)"
   ]
  },
  {
   "cell_type": "code",
   "execution_count": null,
   "id": "eb4e7571",
   "metadata": {},
   "outputs": [],
   "source": [
    "custid = ['customerID']\n",
    "target = ['Churn']\n",
    "\n",
    "# Armazenando o nomes de colunas, excluindo variável target e customerID\n",
    "cols = [col for col in telco.columns if col not in custid + target]"
   ]
  },
  {
   "cell_type": "code",
   "execution_count": null,
   "id": "2365462a",
   "metadata": {},
   "outputs": [],
   "source": [
    "# Construindo dataset de treino e teste\n",
    "train_X = train[cols]\n",
    "train_Y = train[target]\n",
    "test_X = test[cols]\n",
    "test_Y = test[target]\n",
    "X = telco[cols]\n",
    "Y = telco['Churn']"
   ]
  },
  {
   "cell_type": "code",
   "execution_count": null,
   "id": "74adcceb",
   "metadata": {},
   "outputs": [],
   "source": [
    "# Verificando se os dados de treino são 75% \n",
    "print(train_X.shape[0] / X.shape[0])\n",
    "\n",
    "# Verificando se os dados de teste são 25% \n",
    "print(test_X.shape[0] / Y.shape[0])"
   ]
  },
  {
   "cell_type": "code",
   "execution_count": null,
   "id": "960a3784",
   "metadata": {},
   "outputs": [],
   "source": [
    "telco.describe()"
   ]
  },
  {
   "cell_type": "markdown",
   "id": "e76c775c",
   "metadata": {},
   "source": [
    "### Previsão do churn com árvores de decisão"
   ]
  },
  {
   "cell_type": "code",
   "execution_count": null,
   "id": "bbff6058",
   "metadata": {},
   "outputs": [],
   "source": [
    "depth_list = list(range(2,15))\n",
    "depth_tuning = np.zeros((len(depth_list), 4))\n",
    "depth_tuning[:,0] = depth_list\n",
    "\n",
    "for index in range(len(depth_list)):    \n",
    "    mytree = tree.DecisionTreeClassifier(max_depth=depth_list[index])\n",
    "    mytree.fit(train_X, train_Y)\n",
    "    \n",
    "    # Prevendo dados no dataset de teste\n",
    "    pred_test_Y = mytree.predict(test_X) \n",
    "    \n",
    "    # Cálculo de score da performace do modelo\n",
    "    depth_tuning[index,1] = accuracy_score(test_Y, pred_test_Y)    \n",
    "    depth_tuning[index,2] = precision_score(test_Y, pred_test_Y)    \n",
    "    depth_tuning[index,3] = recall_score(test_Y, pred_test_Y)\n",
    "    \n",
    "col_names = ['Max_Depth','Acurácia','Precisão','Recall']\n",
    "print(pd.DataFrame(depth_tuning, columns=col_names))"
   ]
  },
  {
   "cell_type": "code",
   "execution_count": null,
   "id": "fb40244f",
   "metadata": {},
   "outputs": [],
   "source": [
    "# Medindo precisão e recall \n",
    "train_precision = round(precision_score(train_Y, pred_train_Y, pos_label='Yes'), 4)\n",
    "test_precision = round(precision_score(test_Y, pred_test_Y, pos_label='Yes'), 4)\n",
    "train_recall = round(recall_score(train_Y, pred_train_Y, pos_label='Yes'), 4)\n",
    "test_recall = round(recall_score(test_Y, pred_test_Y, pos_label='Yes'), 4)\n",
    "\n",
    "print('Precisão do Treinamento: {}\\nRecall Treinamento: {}'.format(train_precision, train_recall))\n",
    "print('Precisão do Test: {}\\nRecall Test: {}'.format(test_precision, test_recall))"
   ]
  },
  {
   "cell_type": "markdown",
   "id": "fb4209de",
   "metadata": {},
   "source": [
    "### Identificando e interpretando os drivers de churn"
   ]
  },
  {
   "cell_type": "code",
   "execution_count": null,
   "id": "775eb0f5",
   "metadata": {},
   "outputs": [],
   "source": [
    "# Export graphviz object from the trained decision tree \n",
    "exported = tree.export_graphviz(decision_tree=mytree, \n",
    "            out_file=None, feature_names=train_X.columns, \n",
    "            precision=1, class_names=['Not churn','Churn'], filled = True)\n",
    "\n",
    "graph = graphviz.Source(exported)\n",
    "\n",
    "display_image(\"datasets/decision_tree_rules.png\")"
   ]
  },
  {
   "cell_type": "markdown",
   "id": "3739f074",
   "metadata": {},
   "source": [
    "### Previsão de churn com regressão logística"
   ]
  },
  {
   "cell_type": "code",
   "execution_count": null,
   "id": "8e562004",
   "metadata": {},
   "outputs": [],
   "source": [
    "logreg = LogisticRegression()\n",
    "logreg.fit(train_X, train_Y)\n",
    "\n",
    "# Medindo acuracia do modelo\n",
    "pred_train_Y = logreg.predict(train_X)\n",
    "pred_test_Y = logreg.predict(test_X)\n",
    "\n",
    "train_accuracy = accuracy_score(train_Y, pred_train_Y)\n",
    "test_accuracy = accuracy_score(test_Y, pred_test_Y)\n",
    "\n",
    "print('Acurácia de Treinamento:', round(train_accuracy, 4))\n",
    "print('Acurácia de Teste:', round(test_accuracy, 4))"
   ]
  },
  {
   "cell_type": "code",
   "execution_count": null,
   "id": "eb37be68",
   "metadata": {},
   "outputs": [],
   "source": [
    "# Ajuste da regressão logística com regularização L1\n",
    "# Identificando o coeficiente de penalidade L1 ideal\n",
    "\n",
    "C = [1, .5, .25, .1, .05, .025, .01, .005, .003, 0.0025]\n",
    "l1_metrics = np.zeros((len(C), 5))\n",
    "l1_metrics[:,0] = C\n",
    "\n",
    "for index in range(0, len(C)):\n",
    "    logreg = LogisticRegression(penalty='l1', C=C[index], solver='liblinear')\n",
    "    logreg.fit(train_X, train_Y)\n",
    "    \n",
    "    pred_test_Y = logreg.predict(test_X)\n",
    "    \n",
    "    l1_metrics[index,1] = np.count_nonzero(logreg.coef_)    \n",
    "    l1_metrics[index,2] = accuracy_score(test_Y, pred_test_Y)    \n",
    "    l1_metrics[index,3] = precision_score(test_Y, pred_test_Y, pos_label='Yes', zero_division=1)    \n",
    "    l1_metrics[index,4] = recall_score(test_Y, pred_test_Y, pos_label='Yes')\n",
    "    \n",
    "col_names = ['C','Non-Zero Coeffs','Accuracy','Precision','Recall']\n",
    "pd.DataFrame(l1_metrics, columns=col_names)"
   ]
  },
  {
   "cell_type": "code",
   "execution_count": null,
   "id": "5e4ed434",
   "metadata": {},
   "outputs": [],
   "source": [
    "# Medindo precisão e recall \n",
    "train_precision = round(precision_score(train_Y, pred_train_Y, pos_label='Yes'), 4)\n",
    "test_precision = round(precision_score(test_Y, pred_test_Y, pos_label='Yes'), 4)\n",
    "train_recall = round(recall_score(train_Y, pred_train_Y, pos_label='Yes'), 4)\n",
    "test_recall = round(recall_score(test_Y, pred_test_Y, pos_label='Yes'), 4)\n",
    "\n",
    "print('Precisão do Treinamento: {}\\nRecall Treinamento: {}'.format(train_precision, train_recall))\n",
    "print('Precisão do Test: {}\\nRecall Test: {}'.format(test_precision, test_recall))"
   ]
  },
  {
   "cell_type": "markdown",
   "id": "af550b2b",
   "metadata": {},
   "source": [
    "### Coeficientes regressão logística"
   ]
  },
  {
   "cell_type": "code",
   "execution_count": null,
   "id": "6286e9d4",
   "metadata": {},
   "outputs": [],
   "source": [
    "logreg.coef_"
   ]
  },
  {
   "cell_type": "code",
   "execution_count": null,
   "id": "c53adf91",
   "metadata": {},
   "outputs": [],
   "source": [
    "coefficients = pd.concat([pd.DataFrame(train_X.columns),               \n",
    "                          pd.DataFrame(np.transpose(logit.coef_))],                \n",
    "                          axis = 1)\n",
    "\n",
    "coefficients.columns = ['Feature', 'Coefficient']\n",
    "coefficients['Exp_Coefficient'] = np.exp(coefficients['Coefficient'])\n",
    "coefficients = coefficients[coefficients['Coefficient']!=0]\n",
    "\n",
    "print(coefficients.sort_values(by=['Coefficient']))"
   ]
  },
  {
   "cell_type": "code",
   "execution_count": null,
   "id": "46444714",
   "metadata": {},
   "outputs": [],
   "source": [
    "coefficients = pd.concat([pd.DataFrame(train_X.columns),               \n",
    "                          pd.DataFrame(np.transpose(logit.coef_))],                \n",
    "                          axis = 1)\n",
    "\n",
    "# Combine feature names and coefficients into pandas DataFrame\n",
    "feature_names = pd.DataFrame(train_X.columns, columns = ['Feature'])\n",
    "log_coef = pd.DataFrame(np.transpose(logreg.coef_), columns = ['Coefficient'])\n",
    "coefficients = pd.concat([feature_names, log_coef], axis = 1)\n",
    "\n",
    "# Calculate exponent of the logistic regression coefficients\n",
    "coefficients['Exp_Coefficient'] = np.exp(coefficients['Coefficient'])\n",
    "\n",
    "# Remove coefficients that are equal to zero\n",
    "coefficients = coefficients[coefficients['Coefficient']!=0]\n",
    "\n",
    "# Print the values sorted by the exponent coefficient\n",
    "print(coefficients.sort_values(by=['Coefficient']))"
   ]
  },
  {
   "cell_type": "markdown",
   "id": "4f861eb6",
   "metadata": {},
   "source": [
    "### Customer Lifetime Value (CLV) basics"
   ]
  },
  {
   "cell_type": "code",
   "execution_count": null,
   "id": "4aec165b",
   "metadata": {},
   "outputs": [],
   "source": []
  },
  {
   "cell_type": "code",
   "execution_count": null,
   "id": "d91241cf",
   "metadata": {},
   "outputs": [],
   "source": []
  },
  {
   "cell_type": "code",
   "execution_count": null,
   "id": "7d19568c",
   "metadata": {},
   "outputs": [],
   "source": []
  },
  {
   "cell_type": "code",
   "execution_count": null,
   "id": "b39c3448",
   "metadata": {},
   "outputs": [],
   "source": []
  },
  {
   "cell_type": "code",
   "execution_count": null,
   "id": "dc1b6c04",
   "metadata": {},
   "outputs": [],
   "source": []
  },
  {
   "cell_type": "code",
   "execution_count": null,
   "id": "74afec7e",
   "metadata": {},
   "outputs": [],
   "source": []
  },
  {
   "cell_type": "code",
   "execution_count": null,
   "id": "0e00072e",
   "metadata": {},
   "outputs": [],
   "source": []
  },
  {
   "cell_type": "code",
   "execution_count": null,
   "id": "a35b44e3",
   "metadata": {},
   "outputs": [],
   "source": []
  },
  {
   "cell_type": "code",
   "execution_count": null,
   "id": "7c1ca123",
   "metadata": {},
   "outputs": [],
   "source": []
  },
  {
   "cell_type": "code",
   "execution_count": null,
   "id": "19bef2b9",
   "metadata": {},
   "outputs": [],
   "source": []
  }
 ],
 "metadata": {
  "kernelspec": {
   "display_name": "Python 3",
   "language": "python",
   "name": "python3"
  },
  "language_info": {
   "codemirror_mode": {
    "name": "ipython",
    "version": 3
   },
   "file_extension": ".py",
   "mimetype": "text/x-python",
   "name": "python",
   "nbconvert_exporter": "python",
   "pygments_lexer": "ipython3",
   "version": "3.8.8"
  }
 },
 "nbformat": 4,
 "nbformat_minor": 5
}
