{
 "cells": [
  {
   "cell_type": "markdown",
   "id": "cfc45c1a",
   "metadata": {},
   "source": [
    "<img src = \"https://images2.imgbox.com/60/09/VFwl5LOq_o.jpg\" width=\"400\">"
   ]
  },
  {
   "cell_type": "markdown",
   "id": "269f8390",
   "metadata": {},
   "source": [
    "## 2. Bootstrap confidence intervals\n",
    "---\n",
    "\n",
    "To \"pull yourself up by your bootstraps\" is a classic idiom meaning that you achieve a difficult task by yourself with no help at all. In statistical inference, you want to know what would happen if you could repeat your data acquisition an infinite number of times. This task is impossible, but can we use only the data we actually have to get close to the same result as an infinitude of experiments? The answer is yes! The technique to do it is aptly called bootstrapping. This chapter will introduce you to this extraordinarily powerful tool."
   ]
  },
  {
   "cell_type": "markdown",
   "id": "c0e94d34",
   "metadata": {},
   "source": [
    "## Visualizing bootstrap samples\n",
    "---\n",
    "\n",
    "In this exercise, you will generate bootstrap samples from the set of annual rainfall data measured at the Sheffield Weather Station in the UK from 1883 to 2015. The data are stored in the NumPy array `rainfall` in units of millimeters (mm). By graphically displaying the bootstrap samples with an ECDF, you can get a feel for how bootstrap sampling allows probabilistic descriptions of data."
   ]
  },
  {
   "cell_type": "markdown",
   "id": "cd44a152",
   "metadata": {},
   "source": [
    "### Instructions\n",
    "\n",
    "Write a `for` loop to acquire `50` bootstrap samples of the rainfall data and plot their ECDF.\n",
    "\n",
    "- Use `np.random.choice()` to generate a bootstrap sample from the NumPy array `rainfall`. Be sure that the `size` of the resampled array is `len(rainfall)`.\n",
    "\n",
    "- Use the function `ecdf()` that you wrote in the prequel to this course to generate the `x` and `y` values for the ECDF of the bootstrap sample `bs_sample`.\n",
    "\n",
    "- Plot the ECDF values. Specify `color='gray'` (to make gray dots) and `alpha=0.1` (to make them semi-transparent, since we are overlaying so many) in addition to the `marker='.'` and `linestyle='none'` keyword arguments.\n",
    "\n",
    "Use `ecdf()` to generate `x` and `y` values for the ECDF of the original rainfall data available in the array `rainfall`.\n",
    "\n",
    "Plot the ECDF values of the original data.\n",
    "\n",
    "Hit submit to visualize the samples!"
   ]
  },
  {
   "cell_type": "markdown",
   "id": "773877ff",
   "metadata": {},
   "source": [
    "## Generating many bootstrap replicates\n",
    "---\n",
    "\n",
    "The function `bootstrap_replicate_1d()` from the video is available in your namespace. Now you'll write another function, `draw_bs_reps(data, func, size=1)`, which generates many bootstrap replicates from the data set. This function will come in handy for you again and again as you compute confidence intervals and later when you do hypothesis tests.\n",
    "\n",
    "For your reference, the `bootstrap_replicate_1d()` function is provided below:\n",
    "\n",
    "`def bootstrap_replicate_1d(data, func):\n",
    "    \"\"\"Generate bootstrap replicate of 1D data.\"\"\"\n",
    "    bs_sample = np.random.choice(data, len(data))\n",
    "    return func(bs_sample)`"
   ]
  },
  {
   "cell_type": "markdown",
   "id": "c1438fb8",
   "metadata": {},
   "source": [
    "### Instructions\n",
    "\n",
    "Define a function with call signature `draw_bs_reps(data, func, size=1)`.\n",
    "\n",
    "- Using `np.empty()`, initialize an array called `bs_replicates` of size `size` to hold all of the bootstrap replicates.\n",
    "\n",
    "- Write a `for` loop that ranges over size and computes a replicate using `bootstrap_replicate_1d()`. Refer to the exercise description above to see the function signature of `bootstrap_replicate_1d()`. Store the replicate in the appropriate index of `bs_replicates`.\n",
    "\n",
    "- Return the array of replicates `bs_replicates`. This has already been done for you."
   ]
  },
  {
   "cell_type": "code",
   "execution_count": null,
   "id": "5623dee8",
   "metadata": {},
   "outputs": [],
   "source": []
  },
  {
   "cell_type": "markdown",
   "id": "d0656622",
   "metadata": {},
   "source": [
    "## Bootstrap replicates of the mean and the SEM\n",
    "---\n",
    "\n",
    "In this exercise, you will compute a bootstrap estimate of the probability density function of the mean annual rainfall at the Sheffield Weather Station. Remember, we are estimating the mean annual rainfall we would get if the Sheffield Weather Station could repeat all of the measurements from 1883 to 2015 over and over again. This is a *probabilistic* estimate of the mean. You will plot the PDF as a histogram, and you will see that it is Normal.\n",
    "\n",
    "In fact, it can be shown theoretically that under not-too-restrictive conditions, the value of the mean will always be Normally distributed. (This does not hold in general, just for the mean and a few other statistics.) The standard deviation of this distribution, called the **standard error of the mean**, or SEM, is given by the standard deviation of the data divided by the square root of the number of data points. I.e., for a data set, `sem = np.std(data) / np.sqrt(len(data))`. Using hacker statistics, you get this same result without the need to derive it, but you will verify this result from your bootstrap replicates.\n",
    "\n",
    "The dataset has been pre-loaded for you into an array called `rainfall`."
   ]
  },
  {
   "cell_type": "markdown",
   "id": "e8016fc8",
   "metadata": {},
   "source": [
    "### Instructions\n",
    "\n",
    "Draw `10000` bootstrap replicates of the **mean** annual rainfall using your `draw_bs_reps()` function and the rainfall array. *Hint*: Pass in `np.mean` for `func` to compute the mean.\n",
    "\n",
    "As a reminder, `draw_bs_reps()` accepts 3 arguments: `data`, `func`, and `size`.\n",
    "    \n",
    "Compute and print the standard error of the mean of `rainfall`.\n",
    "\n",
    "The formula to compute this is `np.std(data) / np.sqrt(len(data))`.\n",
    "\n",
    "Compute and print the standard deviation of your bootstrap replicates `bs_replicates`.\n",
    "\n",
    "Make a histogram of the replicates using the `normed=True` keyword argument and `50` bins.\n",
    "\n",
    "Hit submit to see the plot!"
   ]
  },
  {
   "cell_type": "code",
   "execution_count": null,
   "id": "f711a6d5",
   "metadata": {},
   "outputs": [],
   "source": []
  },
  {
   "cell_type": "code",
   "execution_count": null,
   "id": "b43bbfdd",
   "metadata": {},
   "outputs": [],
   "source": [
    "Bootstrap replicates of other statistics\n",
    "We saw in a previous exercise that the mean is Normally distributed. This does not necessarily hold for other statistics, but no worry: as hackers, we can always take bootstrap replicates! In this exercise, you'll generate bootstrap replicates for the variance of the annual rainfall at the Sheffield Weather Station and plot the histogram of the replicates.\n",
    "\n",
    "Here, you will make use of the draw_bs_reps() function you defined a few exercises ago. It is provided below for your reference:\n",
    "\n",
    "def draw_bs_reps(data, func, size=1):\n",
    "    \"\"\"Draw bootstrap replicates.\"\"\"\n",
    "    # Initialize array of replicates\n",
    "    bs_replicates = np.empty(size)\n",
    "    # Generate replicates\n",
    "    for i in range(size):\n",
    "        bs_replicates[i] = bootstrap_replicate_1d(data, func)\n",
    "    return bs_replicates\n",
    "Instructions\n",
    "100 XP\n",
    "Draw 10000 bootstrap replicates of the variance in annual rainfall, stored in the rainfall dataset, using your draw_bs_reps() function. Hint: Pass in np.var for computing the variance.\n",
    "Divide your variance replicates (bs_replicates) by 100 to put the variance in units of square centimeters for convenience.\n",
    "Make a histogram of bs_replicates using the normed=True keyword argument and 50 bins."
   ]
  },
  {
   "cell_type": "code",
   "execution_count": null,
   "id": "5eafa8d4",
   "metadata": {},
   "outputs": [],
   "source": []
  },
  {
   "cell_type": "code",
   "execution_count": null,
   "id": "3ada4200",
   "metadata": {},
   "outputs": [],
   "source": [
    "Confidence interval on the rate of no-hitters\n",
    "Consider again the inter-no-hitter intervals for the modern era of baseball. Generate 10,000 bootstrap replicates of the optimal parameter . Plot a histogram of your replicates and report a 95% confidence interval.\n",
    "\n",
    "Instructions\n",
    "100 XP\n",
    "Generate 10000 bootstrap replicates of  from the nohitter_times data using your draw_bs_reps() function. Recall that the optimal  is calculated as the mean of the data.\n",
    "Compute the 95% confidence interval using np.percentile() and passing in two arguments: The array bs_replicates, and the list of percentiles - in this case 2.5 and 97.5.\n",
    "Print the confidence interval.\n",
    "Plot a histogram of your bootstrap replicates. This has been done for you, so hit submit to see the plot!"
   ]
  },
  {
   "cell_type": "code",
   "execution_count": null,
   "id": "46d985aa",
   "metadata": {},
   "outputs": [],
   "source": []
  },
  {
   "cell_type": "code",
   "execution_count": null,
   "id": "02cb9620",
   "metadata": {},
   "outputs": [],
   "source": [
    "A function to do pairs bootstrap\n",
    "As discussed in the video, pairs bootstrap involves resampling pairs of data. Each collection of pairs fit with a line, in this case using np.polyfit(). We do this again and again, getting bootstrap replicates of the parameter values. To have a useful tool for doing pairs bootstrap, you will write a function to perform pairs bootstrap on a set of x,y data.\n",
    "\n",
    "Instructions\n",
    "100 XP\n",
    "Define a function with call signature draw_bs_pairs_linreg(x, y, size=1) to perform pairs bootstrap estimates on linear regression parameters.\n",
    "Use np.arange() to set up an array of indices going from 0 to len(x). These are what you will resample and use them to pick values out of the x and y arrays.\n",
    "Use np.empty() to initialize the slope and intercept replicate arrays to be of size size.\n",
    "Write a for loop to:\n",
    "Resample the indices inds. Use np.random.choice() to do this.\n",
    "Make new  and  arrays bs_x and bs_y using the the resampled indices bs_inds. To do this, slice x and y with bs_inds.\n",
    "Use np.polyfit() on the new  and  arrays and store the computed slope and intercept.\n",
    "Return the pair bootstrap replicates of the slope and intercept."
   ]
  },
  {
   "cell_type": "code",
   "execution_count": null,
   "id": "e80a51c7",
   "metadata": {},
   "outputs": [],
   "source": []
  },
  {
   "cell_type": "code",
   "execution_count": null,
   "id": "18713c06",
   "metadata": {},
   "outputs": [],
   "source": [
    "Pairs bootstrap of literacy/fertility data\n",
    "Using the function you just wrote, perform pairs bootstrap to plot a histogram describing the estimate of the slope from the illiteracy/fertility data. Also report the 95% confidence interval of the slope. The data is available to you in the NumPy arrays illiteracy and fertility.\n",
    "\n",
    "As a reminder, draw_bs_pairs_linreg() has a function signature of draw_bs_pairs_linreg(x, y, size=1), and it returns two values: bs_slope_reps and bs_intercept_reps.\n",
    "\n",
    "Instructions\n",
    "100 XP\n",
    "Use your draw_bs_pairs_linreg() function to take 1000 bootstrap replicates of the slope and intercept. The x-axis data is illiteracy and y-axis data is fertility.\n",
    "Compute and print the 95% bootstrap confidence interval for the slope.\n",
    "Plot and show a histogram of the slope replicates. Be sure to label your axes. This has been done for you, so click submit to see your histogram!"
   ]
  },
  {
   "cell_type": "code",
   "execution_count": null,
   "id": "198c1413",
   "metadata": {},
   "outputs": [],
   "source": []
  },
  {
   "cell_type": "code",
   "execution_count": null,
   "id": "f057b7fd",
   "metadata": {},
   "outputs": [],
   "source": [
    "Plotting bootstrap regressions\n",
    "A nice way to visualize the variability we might expect in a linear regression is to plot the line you would get from each bootstrap replicate of the slope and intercept. Do this for the first 100 of your bootstrap replicates of the slope and intercept (stored as bs_slope_reps and bs_intercept_reps).\n",
    "\n",
    "Instructions\n",
    "100 XP\n",
    "Generate an array of -values consisting of 0 and 100 for the plot of the regression lines. Use the np.array() function for this.\n",
    "Write a for loop in which you plot a regression line with a slope and intercept given by the pairs bootstrap replicates. Do this for 100 lines.\n",
    "When plotting the regression lines in each iteration of the for loop, recall the regression equation y = a*x + b. Here, a is bs_slope_reps[i] and b is bs_intercept_reps[i].\n",
    "Specify the keyword arguments linewidth=0.5, alpha=0.2, and color='red' in your call to plt.plot().\n",
    "Make a scatter plot with illiteracy on the x-axis and fertility on the y-axis. Remember to specify the marker='.' and linestyle='none' keyword arguments.\n",
    "Label the axes, set a 2% margin, and show the plot. This has been done for you, so hit submit to visualize the bootstrap regressions!"
   ]
  },
  {
   "cell_type": "code",
   "execution_count": null,
   "id": "37b76f86",
   "metadata": {},
   "outputs": [],
   "source": []
  }
 ],
 "metadata": {
  "kernelspec": {
   "display_name": "Python 3 (ipykernel)",
   "language": "python",
   "name": "python3"
  },
  "language_info": {
   "codemirror_mode": {
    "name": "ipython",
    "version": 3
   },
   "file_extension": ".py",
   "mimetype": "text/x-python",
   "name": "python",
   "nbconvert_exporter": "python",
   "pygments_lexer": "ipython3",
   "version": "3.9.7"
  }
 },
 "nbformat": 4,
 "nbformat_minor": 5
}
