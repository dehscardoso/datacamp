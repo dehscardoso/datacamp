{
 "cells": [
  {
   "cell_type": "markdown",
   "id": "7b5551b8",
   "metadata": {},
   "source": [
    "<img src = \"https://images2.imgbox.com/60/09/VFwl5LOq_o.jpg\" width=\"400\">"
   ]
  },
  {
   "cell_type": "markdown",
   "id": "0ebdfcde",
   "metadata": {},
   "source": [
    "# 1. Parameter estimation by optimization\n",
    "---\n",
    "\n",
    "When doing statistical inference, we speak the language of probability. A probability distribution that describes your data has parameters. So, a major goal of statistical inference is to estimate the values of these parameters, which allows us to concisely and unambiguously describe our data and draw conclusions from it. In this chapter, you will learn how to find the optimal parameters, those that best describe your data."
   ]
  },
  {
   "cell_type": "markdown",
   "id": "293a68d2",
   "metadata": {},
   "source": [
    "## How often do we get no-hitters?\n",
    "---\n",
    "\n",
    "The number of games played between each no-hitter in the modern era (1901-2015) of Major League Baseball is stored in the array `nohitter_times`.\n",
    "\n",
    "If you assume that no-hitters are described as a Poisson process, then the time between no-hitters is Exponentially distributed. As you have seen, the Exponential distribution has a single parameter, which we will call &#x3C4;, the typical interval time. The value of the parameter &#x3C4; that makes the exponential distribution best match the data is the mean interval time (where time is in units of number of games) between no-hitters.\n",
    "\n",
    "Compute the value of this parameter from the data. Then, use `np.random.exponential()` to \"repeat\" the history of Major League Baseball by drawing inter-no-hitter times from an exponential distribution with the  you found and plot the histogram as an approximation to the PDF.\n",
    "\n",
    "NumPy, pandas, matplotlib.pyplot, and seaborn have been imported for you as `np`, `pd`, `plt`, and `sns`, respectively."
   ]
  },
  {
   "cell_type": "markdown",
   "id": "e95f182e",
   "metadata": {},
   "source": [
    "### Instructions\n",
    "\n",
    "Seed the random number generator with `42`.\n",
    "\n",
    "Compute the mean time (in units of number of games) between no-hitters.\n",
    "\n",
    "Draw 100,000 samples from an Exponential distribution with the parameter you computed from the mean of the inter-no-hitter times.\n",
    "\n",
    "Plot the theoretical PDF using `plt.hist()`. Remember to use keyword arguments `bins=50`, `normed=True`, and `histtype='step'`. Be sure to label your axes.\n",
    "\n",
    "Show your plot."
   ]
  },
  {
   "cell_type": "code",
   "execution_count": null,
   "id": "ec2f36bd",
   "metadata": {},
   "outputs": [],
   "source": []
  },
  {
   "cell_type": "markdown",
   "id": "2fb62cb2",
   "metadata": {},
   "source": [
    "## Do the data follow our story?\n",
    "---\n",
    "\n",
    "You have modeled no-hitters using an Exponential distribution. Create an ECDF of the real data. Overlay the theoretical CDF with the ECDF from the data. This helps you to verify that the Exponential distribution describes the observed data.\n",
    "\n",
    "It may be helpful to remind yourself of the function you created in the previous course to compute the ECDF, as well as the code you wrote to plot it."
   ]
  },
  {
   "cell_type": "markdown",
   "id": "40844456",
   "metadata": {},
   "source": [
    "### Instructions\n",
    "\n",
    "Compute an ECDF from the actual time between no-hitters (`nohitter_times`). Use the `ecdf()` function you wrote in the prequel course.\n",
    "\n",
    "Create a CDF from the theoretical samples you took in the last exercise (`inter_nohitter_time`).\n",
    "\n",
    "Plot `x_theor` and `y_theor` as a line using `plt.plot()`. Then overlay the ECDF of the real data `x` and `y` as points. To do this, you have to specify the keyword arguments `marker = '.'` and `linestyle = 'none'` in addition to `x` and `y` inside `plt.plot()`.\n",
    "\n",
    "Set a 2% margin on the plot.\n",
    "\n",
    "Show the plot."
   ]
  },
  {
   "cell_type": "code",
   "execution_count": null,
   "id": "83a8d4cd",
   "metadata": {},
   "outputs": [],
   "source": []
  },
  {
   "cell_type": "markdown",
   "id": "26fcc9ac",
   "metadata": {},
   "source": [
    "## How is this parameter optimal?\n",
    "---\n",
    "Now sample out of an exponential distribution with &#x3C4; being twice as large as the optimal &#x3C4;. Do it again for &#x3C4; half as large. Make CDFs of these samples and overlay them with your data. You can see that they do not reproduce the data as well. Thus, the &#x3C4; you computed from the mean inter-no-hitter times is optimal in that it best reproduces the data.\n",
    "\n",
    "Note: In this and all subsequent exercises, the random number generator is pre-seeded for you to save you some typing."
   ]
  },
  {
   "cell_type": "markdown",
   "id": "81dd580c",
   "metadata": {},
   "source": [
    "### Instructions\n",
    "\n",
    "Take `10000` samples out of an Exponential distribution with parameter &#x3C4;1/2 = `tau/2`.\n",
    "\n",
    "Take `10000` samples out of an Exponential distribution with parameter &#x3C4;2 = `2*tau`.\n",
    "\n",
    "Generate CDFs from these two sets of samples using your `ecdf()` function.\n",
    "\n",
    "Add these two CDFs as lines to your plot. This has been done for you, so hit submit to view the plot!"
   ]
  },
  {
   "cell_type": "code",
   "execution_count": null,
   "id": "a70311b5",
   "metadata": {},
   "outputs": [],
   "source": []
  },
  {
   "cell_type": "markdown",
   "id": "1cc65084",
   "metadata": {},
   "source": [
    "## EDA of literacy/fertility data\n",
    "---\n",
    "\n",
    "In the next few exercises, we will look at the correlation between female literacy and fertility (defined as the average number of children born per woman) throughout the world. For ease of analysis and interpretation, we will work with the illiteracy rate.\n",
    "\n",
    "It is always a good idea to do some EDA ahead of our analysis. To this end, plot the fertility versus illiteracy and compute the Pearson correlation coefficient. The NumPy array `illiteracy` has the illiteracy rate among females for most of the world's nations. The array fertility has the corresponding `fertility` data.\n",
    "\n",
    "Here, it may be useful to refer back to the function you wrote in the previous course to compute the Pearson correlation coefficient."
   ]
  },
  {
   "cell_type": "markdown",
   "id": "a3978deb",
   "metadata": {},
   "source": [
    "### Instructions\n",
    "\n",
    "Plot `fertility` (y-axis) versus `illiteracy` (x-axis) as a scatter plot.\n",
    "\n",
    "Set a 2% margin.\n",
    "\n",
    "Compute and print the Pearson correlation coefficient between `illiteracy` and `fertility`."
   ]
  },
  {
   "cell_type": "markdown",
   "id": "617f9982",
   "metadata": {},
   "source": [
    "## Linear regression\n",
    "---\n",
    "\n",
    "We will assume that fertility is a linear function of the female illiteracy rate. That is, f = ai + b , where  is the slope and  is the intercept. We can think of the intercept as the minimal fertility rate, probably somewhere between one and two. The slope tells us how the fertility rate varies with illiteracy. We can find the best fit line using `np.polyfit()`.\n",
    "\n",
    "Plot the data and the best fit line. Print out the slope and intercept. (Think: what are their units?)"
   ]
  },
  {
   "cell_type": "markdown",
   "id": "6a3eabe7",
   "metadata": {},
   "source": [
    "### Instructions\n",
    "\n",
    "Compute the slope and intercept of the regression line using `np.polyfit()`. Remember, `fertility` is on the y-axis and `illiteracy` on the x-axis.\n",
    "\n",
    "Print out the slope and intercept from the linear regression.\n",
    "\n",
    "To plot the best fit line, create an array `x` that consists of 0 and 100 using `np.array()`. Then, compute the theoretical values of `y` based on your regression parameters. I.e., `y = a * x + b`.\n",
    "\n",
    "Plot the data and the regression line on the same plot. Be sure to label your axes."
   ]
  },
  {
   "cell_type": "code",
   "execution_count": null,
   "id": "773f49c0",
   "metadata": {},
   "outputs": [],
   "source": []
  },
  {
   "cell_type": "markdown",
   "id": "942a315c",
   "metadata": {},
   "source": [
    "## How is it optimal?\n",
    "---\n",
    "\n",
    "The function `np.polyfit()` that you used to get your regression parameters finds the optimal slope and intercept. It is optimizing the sum of the squares of the residuals, also known as RSS (for residual sum of squares). In this exercise, you will plot the function that is being optimized, the RSS, versus the slope parameter `a`. To do this, fix the intercept to be what you found in the optimization. Then, plot the RSS versus the slope. Where is it minimal?"
   ]
  },
  {
   "cell_type": "markdown",
   "id": "aa0ce807",
   "metadata": {},
   "source": [
    "### Instructions\n",
    "\n",
    "Specify the values of the slope to compute the RSS. Use `np.linspace()` to get `200` points in the range between `0` and `0.1`. For example, to get `100` points in the range between `0` and `0.5`, you could use `np.linspace()` like so: `np.linspace(0, 0.5, 100)`.\n",
    "\n",
    "Initialize an array, `rss`, to contain the RSS using `np.empty_like()` and the array you created above. The `empty_like()` function returns a new array with the same shape and type as a given array (in this case, `a_vals`).\n",
    "\n",
    "Write a `for` loop to compute the sum of RSS of the slope. Hint: the RSS is given by `np.sum((y_data - a * x_data - b)**2)`. The variable `b` you computed in the last exercise is already in your namespace. Here, `fertility` is the `y_data` and `illiteracy` the `x_data`.\n",
    "\n",
    "Plot the RSS (`rss`) versus slope (`a_vals`).\n",
    "\n",
    "Hit submit to see the plot!"
   ]
  },
  {
   "cell_type": "code",
   "execution_count": null,
   "id": "0009fcae",
   "metadata": {},
   "outputs": [],
   "source": []
  },
  {
   "cell_type": "markdown",
   "id": "225c97b9",
   "metadata": {},
   "source": [
    "## Linear regression on appropriate Anscombe data\n",
    "---\n",
    "\n",
    "For practice, perform a linear regression on the data set from Anscombe's quartet that is most reasonably interpreted with linear regression."
   ]
  },
  {
   "cell_type": "markdown",
   "id": "a65451e5",
   "metadata": {},
   "source": [
    "### Instructions\n",
    "\n",
    "Compute the parameters for the slope and intercept using `np.polyfit()`. The Anscombe data are stored in the arrays `x` and `y`.\n",
    "\n",
    "Print the slope `a` and intercept `b`.\n",
    "\n",
    "Generate theoretical x and y data from the linear regression. Your  array, which you can create with `np.array()`, should consist of `3` and `15`. To generate the y data, multiply the slope by `x_theor` and add the intercept.\n",
    "\n",
    "Plot the Anscombe data as a scatter plot and then plot the theoretical line. Remember to include the `marker='.'` and `linestyle='none'` keyword arguments in addition to `x` and `y` when to plot the Anscombe data as a scatter plot. You do not need these arguments when plotting the theoretical line.\n",
    "\n",
    "Hit submit to see the plot!"
   ]
  },
  {
   "cell_type": "code",
   "execution_count": null,
   "id": "35c92c40",
   "metadata": {},
   "outputs": [],
   "source": []
  },
  {
   "cell_type": "markdown",
   "id": "de8478e2",
   "metadata": {},
   "source": [
    "## Linear regression on all Anscombe data\n",
    "---\n",
    "\n",
    "Now, to verify that all four of the Anscombe data sets have the same slope and intercept from a linear regression, you will compute the slope and intercept for each set. The data are stored in lists; `anscombe_x = [x1, x2, x3, x4]` and `anscombe_y = [y1, y2, y3, y4]`, where, for example, `x2` and `y2` are the  and  values for the second Anscombe data set."
   ]
  },
  {
   "cell_type": "markdown",
   "id": "a497fbc5",
   "metadata": {},
   "source": [
    "### Instructions\n",
    "\n",
    "Write a `for` loop to do the following for each Anscombe data set.\n",
    "\n",
    "Compute the slope and intercept.\n",
    "\n",
    "Print the slope and intercept."
   ]
  },
  {
   "cell_type": "code",
   "execution_count": null,
   "id": "cfbed04e",
   "metadata": {},
   "outputs": [],
   "source": []
  },
  {
   "cell_type": "code",
   "execution_count": null,
   "id": "39e0f932",
   "metadata": {},
   "outputs": [],
   "source": []
  }
 ],
 "metadata": {
  "kernelspec": {
   "display_name": "Python 3 (ipykernel)",
   "language": "python",
   "name": "python3"
  },
  "language_info": {
   "codemirror_mode": {
    "name": "ipython",
    "version": 3
   },
   "file_extension": ".py",
   "mimetype": "text/x-python",
   "name": "python",
   "nbconvert_exporter": "python",
   "pygments_lexer": "ipython3",
   "version": "3.9.7"
  }
 },
 "nbformat": 4,
 "nbformat_minor": 5
}
