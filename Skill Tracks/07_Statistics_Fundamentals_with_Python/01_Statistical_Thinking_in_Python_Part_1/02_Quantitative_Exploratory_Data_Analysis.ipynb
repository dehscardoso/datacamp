{
 "cells": [
  {
   "cell_type": "markdown",
   "id": "e7c93b70",
   "metadata": {},
   "source": [
    "<img src = \"https://images2.imgbox.com/60/09/VFwl5LOq_o.jpg\" width=\"400\">"
   ]
  },
  {
   "cell_type": "markdown",
   "id": "2457058c",
   "metadata": {},
   "source": [
    "# 2. Quantitative Exploratory Data Analysis\n",
    "---\n",
    "\n",
    "In this chapter, you will compute useful summary statistics, which serve to concisely describe salient features of a dataset with a few numbers."
   ]
  },
  {
   "cell_type": "code",
   "execution_count": 14,
   "id": "362377bd",
   "metadata": {},
   "outputs": [],
   "source": [
    "import numpy as np\n",
    "import matplotlib.pyplot as plt\n",
    "import seaborn as sns\n",
    "import pandas as pd"
   ]
  },
  {
   "cell_type": "code",
   "execution_count": 17,
   "id": "fee5702f",
   "metadata": {},
   "outputs": [],
   "source": [
    "df = pd.read_csv('data/iris.csv')"
   ]
  },
  {
   "cell_type": "code",
   "execution_count": 11,
   "id": "c9bb2f6a",
   "metadata": {},
   "outputs": [],
   "source": [
    "x_vers =  np.array([3., 3.3, 3.3, 3.5, 3.5, 3.6, 3.7, 3.8, 3.9, 3.9, 3.9, 4., 4., 4., 4., 4., 4.1, 4.1,\n",
    "                     4.1, 4.2, 4.2, 4.2, 4.2, 4.3, 4.3, 4.4, 4.4, 4.4, 4.4, 4.5, 4.5, 4.5, 4.5, 4.5, \n",
    "                     4.5, 4.5, 4.6, 4.6, 4.6, 4.7, 4.7, 4.7, 4.7, 4.7, 4.8, 4.8, 4.9, 4.9, 5., 5.1])\n",
    "\n",
    "y_vers = np.array([0.02, 0.04, 0.06, 0.08, 0.1, 0.12, 0.14, 0.16, 0.18, 0.2, 0.22, 0.24, 0.26, 0.28,\n",
    "                     0.3, 0.32, 0.34, 0.36, 0.38, 0.4, 0.42, 0.44, 0.46, 0.48, 0.5, 0.52, 0.54, 0.56,\n",
    "                     0.58, 0.6, 0.62, 0.64, 0.66, 0.68, 0.7, 0.72, 0.74, 0.76, 0.78, 0.8, 0.82, 0.84,\n",
    "                     0.86, 0.88, 0.9, 0.92, 0.94, 0.96, 0.98, 1.])"
   ]
  },
  {
   "cell_type": "code",
   "execution_count": 28,
   "id": "cbc0e51d",
   "metadata": {},
   "outputs": [],
   "source": [
    "versicolor_petal_length = np.array(df[df['species'] == 'Versicolor']['petal length (cm)'].values)\n",
    "versicolor_petal_width = np.array(df[df['species'] == 'Versicolor']['petal width (cm)'].values)"
   ]
  },
  {
   "cell_type": "markdown",
   "id": "82a5977e",
   "metadata": {},
   "source": [
    "## Computing means\n",
    "---\n",
    "\n",
    "The mean of all measurements gives an indication of the typical magnitude of a measurement. It is computed using np.mean()."
   ]
  },
  {
   "cell_type": "markdown",
   "id": "241d086f",
   "metadata": {},
   "source": [
    "### Instructions \n",
    "\n",
    "Compute the mean petal length of Iris versicolor from Anderson's classic data set. The variable `versicolor_petal_length` is provided in your namespace. Assign the mean to `mean_length_vers`.\n",
    "\n",
    "Hit submit to print the result."
   ]
  },
  {
   "cell_type": "code",
   "execution_count": 23,
   "id": "151bc3ed",
   "metadata": {},
   "outputs": [
    {
     "name": "stdout",
     "output_type": "stream",
     "text": [
      "I. versicolor: 4.26 cm\n"
     ]
    }
   ],
   "source": [
    "# Compute the mean: mean_length_vers\n",
    "mean_length_vers = np.mean(versicolor_petal_length)\n",
    "\n",
    "# Print the result with some nice formatting\n",
    "print('I. versicolor:', mean_length_vers, 'cm')"
   ]
  },
  {
   "cell_type": "markdown",
   "id": "ef679096",
   "metadata": {},
   "source": [
    "## Computing percentiles\n",
    "---\n",
    "\n",
    "In this exercise, you will compute the percentiles of petal length of *Iris versicolor.*"
   ]
  },
  {
   "cell_type": "markdown",
   "id": "3fac0464",
   "metadata": {},
   "source": [
    "### Instructions\n",
    "\n",
    "Create `percentiles`, a NumPy array of percentiles you want to compute. These are the 2.5th, 25th, 50th, 75th, and 97.5th. You can do so by creating a list containing these ints/floats and convert the list to a NumPy array using `np.array()`. For example, `np.array([30, 50])` would create an array consisting of the 30th and 50th percentiles.\n",
    "\n",
    "Use `np.percentile()` to compute the percentiles of the petal lengths from the *Iris versicolor* samples. The variable `versicolor_petal_length` is in your namespace.\n",
    "\n",
    "Print the percentiles."
   ]
  },
  {
   "cell_type": "code",
   "execution_count": 24,
   "id": "ae66bfb9",
   "metadata": {},
   "outputs": [
    {
     "name": "stdout",
     "output_type": "stream",
     "text": [
      "[3.3    4.     4.35   4.6    4.9775]\n"
     ]
    }
   ],
   "source": [
    "# Specify array of percentiles: percentiles\n",
    "percentiles = np.array([2.5, 25, 50, 75, 97.5])\n",
    "\n",
    "# Compute percentiles: ptiles_vers\n",
    "ptiles_vers = np.percentile(versicolor_petal_length, percentiles)\n",
    "\n",
    "# Print the result\n",
    "print(ptiles_vers)"
   ]
  },
  {
   "cell_type": "markdown",
   "id": "89178712",
   "metadata": {},
   "source": [
    "## Comparing percentiles to ECDF\n",
    "---\n",
    "\n",
    "To see how the percentiles relate to the ECDF, you will plot the percentiles of *Iris versicolor* petal lengths you calculated in the last exercise on the ECDF plot you generated in chapter 1. The percentile variables from the previous exercise are available in the workspace as `ptiles_vers` and `percentiles`.\n",
    "\n",
    "Note that to ensure the Y-axis of the ECDF plot remains between 0 and 1, you will need to rescale the `percentiles` array accordingly - in this case, dividing it by 100."
   ]
  },
  {
   "cell_type": "markdown",
   "id": "22d4f35a",
   "metadata": {},
   "source": [
    "### Instructions\n",
    "\n",
    "Plot the percentiles as red diamonds on the ECDF. Pass the x and y co-ordinates - `ptiles_vers` and `percentiles/100` - as positional arguments and specify the `marker='D'`, `color='red'` and `linestyle='none'` keyword arguments. The argument for the y-axis - `percentiles/100` has been specified for you.\n",
    "\n",
    "Display the plot."
   ]
  },
  {
   "cell_type": "code",
   "execution_count": 12,
   "id": "15e5b0ed",
   "metadata": {},
   "outputs": [
    {
     "data": {
      "image/png": "[encoded data removed]",
      "text/plain": [
       "<Figure size 432x288 with 1 Axes>"
      ]
     },
     "metadata": {
      "needs_background": "light"
     },
     "output_type": "display_data"
    }
   ],
   "source": [
    "# Plot the ECDF\n",
    "_ = plt.plot(x_vers, y_vers, '.')\n",
    "_ = plt.xlabel('petal length (cm)')\n",
    "_ = plt.ylabel('ECDF')\n",
    "\n",
    "# Overlay percentiles as red diamonds.\n",
    "_ = plt.plot(ptiles_vers, percentiles/100, marker='D', color='red',\n",
    "         linestyle='none')\n",
    "\n",
    "# Show the plot\n",
    "plt.show()"
   ]
  },
  {
   "cell_type": "markdown",
   "id": "8585b33f",
   "metadata": {},
   "source": [
    "## Box-and-whisker plot\n",
    "---\n",
    "\n",
    "Making a box plot for the petal lengths is unnecessary because the iris data set is not too large and the bee swarm plot works fine. However, it is always good to get some practice. Make a box plot of the iris petal lengths. You have a pandas DataFrame, `df`, which contains the petal length data, in your namespace. Inspect the data frame `df` in the IPython Shell using `df.head()` to make sure you know what the pertinent columns are.\n",
    "\n",
    "For your reference, the code used to produce the box plot in the video is provided below:\n",
    "\n",
    "`_ = sns.boxplot(x='east_west', y='dem_share', data=df_all_states)\n",
    "_ = plt.xlabel('region')\n",
    "_ = plt.ylabel('percent of vote for Obama')`\n",
    "\n",
    "In the IPython Shell, you can use `sns.boxplot`? or `help(sns.boxplot)` for more details on how to make box plots using seaborn.\n"
   ]
  },
  {
   "cell_type": "markdown",
   "id": "b96dffb9",
   "metadata": {},
   "source": [
    "### Instructions\n",
    "\n",
    "The set-up is exactly the same as for the bee swarm plot; you just call `sns.boxplot()` with the same keyword arguments as you would `sns.swarmplot()`. The x-axis is `'species'` and y-axis is `'petal length (cm)'`.\n",
    "\n",
    "Don't forget to label your axes!\n",
    "\n",
    "Display the figure using the normal call."
   ]
  },
  {
   "cell_type": "code",
   "execution_count": 25,
   "id": "1dbe3992",
   "metadata": {},
   "outputs": [
    {
     "data": {
      "image/png": "[encoded data removed]",
      "text/plain": [
       "<Figure size 432x288 with 1 Axes>"
      ]
     },
     "metadata": {
      "needs_background": "light"
     },
     "output_type": "display_data"
    }
   ],
   "source": [
    "# Create box plot with Seaborn's default settings\n",
    "_ = sns.boxplot(x='species', y='petal length (cm)', data=df)\n",
    "\n",
    "# Label the axes\n",
    "_ = plt.xlabel('species')\n",
    "_ = plt.ylabel('petal length (cm)')\n",
    "\n",
    "# Show the plot\n",
    "plt.show()"
   ]
  },
  {
   "cell_type": "markdown",
   "id": "29e212cc",
   "metadata": {},
   "source": [
    "## Computing the variance\n",
    "---\n",
    "\n",
    "It is important to have some understanding of what commonly-used functions are doing under the hood. Though you may already know how to compute variances, this is a beginner course that does not assume so. In this exercise, we will explicitly compute the variance of the petal length of *Iris veriscolor* using the equations discussed in the videos. We will then use `np.var()` to compute it."
   ]
  },
  {
   "cell_type": "markdown",
   "id": "c452ce54",
   "metadata": {},
   "source": [
    "### Instructions\n",
    "\n",
    "Create an array called `differences` that is the difference between the petal lengths (`versicolor_petal_length`) and the mean petal length. The variable `versicolor_petal_length` is already in your namespace as a NumPy array so you can take advantage of NumPy's vectorized operations.\n",
    "\n",
    "Square each element in this array. For example, `x ** 2` squares each element in the array `x`. Store the result as `diff_sq`.\n",
    "\n",
    "Compute the mean of the elements in `diff_sq` using `np.mean()`. Store the result as `variance_explicit`.\n",
    "\n",
    "Compute the variance of `versicolor_petal_length` using `np.var()`. Store the result as `variance_np`.\n",
    "\n",
    "Print both `variance_explicit` and `variance_np` in one `print` call to make sure they are consistent."
   ]
  },
  {
   "cell_type": "code",
   "execution_count": 26,
   "id": "67d8e520",
   "metadata": {},
   "outputs": [
    {
     "name": "stdout",
     "output_type": "stream",
     "text": [
      "0.21640000000000004 0.21640000000000004\n"
     ]
    }
   ],
   "source": [
    "# Array of differences to mean: differences\n",
    "differences = np.array(versicolor_petal_length - np.mean(versicolor_petal_length))\n",
    "\n",
    "# Square the differences: diff_sq\n",
    "diff_sq = differences ** 2\n",
    "\n",
    "# Compute the mean square difference: variance_explicit\n",
    "variance_explicit = np.mean(diff_sq)\n",
    "\n",
    "# Compute the variance using NumPy: variance_np\n",
    "variance_np = np.var(versicolor_petal_length)\n",
    "\n",
    "# Print the results\n",
    "print(variance_explicit, variance_np)"
   ]
  },
  {
   "cell_type": "markdown",
   "id": "ea8d049d",
   "metadata": {},
   "source": [
    "## The standard deviation and the variance\n",
    "---\n",
    "\n",
    "As mentioned in the video, the standard deviation is the square root of the variance. You will see this for yourself by computing the standard deviation using `np.std()` and comparing it to what you get by computing the variance with `np.var()` and then computing the square root."
   ]
  },
  {
   "cell_type": "markdown",
   "id": "18155da2",
   "metadata": {},
   "source": [
    "### Instructions\n",
    "\n",
    "Compute the variance of the data in the `versicolor_petal_length` array using `np.var()` and store it in a variable called `variance`.\n",
    "\n",
    "Print the square root of this value.\n",
    "\n",
    "Print the standard deviation of the data in the `versicolor_petal_length` array using `np.std()`."
   ]
  },
  {
   "cell_type": "code",
   "execution_count": 27,
   "id": "e4d8fb3b",
   "metadata": {},
   "outputs": [
    {
     "name": "stdout",
     "output_type": "stream",
     "text": [
      "0.4651881339845203\n",
      "0.4651881339845203\n"
     ]
    }
   ],
   "source": [
    "# Compute the variance: variance\n",
    "variance = np.var(versicolor_petal_length)\n",
    "\n",
    "# Print the square root of the variance\n",
    "print(np.sqrt(variance))\n",
    "\n",
    "# Print the standard deviation\n",
    "print(np.std(versicolor_petal_length))"
   ]
  },
  {
   "cell_type": "markdown",
   "id": "60cc80c2",
   "metadata": {},
   "source": [
    "## Scatter plots\n",
    "---\n",
    "\n",
    "When you made bee swarm plots, box plots, and ECDF plots in previous exercises, you compared the petal lengths of different species of iris. But what if you want to compare two properties of a single species? This is exactly what we will do in this exercise. We will make a scatter plot of the petal length and width measurements of Anderson's Iris versicolor flowers. If the flower scales (that is, it preserves its proportion as it grows), we would expect the length and width to be correlated.\n",
    "\n",
    "For your reference, the code used to produce the scatter plot in the video is provided below:\n",
    "\n",
    "`_ = plt.plot(total_votes/1000, dem_share, marker='.', linestyle='none')\n",
    "_ = plt.xlabel('total votes (thousands)')\n",
    "_ = plt.ylabel('percent of vote for Obama')`"
   ]
  },
  {
   "cell_type": "markdown",
   "id": "9f0c44b8",
   "metadata": {},
   "source": [
    "### Instructions\n",
    "\n",
    "Use `plt.plot()` with the appropriate keyword arguments to make a scatter plot of versicolor petal length (x-axis) versus petal width (y-axis). The variables `versicolor_petal_length` and `versicolor_petal_width` are already in your namespace. Do not forget to use the `marker='.'` and `linestyle='none'` keyword arguments.\n",
    "\n",
    "Label the axes.\n",
    "\n",
    "Display the plot."
   ]
  },
  {
   "cell_type": "code",
   "execution_count": 30,
   "id": "506f5e71",
   "metadata": {},
   "outputs": [
    {
     "data": {
      "image/png": "[encoded data removed]",
      "text/plain": [
       "<Figure size 432x288 with 1 Axes>"
      ]
     },
     "metadata": {
      "needs_background": "light"
     },
     "output_type": "display_data"
    }
   ],
   "source": [
    "_ = plt.plot(versicolor_petal_length, versicolor_petal_width, marker='.', linestyle='none')\n",
    "_ = plt.xlabel('petal width (cm)')\n",
    "_ = plt.ylabel('petal length (cm)')\n",
    "plt.show()"
   ]
  },
  {
   "cell_type": "markdown",
   "id": "620a3a2d",
   "metadata": {},
   "source": [
    "## Computing the covariance\n",
    "---\n",
    "\n",
    "The covariance may be computed using the Numpy function `np.cov()`. For example, we have two sets of data `x` and `y`, `np.cov(x, y)` returns a 2D array where entries `[0,1]` and `[1,0]` are the covariances. Entry `[0,0]` is the variance of the data in `x`, and entry `[1,1]` is the variance of the data in `y`. This 2D output array is called the **covariance matrix**, since it organizes the self- and covariance.\n",
    "\n",
    "To remind you how the *I. versicolor* petal length and width are related, we include the scatter plot you generated in a previous exercise.\n"
   ]
  },
  {
   "cell_type": "markdown",
   "id": "52c96608",
   "metadata": {},
   "source": [
    "### Instructions\n",
    "\n",
    "Use `np.cov()` to compute the covariance matrix for the petal length (`versicolor_petal_length`) and width (`versicolor_petal_width`) of I. versicolor.\n",
    "\n",
    "Print the covariance matrix.\n",
    "\n",
    "Extract the covariance from entry `[0,1]` of the covariance matrix. Note that by symmetry, entry `[1,0]` is the same as entry `[0,1]`.\n",
    "\n",
    "Print the covariance."
   ]
  },
  {
   "cell_type": "code",
   "execution_count": 34,
   "id": "8e8766bc",
   "metadata": {},
   "outputs": [
    {
     "name": "stdout",
     "output_type": "stream",
     "text": [
      "[[0.22081633 0.07310204]\n",
      " [0.07310204 0.03910612]]\n",
      "0.07310204081632653\n"
     ]
    }
   ],
   "source": [
    "# Compute the covariance matrix: covariance_matrix\n",
    "covariance_matrix = np.cov(versicolor_petal_length, versicolor_petal_width)\n",
    "\n",
    "# Print covariance matrix\n",
    "print(covariance_matrix)\n",
    "\n",
    "# Extract covariance of length and width of petals: petal_cov\n",
    "petal_cov = covariance_matrix[0,1]\n",
    "\n",
    "# Print the length/width covariance\n",
    "print(petal_cov)"
   ]
  },
  {
   "cell_type": "markdown",
   "id": "4ee1e38b",
   "metadata": {},
   "source": [
    "## Computing the Pearson correlation coefficient\n",
    "---\n",
    "\n",
    "As mentioned in the video, the Pearson correlation coefficient, also called the Pearson r, is often easier to interpret than the covariance. It is computed using the `np.corrcoef()` function. Like `np.cov()`, it takes two arrays as arguments and returns a 2D array. Entries `[0,0]` and `[1,1]` are necessarily equal to 1 (can you think about why?), and the value we are after is entry `[0,1]`.\n",
    "\n",
    "In this exercise, you will write a function, `pearson_r(x, y)` that takes in two arrays and returns the Pearson correlation coefficient. You will then use this function to compute it for the petal lengths and widths of *I. versicolor.*\n",
    "\n",
    "Again, we include the scatter plot you generated in a previous exercise to remind you how the petal width and length are related."
   ]
  },
  {
   "cell_type": "markdown",
   "id": "8e9a5c2e",
   "metadata": {},
   "source": [
    "### Instructions\n",
    "\n",
    "Define a function with signature `pearson_r(x, y)`.\n",
    "\n",
    "- Use `np.corrcoef()` to compute the correlation matrix of `x` and `y` (pass them to `np.corrcoef()` in that order).\n",
    "- The function returns entry `[0,1]` of the correlation matrix.\n",
    "- Compute the Pearson correlation between the data in the arrays `versicolor_petal_length` and `versicolor_petal_width`. Assign the result to `r`.\n",
    "- Print the result."
   ]
  },
  {
   "cell_type": "code",
   "execution_count": 32,
   "id": "aea40f28",
   "metadata": {},
   "outputs": [
    {
     "name": "stdout",
     "output_type": "stream",
     "text": [
      "0.7866680885228168\n"
     ]
    }
   ],
   "source": [
    "def pearson_r(x, y):\n",
    "    \"\"\"Compute Pearson correlation coefficient between two arrays.\"\"\"\n",
    "    # Compute correlation matrix: corr_mat\n",
    "    corr_mat = np.corrcoef(x, y)\n",
    "\n",
    "\n",
    "    # Return entry [0,1]\n",
    "    return corr_mat[0,1]\n",
    "\n",
    "# Compute Pearson correlation coefficient for I. versicolor: r\n",
    "r = pearson_r(versicolor_petal_length, versicolor_petal_width)\n",
    "\n",
    "# Print the result\n",
    "print(r)"
   ]
  }
 ],
 "metadata": {
  "kernelspec": {
   "display_name": "Python 3 (ipykernel)",
   "language": "python",
   "name": "python3"
  },
  "language_info": {
   "codemirror_mode": {
    "name": "ipython",
    "version": 3
   },
   "file_extension": ".py",
   "mimetype": "text/x-python",
   "name": "python",
   "nbconvert_exporter": "python",
   "pygments_lexer": "ipython3",
   "version": "3.9.7"
  }
 },
 "nbformat": 4,
 "nbformat_minor": 5
}
