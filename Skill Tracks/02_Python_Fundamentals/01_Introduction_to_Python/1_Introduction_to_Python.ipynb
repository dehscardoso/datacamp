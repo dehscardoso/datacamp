{
 "cells": [
  {
   "cell_type": "markdown",
   "id": "b26a00ef",
   "metadata": {},
   "source": [
    "<img src = \"https://images2.imgbox.com/60/09/VFwl5LOq_o.jpg\" width=\"400\">"
   ]
  },
  {
   "cell_type": "markdown",
   "id": "12ac2814",
   "metadata": {},
   "source": [
    "# 1. Python Basics\n",
    "---\n",
    "\n",
    "An introduction to the basic concepts of Python. Learn how to use Python interactively and by using a script. Create your first variables and acquaint yourself with Python's basic data types.\n",
    "\n",
    "Python is a general-purpose programming language that is becoming ever more popular for data science. Companies worldwide are using Python to harvest insights from their data and gain a competitive edge. Unlike other Python tutorials, this course focuses on Python specifically for data science. In our Introduction to Python course, you’ll learn about powerful ways to store and manipulate data, and helpful data science tools to begin conducting your own analyses. "
   ]
  },
  {
   "cell_type": "markdown",
   "id": "479ac8e5",
   "metadata": {},
   "source": [
    "## The Python Interface\n",
    "---\n",
    "In the Python script on the right, you can type Python code to solve the exercises. If you hit Run Code or Submit Answer, your python script (`script.py`) is executed and the output is shown in the IPython Shell. Submit Answer checks whether your submission is correct and gives you feedback.\n",
    "\n",
    "You can hit Run Code and Submit Answer as often as you want. If you're stuck, you can click Get Hint, and ultimately Get Solution.\n",
    "\n",
    "You can also use the IPython Shell interactively by simply typing commands and hitting Enter. When you work in the shell directly, your code will not be checked for correctness so it is a great way to experiment."
   ]
  },
  {
   "cell_type": "markdown",
   "id": "44f30064",
   "metadata": {},
   "source": [
    "### Instructions\n",
    "\n",
    "Experiment in the IPython Shell; type `5 / 8`, for example.\n",
    "\n",
    "Add another line of code to the Python script on the top-right (not in the Shell): `print(7 + 10)`.\n",
    "\n",
    "Hit Submit Answer to execute the Python script and receive feedback."
   ]
  },
  {
   "cell_type": "code",
   "execution_count": 1,
   "id": "43c2b084",
   "metadata": {},
   "outputs": [
    {
     "name": "stdout",
     "output_type": "stream",
     "text": [
      "0.625\n"
     ]
    }
   ],
   "source": [
    "print(5 / 8)"
   ]
  },
  {
   "cell_type": "code",
   "execution_count": 2,
   "id": "136724b4",
   "metadata": {},
   "outputs": [
    {
     "name": "stdout",
     "output_type": "stream",
     "text": [
      "17\n"
     ]
    }
   ],
   "source": [
    "print(7 + 10)"
   ]
  },
  {
   "cell_type": "markdown",
   "id": "b10637fc",
   "metadata": {},
   "source": [
    "## Any comments? \n",
    "---\n",
    "\n",
    "Something that Hugo didn't mention in his videos is that you can add comments to your Python scripts. Comments are important to make sure that you and others can understand what your code is about.\n",
    "\n",
    "To add comments to your Python script, you can use the # tag. These comments are not run as Python code, so they will not influence your result. As an example, take the comment in the editor, # Division; it is completely ignored during execution."
   ]
  },
  {
   "cell_type": "markdown",
   "id": "d0e24326",
   "metadata": {},
   "source": [
    "### Instructions\n",
    "\n",
    "`print(7 + 10)`, add the comment"
   ]
  },
  {
   "cell_type": "code",
   "execution_count": 3,
   "id": "b4d222b7",
   "metadata": {},
   "outputs": [
    {
     "name": "stdout",
     "output_type": "stream",
     "text": [
      "0.625\n"
     ]
    }
   ],
   "source": [
    "# Division\n",
    "print(5 / 8)"
   ]
  },
  {
   "cell_type": "code",
   "execution_count": 4,
   "id": "641ab719",
   "metadata": {},
   "outputs": [
    {
     "name": "stdout",
     "output_type": "stream",
     "text": [
      "17\n"
     ]
    }
   ],
   "source": [
    "# Addition\n",
    "print(7 + 10)"
   ]
  },
  {
   "cell_type": "markdown",
   "id": "8cecad41",
   "metadata": {},
   "source": [
    "## Python as a calculator\n",
    "---\n",
    "\n",
    "Python is perfectly suited to do basic calculations. Apart from addition, subtraction, multiplication and division, there is also support for more advanced operations such as:\n",
    "\n",
    "Exponentiation: `**`. This operator raises the number to its left to the power of the number to its right. For example `4**2` will give `16`.\n",
    "\n",
    "Modulo: `%`. This operator returns the remainder of the division of the number to the left by the number on its right. For example `18 % 7` equals `4`.\n",
    "\n",
    "The code in the script gives some examples."
   ]
  },
  {
   "cell_type": "markdown",
   "id": "92be2b99",
   "metadata": {},
   "source": [
    "### Instructions\n",
    "\n",
    "Suppose you have $100, which you can invest with a 10% return each year. After one year, it's 100 X 1.1 = 110 dollars, and after two years it's 100 X 1.1 X 1.1 = 121. Add code to calculate how much money you end up with after 7 years, and print the result."
   ]
  },
  {
   "cell_type": "code",
   "execution_count": 6,
   "id": "00e2b741",
   "metadata": {},
   "outputs": [
    {
     "name": "stdout",
     "output_type": "stream",
     "text": [
      "10\n",
      "0\n"
     ]
    }
   ],
   "source": [
    "# Addition, subtraction\n",
    "print(5 + 5)\n",
    "print(5 - 5)"
   ]
  },
  {
   "cell_type": "code",
   "execution_count": 7,
   "id": "12b37a2e",
   "metadata": {},
   "outputs": [
    {
     "name": "stdout",
     "output_type": "stream",
     "text": [
      "15\n",
      "5.0\n",
      "4\n",
      "16\n"
     ]
    }
   ],
   "source": [
    "# Multiplication, division, modulo, and exponentiation\n",
    "print(3 * 5)\n",
    "print(10 / 2)\n",
    "print(18 % 7)\n",
    "print(4 ** 2)"
   ]
  },
  {
   "cell_type": "code",
   "execution_count": 8,
   "id": "f3e8544c",
   "metadata": {},
   "outputs": [
    {
     "name": "stdout",
     "output_type": "stream",
     "text": [
      "194.87171000000012\n"
     ]
    }
   ],
   "source": [
    "# How much is your $100 worth after 7 years?\n",
    "print(100 * 1.1 ** 7)"
   ]
  },
  {
   "cell_type": "markdown",
   "id": "cf160fa9",
   "metadata": {},
   "source": [
    "## Variable Assignment\n",
    "---\n",
    "\n",
    "In Python, a variable allows you to refer to a value with a name. To create a variable use `=`, like this example:\n",
    "\n",
    "`x = 5`\n",
    "\n",
    "You can now use the name of this variable, `x`, instead of the actual value, `5`.\n",
    "\n",
    "Remember, `=` in Python means *assignment*, it doesn't test equality!"
   ]
  },
  {
   "cell_type": "markdown",
   "id": "51623d6c",
   "metadata": {},
   "source": [
    "### Instructions\n",
    "\n",
    "Create a variable `savings` with the value 100.\n",
    "\n",
    "Check out this variable by typing `print(savings)` in the script."
   ]
  },
  {
   "cell_type": "code",
   "execution_count": 9,
   "id": "9bb127d9",
   "metadata": {},
   "outputs": [
    {
     "name": "stdout",
     "output_type": "stream",
     "text": [
      "100\n"
     ]
    }
   ],
   "source": [
    "# Create a variable savings\n",
    "savings = 100\n",
    "\n",
    "# Print out savings\n",
    "print(savings)"
   ]
  },
  {
   "cell_type": "markdown",
   "id": "e01c38e3",
   "metadata": {},
   "source": [
    "## Calculations with variables\n",
    "---\n",
    "\n",
    "Remember how you calculated the money you ended up with after 7 years of investing $100? You did something like this:\n",
    "\n",
    "`100 * 1.1 ** 7`\n",
    "\n",
    "Instead of calculating with the actual values, you can use variables instead. The `savings` variable you've created in the previous exercise represents the $100 you started with. It's up to you to create a new variable to represent `1.1` and then redo the calculations!"
   ]
  },
  {
   "cell_type": "markdown",
   "id": "51de16d5",
   "metadata": {},
   "source": [
    "### Instructions\n",
    "\n",
    "Create a variable `growth_multiplier`, equal to `1.1`.\n",
    "\n",
    "Create a variable, `result`, equal to the amount of money you saved after `7` years.\n",
    "\n",
    "Print out the value of `result`."
   ]
  },
  {
   "cell_type": "code",
   "execution_count": 10,
   "id": "ce09300b",
   "metadata": {},
   "outputs": [
    {
     "name": "stdout",
     "output_type": "stream",
     "text": [
      "194.87171000000012\n"
     ]
    }
   ],
   "source": [
    "# Create a variable savings\n",
    "savings = 100\n",
    "\n",
    "# Create a variable growth_multiplier\n",
    "growth_multiplier = 1.1\n",
    "\n",
    "# Calculate result\n",
    "result = savings * growth_multiplier ** 7\n",
    "\n",
    "# Print out result\n",
    "print(result)"
   ]
  },
  {
   "cell_type": "markdown",
   "id": "228c1f62",
   "metadata": {},
   "source": [
    "## Other variable types\n",
    "---\n",
    "In the previous exercise, you worked with two Python data types:\n",
    "\n",
    "- `int`, or integer: a number without a fractional part. `savings`, with the value `100`, is an example of an integer.\n",
    "- `float`, or floating point: a number that has both an integer and fractional part, separated by a point. `growth_multiplie`r, with the value `1.1`, is an example of a float.\n",
    "\n",
    "Next to numerical data types, there are two other very common data types:\n",
    "\n",
    "- `str, or string`: a type to represent text. You can use single or double quotes to build a string.\n",
    "- `bool, or boolean`: a type to represent logical values. Can only be `True` or `False` (the capitalization is important!)."
   ]
  },
  {
   "cell_type": "markdown",
   "id": "fa23337e",
   "metadata": {},
   "source": [
    "### Instructions\n",
    "\n",
    "Create a new string, `desc`, with the value `\"compound interest\"`.\n",
    "\n",
    "Create a new boolean, `profitable`, with the value `True`."
   ]
  },
  {
   "cell_type": "code",
   "execution_count": 11,
   "id": "f231173f",
   "metadata": {},
   "outputs": [],
   "source": [
    "# Create a variable desc\n",
    "desc = \"compound interest\"\n",
    "\n",
    "# Create a variable profitable\n",
    "profitable = True"
   ]
  },
  {
   "cell_type": "markdown",
   "id": "2522fb01",
   "metadata": {},
   "source": [
    "## Operations with other types\n",
    "---\n",
    "Hugo mentioned that different types behave differently in Python.\n",
    "\n",
    "When you sum two strings, for example, you'll get different behavior than when you sum two integers or two booleans.\n",
    "\n",
    "In the script some variables with different types have already been created. It's up to you to use them."
   ]
  },
  {
   "cell_type": "markdown",
   "id": "c59d0a61",
   "metadata": {},
   "source": [
    "### Instructions\n",
    "\n",
    "Calculate the product of `savings` and `growth_multiplier`. Store the result in `year1`.\n",
    "\n",
    "What do you think the resulting type will be? Find out by printing out the type of `year1`.\n",
    "\n",
    "Calculate the sum of `desc` and `desc` and store the result in a new variable `doubledesc`.\n",
    "\n",
    "Print out `doubledesc`. Did you expect this?"
   ]
  },
  {
   "cell_type": "code",
   "execution_count": 12,
   "id": "a5d9fe09",
   "metadata": {},
   "outputs": [
    {
     "name": "stdout",
     "output_type": "stream",
     "text": [
      "<class 'float'>\n",
      "compound interestcompound interest\n"
     ]
    }
   ],
   "source": [
    "savings = 100\n",
    "growth_multiplier = 1.1\n",
    "desc = \"compound interest\"\n",
    "\n",
    "# Assign product of growth_multiplier and savings to year1\n",
    "year1 = growth_multiplier * savings\n",
    "\n",
    "# Print the type of year1\n",
    "print(type(year1))\n",
    "\n",
    "# Assign sum of desc and desc to doubledesc\n",
    "doubledesc = desc + desc\n",
    "\n",
    "# Print out doubledesc\n",
    "print(doubledesc)"
   ]
  },
  {
   "cell_type": "markdown",
   "id": "5231ad30",
   "metadata": {},
   "source": [
    "## Type conversion\n",
    "---\n",
    "\n",
    "Using the `+` operator to paste together two strings can be very useful in building custom messages.\n",
    "\n",
    "Suppose, for example, that you've calculated the return of your investment and want to summarize the results in a string. Assuming the integer `savings` and float `result` are defined, you can try something like this:\n",
    "\n",
    "`print(\"I started with $\" + savings + \" and now have $\" + result + \". Awesome!\")`\n",
    "\n",
    "This will not work, though, as you cannot simply sum strings and integers/floats.\n",
    "\n",
    "To fix the error, you'll need to explicitly convert the types of your variables. More specifically, you'll need `str()`, to convert a value into a string. `str(savings)`, for example, will convert the integer `savings` to a string.\n",
    "\n",
    "Similar functions such as `int()`, `float()` and `bool()` will help you convert Python values into any type."
   ]
  },
  {
   "cell_type": "markdown",
   "id": "b318c03b",
   "metadata": {},
   "source": [
    "### Instructions\n",
    "\n",
    "Hit *Run Code* to run the code. Try to understand the error message.\n",
    "\n",
    "Fix the code such that the printout runs without errors; use the function `str()` to convert the variables to strings.\n",
    "\n",
    "Convert the variable `pi_string` to a float and store this float as a new variable, `pi_float`."
   ]
  },
  {
   "cell_type": "code",
   "execution_count": 13,
   "id": "79e950ad",
   "metadata": {},
   "outputs": [
    {
     "name": "stdout",
     "output_type": "stream",
     "text": [
      "I started with $100 and now have $194.87171000000012. Awesome!\n"
     ]
    }
   ],
   "source": [
    "# Definition of savings and result\n",
    "savings = 100\n",
    "result = 100 * 1.10 ** 7\n",
    "\n",
    "# Fix the printout\n",
    "print(\"I started with $\" + str(savings) + \" and now have $\" + str(result) + \". Awesome!\")\n",
    "\n",
    "# Definition of pi_string\n",
    "pi_string = \"3.1415926\"\n",
    "\n",
    "# Convert pi_string into float: pi_float\n",
    "pi_float = float(pi_string)"
   ]
  }
 ],
 "metadata": {
  "kernelspec": {
   "display_name": "Python 3",
   "language": "python",
   "name": "python3"
  },
  "language_info": {
   "codemirror_mode": {
    "name": "ipython",
    "version": 3
   },
   "file_extension": ".py",
   "mimetype": "text/x-python",
   "name": "python",
   "nbconvert_exporter": "python",
   "pygments_lexer": "ipython3",
   "version": "3.8.8"
  }
 },
 "nbformat": 4,
 "nbformat_minor": 5
}
