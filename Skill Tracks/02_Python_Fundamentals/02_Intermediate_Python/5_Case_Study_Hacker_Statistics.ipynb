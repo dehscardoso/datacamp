{
 "cells": [
  {
   "cell_type": "markdown",
   "id": "ebb09c43",
   "metadata": {},
   "source": [
    "<img src = \"https://images2.imgbox.com/60/09/VFwl5LOq_o.jpg\" width=\"400\">"
   ]
  },
  {
   "cell_type": "markdown",
   "id": "9ac91c28",
   "metadata": {},
   "source": [
    "# 5. Case Study: Hacker Statistics\n",
    "---\n",
    "This chapter will allow you to apply all the concepts you've learned in this course. You will use hacker statistics to calculate your chances of winning a bet. Use random number generators, loops, and Matplotlib to gain a competitive edge!"
   ]
  },
  {
   "cell_type": "code",
   "execution_count": null,
   "id": "967af61e",
   "metadata": {},
   "outputs": [],
   "source": []
  }
 ],
 "metadata": {
  "kernelspec": {
   "display_name": "Python 3",
   "language": "python",
   "name": "python3"
  },
  "language_info": {
   "codemirror_mode": {
    "name": "ipython",
    "version": 3
   },
   "file_extension": ".py",
   "mimetype": "text/x-python",
   "name": "python",
   "nbconvert_exporter": "python",
   "pygments_lexer": "ipython3",
   "version": "3.8.8"
  }
 },
 "nbformat": 4,
 "nbformat_minor": 5
}
