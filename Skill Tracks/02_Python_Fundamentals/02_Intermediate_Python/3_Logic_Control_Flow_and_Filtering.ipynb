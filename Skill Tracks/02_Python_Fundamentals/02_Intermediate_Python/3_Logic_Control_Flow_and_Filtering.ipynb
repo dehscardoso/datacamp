{
 "cells": [
  {
   "cell_type": "markdown",
   "id": "d446f095",
   "metadata": {},
   "source": [
    "<img src = \"https://images2.imgbox.com/60/09/VFwl5LOq_o.jpg\" width=\"400\">"
   ]
  },
  {
   "cell_type": "markdown",
   "id": "21f29965",
   "metadata": {},
   "source": [
    "# 3. Logic, Control Flow and Filtering\n",
    "---\n",
    "\n",
    "Boolean logic is the foundation of decision-making in Python programs. Learn about different comparison operators, how to combine them with Boolean operators, and how to use the Boolean outcomes in control structures. You'll also learn to filter data in pandas DataFrames using logic."
   ]
  },
  {
   "cell_type": "code",
   "execution_count": null,
   "id": "8944706d",
   "metadata": {},
   "outputs": [],
   "source": []
  }
 ],
 "metadata": {
  "kernelspec": {
   "display_name": "Python 3",
   "language": "python",
   "name": "python3"
  },
  "language_info": {
   "codemirror_mode": {
    "name": "ipython",
    "version": 3
   },
   "file_extension": ".py",
   "mimetype": "text/x-python",
   "name": "python",
   "nbconvert_exporter": "python",
   "pygments_lexer": "ipython3",
   "version": "3.8.8"
  }
 },
 "nbformat": 4,
 "nbformat_minor": 5
}
