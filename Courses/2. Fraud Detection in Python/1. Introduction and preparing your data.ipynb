{
 "cells": [
  {
   "cell_type": "markdown",
   "id": "d4ed17d5",
   "metadata": {},
   "source": [
    "<img src = \"https://images2.imgbox.com/60/09/VFwl5LOq_o.jpg\" width=\"400\">"
   ]
  },
  {
   "cell_type": "markdown",
   "id": "f9097afa",
   "metadata": {},
   "source": [
    "# 1. Introduction and preparing your data\n",
    "---\n",
    "\n",
    "A typical organization loses an estimated 5% of its yearly revenue to fraud. In this course, you will learn how to fight fraud by using data. For example, you'll learn how to apply supervised learning algorithms to detect fraudulent behavior similar to past ones, as well as unsupervised learning methods to discover new types of fraud activities. Moreover, in fraud analytics you often deal with highly imbalanced datasets when classifying fraud versus non-fraud, and during this course you will pick up some techniques on how to deal with that. The course provides a mix of technical and theoretical insights and shows you hands-on how to practically implement fraud detection models. In addition, you will get tips and advice from real-life experience to help you prevent making common mistakes in fraud analytics.\n",
    "\n",
    "In this chapter, you'll learn about the typical challenges associated with fraud detection, and will learn how to resample your data in a smart way, to tackle problems with imbalanced data.\n",
    "\n",
    "Welcome to this DataCamp course on fraud detection. To benefit from this course, you should be comfortable with manipulating dataframes, visualizing data, and have foundations in supervised and unsupervised learning.\n",
    "\n",
    "### What is fraud?\n",
    "Fraudulent behavior can be found in many different areas. Credit card fraud is perhaps the most famous example, and also in the insurance industry, fraud is a well-known issue. But it is much more broadly present than that. For example even all e-commerce businesses need to continuously assess whether client transactions on their website are legit. Detecting fraud is typically challenging because of these four characteristics of fraud described here. First of all, fraud cases are in a minority, sometimes only one-hundredth percent of a companies' transactions are fraudulent. Fraudsters will also try their best to \"blend\" in and conceal their activities. Moreover, fraudsters will find new methods to avoid getting caught, and change their behavior over time. Lastly, fraudsters oftentimes work together and organize their activities in a network, making it harder to detect. It can be that multiple client accounts are involved around one fraud case. Let's illustrate this with an example.\n",
    "\n",
    "### Fraud detection is challenging\n",
    "Have you ever played \"Where is Waldo\" or \"Find the odd one out\"? Like in the game, in fraud detection you'll need to train an algorithm to pick a well concealed observation out of many normal observations. \n",
    "\n",
    "This is much more like in real life, we'll need to find a fraud case based on numbers. The case we're looking for is well concealed and only one of these is odd. Can you find it?\n",
    "\n",
    "`\n",
    " 16 | 80 | 44 | 22 \n",
    " 24 | 96 | 20 | 32 \n",
    " 08 | 28 | 36 | 26 \n",
    " 40 | 56 | 68 | 04   \n",
    "`\n",
    "\n",
    "Here it is, 26. It's the only number in this set that's not divisible by 4. This illustrates a typical fraud detection problem really well: based on data, you'll need to train an algorithm to find the odd one out among many normal observations.\n",
    "\n",
    "`\n",
    " 16 | 80 | 44 | 22 \n",
    " 24 | 96 | 20 | 32 \n",
    " 08 | 28 | 36 | 26* \n",
    " 40 | 56 | 68 | 04\n",
    "`\n",
    "\n",
    "### How companies deal with fraud\n",
    "As a data scientist working on fraud analytics, you'll often be asked to improve existing fraud detection systems. You'll maybe find that the company already uses a rules based system to filter out strange cases. Or that the fraud analytics team checks the news for suspicious names, or keeps track of external hit lists from the police to reference check against the client base. All these existing methods can be useful for your machine learning model, as you can use them as inputs in your analysis. But do be mindful when using labels that come out of existing rules based systems; you should always ask yourself whether the labels are reliable as they might not catch all fraudulent cases.\n",
    "\n",
    "### Let's have a look at some data\n",
    "In this chapter we'll explore a dataset on credit card transactions. We have 29 features available, and a Class variable, containing information about whether the transaction is fraudulent or not. We have data on 5050 transactions in total. This should be enough for training our first algorithm on."
   ]
  },
  {
   "cell_type": "markdown",
   "id": "e052ffe1",
   "metadata": {},
   "source": [
    "## Checking the fraud to non-fraud ratio\n",
    "---\n",
    "In this chapter, you will work on creditcard_sampledata.csv, a dataset containing credit card transactions data. Fraud occurrences are fortunately an extreme minority in these transactions.\n",
    "\n",
    "However, Machine Learning algorithms usually work best when the different classes contained in the dataset are more or less equally present. If there are few cases of fraud, then there's little data to learn how to identify them. This is known as class imbalance, and it's one of the main challenges of fraud detection.\n",
    "\n",
    "Let's explore this dataset, and observe this class imbalance problem."
   ]
  },
  {
   "cell_type": "markdown",
   "id": "d5dfd9b8",
   "metadata": {},
   "source": [
    "### Instructions\n",
    "\n",
    "- Import `pandas` as `pd`, read the credit card data in and assign it to `df`. This has been done for you.\n",
    "- Use `.info()` to print information about `df`.\n",
    "- Use `.value_counts()` to get the count of fraudulent and non-fraudulent transactions in the `'Class'` column. Assign the result to `occ`.\n",
    "- Get the ratio of fraudulent transactions over the total number of transactions in the dataset."
   ]
  },
  {
   "cell_type": "code",
   "execution_count": 15,
   "id": "e83a0dfc",
   "metadata": {},
   "outputs": [],
   "source": [
    "import pandas as pd\n",
    "import numpy as np\n",
    "import matplotlib.pyplot as plt"
   ]
  },
  {
   "cell_type": "code",
   "execution_count": 5,
   "id": "35290e2d",
   "metadata": {},
   "outputs": [],
   "source": [
    "df = pd.read_csv('datasets/creditcard_sampledata.csv')"
   ]
  },
  {
   "cell_type": "code",
   "execution_count": 6,
   "id": "f4fa804c",
   "metadata": {},
   "outputs": [
    {
     "data": {
      "text/html": [
       "<div>\n",
       "<style scoped>\n",
       "    .dataframe tbody tr th:only-of-type {\n",
       "        vertical-align: middle;\n",
       "    }\n",
       "\n",
       "    .dataframe tbody tr th {\n",
       "        vertical-align: top;\n",
       "    }\n",
       "\n",
       "    .dataframe thead th {\n",
       "        text-align: right;\n",
       "    }\n",
       "</style>\n",
       "<table border=\"1\" class=\"dataframe\">\n",
       "  <thead>\n",
       "    <tr style=\"text-align: right;\">\n",
       "      <th></th>\n",
       "      <th>Unnamed: 0</th>\n",
       "      <th>Time</th>\n",
       "      <th>V1</th>\n",
       "      <th>V2</th>\n",
       "      <th>V3</th>\n",
       "      <th>V4</th>\n",
       "      <th>V5</th>\n",
       "      <th>V6</th>\n",
       "      <th>V7</th>\n",
       "      <th>V8</th>\n",
       "      <th>...</th>\n",
       "      <th>V21</th>\n",
       "      <th>V22</th>\n",
       "      <th>V23</th>\n",
       "      <th>V24</th>\n",
       "      <th>V25</th>\n",
       "      <th>V26</th>\n",
       "      <th>V27</th>\n",
       "      <th>V28</th>\n",
       "      <th>Amount</th>\n",
       "      <th>Class</th>\n",
       "    </tr>\n",
       "  </thead>\n",
       "  <tbody>\n",
       "    <tr>\n",
       "      <th>0</th>\n",
       "      <td>0</td>\n",
       "      <td>64</td>\n",
       "      <td>1.212511</td>\n",
       "      <td>-0.099054</td>\n",
       "      <td>-1.192094</td>\n",
       "      <td>0.286324</td>\n",
       "      <td>2.160516</td>\n",
       "      <td>3.616314</td>\n",
       "      <td>-0.404207</td>\n",
       "      <td>0.842331</td>\n",
       "      <td>...</td>\n",
       "      <td>-0.167496</td>\n",
       "      <td>-0.494695</td>\n",
       "      <td>-0.149785</td>\n",
       "      <td>1.011227</td>\n",
       "      <td>0.883548</td>\n",
       "      <td>-0.329434</td>\n",
       "      <td>0.020370</td>\n",
       "      <td>0.017037</td>\n",
       "      <td>34.70</td>\n",
       "      <td>0</td>\n",
       "    </tr>\n",
       "    <tr>\n",
       "      <th>1</th>\n",
       "      <td>1</td>\n",
       "      <td>64</td>\n",
       "      <td>-0.658305</td>\n",
       "      <td>0.406791</td>\n",
       "      <td>2.037461</td>\n",
       "      <td>-0.291298</td>\n",
       "      <td>0.147910</td>\n",
       "      <td>-0.350857</td>\n",
       "      <td>0.945373</td>\n",
       "      <td>-0.172560</td>\n",
       "      <td>...</td>\n",
       "      <td>-0.156096</td>\n",
       "      <td>-0.238805</td>\n",
       "      <td>0.089877</td>\n",
       "      <td>0.421195</td>\n",
       "      <td>-0.352487</td>\n",
       "      <td>0.074783</td>\n",
       "      <td>-0.094192</td>\n",
       "      <td>-0.092493</td>\n",
       "      <td>54.99</td>\n",
       "      <td>0</td>\n",
       "    </tr>\n",
       "    <tr>\n",
       "      <th>2</th>\n",
       "      <td>2</td>\n",
       "      <td>124</td>\n",
       "      <td>1.105253</td>\n",
       "      <td>0.541842</td>\n",
       "      <td>0.839421</td>\n",
       "      <td>2.570933</td>\n",
       "      <td>-0.279517</td>\n",
       "      <td>-0.423062</td>\n",
       "      <td>0.088019</td>\n",
       "      <td>0.011622</td>\n",
       "      <td>...</td>\n",
       "      <td>-0.137434</td>\n",
       "      <td>-0.460991</td>\n",
       "      <td>0.189397</td>\n",
       "      <td>0.556329</td>\n",
       "      <td>0.185786</td>\n",
       "      <td>-0.189030</td>\n",
       "      <td>0.000208</td>\n",
       "      <td>0.026167</td>\n",
       "      <td>6.24</td>\n",
       "      <td>0</td>\n",
       "    </tr>\n",
       "    <tr>\n",
       "      <th>3</th>\n",
       "      <td>3</td>\n",
       "      <td>128</td>\n",
       "      <td>1.239495</td>\n",
       "      <td>-0.182609</td>\n",
       "      <td>0.155058</td>\n",
       "      <td>-0.928892</td>\n",
       "      <td>-0.746227</td>\n",
       "      <td>-1.235608</td>\n",
       "      <td>-0.061695</td>\n",
       "      <td>-0.125223</td>\n",
       "      <td>...</td>\n",
       "      <td>0.146077</td>\n",
       "      <td>0.481119</td>\n",
       "      <td>-0.140019</td>\n",
       "      <td>0.538261</td>\n",
       "      <td>0.710720</td>\n",
       "      <td>-0.621382</td>\n",
       "      <td>0.036867</td>\n",
       "      <td>0.010963</td>\n",
       "      <td>8.80</td>\n",
       "      <td>0</td>\n",
       "    </tr>\n",
       "    <tr>\n",
       "      <th>4</th>\n",
       "      <td>4</td>\n",
       "      <td>132</td>\n",
       "      <td>-1.571359</td>\n",
       "      <td>1.687508</td>\n",
       "      <td>0.734670</td>\n",
       "      <td>1.293350</td>\n",
       "      <td>-0.217532</td>\n",
       "      <td>-0.002677</td>\n",
       "      <td>0.147364</td>\n",
       "      <td>0.515362</td>\n",
       "      <td>...</td>\n",
       "      <td>0.048549</td>\n",
       "      <td>0.377256</td>\n",
       "      <td>-0.030436</td>\n",
       "      <td>0.117608</td>\n",
       "      <td>-0.060520</td>\n",
       "      <td>-0.296550</td>\n",
       "      <td>-0.481570</td>\n",
       "      <td>-0.167897</td>\n",
       "      <td>10.00</td>\n",
       "      <td>0</td>\n",
       "    </tr>\n",
       "  </tbody>\n",
       "</table>\n",
       "<p>5 rows × 32 columns</p>\n",
       "</div>"
      ],
      "text/plain": [
       "   Unnamed: 0  Time        V1        V2        V3        V4        V5  \\\n",
       "0           0    64  1.212511 -0.099054 -1.192094  0.286324  2.160516   \n",
       "1           1    64 -0.658305  0.406791  2.037461 -0.291298  0.147910   \n",
       "2           2   124  1.105253  0.541842  0.839421  2.570933 -0.279517   \n",
       "3           3   128  1.239495 -0.182609  0.155058 -0.928892 -0.746227   \n",
       "4           4   132 -1.571359  1.687508  0.734670  1.293350 -0.217532   \n",
       "\n",
       "         V6        V7        V8  ...       V21       V22       V23       V24  \\\n",
       "0  3.616314 -0.404207  0.842331  ... -0.167496 -0.494695 -0.149785  1.011227   \n",
       "1 -0.350857  0.945373 -0.172560  ... -0.156096 -0.238805  0.089877  0.421195   \n",
       "2 -0.423062  0.088019  0.011622  ... -0.137434 -0.460991  0.189397  0.556329   \n",
       "3 -1.235608 -0.061695 -0.125223  ...  0.146077  0.481119 -0.140019  0.538261   \n",
       "4 -0.002677  0.147364  0.515362  ...  0.048549  0.377256 -0.030436  0.117608   \n",
       "\n",
       "        V25       V26       V27       V28  Amount  Class  \n",
       "0  0.883548 -0.329434  0.020370  0.017037   34.70      0  \n",
       "1 -0.352487  0.074783 -0.094192 -0.092493   54.99      0  \n",
       "2  0.185786 -0.189030  0.000208  0.026167    6.24      0  \n",
       "3  0.710720 -0.621382  0.036867  0.010963    8.80      0  \n",
       "4 -0.060520 -0.296550 -0.481570 -0.167897   10.00      0  \n",
       "\n",
       "[5 rows x 32 columns]"
      ]
     },
     "execution_count": 6,
     "metadata": {},
     "output_type": "execute_result"
    }
   ],
   "source": [
    "df.head()"
   ]
  },
  {
   "cell_type": "code",
   "execution_count": 8,
   "id": "419efadf",
   "metadata": {},
   "outputs": [
    {
     "name": "stdout",
     "output_type": "stream",
     "text": [
      "<class 'pandas.core.frame.DataFrame'>\n",
      "RangeIndex: 8000 entries, 0 to 7999\n",
      "Data columns (total 32 columns):\n",
      " #   Column      Non-Null Count  Dtype  \n",
      "---  ------      --------------  -----  \n",
      " 0   Unnamed: 0  8000 non-null   int64  \n",
      " 1   Time        8000 non-null   int64  \n",
      " 2   V1          8000 non-null   float64\n",
      " 3   V2          8000 non-null   float64\n",
      " 4   V3          8000 non-null   float64\n",
      " 5   V4          8000 non-null   float64\n",
      " 6   V5          8000 non-null   float64\n",
      " 7   V6          8000 non-null   float64\n",
      " 8   V7          8000 non-null   float64\n",
      " 9   V8          8000 non-null   float64\n",
      " 10  V9          8000 non-null   float64\n",
      " 11  V10         8000 non-null   float64\n",
      " 12  V11         8000 non-null   float64\n",
      " 13  V12         8000 non-null   float64\n",
      " 14  V13         8000 non-null   float64\n",
      " 15  V14         8000 non-null   float64\n",
      " 16  V15         8000 non-null   float64\n",
      " 17  V16         8000 non-null   float64\n",
      " 18  V17         8000 non-null   float64\n",
      " 19  V18         8000 non-null   float64\n",
      " 20  V19         8000 non-null   float64\n",
      " 21  V20         8000 non-null   float64\n",
      " 22  V21         8000 non-null   float64\n",
      " 23  V22         8000 non-null   float64\n",
      " 24  V23         8000 non-null   float64\n",
      " 25  V24         8000 non-null   float64\n",
      " 26  V25         8000 non-null   float64\n",
      " 27  V26         8000 non-null   float64\n",
      " 28  V27         8000 non-null   float64\n",
      " 29  V28         8000 non-null   float64\n",
      " 30  Amount      8000 non-null   float64\n",
      " 31  Class       8000 non-null   int64  \n",
      "dtypes: float64(29), int64(3)\n",
      "memory usage: 2.0 MB\n",
      "None\n"
     ]
    }
   ],
   "source": [
    "print(df.info())"
   ]
  },
  {
   "cell_type": "code",
   "execution_count": 9,
   "id": "f379eb54",
   "metadata": {},
   "outputs": [
    {
     "name": "stdout",
     "output_type": "stream",
     "text": [
      "0    7983\n",
      "1      17\n",
      "Name: Class, dtype: int64\n"
     ]
    }
   ],
   "source": [
    "occ = df['Class'].value_counts()\n",
    "print(occ)"
   ]
  },
  {
   "cell_type": "code",
   "execution_count": 10,
   "id": "cc9b39e3",
   "metadata": {},
   "outputs": [
    {
     "name": "stdout",
     "output_type": "stream",
     "text": [
      "0    0.997875\n",
      "1    0.002125\n",
      "Name: Class, dtype: float64\n"
     ]
    }
   ],
   "source": [
    "print(occ / df.shape[0])"
   ]
  },
  {
   "cell_type": "markdown",
   "id": "0bd449aa",
   "metadata": {},
   "source": [
    "## Plotting your data\n",
    "---\n",
    "From the previous exercise we know that the ratio of fraud to non-fraud observations is very low. You can do something about that, for example by **re-sampling** our data, which is explained in the next video.\n",
    "\n",
    "In this exercise, you'll look at the data and **visualize the fraud to non-fraud ratio**. It is always a good starting point in your fraud analysis, to look at your data first, before you make any changes to it.\n",
    "\n",
    "Moreover, when talking to your colleagues, a picture often makes it very clear that we're dealing with heavily imbalanced data. Let's create a plot to visualize the ratio fraud to non-fraud data points on the dataset `df`.\n",
    "\n",
    "The function `prep_data()` is already loaded in your workspace, as well as `matplotlib.pyplot` as `plt`."
   ]
  },
  {
   "cell_type": "markdown",
   "id": "203f3324",
   "metadata": {},
   "source": [
    "### Instructions\n",
    "\n",
    "Define the `plot_data(X, y)` function, that will nicely plot the given feature set `X` with labels `y` in a scatter plot. This has been done for you.\n",
    "\n",
    "Use the function `prep_data()` on your dataset `df` to create feature set `X` and labels `y`.\n",
    "\n",
    "Run the function `plot_data()` on your newly obtained `X` and `y` to visualize your results."
   ]
  },
  {
   "cell_type": "code",
   "execution_count": 17,
   "id": "67e87707",
   "metadata": {},
   "outputs": [
    {
     "data": {
      "image/png": "[encoded data removed]",
      "text/plain": [
       "<Figure size 432x288 with 1 Axes>"
      ]
     },
     "metadata": {
      "needs_background": "light"
     },
     "output_type": "display_data"
    }
   ],
   "source": [
    "def prep_data(df):\n",
    "    X = df.iloc[:, 3:30]\n",
    "    X = np.array(X).astype(np.float64)\n",
    "    y = df.iloc[:, 31]\n",
    "    y=np.array(y).astype(np.float64)\n",
    "    return X,y\n",
    "\n",
    "def plot_data(X, y):\n",
    "    plt.scatter(X[y == 0, 0], X[y == 0, 1], label=\"Class #0\", alpha=0.5, linewidth=0.15)\n",
    "    plt.scatter(X[y == 1, 0], X[y == 1, 1], label=\"Class #1\", alpha=0.5, linewidth=0.15, c='r')\n",
    "    plt.legend()\n",
    "    return plt.show()\n",
    "\n",
    "X, y = prep_data(df)\n",
    "\n",
    "plot_data(X, y)"
   ]
  },
  {
   "cell_type": "markdown",
   "id": "163b336f",
   "metadata": {},
   "source": [
    "## Increasing successful detections using data resampling\n",
    "---\n",
    "\n",
    "Now we're going to talk about data resampling methods. They help us to better train our models to recognize fraud cases when there are only very few cases of fraud.\n",
    "\n",
    "### Undersampling\n",
    "The most straightforward way to adjust the imbalance of your data, is to undersample the majority class, aka non-fraud cases, or oversample the minority class, aka the fraud cases. With undersampling, you take random draws from your non-fraud observations, to match the amount of fraud observations as seen on the picture.\n",
    "\n",
    "<img src = \"https://images2.imgbox.com/1f/2d/Tx0ubBDg_o.png\" width=\"400\">\n",
    "\n",
    "### Oversampling\n",
    "With oversampling, you take random draws from the fraud cases, and copy those observations to increase the amount of fraud samples you have in your data. Both methods lead to having a perfect balance between fraud and non-fraud data. But there are drawbacks. With random undersampling, you are effectively throwing away a lot of data and information. With oversampling, you are simply copying data, and therefore are training your model on a lot of duplicates. Let's see how you can implement these methods in practice.\n",
    "\n",
    "<img src = \"https://images2.imgbox.com/52/92/4TcXIIZQ_o.png\" width=\"400\">\n",
    "\n",
    "### Oversampling in Python\n",
    "You can implement resampling methods using Python's imbalanced learn module. It is compatible with scikit-learn and allows you to implement these methods in just two lines of code. As you can see here, I import the package and take the Random Oversampler and assign it to method. I simply fit the method onto my original feature set X, and labels y, to obtained a resampled feature set X, and resampled y. I plot the datasets here side by side, such that you can see the effect of my resampling method. The darker blue color of the data points reflect that there are more identical data points now.\n",
    "\n",
    "`from imblearn.over_sampling import RandomOverSampler\n",
    "method = RandomOverSampler()\n",
    "X_resampled, y_resampled = method.fit_sample(X, y)\n",
    "compare_plots(X_resampled, y_resampled, X, y)`\n",
    "\n",
    "### Synthetic Minority Oversampling Technique (SMOTE)\n",
    "The Synthetic Minority Oversampling Technique, or SMOTE, is another way of adjusting the imbalance by oversampling your minority observations, aka your fraud cases. But with SMOTE, we're not just copying the minority class. Instead, as you see in this picture, SMOTE uses characteristics of nearest neighbors of fraud cases to create new synthetic fraud cases, and thereby avoids duplicating observations.\n",
    "\n",
    "<img src = \"https://images2.imgbox.com/fd/27/vpvoQkm3_o.png\" width=\"700\">\n",
    "\n",
    "https://www.kaggle.com/rafjaa/resampling-strategies-for-imbalanced-datasets\n",
    "\n",
    "### Which resampling method to use?\n",
    "You might wonder which one of these methods is the best? Well, it depends very much on the situation. If you have very large amounts of data, and also many fraud cases, you might find it computationally easier to undersample, rather than to increase data even more. But in most cases, throwing away data is not desirable. When it comes to oversampling, SMOTE is more sophisticated as it does not duplicate data. But this only works well if your fraud cases are quite similar to each other. If fraud is spread out over your data and not very distinct, using nearest neighbors to create more fraud cases introduces a bit of noise in the data, as the nearest neighbors might not necessarily be fraud cases.\n",
    "\n",
    "- Random Under Sampling (RUS): throw away data, computationally efficient\n",
    "- Random Over Sampling (ROS): straightforward and simple, but training your model on many duplicates\n",
    "- Synthetic Minority Oversampling Technique (SMOTE): mode sophisticated and realistic dataset, but you are training on \"fake\" data\n",
    "\n",
    "### When to use resampling methods\n",
    "One thing to keep in mind when using resampling methods, is to only resample on your training set. Your goal is to better train your model by giving it balanced amounts of data. Your goal is not to predict your synthetic samples. Always make sure your test data is free of duplicates or synthetic data, such that you can test your model on real data only. The way to do this, is to first split the data into a train and test set, as you can see here. I then resample the training set only. I fit my model into the resampled training data, and lastly, I obtain my performance metrics by looking at my original, not resampled, test data. These steps should look familiar to you."
   ]
  },
  {
   "cell_type": "code",
   "execution_count": 13,
   "id": "d4aec04b",
   "metadata": {},
   "outputs": [
    {
     "ename": "NameError",
     "evalue": "name 'prep_data' is not defined",
     "output_type": "error",
     "traceback": [
      "\u001b[1;31m---------------------------------------------------------------------------\u001b[0m",
      "\u001b[1;31mNameError\u001b[0m                                 Traceback (most recent call last)",
      "\u001b[1;32m<ipython-input-13-2450de579062>\u001b[0m in \u001b[0;36m<module>\u001b[1;34m\u001b[0m\n\u001b[1;32m----> 1\u001b[1;33m \u001b[0mX\u001b[0m\u001b[1;33m,\u001b[0m \u001b[0my\u001b[0m \u001b[1;33m=\u001b[0m \u001b[0mprep_data\u001b[0m\u001b[1;33m(\u001b[0m\u001b[0mdf\u001b[0m\u001b[1;33m)\u001b[0m\u001b[1;33m\u001b[0m\u001b[1;33m\u001b[0m\u001b[0m\n\u001b[0m",
      "\u001b[1;31mNameError\u001b[0m: name 'prep_data' is not defined"
     ]
    }
   ],
   "source": []
  },
  {
   "cell_type": "code",
   "execution_count": null,
   "id": "dca9f86d",
   "metadata": {},
   "outputs": [],
   "source": []
  },
  {
   "cell_type": "code",
   "execution_count": null,
   "id": "5e3d0db5",
   "metadata": {},
   "outputs": [],
   "source": []
  },
  {
   "cell_type": "code",
   "execution_count": null,
   "id": "555d9d35",
   "metadata": {},
   "outputs": [],
   "source": []
  },
  {
   "cell_type": "code",
   "execution_count": null,
   "id": "f59771fc",
   "metadata": {},
   "outputs": [],
   "source": []
  },
  {
   "cell_type": "code",
   "execution_count": null,
   "id": "9ce04749",
   "metadata": {},
   "outputs": [],
   "source": []
  },
  {
   "cell_type": "code",
   "execution_count": null,
   "id": "dc7dace6",
   "metadata": {},
   "outputs": [],
   "source": []
  },
  {
   "cell_type": "code",
   "execution_count": null,
   "id": "0f66158d",
   "metadata": {},
   "outputs": [],
   "source": []
  }
 ],
 "metadata": {
  "kernelspec": {
   "display_name": "Python 3",
   "language": "python",
   "name": "python3"
  },
  "language_info": {
   "codemirror_mode": {
    "name": "ipython",
    "version": 3
   },
   "file_extension": ".py",
   "mimetype": "text/x-python",
   "name": "python",
   "nbconvert_exporter": "python",
   "pygments_lexer": "ipython3",
   "version": "3.8.8"
  }
 },
 "nbformat": 4,
 "nbformat_minor": 5
}
